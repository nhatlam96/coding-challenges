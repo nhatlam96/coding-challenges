{
 "cells": [
  {
   "cell_type": "code",
   "execution_count": 1,
   "id": "65e2cd3f",
   "metadata": {
    "hide_input": true,
    "slideshow": {
     "slide_type": "skip"
    }
   },
   "outputs": [
    {
     "data": {
      "text/html": [
       "<style>h1{text-align:center;}h1{text-transform:none;}.rendered_html h4{color:#17b6eb;font-size: 1.6em;}img[alt=dia1]{width:35%;}img[alt=book]{width:20%;font-size: 3em;}img[alt=dia2]{width:50%;}.author{font-size:8px;}</style>\n"
      ],
      "text/plain": [
       "<IPython.core.display.HTML object>"
      ]
     },
     "metadata": {},
     "output_type": "display_data"
    }
   ],
   "source": [
    "%%html\n",
    "<style>h1{text-align:center;}h1{text-transform:none;}.rendered_html h4{color:#17b6eb;font-size: 1.6em;}img[alt=dia1]{width:35%;}img[alt=book]{width:20%;font-size: 3em;}img[alt=dia2]{width:50%;}.author{font-size:8px;}</style>"
   ]
  },
  {
   "cell_type": "markdown",
   "id": "8c05074c",
   "metadata": {
    "slideshow": {
     "slide_type": "slide"
    }
   },
   "source": [
    "# Lecture 12: Elementary, uninformed Graph Algorithms and Greedy Algorithms"
   ]
  },
  {
   "cell_type": "markdown",
   "id": "b27b48c4",
   "metadata": {
    "slideshow": {
     "slide_type": "slide"
    }
   },
   "source": [
    "## 1. Elementary Graph Algorithms\n",
    "\n",
    "\n",
    "### 1.1 Recap last week\n",
    "\n",
    "Two representations of an __undirected__ graph.\n",
    "\n",
    "- (a) an undirected graph G with 5 vertices and 7 edges\n",
    "- (b) adjacency-list representation of G\n",
    "- (c) adjacency-matrix representation of G\n",
    "\n",
    "[missing: edge list, incidence matrix]\n",
    "\n",
    "![dia2](img/12recap1.png)\n",
    "<div class=\"author\">src: Introduction to Algorithms by Thomas H. Cormen</div>"
   ]
  },
  {
   "cell_type": "markdown",
   "id": "1ae0583a",
   "metadata": {
    "slideshow": {
     "slide_type": "slide"
    }
   },
   "source": [
    "Two representations of a __directed__ graph.\n",
    "\n",
    "- (a) a directed graph G with 6 vertices and 8 edges\n",
    "- (b) adjacency-list representation of G\n",
    "- (c) adjacency-matrix representation of G\n",
    "\n",
    "[missing: edge list, incidence matrix]\n",
    "\n",
    "![dia2](img/12recap2.png)\n",
    "<div class=\"author\">src: Introduction to Algorithms by Thomas H. Cormen</div>"
   ]
  },
  {
   "cell_type": "markdown",
   "id": "c8b07b23",
   "metadata": {
    "slideshow": {
     "slide_type": "slide"
    }
   },
   "source": [
    "#### Exercise 1\n",
    "<div class=\"author\">Introduction to Algorithms by Thomas H. Cormen</div>\n",
    "\n",
    "\n",
    "Give an adjacency-list representation for a complete binary tree on 7 vertices. Give an equivalent adjacency-matrix representation. Assume that vertices are numbered from 1 to 7 as in a binary heap.\n"
   ]
  },
  {
   "cell_type": "markdown",
   "id": "05444cd4",
   "metadata": {
    "slideshow": {
     "slide_type": "subslide"
    }
   },
   "source": [
    "Solution:\n",
    "\n",
    "1: 2,3\\\n",
    "2: 1,4,5\\\n",
    "3: 1,6,7\\\n",
    "4: 2\\\n",
    "5: 2\\\n",
    "6: 3\\\n",
    "7: 3"
   ]
  },
  {
   "cell_type": "markdown",
   "id": "8e4d4cf9",
   "metadata": {
    "slideshow": {
     "slide_type": "subslide"
    }
   },
   "source": [
    "Solution:\n",
    "$$\n",
    "\\begin{bmatrix}\n",
    "0& 1& 1& 0& 0& 0& 0\\\\\n",
    "1& 0& 0& 1& 1& 0& 0\\\\\n",
    "1& 0& 0& 0& 0& 1& 1\\\\\n",
    "0& 1& 0& 0& 0& 0& 0\\\\\n",
    "0& 1& 0& 0& 0& 0& 0\\\\\n",
    "0& 0& 1& 0& 0& 0& 0\\\\\n",
    "0& 0& 1& 0& 0& 0& 0 \n",
    "\\end{bmatrix}\n",
    "$$"
   ]
  },
  {
   "cell_type": "markdown",
   "id": "9a2337c7",
   "metadata": {
    "slideshow": {
     "slide_type": "slide"
    }
   },
   "source": [
    "#### Exercise 2\n",
    "<div class=\"author\">cadmo.ethz.ch</div>\n",
    "\n",
    "It is June 2023, and the pandemic is over. Imagine you go to a party with your friends and people shake hands with each other to introduce themselves.\n",
    "\n",
    "Prove that at each party with at least two participants there are two people that shook hands with the same number of people.\n",
    "\n",
    "__Hint:__  *Model the problem as an undirected graph $G = (V, E)$. Define the set of vertices and the set of edges in\n",
    "words.*\n"
   ]
  },
  {
   "cell_type": "markdown",
   "id": "27f501f7",
   "metadata": {
    "slideshow": {
     "slide_type": "subslide"
    }
   },
   "source": [
    "Solution:\n",
    "\n",
    "- The party is modelled as an undirected graph $G = (V, E)$, where $V$ is the set of participants and, for $u, v \\in V$, the edge ${u,v}$ is in $E$ if person $u$ and person $v$ shook hands\n",
    "\n",
    "- The degree of vertex $deg(v)$ is equal to the number of people that $v$ shook hands with\n",
    "\n",
    "- We need to prove that for each undirected graph there are two vertices with the same degree\n",
    "\n",
    "- The degree function takes value between $0$ and $n-1$, for all $v \\in V$ we have $deg(v) \\in \\{0,1,...,n-1\\}$\n",
    "\n",
    "- If there is a vertex $v \\in V$ with $deg(v)=0$, then there cannot be a vertex $u \\in V$ with $deg(u)=n-1$\n",
    "\n",
    "- Thus, for each graph either $deg(v) \\in \\{0,1,...,n-2\\}$ or $deg(v) \\in \\{1,...,n-1\\}$ must hold for all $v \\in V$\n",
    "\n",
    "- Because there are more vertices $|V|=n$ than different values of $deg(v)$ (namely $n-1$), at least two vertices always must have the same degree."
   ]
  },
  {
   "cell_type": "markdown",
   "id": "66955ebf",
   "metadata": {
    "slideshow": {
     "slide_type": "slide"
    }
   },
   "source": [
    "### 1.2 Breadth-first search\n",
    "<div class=\"author\">Introduction to Algorithms by Thomas H. Cormen, wikipedia.org</div>\n",
    "\n",
    "__Breadth-first search (BFS)__ is an algorithm for searching a tree data structure for a node that satisfies a given property. It starts at the tree root and explores all nodes at the present depth prior to moving on to the nodes at the next depth level. \n",
    "\n",
    "BFS is an __uninformed search__ algorithm.\n",
    "\n",
    "Breadth-first search is one of the simplest algorithms for searching a graph and the archetype for many important graph algorithms.\n"
   ]
  },
  {
   "cell_type": "markdown",
   "id": "fa5ec7ef",
   "metadata": {
    "slideshow": {
     "slide_type": "slide"
    }
   },
   "source": [
    "- Given a graph $G = (V, E)$ and a distinguished source vertex $s$, *breadth-first search* systematically explores the edges of G to “discover” every vertex that is reachable from s. \n",
    "\n",
    "- It computes the distance (smallest number of edges) from $s$ to each reachable vertex.\n",
    "\n",
    "- It also produces a *“breadth-first tree”* with root $s$ that contains all reachable vertices. \n",
    "\n",
    "- For any vertex $v$ reachable from $s$, the simple path in the breadth-first tree from $s$ to $v$ corresponds to a “shortest path” from s to $v$ in $G$, that is, a path containing the smallest number of edges. \n",
    "\n",
    "- The algorithm works on both directed and undirected graphs."
   ]
  },
  {
   "cell_type": "markdown",
   "id": "b8c01451",
   "metadata": {
    "slideshow": {
     "slide_type": "slide"
    }
   },
   "source": [
    "BFS puts each vertrex into one of two categories: __visited__ or __not visited__ .\n",
    "\n",
    "The purpose of the algorithm is to traverse the graph and mark each vertex as visited while avoiding cycles:\n",
    "\n",
    "1. Define one vertix as the root and put it at back of a queue.\n",
    "2. Take the front item of the queue and add it to visited list.\n",
    "3. Create a list containing all of the vertex adjacent nodes and put the ones that are not in the visited list to the back of the queue.\n",
    "4. Keep repeating steps 2 and 3 until the queue is empty."
   ]
  },
  {
   "cell_type": "markdown",
   "id": "433953d8",
   "metadata": {
    "slideshow": {
     "slide_type": "slide"
    }
   },
   "source": [
    "![dia2](img/12bds.png)\n",
    "<div class=\"author\">src: Introduction to Algorithms by Thomas H. Cormen</div>"
   ]
  },
  {
   "cell_type": "markdown",
   "id": "155d4447",
   "metadata": {
    "slideshow": {
     "slide_type": "slide"
    }
   },
   "source": [
    "##### BFS Animation\n",
    "\n",
    "![book](img/12bfs.gif)\n",
    "<div class=\"author\">src: Blake Matheny via wikimedia.org, CC-BY 3.0</div>"
   ]
  },
  {
   "cell_type": "markdown",
   "id": "2dbd5ac2",
   "metadata": {
    "slideshow": {
     "slide_type": "slide"
    }
   },
   "source": [
    "A non-recursive implmentation uses a queue (FIFO) and checks whether a vertex has been explored before enqueueing the vertex.\n",
    "![dia1](img/12bfs2.png)\n",
    "<div class=\"author\">src: programiz.com</div>"
   ]
  },
  {
   "cell_type": "markdown",
   "id": "f1655d2f",
   "metadata": {
    "slideshow": {
     "slide_type": "slide"
    }
   },
   "source": [
    "```python\n",
    "Algorithm Breadth First Search is\n",
    "    Input: A Graph, Root Vertix\n",
    "    Output: A complete list of all visited vertices\n",
    "\n",
    "    create a queue Q \n",
    "    mark v as visited and put v into Q \n",
    "    while Q is non-empty \n",
    "        remove the head u of Q \n",
    "        mark and enqueue all (unvisited) neighbours of u\n",
    "\n",
    "    return visited\n",
    " ```"
   ]
  },
  {
   "cell_type": "code",
   "execution_count": 35,
   "id": "f6c1945d",
   "metadata": {
    "slideshow": {
     "slide_type": "slide"
    }
   },
   "outputs": [
    {
     "name": "stdout",
     "output_type": "stream",
     "text": [
      "{0, 1, 2, 3, 4}\n"
     ]
    }
   ],
   "source": [
    "# BFS algorithm in Python\n",
    "# source: programiz.com\n",
    "\n",
    "import collections\n",
    "\n",
    "# BFS algorithm\n",
    "def bfs(graph, root):\n",
    "    \n",
    "    visited = set()\n",
    "    queue = collections.deque([root])\n",
    "    visited.add(root)\n",
    "    \n",
    "    while queue:\n",
    "        # Dequeue a vertex from queue\n",
    "        vertex = queue.popleft()\n",
    "\n",
    "        # If not visited, mark it as visited, and enqueue it\n",
    "        for neighbour in graph[vertex]:\n",
    "            if neighbour not in visited:\n",
    "                visited.add(neighbour)\n",
    "                queue.append(neighbour)\n",
    "    return visited\n",
    "\n",
    "                \n",
    "# Driver code\n",
    "graph = {0: [1, 3], 1: [0, 2], 2: [0, 1, 4], 3: [0], 4: [2]}\n",
    "print(bfs(graph, 0))"
   ]
  },
  {
   "cell_type": "markdown",
   "id": "2b550496",
   "metadata": {
    "slideshow": {
     "slide_type": "slide"
    }
   },
   "source": [
    "#### Exercise 3\n",
    "\n",
    "Test aboves code for the following graph:\n",
    "\n",
    "![dia1](img/12ex3.png)"
   ]
  },
  {
   "cell_type": "markdown",
   "id": "eba20cb8",
   "metadata": {
    "slideshow": {
     "slide_type": "slide"
    }
   },
   "source": [
    "##### BFS Complexity\n",
    "\n",
    "- Time complexity: $O(V + E)$\n",
    "- Space complexity: $O(V)$"
   ]
  },
  {
   "cell_type": "markdown",
   "id": "9325a00f",
   "metadata": {
    "slideshow": {
     "slide_type": "slide"
    }
   },
   "source": [
    "### 1.3 Depth-first search\n",
    "<div class=\"author\">Introduction to Algorithms by Thomas H. Cormen, wikipedia.org</div>\n",
    "\n",
    "__Depth-first search (DFS)__ is an algorithm for traversing or searching tree or graph data structures. The algorithm starts at the root node (selecting some arbitrary node as the root node in the case of a graph) and explores as far as possible along each branch before backtracking. \n",
    "\n",
    "DFS is an __uninformed search__ algorithm."
   ]
  },
  {
   "cell_type": "markdown",
   "id": "fb937820",
   "metadata": {
    "slideshow": {
     "slide_type": "slide"
    }
   },
   "source": [
    "- The strategy followed by depth-first search is, as its name implies, to search “deeper” in the graph whenever possible \n",
    "\n",
    "- Depth-first search explores edges out of the most recently discovered vertex $v$ that still has unexplored edges\n",
    "\n",
    "- Once all of $v$’s edges have been explored, the search “backtracks” to explore edges leaving the vertex from which $v$ was discovered\n",
    "\n",
    "- This process continues until we have discovered all the vertices that are reachable from the original source vertex\n",
    "\n",
    "- If any undiscovered vertices remain, then depth-first search selects one of them as a new source, and it repeats the search from that source\n",
    "\n",
    "- The algorithm repeats this entire process until it has discovered every vertex. "
   ]
  },
  {
   "cell_type": "markdown",
   "id": "1a59855a",
   "metadata": {
    "slideshow": {
     "slide_type": "slide"
    }
   },
   "source": [
    "DFS puts each vertrex into one of two categories: __visited__ or __not visited__ .\n",
    "\n",
    "The purpose of the algorithm is to traverse the graph and mark each vertex as visited while avoiding cycles:\n",
    "\n",
    "1. Define one vertix as the root and put it on top of a stack.\n",
    "2. Take the top item of the stack and add it to the visited list.\n",
    "3. Create a list of that vertex's adjacent nodes. Add the ones which aren't in the visited list to the top of the stack.\n",
    "4. Keep repeating steps 2 and 3 until the stack is empty.\n",
    "\n",
    "<div class=\"author\">programiz.com</div>\n"
   ]
  },
  {
   "cell_type": "markdown",
   "id": "def1d4e9",
   "metadata": {
    "slideshow": {
     "slide_type": "slide"
    }
   },
   "source": [
    "##### DFS Animation\n",
    "\n",
    "![book](img/12dfs.gif)\n",
    "<div class=\"author\">src: Mre via wikimedia.org, CC BY-SA3.0</div>"
   ]
  },
  {
   "cell_type": "markdown",
   "id": "53db7b93",
   "metadata": {
    "slideshow": {
     "slide_type": "slide"
    }
   },
   "source": [
    "DFD is a recursive algorithm for searching all vertices of a graph/tree structure.\n",
    "![dia1](img/12dfs2.png)\n",
    "<div class=\"author\">src: programiz.com</div>"
   ]
  },
  {
   "cell_type": "markdown",
   "id": "e6c736f7",
   "metadata": {
    "slideshow": {
     "slide_type": "slide"
    }
   },
   "source": [
    "Progress of the depth-first-search algorithm on a __directed__ graph.\n",
    "\n",
    "![dia2](img/12dfs.png)\n",
    "<div class=\"author\">src: Introduction to Algorithms by Thomas H. Cormen</div>"
   ]
  },
  {
   "cell_type": "markdown",
   "id": "ee6d50a9",
   "metadata": {
    "slideshow": {
     "slide_type": "slide"
    }
   },
   "source": [
    "```python\n",
    "Algorithm Depth First Search is\n",
    "    Input: A Graph G stored in an adjacency list, the root vertix\n",
    "    Output: A complete list of all visited vertices in DFS order visited\n",
    "        \n",
    "\n",
    "Function DFS(G, u)\n",
    "    u.visited = true\n",
    "    for each v ∈ G.Adj[u]\n",
    "        if v.visited == false then\n",
    "            DFS(G, v)\n",
    "     \n",
    "for each u ∈ G\n",
    "    u.visited = false\n",
    "\n",
    "for each u ∈ G\n",
    "    DFS(G, u)\n",
    " ```"
   ]
  },
  {
   "cell_type": "code",
   "execution_count": 82,
   "id": "0497bc96",
   "metadata": {
    "code_folding": [],
    "slideshow": {
     "slide_type": "slide"
    }
   },
   "outputs": [
    {
     "data": {
      "text/plain": [
       "{'0', '1', '2', '3', '4'}"
      ]
     },
     "execution_count": 82,
     "metadata": {},
     "output_type": "execute_result"
    }
   ],
   "source": [
    "# DFS algorithm in Python - simplified\n",
    "# source: programiz.com\n",
    "\n",
    "# DFS algorithm\n",
    "def dfs(graph, start, visited=None):\n",
    "    if visited is None:\n",
    "        visited = set()\n",
    "    visited.add(start)\n",
    "\n",
    "    #print(start)\n",
    "    for next in graph[start] - visited:\n",
    "        dfs(graph, next, visited)\n",
    "    return visited\n",
    "\n",
    "\n",
    "graph = {'0': set(['1', '2']),\n",
    "         '1': set(['0', '3', '4']),\n",
    "         '2': set(['0']),\n",
    "         '3': set(['1']),\n",
    "         '4': set(['2', '3'])}\n",
    "\n",
    "dfs(graph, '0')"
   ]
  },
  {
   "cell_type": "markdown",
   "id": "607254c2",
   "metadata": {
    "slideshow": {
     "slide_type": "slide"
    }
   },
   "source": [
    "#### Exercise 4\n",
    "\n",
    "1. Use and modify aboves DFS python implementation to visit ALL vertices of the following graph:\n",
    "\n",
    "![dia1](img/12ex4.png)\n",
    "\n",
    "2. Does above graph have vertices that are connected to all other vertices?"
   ]
  },
  {
   "cell_type": "code",
   "execution_count": 84,
   "id": "40058085",
   "metadata": {
    "slideshow": {
     "slide_type": "subslide"
    }
   },
   "outputs": [
    {
     "name": "stdout",
     "output_type": "stream",
     "text": [
      "{'4', '0', '5', '2', '3', '1', '6'}\n"
     ]
    }
   ],
   "source": [
    "# Solution Exercise 4\n",
    "\n",
    "graph = {'0': set(['2', '4', '5']),\n",
    "         '1': set(['0']),\n",
    "         '2': set(['1', '5']),\n",
    "         '3': set(['1', '6']),\n",
    "         '4': set(['0', '5']),\n",
    "         '5': set([]),\n",
    "         '6': set(['3', '5'])}\n",
    "\n",
    "all_vertices = set()\n",
    "for g in graph:\n",
    "    all_vertices = all_vertices.union(dfs(graph, g)) \n",
    "print(all_vertices)\n",
    "\n",
    "\n",
    "# Vertices 3, 6 are strongly connected to all other vertices."
   ]
  },
  {
   "cell_type": "markdown",
   "id": "4f8a4223",
   "metadata": {
    "slideshow": {
     "slide_type": "slide"
    }
   },
   "source": [
    "#### Exercise 5\n",
    "<div class=\"author\">Hutter @ubc.ca</div>\n",
    "\n",
    "If an algorithm is __complete__, it means that if at least one solution exists, then the algorithm is guaranteed to find a solution in a finite amount of time.\n",
    "\n",
    "If a search algorithm is __optimal__, then when it finds a solution it finds the *best* solution.\n",
    "\n",
    "Considering this, what are the advantages of BFS over DFS?"
   ]
  },
  {
   "cell_type": "markdown",
   "id": "9e7b790e",
   "metadata": {
    "slideshow": {
     "slide_type": "subslide"
    }
   },
   "source": [
    "Solution:\n",
    "\n",
    "BFS is complete and optimal, while DFS is not guaranteed to halt when there are loops."
   ]
  },
  {
   "cell_type": "markdown",
   "id": "9c2aceaf",
   "metadata": {
    "slideshow": {
     "slide_type": "slide"
    }
   },
   "source": [
    "#### Exercise 6\n",
    "\n",
    "You are programming a chess game engine and have to choose between BFS and DFS. Which algorithm do you choose and why?"
   ]
  },
  {
   "cell_type": "markdown",
   "id": "82a0350a",
   "metadata": {
    "slideshow": {
     "slide_type": "subslide"
    }
   },
   "source": [
    "Solution:\n",
    "\n",
    "Implicit trees (such as chess game trees) maybe be of infinite size. Hence DFS, which explores branches as far as possible before backtracking, may get lost in infinity.\n",
    "\n",
    "BFS, on the other hand, is guaranteed to find a solution if one exists."
   ]
  },
  {
   "cell_type": "markdown",
   "id": "675b1527",
   "metadata": {
    "slideshow": {
     "slide_type": "slide"
    }
   },
   "source": [
    "#### Exercise 7\n",
    "<div class=\"author\">Sakai @rutgers.edu</div>\n",
    "\n",
    "![dia2](img/12ex6.png)\n",
    "\n",
    "1. In which order will the vertices be visited using BFS?\n",
    "\n",
    "2. In which order will the vertices be visited using DFS?"
   ]
  },
  {
   "cell_type": "markdown",
   "id": "9deba2bc",
   "metadata": {
    "slideshow": {
     "slide_type": "subslide"
    }
   },
   "source": [
    "Solution 1:\n",
    "\n",
    "1. ABDCEGHF"
   ]
  },
  {
   "cell_type": "markdown",
   "id": "5c8dcadc",
   "metadata": {
    "slideshow": {
     "slide_type": "subslide"
    }
   },
   "source": [
    "Solution 2:\n",
    "\n",
    "1. ABCEHFGD"
   ]
  },
  {
   "cell_type": "markdown",
   "id": "8df4a5ba",
   "metadata": {
    "slideshow": {
     "slide_type": "slide"
    }
   },
   "source": [
    "##### DFS Complexity\n",
    "\n",
    "- Time complexity: $O(V + E)$ (for explicit graphs, traversed without repetition)\n",
    "- Space complexity: $O(V)$"
   ]
  },
  {
   "cell_type": "markdown",
   "id": "e171a42f",
   "metadata": {
    "slideshow": {
     "slide_type": "slide"
    }
   },
   "source": [
    "## 2. Greedy Algorithms\n",
    "<div class=\"author\">wikipedia.org, programiz.com</div>\n",
    "\n",
    "\n",
    "A greedy algorithm is any algorithm that follows the __problem-solving heuristic__ of making the __locally optimal choice at each stage__. In many problems, a greedy strategy does not produce an optimal solution, but a greedy heuristic can yield locally optimal solutions that approximate a globally optimal solution in a reasonable amount of time.\n",
    "\n",
    "Basically, a greedy algorithm is an approach for solving a problem by selecting the best option available at the moment. It doesn't worry whether the current best result will bring the overall optimal result. The algorithm never reverses the earlier decision even if the choice is wrong. It works in a top-down approach."
   ]
  },
  {
   "cell_type": "markdown",
   "id": "18394072",
   "metadata": {
    "slideshow": {
     "slide_type": "slide"
    }
   },
   "source": [
    "Greedy algorithms produce good solutions on some mathematical problems, but not on others. Most problems for which they work will have two properties:\n",
    "\n",
    "__1. Greedy Choice Property__: If an optimal solution to the problem can be found by choosing the best choice at each step without reconsidering the previous steps once chosen, the problem can be solved using a greedy approach. This property is called greedy choice property.\n",
    "\n",
    "__2. Optimal Substructure__: If the optimal overall solution to the problem corresponds to the optimal solution to its subproblems, then the problem can be solved using a greedy approach. This property is called optimal substructure."
   ]
  },
  {
   "cell_type": "markdown",
   "id": "a6021815",
   "metadata": {
    "slideshow": {
     "slide_type": "slide"
    }
   },
   "source": [
    "##### Advantages\n",
    "\n",
    "- easy to implement\n",
    "- usually small time complexities\n",
    "- can be used for optimizations problems\n",
    "\n",
    "##### Disadvantages\n",
    "\n",
    "- finds local optimal solutions, global solution not guaranteed. Example: find largest path problem\n",
    "\n",
    "![book](img/12greedy.gif)\n",
    "<div class=\"author\">src: Swfung8 via wikimedia.org, CC BY-SA3.0</div>"
   ]
  },
  {
   "cell_type": "markdown",
   "id": "9e47665c",
   "metadata": {
    "slideshow": {
     "slide_type": "slide"
    }
   },
   "source": [
    "##### General Methodology\n",
    "\n",
    "1. Initialize an empty solution set \n",
    "\n",
    "2. Iterate and add an item to the solution set at each step until final solution is reached\n",
    "\n",
    "3. If solution set is feasible, the current item is kept\n",
    "\n",
    "4. Else, item is rejected and not considered again"
   ]
  },
  {
   "cell_type": "markdown",
   "id": "3cf36a06",
   "metadata": {
    "slideshow": {
     "slide_type": "slide"
    }
   },
   "source": [
    "##### Cases of failure\n",
    "\n",
    "Greedy algorithms fail to produce the optimal solution for many other problems and may even produce the unique worst possible solution.\n",
    "\n",
    "![book](img/12greedy.svg)\n",
    "Starting from A, a greedy algorithm that tries to find the maximum by following the greatest slope will find the local maximum at \"m\", oblivious to the global maximum at \"M\".\n",
    "<div class=\"author\">src: Tos via wikimedia.org, CC BY-SA3.0</div>"
   ]
  },
  {
   "cell_type": "markdown",
   "id": "12c04179",
   "metadata": {
    "slideshow": {
     "slide_type": "slide"
    }
   },
   "source": [
    "#### Exercise 8\n",
    "\n",
    "Your neighbor is asking you for a certain amount of money in coins. You are lucky enough to sit on an unlimited supply of coins in all denominations. \n",
    "\n",
    "What is the minimum number of coins need to reach the requested amount of money? Complete the code below to determine which coins you would have to give him.\n"
   ]
  },
  {
   "cell_type": "code",
   "execution_count": 97,
   "id": "26eb2b62",
   "metadata": {},
   "outputs": [
    {
     "name": "stdout",
     "output_type": "stream",
     "text": [
      "[50, 10, 5, 2]\n"
     ]
    }
   ],
   "source": [
    "def find_minimum_coin(V):     \n",
    "    coin_denomination = [1, 2, 5, 10, 20, 50, 100, 200] \n",
    "    n = len(coin_denomination) \n",
    "      \n",
    "    # Your neighbors wallet is empty in the beginning\n",
    "    wallet = [] \n",
    "  \n",
    "    # ADD YOUR CODE HERE \n",
    "\n",
    "  \n",
    "    return wallet\n",
    "  \n",
    "\n",
    "n = 167   # Requested amount in cents\n",
    "print(find_minimum_coin(n)) "
   ]
  },
  {
   "cell_type": "code",
   "execution_count": 12,
   "id": "1ee337dd",
   "metadata": {
    "slideshow": {
     "slide_type": "subslide"
    }
   },
   "outputs": [
    {
     "name": "stdout",
     "output_type": "stream",
     "text": [
      "[5, 2, 2]\n"
     ]
    }
   ],
   "source": [
    "# Solution Ex 8\n",
    "def find_minimum_coin(target):     \n",
    "    coin_denomination = [1, 2, 5, 10, 20, 50, 100, 200] \n",
    "    n = len(coin_denomination) \n",
    "      \n",
    "    # Your neighbors wallet is empty in the beginning\n",
    "    wallet = [] \n",
    "  \n",
    "    # Traverse through all denomination \n",
    "    for coin in reversed(coin_denomination):\n",
    "        while sum(wallet) + coin <= target:\n",
    "            wallet.append(coin)\n",
    "  \n",
    "    return wallet\n",
    "  \n",
    "\n",
    "n = 9   # Request amount in cents\n",
    "print(find_minimum_coin(n)) "
   ]
  },
  {
   "cell_type": "markdown",
   "id": "2a2acc48",
   "metadata": {
    "slideshow": {
     "slide_type": "slide"
    }
   },
   "source": [
    "#### Exercise 9\n",
    "\n",
    "You would like to ride your bicycle from Worms all the way Sylt (for the last stretch on the Hindenburgdamm you will use your 9Euro ticket).\n",
    "\n",
    "You can carry 2 litres of water in your bottles and you can cycle $m$ kilometers before running out of water. Since it's a Sunday, you can only fill up water at gas station shops along the way. \n",
    "\n",
    "Your goal is to _minimize_ the number of water stops along the route.\n",
    "\n",
    "- Give an efficient method by which you can determine which water stops you should make.\n",
    "\n"
   ]
  },
  {
   "cell_type": "markdown",
   "id": "3f1b2b53",
   "metadata": {
    "slideshow": {
     "slide_type": "subslide"
    }
   },
   "source": [
    "##### Greedy Solution\n",
    "\n",
    "- the first stop $p$ is at the furthest point from Worms which is less than or equal to $m$ kilometers away\n",
    "\n",
    "- we can now repeat step 1 assuming we are again starting from $p$"
   ]
  },
  {
   "cell_type": "markdown",
   "id": "490e96b0",
   "metadata": {
    "slideshow": {
     "slide_type": "slide"
    }
   },
   "source": [
    "### 2.1 Recap last week: Kruskal's Algorithm\n",
    "\n",
    "Kruskal's Algorithm is a Greedy Algorithm:\n",
    "\n",
    "1. The edges are sorted in ascending order of their weights\n",
    "\n",
    "2. the edge having the minimum weight is selected and added to the MST. If an edge creates a cycle, it is rejected\n",
    "    \n",
    "3. The above steps are repeated untill all the vertices are covered\n",
    "\n",
    "![book](img/11kruskal.png)\n",
    "<div class=\"author\">src: O'Reilly Media</div>"
   ]
  },
  {
   "cell_type": "markdown",
   "id": "0f711737",
   "metadata": {
    "slideshow": {
     "slide_type": "slide"
    }
   },
   "source": [
    "### 2.2 Prim's Algorithm\n",
    "<div class=\"author\">src: wikipedia.org</div>\n",
    "\n",
    "Prim's algorithm is a greedy algorithm that finds a minimum spanning tree for a weighted undirected graph. \n",
    "\n",
    "This means it finds a subset of the edges that:\n",
    "\n",
    "- forms a tree that includes every vertex\n",
    "- has the minimum sum of weights among all the trees that can be formed from the graph "
   ]
  },
  {
   "cell_type": "markdown",
   "id": "369a2e2d",
   "metadata": {
    "slideshow": {
     "slide_type": "slide"
    }
   },
   "source": [
    "##### The Algorithm\n",
    "\n",
    "1. Initialize a tree with a single vertex, chosen arbitrarily from the graph.\n",
    "    \n",
    "    \n",
    "2. Find all the edges that connect the tree to new vertices, find the minimum and add it to the tree\n",
    "\n",
    "    \n",
    "3. Repeat step 2 (until all vertices are in the tree)."
   ]
  },
  {
   "cell_type": "markdown",
   "id": "34ff184c",
   "metadata": {
    "slideshow": {
     "slide_type": "slide"
    }
   },
   "source": [
    "![dia2](img/12prim.png)\n",
    "<div class=\"author\">src: dotnetlovers.com</div>"
   ]
  },
  {
   "cell_type": "code",
   "execution_count": 10,
   "id": "20718202",
   "metadata": {
    "slideshow": {
     "slide_type": "slide"
    }
   },
   "outputs": [
    {
     "name": "stdout",
     "output_type": "stream",
     "text": [
      "Edge : Weight\n",
      "\n",
      "0-1:9\n",
      "1-3:19\n",
      "3-4:31\n",
      "3-2:51\n"
     ]
    }
   ],
   "source": [
    "# Prim's Algorithm in Python\n",
    "# source: programiz.com\n",
    "\n",
    "def prims_algo(G):\n",
    "    V = len(G[0])\n",
    "    selected = [0] * V # track selected vertex (1=selected, 0=not selected)\n",
    "    number_of_edges = 0 \n",
    "    \n",
    "    selected[0] = True\n",
    "    print(\"Edge : Weight\\n\")\n",
    "    while (number_of_edges < V - 1):\n",
    "        # For every vertex in the set S, find the all adjacent vertices\n",
    "        #, calculate the distance from the vertex selected at step 1.\n",
    "        # if the vertex is already in the set S, discard it otherwise\n",
    "        # choose another vertex nearest to selected vertex  at step 1.\n",
    "        minimum = 999999\n",
    "        x = 0\n",
    "        y = 0\n",
    "        for i in range(V):\n",
    "            if selected[i]:\n",
    "                for j in range(V):\n",
    "                    if ((not selected[j]) and G[i][j]):  \n",
    "                        # not in selected and there is an edge\n",
    "                        if minimum > G[i][j]:\n",
    "                            minimum = G[i][j]\n",
    "                            x = i\n",
    "                            y = j\n",
    "        print(str(x) + \"-\" + str(y) + \":\" + str(G[x][y]))\n",
    "        selected[y] = True\n",
    "        number_of_edges += 1\n",
    "\n",
    "G = [[0, 9, 75, 0, 0],\n",
    "     [9, 0, 95, 19, 42],\n",
    "     [75, 95, 0, 51, 66],\n",
    "     [0, 19, 51, 0, 31],\n",
    "     [0, 42, 66, 31, 0]]\n",
    "\n",
    "\n",
    "prims_algo(G)\n",
    "\n",
    "\n"
   ]
  },
  {
   "cell_type": "markdown",
   "id": "803f02b4",
   "metadata": {
    "slideshow": {
     "slide_type": "slide"
    }
   },
   "source": [
    "#### Exercise 10\n",
    "\n",
    "Consider the graph below. Provide the order in which Prim's algorithm adds the edges to the MST. Compute the MST using Prims's algorithm.\n",
    "\n",
    "![dia2](img/11ex7.png)"
   ]
  },
  {
   "cell_type": "markdown",
   "id": "f8333848",
   "metadata": {
    "slideshow": {
     "slide_type": "subslide"
    }
   },
   "source": [
    "__Solution:__\n",
    "\n",
    "{c,d},{d,f},{e,f},{b,e},{a,c}\n",
    "\n",
    "Cost: 18"
   ]
  },
  {
   "cell_type": "markdown",
   "id": "3c0773ae",
   "metadata": {
    "slideshow": {
     "slide_type": "slide"
    }
   },
   "source": [
    "#### Exercise 11\n",
    "\n",
    "Consider the graph below. Provide the order in which Prim's algorithm adds the edges to the MST. Compute the MST using Prims's algorithm.\n",
    "\n",
    "![dia2](img/12ex11.png)"
   ]
  },
  {
   "cell_type": "markdown",
   "id": "fed0ed2b",
   "metadata": {
    "slideshow": {
     "slide_type": "subslide"
    }
   },
   "source": [
    "__Solution:__\n",
    "\n",
    "{a,b},{b,e},{e,d},{d,c},{e,f},{e,i},{i,j},{c,g},{g,h},{i,l},{g,k}\n",
    "\n",
    "Cost: 36"
   ]
  },
  {
   "cell_type": "markdown",
   "id": "a0c4843e",
   "metadata": {
    "slideshow": {
     "slide_type": "slide"
    }
   },
   "source": [
    "#### Exercise 12\n",
    "\n",
    "The notion of a minimum spanning tree is applicable to a connected weighted graph. Do we have to check a graph's connectivity before applying Prim's algorithm or can the algorithm do it by itself?"
   ]
  },
  {
   "cell_type": "markdown",
   "id": "fc0d5b76",
   "metadata": {
    "slideshow": {
     "slide_type": "subslide"
    }
   },
   "source": [
    "__Solution:__\n",
    "\n",
    "There is no need to check the graph’s connectivity because Prim’s algorithm can do it itself. If the algorithm reaches all the graph’s vertices (via edges of finite lengths), the graph is connected, otherwise, it is not."
   ]
  },
  {
   "cell_type": "markdown",
   "id": "98c25a0f",
   "metadata": {
    "slideshow": {
     "slide_type": "slide"
    }
   },
   "source": [
    "#### Exercise 13\n",
    "\n",
    "Consider the graph below. Construct the MST using the Prim's algorithm python implementation above.\n",
    "\n",
    "![dia2](img/12ex13.png)"
   ]
  },
  {
   "cell_type": "markdown",
   "id": "30a831cf",
   "metadata": {
    "slideshow": {
     "slide_type": "subslide"
    }
   },
   "source": [
    "__Solution__\n",
    "\n",
    "![dia2](img/12ex13sol.png)"
   ]
  }
 ],
 "metadata": {
  "celltoolbar": "Slideshow",
  "kernelspec": {
   "display_name": "Python 3 (ipykernel)",
   "language": "python",
   "name": "python3"
  },
  "language_info": {
   "codemirror_mode": {
    "name": "ipython",
    "version": 3
   },
   "file_extension": ".py",
   "mimetype": "text/x-python",
   "name": "python",
   "nbconvert_exporter": "python",
   "pygments_lexer": "ipython3",
   "version": "3.10.5"
  },
  "varInspector": {
   "cols": {
    "lenName": 16,
    "lenType": 16,
    "lenVar": 40
   },
   "kernels_config": {
    "python": {
     "delete_cmd_postfix": "",
     "delete_cmd_prefix": "del ",
     "library": "var_list.py",
     "varRefreshCmd": "print(var_dic_list())"
    },
    "r": {
     "delete_cmd_postfix": ") ",
     "delete_cmd_prefix": "rm(",
     "library": "var_list.r",
     "varRefreshCmd": "cat(var_dic_list()) "
    }
   },
   "types_to_exclude": [
    "module",
    "function",
    "builtin_function_or_method",
    "instance",
    "_Feature"
   ],
   "window_display": false
  }
 },
 "nbformat": 4,
 "nbformat_minor": 5
}
