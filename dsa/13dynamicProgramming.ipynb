{
 "cells": [
  {
   "cell_type": "code",
   "execution_count": 1,
   "id": "65e2cd3f",
   "metadata": {
    "hide_input": true,
    "slideshow": {
     "slide_type": "skip"
    }
   },
   "outputs": [
    {
     "data": {
      "text/html": [
       "<style>h1{text-align:center;}h1{text-transform:none;}.rendered_html h4{color:#17b6eb;font-size: 1.6em;}img[alt=dia1]{width:35%;}img[alt=book]{width:20%;font-size: 3em;}img[alt=dia2]{width:50%;}.author{font-size:8px;}</style>\n"
      ],
      "text/plain": [
       "<IPython.core.display.HTML object>"
      ]
     },
     "metadata": {},
     "output_type": "display_data"
    }
   ],
   "source": [
    "%%html\n",
    "<style>h1{text-align:center;}h1{text-transform:none;}.rendered_html h4{color:#17b6eb;font-size: 1.6em;}img[alt=dia1]{width:35%;}img[alt=book]{width:20%;font-size: 3em;}img[alt=dia2]{width:50%;}.author{font-size:8px;}</style>"
   ]
  },
  {
   "cell_type": "markdown",
   "id": "8c05074c",
   "metadata": {
    "slideshow": {
     "slide_type": "slide"
    }
   },
   "source": [
    "# Lecture 13: Dynamic Programming"
   ]
  },
  {
   "cell_type": "markdown",
   "id": "b27b48c4",
   "metadata": {
    "slideshow": {
     "slide_type": "slide"
    }
   },
   "source": [
    "## 1. Dynamic Programming\n",
    "\n",
    "![dia1](img/13dp.png)\n"
   ]
  },
  {
   "cell_type": "markdown",
   "id": "63443331",
   "metadata": {
    "slideshow": {
     "slide_type": "slide"
    }
   },
   "source": [
    "Dynamic programming is both __a mathematical optimization method__ and __a computer programming method__.\n",
    "\n",
    "Like the divide-and-conquer method, dynamic programming solves problems by combining the solutions to subproblems.\n",
    "\n",
    "<div class=\"author\">src: Introduction to Algorithms by Thomas H. Cormen</div>"
   ]
  },
  {
   "cell_type": "markdown",
   "id": "ae406f1d",
   "metadata": {
    "slideshow": {
     "slide_type": "slide"
    }
   },
   "source": [
    "### 1.1 What dynamic programming is not\n",
    "\n",
    "![dia1](img/13h1.gif)\n",
    "![dia1](img/13h2.gif)\n",
    "\n",
    "- \"Programming\" in DP refers to a tabular method, not to writing computer code.\n",
    "- \"Dynamic\" refers to the fact that a table is dynamically updated over time\n"
   ]
  },
  {
   "cell_type": "markdown",
   "id": "329132d4",
   "metadata": {
    "slideshow": {
     "slide_type": "slide"
    }
   },
   "source": [
    "### 1.2 This is what it is...\n",
    "\n",
    "Dynamic programming is a simplification technique to efficiently solve complicated problems that have __overlapping subproblems__ and an __opimtal substructure__.\n",
    "\n",
    "- __optimal substructure__: an optimal solution can be constructed from opimal solutions of its subproblems\n",
    "\n",
    "$$d(s,t)=d(s,k)+d(k,t)\\hspace{0.4cm}\\textrm{for all k on a shortest s-t path}$$\n",
    "\n",
    "- __overlapping subproblems__: a problem can be broken down into subproblems which are reused several times or a recursive algorithm for the problem solves the same subproblem over and over rather than always generating new subproblems\n"
   ]
  },
  {
   "cell_type": "markdown",
   "id": "1df4ce00",
   "metadata": {
    "slideshow": {
     "slide_type": "slide"
    }
   },
   "source": [
    "##### Recap: Principle of Optimality (Bellman, 1957)\n",
    "\n",
    "- An optimal policy has the property that whatever the initial state and initial decision are, the remaining decisions must constitute an optimal policy with regard to the state resulting from the first decision.\n",
    "\n",
    "Dynamic programming may be used only when the principle of optimality holds.\n",
    "\n"
   ]
  },
  {
   "cell_type": "markdown",
   "id": "f4902869",
   "metadata": {
    "slideshow": {
     "slide_type": "slide"
    }
   },
   "source": [
    "||Divide-and-Conquer|Greedy Algorithms|Dynamic Programming|\n",
    "|:--|:--|:--|:--|\n",
    "|__optimal substructure__|✓|✓/✗|✓|\n",
    "|__overlapping subproblems__|✗|✗|✓|\n",
    "|__optimal solution__|✓|✓/✗|✓|"
   ]
  },
  {
   "cell_type": "markdown",
   "id": "4772f2e1",
   "metadata": {
    "slideshow": {
     "slide_type": "slide"
    }
   },
   "source": [
    "#### Exercise 1\n",
    "\n",
    "Can *merge sort* and *quick sort* be classified as dynamic programming problems?"
   ]
  },
  {
   "cell_type": "markdown",
   "id": "0311d019",
   "metadata": {
    "slideshow": {
     "slide_type": "subslide"
    }
   },
   "source": [
    "##### Solution:\n",
    "\n",
    "No, since they do not exhibit overlapping subproblems."
   ]
  },
  {
   "cell_type": "markdown",
   "id": "c131f912",
   "metadata": {
    "slideshow": {
     "slide_type": "slide"
    }
   },
   "source": [
    "### 1.3 History Lesson\n",
    "<div class=\"author\">src: wikipedia.org</div>\n",
    "\n",
    "Dynamic programming was developed by Richard Bellman in the 1950s and has found applications in numerous fields, from aerospace engineering to economics. \n",
    "\n",
    "![book](img/13bellman.jpg)\n",
    "\n"
   ]
  },
  {
   "cell_type": "markdown",
   "id": "8006a0ce",
   "metadata": {
    "slideshow": {
     "slide_type": "slide"
    }
   },
   "source": [
    "### 1.4 Implementations\n",
    "\n",
    "__1. Top-down (Memoization)__: Memoization refers to the technique of caching and reusing previously computed results. It is used to store the solutions to the sub-problems in a table. Whenever we attempt to solve a new sub-problem, we first check the table to see if it is already solved. If a solution has been recorded, we can use it directly, otherwise we solve the sub-problem and add its solution to the table.\n",
    "\n",
    "__2. Bottom-up (Tabulation)__: Tabulation is a bottom-up method for solving DP problems.  A tabulation algorithm focuses on filling the entries of the cache, until the target value has been reached. It starts from the base cases and finds the optimal solutions to the problems whose immediate sub-problems are the base cases. Then, it goes one level up and combines the solutions it previously obtained to construct the optimal solutions to more complex problems. Eventually, tabulation combines the solutions of the original problem’s subproblems and finds its optimal solution."
   ]
  },
  {
   "cell_type": "markdown",
   "id": "778f95d5",
   "metadata": {
    "slideshow": {
     "slide_type": "slide"
    }
   },
   "source": [
    "When developing a dynamic programming algorithm, it is best to follow a sequence of four steps:\n",
    "\n",
    "1. Characterize the structure of an optimal solution\n",
    "2. Recursively define the value of an optimal solution\n",
    "3. Compute the value of an optimal solution, typically in a bottom-up fashion\n",
    "4. Construct an optimal solution from computed information\n",
    "\n",
    "Steps 1-3 form the basis of a DP solution to a problem. If onlyu the value of an optimal solution is needed, and not the solution itself, step 4 can be omitted."
   ]
  },
  {
   "cell_type": "markdown",
   "id": "8a468c6a",
   "metadata": {
    "slideshow": {
     "slide_type": "slide"
    }
   },
   "source": [
    "##### 1.4.1 Memoization example\n",
    "<div class=\"author\">src: geeksforgeeks.org</div>\n"
   ]
  },
  {
   "cell_type": "code",
   "execution_count": null,
   "id": "6026f01f",
   "metadata": {},
   "outputs": [],
   "source": [
    "# Factorial memoization example using a decorator\n",
    "memory = {}\n",
    "def memoize_factorial(f):\n",
    "    def inner(num):\n",
    "        if num not in memory:\n",
    "            memory[num] = f(num)\n",
    "            print('result saved in memory')\n",
    "        else:\n",
    "            print('returning result from saved memory')\n",
    "        return memory[num]\n",
    "    return inner\n",
    "     \n",
    "@memoize_factorial\n",
    "def facto(num):\n",
    "    if num == 1:\n",
    "        return 1\n",
    "    else:\n",
    "        return num * facto(num-1)\n",
    " \n",
    "facto(6)\n",
    "facto(6)\n"
   ]
  },
  {
   "cell_type": "markdown",
   "id": "5c531a24",
   "metadata": {
    "slideshow": {
     "slide_type": "slide"
    }
   },
   "source": [
    "##### 1.4.2 Tabulation example\n"
   ]
  },
  {
   "cell_type": "code",
   "execution_count": null,
   "id": "5bc47562",
   "metadata": {},
   "outputs": [],
   "source": [
    "def tabulate_factorial(n):\n",
    "    table = [0] * n #array to store factorials\n",
    "    table[0] = 1\n",
    "    for i in range(2, n+1):\n",
    "        table[i-1] = table[i-2] * i\n",
    "    return table[n-1]\n",
    "\n",
    "tabulate_factorial(5)"
   ]
  },
  {
   "cell_type": "markdown",
   "id": "cf65a663",
   "metadata": {
    "slideshow": {
     "slide_type": "slide"
    }
   },
   "source": [
    "##### 1.4.3 When to use memoization vs tabulation?\n",
    "\n",
    "- If the original problem requires all subproblems to be solved, tabulation usually outperformes memoization by a constant factor. This is because tabulation has no overhead for recursion and can use a preallocated array rather than, say, a hash map.\n",
    "\n",
    "- If only some of the subproblems need to be solved for the original problem to be solved, then memoization is preferrable since the subproblems are solved lazily, i.e. precisely the computations that are needed are carried out.\n",
    "\n",
    "<div class=\"author\">src: programming.guide</div>"
   ]
  },
  {
   "cell_type": "markdown",
   "id": "db9d90cf",
   "metadata": {
    "slideshow": {
     "slide_type": "slide"
    }
   },
   "source": [
    "### 1.5 DP Examples\n",
    "\n",
    "##### 1.5.1 Fibonacci Sequence\n",
    "\n",
    "The Fibonacci numbers, commonly denoted $F_n$ , form a sequence, the Fibonacci sequence, in which each number is the sum of the two preceding ones. For example: \n",
    "\n",
    "$$0,1,1,2,3,5,8,13,21,34,55,89,144,...$$\n",
    "\n",
    "The Fibonacci numbers are defined by the following recurrence relation:\n",
    "\n",
    "$$F_0 = 0, F_1 = 1, F_n = F_{n-1} + F_{n-2}$$\n",
    "\n",
    "Using dynamic programming in the calculation of the $n$-th member of the Fibonacci sequence improves its performance greatly. "
   ]
  },
  {
   "cell_type": "markdown",
   "id": "206aa599",
   "metadata": {
    "slideshow": {
     "slide_type": "slide"
    }
   },
   "source": [
    "Remeber, DP can be used when the computations of subproblems overlap.\n",
    "\n",
    "For example, when computing `fib(3)`, a naive implementation might compute `fib(1)` twice.\n",
    "\n",
    "```\n",
    "function fib(n)\n",
    "    if n <= 1 return n\n",
    "    return fib(n − 1) + fib(n − 2)\n",
    "```\n",
    "\n",
    "However, using DP the tree could be collapsed into a directed acyclic graph.\n",
    "\n",
    "![dia2](img/13fib.png)\n",
    "\n",
    "This does not look impressive (yet), but the complexity is reduced from $O(2^n)$ to $O(n)$.\n",
    "\n",
    "<div class=\"author\">src: programming.guide</div>"
   ]
  },
  {
   "cell_type": "markdown",
   "id": "24c15565",
   "metadata": {
    "slideshow": {
     "slide_type": "slide"
    }
   },
   "source": [
    "The reduction in complexity can be better visualized comparing the full call tree of `fib(7)` to the correspondig DAG:\n",
    "\n",
    "![](img/13fib2.png)\n",
    "<div class=\"author\">src: programming.guide</div>"
   ]
  },
  {
   "cell_type": "markdown",
   "id": "698d35a1",
   "metadata": {
    "slideshow": {
     "slide_type": "slide"
    }
   },
   "source": [
    "#### Exercise 2:\n",
    "\n",
    "Use dynamic programming to implement a \n",
    "\n",
    "1. top down (memoization)\n",
    "2. bottom-up (tabulation)\n",
    "\n",
    "approach of calculating the Fibonacci sequence."
   ]
  },
  {
   "cell_type": "code",
   "execution_count": null,
   "id": "5e56debd",
   "metadata": {
    "slideshow": {
     "slide_type": "slide"
    }
   },
   "outputs": [],
   "source": [
    "# Top-Down Fibonacci Number using Dynamic Programming\n",
    "\n",
    "# add code here\n",
    "     \n",
    "\n",
    "def fib(n):\n",
    "    # add code here\n",
    " \n",
    "fib(9)\n",
    "fib(9)"
   ]
  },
  {
   "cell_type": "code",
   "execution_count": 2,
   "id": "f405311b",
   "metadata": {
    "slideshow": {
     "slide_type": "subslide"
    }
   },
   "outputs": [
    {
     "name": "stdout",
     "output_type": "stream",
     "text": [
      "result saved in memory\n",
      "result saved in memory\n",
      "result saved in memory\n",
      "returning result from saved memory\n",
      "result saved in memory\n",
      "returning result from saved memory\n",
      "result saved in memory\n",
      "returning result from saved memory\n",
      "result saved in memory\n",
      "returning result from saved memory\n",
      "result saved in memory\n",
      "returning result from saved memory\n",
      "result saved in memory\n",
      "returning result from saved memory\n",
      "result saved in memory\n",
      "returning result from saved memory\n"
     ]
    },
    {
     "data": {
      "text/plain": [
       "34"
      ]
     },
     "execution_count": 2,
     "metadata": {},
     "output_type": "execute_result"
    }
   ],
   "source": [
    "# Solution - Top-Down Fibonacci Number using Dynamic Programming\n",
    "memory = {}\n",
    "def memoize_fib(f):\n",
    "    def inner(num):\n",
    "        if num not in memory:\n",
    "            memory[num] = f(num)\n",
    "            print('result saved in memory')\n",
    "        else:\n",
    "            print('returning result from saved memory')\n",
    "        return memory[num]\n",
    "    return inner\n",
    "     \n",
    "@memoize_fib\n",
    "def fib(n):\n",
    "    if n == 0:\n",
    "        return 0\n",
    "    elif n <= 2:\n",
    "        return 1\n",
    "    else:\n",
    "        return  fib(n-1) + fib(n-2)\n",
    " \n",
    "fib(9)\n",
    "fib(9)"
   ]
  },
  {
   "cell_type": "code",
   "execution_count": null,
   "id": "fb1e5a1b",
   "metadata": {
    "slideshow": {
     "slide_type": "slide"
    }
   },
   "outputs": [],
   "source": [
    "# Bottom-Up Fibonacci Number using Dynamic Programming\n",
    "def fibonacci_bottomup(n):     \n",
    "    # add code here\n",
    "     \n",
    "fibonacci_bottomup(9)"
   ]
  },
  {
   "cell_type": "code",
   "execution_count": 3,
   "id": "97e4a629",
   "metadata": {
    "slideshow": {
     "slide_type": "subslide"
    }
   },
   "outputs": [
    {
     "data": {
      "text/plain": [
       "34"
      ]
     },
     "execution_count": 3,
     "metadata": {},
     "output_type": "execute_result"
    }
   ],
   "source": [
    "# Solution Bottom-Up Fibonacci Number using Dynamic Programming\n",
    "def fibonacci_bottomup(n):     \n",
    "    f = [0, 1]  \n",
    "    for i in range(2, n+1):\n",
    "        f.append(f[i-1] + f[i-2])\n",
    "    return f[n]\n",
    "     \n",
    "fibonacci_bottomup(9)"
   ]
  },
  {
   "cell_type": "markdown",
   "id": "2d444212",
   "metadata": {
    "slideshow": {
     "slide_type": "slide"
    }
   },
   "source": [
    "##### 1.5.2  Longest Common Subsequence (LCS) \n",
    "\n",
    "The Longest Common Subsequence (LCS) problem is finding the longest subsequence present in given two sequences in the same order, i.e., find the longest sequence which can be obtained from the first original sequence by deleting some items and from the second original sequence by deleting other items.\n",
    "\n",
    "The problem differs from the problem of finding the longest common substring. Unlike substrings, subsequences are not required to occupy consecutive positions within the original string.\n",
    "\n",
    "The longest common subsequence problem is a classic computer science problem. It has applications in computational linguistics and bioinformatics. It is also widely used by revision control systems such as Git for reconciling multiple changes made to a revision-controlled collection of files.\n"
   ]
  },
  {
   "cell_type": "markdown",
   "id": "6032e95c",
   "metadata": {
    "slideshow": {
     "slide_type": "slide"
    }
   },
   "source": [
    "#### Exercise 3\n",
    "\n",
    "Find at least 5 common subsequences of $S1$ and $S2$. How long is the longest you can find?\n",
    "\n",
    "\n",
    "```\n",
    "S1 = {B, C, D, A, A, C, D}\n",
    "S2 = {A, C, D, B, A, C}\n",
    "```\n"
   ]
  },
  {
   "cell_type": "markdown",
   "id": "d77c0e24",
   "metadata": {
    "slideshow": {
     "slide_type": "subslide"
    }
   },
   "source": [
    "##### Solution\n",
    "\n",
    "{B, C}, {C, D, A, C}, {D, A, C}, {A, A, C}, {A, C}, {C, D}"
   ]
  },
  {
   "cell_type": "markdown",
   "id": "759792a1",
   "metadata": {
    "slideshow": {
     "slide_type": "slide"
    }
   },
   "source": [
    "##### Using Dynamic Programming to find the LCS\n",
    "<div class=\"author\">src: programiz.com</div>\n",
    "\n",
    "1. Create a table of dimension $(n+1) \\times (m+1)$, where $n$ and $m$ are the length of $S1$ and $S2$. Fill the first row and first column with zeros.\n",
    "![dia1](img/13lcs2.webp)"
   ]
  },
  {
   "cell_type": "markdown",
   "id": "d7206ac2",
   "metadata": {
    "slideshow": {
     "slide_type": "slide"
    }
   },
   "source": [
    "2. Iterate through each cell and apply the following logic:\n",
    "    - if the character correspoding to the current row and current column are matching, then fill the current cell by adding one to the diagonal element. Point an arrow to the diagonal cell.\n",
    "    - else take the maximum value from the previous column and previous row element for filling the current cell. Point an arrow to the cell with maximum value. If they are equal, point to any of them. \n",
    "    - repeat until table is filled\n",
    "![dia1](img/13lcs3.webp)"
   ]
  },
  {
   "cell_type": "markdown",
   "id": "344505ac",
   "metadata": {
    "slideshow": {
     "slide_type": "slide"
    }
   },
   "source": [
    "3. The value in the last row and the last column is the length of the longest common subsequence. \n",
    "\n",
    "4. In order to find the longest common subsequence, start from the last element and follow the direction of the arrow. The elements you pass before moving diagonally form the longest common subsequence. \n",
    "\n",
    "![dia2](img/13lcs4.webp)"
   ]
  },
  {
   "cell_type": "markdown",
   "id": "5e4fd40f",
   "metadata": {
    "slideshow": {
     "slide_type": "slide"
    }
   },
   "source": [
    "#### Exercise 4\n",
    "\n",
    "Complete the lcs_dp function below following steps 1-3 in the LCS DP description above to determine the LCS length of the given sequences $S1$ and $S2$.\n",
    "\n",
    "```\n",
    "S1 = {B, C, D, A, A, C, D}\n",
    "S2 = {A, C, D, B, A, C}\n",
    "```\n"
   ]
  },
  {
   "cell_type": "code",
   "execution_count": null,
   "id": "820b2676",
   "metadata": {
    "slideshow": {
     "slide_type": "slide"
    }
   },
   "outputs": [],
   "source": [
    "def lcs_dp(S1, S2):\n",
    "    m = len(S1)\n",
    "    n = len(S2)\n",
    "    \n",
    "    L = [[0 for x in range(n+1)] for x in range(m+1)]\n",
    "\n",
    "    # Building the matrix in bottom-up way\n",
    "    \n",
    "    # Add your code here!!!\n",
    "          \n",
    "    return(L[m][n])\n",
    "\n",
    "S1 = \"BCDAACD\"\n",
    "S2 = \"ACDBAC\"\n",
    "lcs_dp(S1, S2)"
   ]
  },
  {
   "cell_type": "code",
   "execution_count": 4,
   "id": "43dc5948",
   "metadata": {
    "slideshow": {
     "slide_type": "subslide"
    }
   },
   "outputs": [
    {
     "data": {
      "text/plain": [
       "['C', 'D', 'A', 'C']"
      ]
     },
     "execution_count": 4,
     "metadata": {},
     "output_type": "execute_result"
    }
   ],
   "source": [
    "# Solution, src:programiz.com\n",
    "def lcs_dp(S1, S2):\n",
    "    m = len(S1)\n",
    "    n = len(S2)\n",
    "    \n",
    "    L = [[0 for x in range(n+1)] for x in range(m+1)]\n",
    "\n",
    "    # Building the matrix in bottom-up way\n",
    "    for i in range(m+1):\n",
    "        for j in range(n+1):\n",
    "            if i == 0 or j == 0:\n",
    "                L[i][j] = 0\n",
    "            elif S1[i-1] == S2[j-1]:\n",
    "                L[i][j] = L[i-1][j-1] + 1\n",
    "            else:\n",
    "                L[i][j] = max(L[i-1][j], L[i][j-1])\n",
    "    \n",
    "            \n",
    "    index = L[m][n]\n",
    "    lcs = ['',] * (index)\n",
    "    i = m\n",
    "    j = n   \n",
    "    while i > 0 and j > 0:\n",
    "        if S1[i-1] == S2[j-1]:\n",
    "            lcs[index-1] = S1[i-1]\n",
    "            i -= 1\n",
    "            j -= 1\n",
    "            index -= 1\n",
    "        elif L[i-1][j] > L[i][j-1]:\n",
    "            i -= 1\n",
    "        else:\n",
    "            j -= 1\n",
    "    return (lcs)\n",
    "\n",
    "\n",
    "S1 = \"BCDAACD\"\n",
    "S2 = \"ACDBAC\"\n",
    "lcs_dp(S1, S2)"
   ]
  },
  {
   "cell_type": "markdown",
   "id": "7199f20c",
   "metadata": {
    "slideshow": {
     "slide_type": "slide"
    }
   },
   "source": [
    "#### Exercise 5\n",
    "\n",
    "What is the time complexity of your algorithm implemented in Exercise 4? What would have been the time complexity if you had used a naive recursive implementation instead?"
   ]
  },
  {
   "cell_type": "markdown",
   "id": "2ac947a1",
   "metadata": {
    "slideshow": {
     "slide_type": "subslide"
    }
   },
   "source": [
    "##### Solution:\n",
    "\n",
    "The time complexity for the dynamic approach of LCS is the time to fill the table: $O(m \\cdot n)$\n",
    "\n",
    "A naive, recursive implementation has the complexity of $O(2^{\\max(m, n)})$."
   ]
  },
  {
   "cell_type": "markdown",
   "id": "8f757b7c",
   "metadata": {
    "slideshow": {
     "slide_type": "slide"
    }
   },
   "source": [
    "## 2. The Knapsack Problem\n",
    "<div class=\"author\">src: wikipedia.</div>\n",
    "\n",
    "The knapsack problem is a problem in combinatorial optimization: Given a set of items, each with a weight and a value, determine the number of each item to include in a collection so that the total weight is less than or equal to a given limit and the total value is as large as possible. \n",
    "\n",
    "It derives its name from the problem faced by someone who is constrained by a fixed-size knapsack and must fill it with the most valuable items. The problem often arises in resource allocation where the decision-makers have to choose from a set of non-divisible projects or tasks under a fixed budget or time constraint, respectively. "
   ]
  },
  {
   "cell_type": "markdown",
   "id": "0d8accc3",
   "metadata": {
    "slideshow": {
     "slide_type": "slide"
    }
   },
   "source": [
    "#### Exercise 6\n",
    "\n",
    "__The \"pretty weak\" Knapsack Thief__\n",
    "\n",
    "![dia2](img/13knapsack.webp)\n",
    "\n",
    "Due to his chronic back problems this thief is only allowed by his doctor to carry up to 7kg. Which items should he take?\n",
    "\n",
    "- Case 1: There is only one item of each object in the store\n",
    "- Case 2: There are 7 items of each object in the store\n",
    "<div class=\"author\">src: askpython.com</div>"
   ]
  },
  {
   "cell_type": "markdown",
   "id": "a0aec067",
   "metadata": {
    "slideshow": {
     "slide_type": "subslide"
    }
   },
   "source": [
    "##### Solution\n",
    "\n",
    "- Case 1: Guitar, Necklace, Lego\n",
    "- Case 2: 3x Necklace, 1x Lego"
   ]
  },
  {
   "cell_type": "markdown",
   "id": "29a748da",
   "metadata": {
    "slideshow": {
     "slide_type": "slide"
    }
   },
   "source": [
    "### 2.1 Definitions\n",
    "\n",
    "##### 2.1.1 The 0-1 knapsack problem\n",
    "\n",
    "The 0-1 knapsack problem restricts the number $x_i$ of copies of each kind of item to zero or one. Given a set of $n$ items numbered from 1 up to $n$, each with a weight $w_i$ and a value $v_i$, along with a maximum weight capacity $W$,\n",
    "\n",
    "$$max \\sum_{i=1}^n v_i x_i$$ subject to\n",
    "$$\\sum_{i=1}^n w_i x_i \\leq W, x_i \\in \\{0,1\\}$$\n",
    "\n",
    "$x_i$ represents the number of instances of item $i$ to include in the knapsack.\n",
    "\n",
    "##### 2.1.2 The bounded knapsack problem (BKP)\n",
    "\n",
    "BKP removes the restriction that there is only one of each item, but restricts the number of copies of each kind to a non-negative integer $c$.\n",
    "\n",
    "$$max \\sum_{i=1}^n v_i x_i$$ subject to\n",
    "$$\\sum_{i=1}^n w_i x_i \\leq W, x_i \\in \\{0,1,2,...,c\\}$$"
   ]
  },
  {
   "cell_type": "markdown",
   "id": "798db984",
   "metadata": {
    "slideshow": {
     "slide_type": "slide"
    }
   },
   "source": [
    "##### 2.1.3 The unbounded knapsack problem (UKP)\n",
    "\n",
    "UKP removes any restrictions on number of items and copies.\n",
    "\n",
    "$$max \\sum_{i=1}^n v_i x_i$$ subject to\n",
    "$$\\sum_{i=1}^n w_i x_i \\leq W, x_i \\in \\mathbb{N}$$"
   ]
  },
  {
   "cell_type": "markdown",
   "id": "49c38bbb",
   "metadata": {
    "slideshow": {
     "slide_type": "slide"
    }
   },
   "source": [
    "#### Exercise 7\n",
    "\n",
    "Implement a naive recursive function to solve the thief's 0-1 Knapsack problem."
   ]
  },
  {
   "cell_type": "code",
   "execution_count": null,
   "id": "5cee82ce",
   "metadata": {
    "slideshow": {
     "slide_type": "slide"
    }
   },
   "outputs": [],
   "source": [
    "def knapsack(n, capacity, weights, prices):\n",
    "    if(n == 0 or capacity == 0):\n",
    "        return 0\n",
    " \n",
    "    # add code here\n",
    " \n",
    "weights = [1, 2, 3, 4]\n",
    "prices = [50, 200, 150, 100]\n",
    "n = len(prices)\n",
    "capacity = 7\n",
    " \n",
    "knapsack(n, capacity, weights, prices)"
   ]
  },
  {
   "cell_type": "code",
   "execution_count": null,
   "id": "6465af4a",
   "metadata": {
    "slideshow": {
     "slide_type": "subslide"
    }
   },
   "outputs": [],
   "source": [
    "# Solution\n",
    "def knapsack(n, capacity, weights, prices):\n",
    "    if(n == 0 or capacity == 0):\n",
    "        return 0\n",
    " \n",
    "    # if weight of nth item > capacity, then dont include in solution\n",
    "    if (weights[n-1] > capacity):\n",
    "        return knapsack(n-1, capacity, weights, prices)\n",
    "   \n",
    "    # return the maximum of two cases: (1) nth item included, (2) not included\n",
    "    else:\n",
    "        return max(prices[n-1] + knapsack(n-1, capacity-weights[n-1], weights, prices),\n",
    "                   knapsack(n-1, capacity, weights, prices))\n",
    "\n",
    "    \n",
    "weights = [1, 2, 3, 4]\n",
    "prices = [50, 200, 150, 100]\n",
    "n = len(prices)\n",
    "capacity = 7\n",
    " \n",
    "knapsack(n, capacity, weights, prices)"
   ]
  },
  {
   "cell_type": "markdown",
   "id": "100de129",
   "metadata": {
    "slideshow": {
     "slide_type": "slide"
    }
   },
   "source": [
    "#### Exercise 8\n",
    "\n",
    "Implement a bottom-up function using dynamic programming to solve the thief's 0-1 Knapsack problem."
   ]
  },
  {
   "cell_type": "code",
   "execution_count": null,
   "id": "2883fade",
   "metadata": {
    "slideshow": {
     "slide_type": "slide"
    }
   },
   "outputs": [],
   "source": [
    "def knapsack_dp(n, W, wt, val):\n",
    "    K = [[0 for x in range(W + 1)] for x in range(n + 1)]\n",
    " \n",
    "    # Build table K[][] in bottom up manner\n",
    "    for i in range(n + 1):\n",
    "        for w in range(W + 1):\n",
    "            if i == 0 or w == 0:\n",
    "                K[i][w] = 0\n",
    "            elif wt[i-1] <= w:\n",
    "                K[i][w] = max(val[i-1]\n",
    "                          + K[i-1][w-wt[i-1]], \n",
    "                              K[i-1][w])\n",
    "            else:\n",
    "                K[i][w] = K[i-1][w]\n",
    " \n",
    "    return K[n][W]\n",
    " \n",
    " \n",
    "# Driver code\n",
    "weights = [1, 2, 3, 4]\n",
    "prices = [50, 200, 150, 100]\n",
    "n = len(prices)\n",
    "capacity = 7\n",
    " \n",
    "knapsack_dp(n, capacity, weights, prices)"
   ]
  }
 ],
 "metadata": {
  "celltoolbar": "Slideshow",
  "kernelspec": {
   "display_name": "Python 3 (ipykernel)",
   "language": "python",
   "name": "python3"
  },
  "language_info": {
   "codemirror_mode": {
    "name": "ipython",
    "version": 3
   },
   "file_extension": ".py",
   "mimetype": "text/x-python",
   "name": "python",
   "nbconvert_exporter": "python",
   "pygments_lexer": "ipython3",
   "version": "3.10.5"
  },
  "varInspector": {
   "cols": {
    "lenName": 16,
    "lenType": 16,
    "lenVar": 40
   },
   "kernels_config": {
    "python": {
     "delete_cmd_postfix": "",
     "delete_cmd_prefix": "del ",
     "library": "var_list.py",
     "varRefreshCmd": "print(var_dic_list())"
    },
    "r": {
     "delete_cmd_postfix": ") ",
     "delete_cmd_prefix": "rm(",
     "library": "var_list.r",
     "varRefreshCmd": "cat(var_dic_list()) "
    }
   },
   "types_to_exclude": [
    "module",
    "function",
    "builtin_function_or_method",
    "instance",
    "_Feature"
   ],
   "window_display": false
  }
 },
 "nbformat": 4,
 "nbformat_minor": 5
}
