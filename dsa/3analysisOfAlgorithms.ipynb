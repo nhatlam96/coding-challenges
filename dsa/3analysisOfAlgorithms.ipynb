{
 "cells": [
  {
   "cell_type": "code",
   "execution_count": 1,
   "id": "65e2cd3f",
   "metadata": {
    "hide_input": true
   },
   "outputs": [
    {
     "data": {
      "text/html": [
       "<style>h1{text-align:center;}h1{text-transform:none;}.rendered_html h4{color:#17b6eb;font-size: 1.6em;}img[alt=dia1]{width:35%;}img[alt=book]{width:20%;font-size: 3em;}img[alt=dia2]{width:50%;}.author{font-size:8px;}</style>\n"
      ],
      "text/plain": [
       "<IPython.core.display.HTML object>"
      ]
     },
     "metadata": {},
     "output_type": "display_data"
    }
   ],
   "source": [
    "%%html\n",
    "<style>h1{text-align:center;}h1{text-transform:none;}.rendered_html h4{color:#17b6eb;font-size: 1.6em;}img[alt=dia1]{width:35%;}img[alt=book]{width:20%;font-size: 3em;}img[alt=dia2]{width:50%;}.author{font-size:8px;}</style>"
   ]
  },
  {
   "cell_type": "markdown",
   "id": "b7ab25c9",
   "metadata": {
    "slideshow": {
     "slide_type": "slide"
    }
   },
   "source": [
    "# Lecture 3: Analysis of Algorithms"
   ]
  },
  {
   "cell_type": "markdown",
   "id": "97d25a79",
   "metadata": {
    "slideshow": {
     "slide_type": "slide"
    }
   },
   "source": [
    "Recap of last week's lecture:\n",
    "\n",
    "- Definition and History of Algorithms\n",
    "- Binary search is a lot faster than simple (linear) search\n",
    "- Algorithm speed (running time) is not measure in seconds but in terms of *growth*\n",
    "- A common way to compare running times is the __Big O notation__\n",
    "\n",
    "Today, we will look a bit more into the __Analysis of Algorithms__"
   ]
  },
  {
   "cell_type": "markdown",
   "id": "4d3d3b84",
   "metadata": {
    "slideshow": {
     "slide_type": "slide"
    }
   },
   "source": [
    "### Reasons to analyze algorithms\n",
    "<div class=\"author\"> source: https://algs4.cs.princeton.edu/home/</div>\n",
    "\n",
    "1. to __predict__ performance -> (501ALGO)\n",
    "2. to __compare__ algorithms -> (501ALGO)\n",
    "3. to __provide__ guarantees -> (501ALGO)\n",
    "4. to __understand__ theoretical basis -> (504TINF & 501ALGO) \n",
    "\n",
    "__Primary practical reason__: to __avoid__ performance bugs"
   ]
  },
  {
   "cell_type": "markdown",
   "id": "008ed64f",
   "metadata": {
    "slideshow": {
     "slide_type": "slide"
    }
   },
   "source": [
    "### We are going to use a *scientific paradigm* to analyze algorithms\n",
    "<div class=\"author\"> source: https://algs4.cs.princeton.edu/home/</div>\n",
    "\n",
    "__Scientific Method__\n",
    "- __Observe__ a feature of the natural world\n",
    "- __Hypothesize__ a model that is consistent with the observations\n",
    "- __Predict__ events using the hypothesis\n",
    "- __Verify__ the predictions by making further observations\n",
    "- __Validate__ by repeating until the hypothesis and observations agree\n",
    "\n",
    "__Principles__\n",
    "- Experiments must be __reproducible__\n",
    "- Hypotheses must be __falsifiable__\n"
   ]
  },
  {
   "cell_type": "markdown",
   "id": "fb7dae5d",
   "metadata": {
    "slideshow": {
     "slide_type": "slide"
    }
   },
   "source": [
    "### Example: Brute-force a 3-Sum algorithm\n",
    "\n",
    "__Goal:__ Given N distinct integers, how many triples sum to exactly zero? \n",
    "\n",
    "![book](img/3angrybirds.png)\n",
    "\n",
    "__Example:__ Consider the following set: $\\{30, -40, -20, -10, 40, 0, 10, 5\\}$\n",
    "\n",
    "__Solution:__ \n",
    "\n",
    "|a[i]|a[j]|a[k]|sum|\n",
    "|---|---|---|---|\n",
    "|30|-40|10|0|\n",
    "|30|-20|-10|0|\n",
    "|-40|40|0|0|\n",
    "|-10|0|10|0|"
   ]
  },
  {
   "cell_type": "markdown",
   "id": "7bc16ad8",
   "metadata": {
    "slideshow": {
     "slide_type": "slide"
    }
   },
   "source": [
    "#### Exercise: Complete the function threeSum\n",
    "\n",
    "Implement the 3Sum algorithm using a brute force approach. The output should be the overall running time of the algorithm for a given set of integers."
   ]
  },
  {
   "cell_type": "code",
   "execution_count": 2,
   "id": "c7043753",
   "metadata": {
    "slideshow": {
     "slide_type": "-"
    }
   },
   "outputs": [
    {
     "data": {
      "text/plain": [
       "6.175041198730469e-05"
      ]
     },
     "execution_count": 2,
     "metadata": {},
     "output_type": "execute_result"
    }
   ],
   "source": [
    "import time\n",
    "\n",
    "def threeSum(nums):\n",
    "        start = time.time()\n",
    "        sets = []\n",
    "        sol = []\n",
    "            \n",
    "        for i in range(0, len(nums)):\n",
    "            for j in range(0, len(nums)):\n",
    "                for k in range(0, len(nums)):\n",
    "                    if (nums[i] + nums[j] + nums[k] == 0 and i != j and i != k and j != k):\n",
    "                        sol = sorted([nums[i] , nums[j] , nums[k]])\n",
    "                        if sol not in sets:\n",
    "                            sets.append(sol)\n",
    "        end = time.time()\n",
    "        return end - start\n",
    "    \n",
    "threeSum([30, -40, -20, -10, 40, 0, 10, 5])"
   ]
  },
  {
   "cell_type": "markdown",
   "id": "e0663c09",
   "metadata": {
    "slideshow": {
     "slide_type": "slide"
    }
   },
   "source": [
    "## 1. Data Analysis via Observations\n",
    "\n",
    "Let's analyse our algorithm by creating a random sets of integers with arbitrary sizes and pass them to `threeSum(nums)`. Maybe we can find some distinctive features and draw some conclusions.\n",
    "\n",
    "This is how we can generate such a \"random\" set:"
   ]
  },
  {
   "cell_type": "code",
   "execution_count": 3,
   "id": "9a8b605b",
   "metadata": {},
   "outputs": [
    {
     "data": {
      "text/plain": [
       "[202, -51, 63, -45, 101]"
      ]
     },
     "execution_count": 3,
     "metadata": {},
     "output_type": "execute_result"
    }
   ],
   "source": [
    "import random \n",
    "random.sample(range(-100, 420), 5)\n"
   ]
  },
  {
   "cell_type": "markdown",
   "id": "c1c2d325",
   "metadata": {
    "slideshow": {
     "slide_type": "slide"
    }
   },
   "source": [
    "Let' plot the results for varius set sizes (50..600):"
   ]
  },
  {
   "cell_type": "code",
   "execution_count": 4,
   "id": "51539d2d",
   "metadata": {
    "slideshow": {
     "slide_type": "-"
    }
   },
   "outputs": [
    {
     "data": {
      "image/png": "[encoded data removed]",
      "text/plain": [
       "<Figure size 432x288 with 1 Axes>"
      ]
     },
     "metadata": {
      "needs_background": "light"
     },
     "output_type": "display_data"
    }
   ],
   "source": [
    "import matplotlib.pyplot as plt\n",
    "\n",
    "nSize = [50, 100, 200, 300, 400, 500, 600]\n",
    "timeList = [threeSum(random.sample(range(-100, 700), x)) for x in nSize]\n",
    "\n",
    "fig, ax = plt.subplots()\n",
    "ax.set(xlabel = 'problem size N',\n",
    "       ylabel = 'running time T(N) in seconds')\n",
    "\n",
    "ax.plot(nSize, timeList, \"ob\")\n",
    "plt.show()"
   ]
  },
  {
   "cell_type": "markdown",
   "id": "65afee9d",
   "metadata": {
    "slideshow": {
     "slide_type": "slide"
    }
   },
   "source": [
    "When we change the plot format and a apply a log-log-scale, we notice a straight line. This is typical for a __monomial__ (polynomial with only one term)."
   ]
  },
  {
   "cell_type": "code",
   "execution_count": 5,
   "id": "80d1249a",
   "metadata": {
    "slideshow": {
     "slide_type": "-"
    }
   },
   "outputs": [
    {
     "data": {
      "image/png": "[encoded data removed]",
      "text/plain": [
       "<Figure size 432x288 with 1 Axes>"
      ]
     },
     "metadata": {
      "needs_background": "light"
     },
     "output_type": "display_data"
    }
   ],
   "source": [
    "fig, ax = plt.subplots()\n",
    "ax.set(xlabel = 'problem size N',\n",
    "       ylabel = 'running time T(N) in seconds')\n",
    "ax.loglog(nSize, timeList, \"or\")\n",
    "ax.loglog(nSize, timeList)\n",
    "plt.show()"
   ]
  },
  {
   "cell_type": "markdown",
   "id": "af2fba7d",
   "metadata": {
    "slideshow": {
     "slide_type": "slide"
    }
   },
   "source": [
    "Hence, let's describe the running time of our algorithm as a linear system and solve for $T(N)$: "
   ]
  },
  {
   "cell_type": "markdown",
   "id": "d2ee32c9",
   "metadata": {
    "slideshow": {
     "slide_type": "-"
    }
   },
   "source": [
    "$log(T(N))= b \\cdot log (N) + c$\n",
    "\n",
    "$T(N)= e^{b \\cdot log (N) +c}$\n",
    "\n",
    "$T(N) = (e^{log(N)})^b \\cdot e^c$\n",
    "\n",
    "$T(N) = a \\cdot N^b$, &nbsp;&nbsp;&nbsp;&nbsp;where $a=e^c$"
   ]
  },
  {
   "cell_type": "markdown",
   "id": "a0308d81",
   "metadata": {
    "slideshow": {
     "slide_type": "slide"
    }
   },
   "source": [
    "Using linear regression, we can determine the paramters $b$, and $c$ and also calculate $a$:"
   ]
  },
  {
   "cell_type": "code",
   "execution_count": 7,
   "id": "89818b47",
   "metadata": {},
   "outputs": [
    {
     "name": "stdout",
     "output_type": "stream",
     "text": [
      "6.683409150518501e-08 2.9864742294788402 -16.52105253471501\n"
     ]
    }
   ],
   "source": [
    "import scipy\n",
    "from scipy import stats\n",
    "import numpy as np\n",
    "\n",
    "b, c, r_value, p_value, std_err = scipy.stats.linregress(np.log(nSize), np.log(timeList))\n",
    "a = np.e**c\n",
    "print(a, b, c)"
   ]
  },
  {
   "cell_type": "markdown",
   "id": "136cc037",
   "metadata": {
    "slideshow": {
     "slide_type": "slide"
    }
   },
   "source": [
    "Finally, let's compare our observations with our \"model\":"
   ]
  },
  {
   "cell_type": "code",
   "execution_count": 8,
   "id": "47995616",
   "metadata": {},
   "outputs": [
    {
     "data": {
      "image/png": "[encoded data removed]",
      "text/plain": [
       "<Figure size 432x288 with 1 Axes>"
      ]
     },
     "metadata": {
      "needs_background": "light"
     },
     "output_type": "display_data"
    }
   ],
   "source": [
    "\n",
    "N = np.array(range(500))\n",
    "T = np.e**c * N**b \n",
    "\n",
    "plt.plot(N, T)\n",
    "plt.plot(nSize, timeList)\n",
    "plt.show()"
   ]
  },
  {
   "cell_type": "markdown",
   "id": "33d08450",
   "metadata": {
    "slideshow": {
     "slide_type": "-"
    }
   },
   "source": [
    "-> our __Hypothesis__: The running time is about $1.2 \\cdot 10^{-7} \\cdot N^{2.98}$ seconds.\n"
   ]
  },
  {
   "cell_type": "markdown",
   "id": "a874f076",
   "metadata": {
    "slideshow": {
     "slide_type": "slide"
    }
   },
   "source": [
    "### Prediction and Validation\n",
    "\n",
    "__Hypothesis__: The running time is about $1.24 \\cdot 10^{-7} \\cdot N^{2.98}$ seconds.\n",
    "\n",
    "__Prediction__: 13.6 seconds for N=600"
   ]
  },
  {
   "cell_type": "code",
   "execution_count": 9,
   "id": "9aed57cc",
   "metadata": {},
   "outputs": [
    {
     "data": {
      "text/plain": [
       "14.04587697982788"
      ]
     },
     "execution_count": 9,
     "metadata": {},
     "output_type": "execute_result"
    }
   ],
   "source": [
    "threeSum(random.sample(range(-100, 700), 600))"
   ]
  },
  {
   "cell_type": "markdown",
   "id": "9980e8a1",
   "metadata": {
    "slideshow": {
     "slide_type": "slide"
    }
   },
   "source": [
    "### Summary of Experimental Algorithmics\n",
    "\n",
    "##### System independent effects determine the exponent AND constant in power law\n",
    "- Algorithm\n",
    "- Input Data\n",
    "\n",
    "##### System dependet effects determine the constant in power law\n",
    "- Hardware: CPU, memory, cache, ...\n",
    "- Software: compiler, interpreter, ...\n",
    "- System: OS, network, ...\n",
    "\n",
    "##### Drawback:\n",
    "- precision of measurements\n",
    "\n",
    "##### Advantage:\n",
    "- easy and cheap\n"
   ]
  },
  {
   "cell_type": "markdown",
   "id": "479c3f78",
   "metadata": {
    "slideshow": {
     "slide_type": "slide"
    }
   },
   "source": [
    "#### Exercise: Create a hypotheses for the running time of the algorithm below (using observations)"
   ]
  },
  {
   "cell_type": "code",
   "execution_count": 11,
   "id": "37066f01",
   "metadata": {},
   "outputs": [
    {
     "data": {
      "text/plain": [
       "0.018155336380004883"
      ]
     },
     "execution_count": 11,
     "metadata": {},
     "output_type": "execute_result"
    }
   ],
   "source": [
    "import time\n",
    "\n",
    "def uselessBruteForce(sampleSize):\n",
    "        start = time.time()\n",
    "        set = random.sample(range(0, 7000), sampleSize)\n",
    "        foo = 0\n",
    "        \n",
    "        for i in range(0, sampleSize):\n",
    "            for j in range(0, sampleSize):\n",
    "                foo = foo + set[i] - set[j] \n",
    "        end = time.time()\n",
    "        return end - start\n",
    "    \n",
    "uselessBruteForce(500)"
   ]
  },
  {
   "cell_type": "markdown",
   "id": "bd1ce1c0",
   "metadata": {
    "slideshow": {
     "slide_type": "slide"
    }
   },
   "source": [
    "## 2. Data Analysis via Mathematical Models - Tilde Notation\n",
    "\n",
    "The total running time is determined as the sum of:\n",
    "- the cost of executing each statement\n",
    "- the frequency of executing each statement\n",
    "\n",
    "$T(N) = \\sum_{i=0}^n (cost \\cdot frequency)$\n",
    "\n",
    "### Prerequisites\n",
    "- analyze program to determine set of operations\n",
    "- cost depends on machine, compiler, etc.\n",
    "- frequency depends on algorithm, input data\n",
    "\n"
   ]
  },
  {
   "cell_type": "markdown",
   "id": "801f51e5",
   "metadata": {
    "slideshow": {
     "slide_type": "slide"
    }
   },
   "source": [
    "### Observation: Most primitive operations take constant time\n",
    "\n",
    "|operation|example|time in nanoseconds (example)|\n",
    "|:---|:---|:---|\n",
    "|integer add|a + b|$c_1$=2.1|\n",
    "|integer multiply|a * b|$c_2$=2.4|\n",
    "|integer divide|a / b |$c_3$=5.4|\n",
    "|floating-point add|a + b|$c_4$=4.6|\n",
    "|floating-point multiply|a * b|$c_5$=4.2|\n",
    "|floating-point divide|a / b|$c_6$=13.5|\n",
    "|sine|sin(alpha)|$c_7$=91.3|\n",
    "|variable declararion|int a|$c_8$=1.7|\n",
    "|assignment statement|a = b|$c_9$=1.9|\n",
    "|integer compare|a < b|$c_{10}$=11.3|\n",
    "|array element access|a[i]|$c_{11}$=6.5|"
   ]
  },
  {
   "cell_type": "markdown",
   "id": "bd5be7c8",
   "metadata": {
    "slideshow": {
     "slide_type": "slide"
    }
   },
   "source": [
    "### Example 1: Single while-loop\n",
    "\n",
    "```python\n",
    "i = 0\n",
    "while i < N:\n",
    "    i += 1\n",
    "````\n",
    "\n",
    "|operation|frequency|\n",
    "|:---|:---|\n",
    "|variable declaration|1|\n",
    "|assignment statement|1|\n",
    "|less than compare| N+1|\n",
    "|increment|N|\n"
   ]
  },
  {
   "cell_type": "markdown",
   "id": "aa9aee8e",
   "metadata": {
    "slideshow": {
     "slide_type": "slide"
    }
   },
   "source": [
    "### Example 2: Double while-loop\n",
    "\n",
    "```python\n",
    "i = 0\n",
    "j = 0;\n",
    "while i < N:\n",
    "    i += 1\n",
    "    while j < N:\n",
    "        j += 1\n",
    "````\n",
    "\n",
    "|operation|frequency|\n",
    "|:---|:---|\n",
    "|variable declaration|2|\n",
    "|assignment statement|2|\n",
    "|less than compare| (N+1)(N+1)|\n",
    "|increment|N(N)+1)|\n"
   ]
  },
  {
   "cell_type": "markdown",
   "id": "3b6ac2a5",
   "metadata": {
    "slideshow": {
     "slide_type": "slide"
    }
   },
   "source": [
    "### Tilde Notation: Technical definition\n",
    "\n",
    "$f(n) \\sim g(n)$ &nbsp;&nbsp;&nbsp;&nbsp; means &nbsp;&nbsp;&nbsp;&nbsp; $\\lim_{x \\to \\infty}\\frac{f(n)}{g(n)}=1$\n",
    "\n",
    "\n",
    "The Tilde Notation estimates running time as a function of input size $N$. Itis used when we want to make a simple approximation of a complex function. It simply drops the lower order terms, because:\n",
    "- when N is large, terms are negligible\n",
    "- when N is small, we don't care\n",
    "\n",
    "Tilde Notation defines both, the upper bound and lower bound of an algorithm\n",
    "\n",
    "__Example 1:__ &nbsp;&nbsp; $\\frac{1}{6}N^3 + 20N + 16$ &nbsp;&nbsp;&nbsp;&nbsp;&nbsp;&nbsp;&nbsp;&nbsp;&nbsp;&nbsp;&nbsp;&nbsp;&nbsp;&nbsp;&nbsp; $\\sim \\frac{1}{6}N^3$\n",
    "\n",
    "__Example 2:__ &nbsp;&nbsp; $\\frac{1}{6}N^3 + 100N^{\\frac{4}{3}} + 57$ &nbsp;&nbsp;&nbsp;&nbsp;&nbsp;&nbsp;&nbsp;&nbsp; $\\sim \\frac{1}{6}N^3$\n",
    "\n",
    "__Example 3:__ &nbsp;&nbsp; $\\frac{1}{6}N^3 + \\frac{1}{2}N^{2} + \\frac{1}{3}$ &nbsp;&nbsp;&nbsp;&nbsp;&nbsp;&nbsp;&nbsp;&nbsp;&nbsp;&nbsp;&nbsp;&nbsp;&nbsp;&nbsp; $\\sim \\frac{1}{6}N^3$"
   ]
  },
  {
   "cell_type": "markdown",
   "id": "811d5416",
   "metadata": {
    "slideshow": {
     "slide_type": "slide"
    }
   },
   "source": [
    "### Back to Example 2: Double while-loop\n",
    "\n",
    "|operation|frequency|tilde notation|\n",
    "|:---|:---|:---|\n",
    "|variable declaration|2|~ c|\n",
    "|assignment statement|2|~ c|\n",
    "|less than compare| (N+1)(N+1)|~$N^2$|\n",
    "|increment|N(N)+1)|~$N^2$|"
   ]
  },
  {
   "cell_type": "markdown",
   "id": "470e76f5",
   "metadata": {
    "slideshow": {
     "slide_type": "slide"
    }
   },
   "source": [
    "### How to (mostly) estimate a discrete sum\n",
    "\n",
    "Replace the sum with an integral and use calculus.\n",
    "\n",
    "__Example 1:__ &nbsp;&nbsp; $1 + 2 + ... + N$ &emsp;&emsp;&emsp;&emsp;&emsp;&emsp;&emsp;&emsp; $\\sum_{i=1}^N i \\sim \\int_{x=1}^N x dx \\sim \\frac{1}{2}N^2$\n",
    "\n",
    "__Example 2:__ &nbsp;&nbsp; $1^k + 2^k + ... + N^k$ &emsp;&emsp;&emsp;&emsp;&emsp;&emsp;&emsp; $\\sum_{i=1}^N i^k \\sim \\int_{x=1}^N x^k dx \\sim \\frac{1}{k+1}N^{k+1}$\n",
    "\n",
    "__Example 3:__ &nbsp;&nbsp; $1 + \\frac{1}{2} + ... + \\frac{1}{N}$ &emsp;&emsp;&emsp;&emsp;&emsp;&emsp;&emsp;&emsp; $\\sum_{i=1}^N \\frac{1}{i} \\sim \\int_{x=1}^N \\frac{1}{x} = \\ln{N}$\n",
    "\n",
    "__Example 4:__ &nbsp;&nbsp; 3-sum triple loop &emsp;&emsp;&emsp;&emsp;&emsp;&emsp;&emsp;&emsp; $\\sum_{i=1}^N \\sum_{j=1}^N \\sum_{k=1}^N 1 \\sim \\int_{x=1}^N \\int_{y=1}^N \\int_{z=1}^N dx dy dz \\sim \\frac{1}{6}N^3$\n"
   ]
  },
  {
   "cell_type": "markdown",
   "id": "f342683b",
   "metadata": {
    "slideshow": {
     "slide_type": "slide"
    }
   },
   "source": [
    "### Approximate mathematical models are often preferred over acurate models\n",
    "\n",
    "##### Exact mathematical model:\n",
    "\n",
    " $T_N = c_1A+c_2B+c_3C+c_4D+c_5E$\n",
    " \n",
    " $c_n$ = cost\\\n",
    " $A$ = arracy access frequency\\\n",
    " $B$ = integer add frequency\\\n",
    " $C$ = integer compare frequence\\\n",
    " $D$ = increment frequency\\\n",
    " $E$ = variable assignment frequency\n",
    " \n",
    " ##### Approximate running time model:\n",
    " \n",
    " $T(N) \\sim cN^3$"
   ]
  },
  {
   "cell_type": "markdown",
   "id": "ec7b3402",
   "metadata": {
    "slideshow": {
     "slide_type": "slide"
    }
   },
   "source": [
    "## 3. Order-of-Growth Classifications\n",
    "\n",
    "### Definition\n",
    "\n",
    "If $f(N) \\sim c g(N)$ for some constant $c > 0$, then the __order of growth__ of $f(N)$ is $g(N)$.\n",
    "\n",
    "To determine the order of growth, leading coefficients and lower-order terms can be ignored. The set of functions $\\{1, log N, N, N log N, N^2, N^3, 2^N\\}$ suffices to describe the order of growth of most common algorithms.\n",
    "![dia2](img/3orderofgrowth.png)\n",
    "<div class=\"author\"> source: Algorithms, 4th Edition, Robert Sedwick</div>"
   ]
  },
  {
   "cell_type": "markdown",
   "id": "e26d9a9b",
   "metadata": {
    "slideshow": {
     "slide_type": "slide"
    }
   },
   "source": [
    "### Common order-of-growth classifications\n",
    "\n",
    "![dia2](img/3classification.png)\n",
    "<div class=\"author\"> source: Algorithms, 4th Edition, Robert Sedwick</div>"
   ]
  },
  {
   "cell_type": "markdown",
   "id": "d5055c51",
   "metadata": {
    "slideshow": {
     "slide_type": "slide"
    }
   },
   "source": [
    "## 4. Theory of Algorithms\n",
    "\n",
    "### Types of Analyses\n",
    "\n",
    "- __1. Best Case:__ Lower bound on cost \n",
    "  - determined by \"easiest input\"\n",
    "  - provides a goal for all inputs\n",
    "  \n",
    "  \n",
    "- __2. Worst Case:__ Upper bound on cost\n",
    "  - determined by \"most difficult\" input\n",
    "  - provides guarantee for all inputs\n",
    "  \n",
    "  \n",
    "- __3. Average Case:__ Expected cost for random input\n",
    "  - need a model for \"random\" input\n",
    "  - provides a way to predict performance"
   ]
  },
  {
   "cell_type": "markdown",
   "id": "5463cb13",
   "metadata": {
    "slideshow": {
     "slide_type": "slide"
    }
   },
   "source": [
    "### Example 1: Array accesses for brute-force 3-SUM\n",
    "|Case|Cost|\n",
    "|---|---|\n",
    "|Best|$\\frac{1}{2}$$N^3$|\n",
    "|Average|$\\frac{1}{2}$$N^3$|\n",
    "|Worst|$\\frac{1}{2}$$N^3$|\n",
    "\n",
    "### Example 2: Compares for binary search\n",
    "|Case|Cost|\n",
    "|---|---|\n",
    "|Best|$1$|\n",
    "|Average|$\\lg$$N$|\n",
    "|Worst|$\\lg$$N$|"
   ]
  },
  {
   "cell_type": "markdown",
   "id": "802cfe53",
   "metadata": {
    "slideshow": {
     "slide_type": "slide"
    }
   },
   "source": [
    "### Goals\n",
    "- establish \"difficulty\" of a problem\n",
    "- develop \"optimal\" algorithm\n",
    "\n",
    "\n",
    "__Upper bound:__ Performance guarantee of algorithm for any input\n",
    "\n",
    "__Lower bound:__ Proof that no algorithm can do better\n",
    "\n",
    "__Optimal algorithm:__ Lower bound = upper bound (to within a constant factor)."
   ]
  },
  {
   "cell_type": "markdown",
   "id": "1e4a392c",
   "metadata": {
    "slideshow": {
     "slide_type": "slide"
    }
   },
   "source": [
    "### Commonly-used notations in the theory of algorithms\n",
    "\n",
    "![dia2](img/3notations.png)\n",
    "<div class=\"author\"> source: Algorithms, 4th Edition, Robert Sedwick</div>"
   ]
  },
  {
   "cell_type": "markdown",
   "id": "266c4fd5",
   "metadata": {
    "slideshow": {
     "slide_type": "slide"
    }
   },
   "source": [
    "### 1. Big Oh notation\n",
    "\n",
    "Big O notation is a mathematical notation that describes the limiting behavior of a function when the argument tends towards a particular value or infinity. In computer science, big O notation is used to classify algorithms according to how their run time or space requirements grow as the input size grows. The notation is basically used to describe the asymptotic upper bound. \n",
    "\n",
    "__Formal Definition:__ $f(n) = O(g(n))$ &nbsp;&nbsp;&nbsp;&nbsp; as $n\\rightarrow\\infty$  &nbsp;&nbsp;&nbsp;&nbsp; with $0 <= f(n) <= c \\cdot g(n)$ &nbsp;&nbsp;&nbsp;&nbsp; for all $n >= n_0$\n",
    "\n",
    "![dia1](img/3oh.webp)\n",
    "<div class=\"author\"> source: www.programiz.com</div>"
   ]
  },
  {
   "cell_type": "markdown",
   "id": "e1cfff64",
   "metadata": {
    "slideshow": {
     "slide_type": "slide"
    }
   },
   "source": [
    "### 2. Big Theta notation\n",
    "\n",
    "Theta notation encloses the function from above and below. Since it represents the upper and the lower bound of the running time of an algorithm, it is used for analyzing the average-case complexity of an algorithm.\n",
    "\n",
    "__Formal Definition:__ $Θ(g(n)) = f(n)$ &nbsp;&nbsp;&nbsp;&nbsp; with $c_1$, $c_2$ and $n_0$, such that $0 ≤ c_1g(n) ≤ f(n) ≤ c_2g(n)$ for all $n ≥ n_0$\n",
    "\n",
    "\n",
    "![dia1](img/3theta.webp)\n",
    "<div class=\"author\"> source: www.programiz.com</div>"
   ]
  },
  {
   "cell_type": "markdown",
   "id": "9d81ae16",
   "metadata": {
    "slideshow": {
     "slide_type": "slide"
    }
   },
   "source": [
    "### 3. Big Omega notation\n",
    "\n",
    "Omega notation represents the lower bound of the running time of an algorithm. Thus, it provides the best case complexity of an algorithm.\n",
    "\n",
    "__Formal Definition:__ $Ω(g(n)) = f(n)$  &nbsp;&nbsp;&nbsp;&nbsp; with $c$ and $n_0$ such that $0 ≤ c g(n) ≤ f(n)$ for all $n ≥ n_0$\n",
    "\n",
    "\n",
    "![dia1](img/3omega.webp)\n",
    "<div class=\"author\"> source: www.programiz.com</div>"
   ]
  },
  {
   "cell_type": "markdown",
   "id": "1fe71a3b",
   "metadata": {
    "slideshow": {
     "slide_type": "slide"
    }
   },
   "source": [
    "#### Exercise 1: Big Oh notation\n",
    "\n",
    "Assume that each of the expressions below gives the processing time $T(n)$ spent by an algorithm for solving a problem of size $n$. Select the dominant term(s) having the steepest increase in $n$ and specify the lowest Big-Oh complexity of each algorithm.\n",
    "![dia2](img/3bigoex.png)\n",
    "\n",
    "\n"
   ]
  },
  {
   "cell_type": "markdown",
   "id": "d4fe2439",
   "metadata": {
    "slideshow": {
     "slide_type": "slide"
    }
   },
   "source": [
    "### Solution\n",
    "\n",
    "![dia2](img/3bigoexsol.png)"
   ]
  },
  {
   "cell_type": "markdown",
   "id": "e0bb463a",
   "metadata": {
    "slideshow": {
     "slide_type": "slide"
    }
   },
   "source": [
    "#### Exercise 2: Big Oh notation\n",
    "\n",
    "The statements below show some features of \"Big-Oh\" notation for the functions $f=f(n)$ and $g=g(n)$. Determine whether each statement is TRUE or FALSE and correct the formula in the latter case.\n",
    "\n",
    "![dia2](img/3bigoex2.png)"
   ]
  },
  {
   "cell_type": "markdown",
   "id": "69b06d8a",
   "metadata": {
    "slideshow": {
     "slide_type": "slide"
    }
   },
   "source": [
    "### Solution\n",
    "\n",
    "![dia2](img/3bigoex2sol.png)"
   ]
  },
  {
   "cell_type": "markdown",
   "id": "e0b33a53",
   "metadata": {
    "slideshow": {
     "slide_type": "slide"
    }
   },
   "source": [
    "#### Exercise 3: Big Oh notation\n",
    "\n",
    "A quadratic algorithm with processing time $T(n) = cn^2$ spends T(N) seconds for processing $N$ data items. How much time will be spent for processing $n=5000$ data items, assuming that $N=100$ and $T(N)=1ms$?"
   ]
  },
  {
   "cell_type": "markdown",
   "id": "e6e1a5d6",
   "metadata": {
    "slideshow": {
     "slide_type": "slide"
    }
   },
   "source": [
    "### Solution\n",
    "\n",
    "The constant factor $c=\\frac{T(N)}{N^2}$, therefore $T(n)=T(N)\\frac{n^2}{N^2}=\\frac{n^2}{10000}ms$ and $T(5000)=2500ms$."
   ]
  },
  {
   "cell_type": "markdown",
   "id": "6c90770c",
   "metadata": {
    "slideshow": {
     "slide_type": "slide"
    }
   },
   "source": [
    "#### Exercise 4: Big Oh notation\n",
    "\n",
    "Algorithms A and B spend exactly $T_A(n) = 5 n\\log_{10} n$ and $T_B(n) = 25n$ microseconds, respectively, for a problem of size $n$. Which algorithm is better in the Big-Oh sense? For which problem sizes does it outperform the other?\n"
   ]
  },
  {
   "cell_type": "markdown",
   "id": "1707c005",
   "metadata": {
    "slideshow": {
     "slide_type": "slide"
    }
   },
   "source": [
    "### Solution\n",
    "\n",
    "In the Big-Oh sense, the algorithm B is better. It outperforms the algorithm A if $T_B(n) ≤ T_A(n)$, that is, if $25n ≤ 5n \\cdot log_{10}n$, or $log_{10}n ≥ 5$, or $n ≥ 100000$.\n"
   ]
  }
 ],
 "metadata": {
  "celltoolbar": "Slideshow",
  "kernelspec": {
   "display_name": "Python 3 (ipykernel)",
   "language": "python",
   "name": "python3"
  },
  "language_info": {
   "codemirror_mode": {
    "name": "ipython",
    "version": 3
   },
   "file_extension": ".py",
   "mimetype": "text/x-python",
   "name": "python",
   "nbconvert_exporter": "python",
   "pygments_lexer": "ipython3",
   "version": "3.10.4"
  },
  "varInspector": {
   "cols": {
    "lenName": 16,
    "lenType": 16,
    "lenVar": 40
   },
   "kernels_config": {
    "python": {
     "delete_cmd_postfix": "",
     "delete_cmd_prefix": "del ",
     "library": "var_list.py",
     "varRefreshCmd": "print(var_dic_list())"
    },
    "r": {
     "delete_cmd_postfix": ") ",
     "delete_cmd_prefix": "rm(",
     "library": "var_list.r",
     "varRefreshCmd": "cat(var_dic_list()) "
    }
   },
   "types_to_exclude": [
    "module",
    "function",
    "builtin_function_or_method",
    "instance",
    "_Feature"
   ],
   "window_display": false
  }
 },
 "nbformat": 4,
 "nbformat_minor": 5
}
