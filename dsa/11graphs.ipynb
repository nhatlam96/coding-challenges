{
 "cells": [
  {
   "cell_type": "code",
   "execution_count": 2,
   "id": "65e2cd3f",
   "metadata": {
    "hide_input": true,
    "slideshow": {
     "slide_type": "skip"
    }
   },
   "outputs": [
    {
     "data": {
      "text/html": [
       "<style>h1{text-align:center;}h1{text-transform:none;}.rendered_html h4{color:#17b6eb;font-size: 1.6em;}img[alt=dia1]{width:35%;}img[alt=book]{width:20%;font-size: 3em;}img[alt=dia2]{width:50%;}.author{font-size:8px;}</style>\n"
      ],
      "text/plain": [
       "<IPython.core.display.HTML object>"
      ]
     },
     "metadata": {},
     "output_type": "display_data"
    }
   ],
   "source": [
    "%%html\n",
    "<style>h1{text-align:center;}h1{text-transform:none;}.rendered_html h4{color:#17b6eb;font-size: 1.6em;}img[alt=dia1]{width:35%;}img[alt=book]{width:20%;font-size: 3em;}img[alt=dia2]{width:50%;}.author{font-size:8px;}</style>"
   ]
  },
  {
   "cell_type": "markdown",
   "id": "8c05074c",
   "metadata": {
    "slideshow": {
     "slide_type": "slide"
    }
   },
   "source": [
    "# Lecture 11: Graphs"
   ]
  },
  {
   "cell_type": "code",
   "execution_count": null,
   "id": "69502f2e",
   "metadata": {},
   "outputs": [],
   "source": []
  },
  {
   "cell_type": "markdown",
   "id": "f2e6f6d5",
   "metadata": {
    "slideshow": {
     "slide_type": "slide"
    }
   },
   "source": [
    "## 0. Rate me!\n",
    "\n",
    "![dia2](img/11evaluation.png)\n",
    "\n",
    "Link: https://lehrevaluation.hochschulevaluierungsverbund.de/evasys/online/\n",
    "\n",
    "Password: YDXSP \n",
    "\n",
    "open until June 17th\n"
   ]
  },
  {
   "cell_type": "markdown",
   "id": "b27b48c4",
   "metadata": {
    "slideshow": {
     "slide_type": "slide"
    }
   },
   "source": [
    "## 1. Introduction to Graphs\n",
    "\n",
    "\n",
    "### 1.1 It's NOT about the following \"Graphs\" \n",
    "\n",
    "![dia2](img/11batman.jpg)\n",
    "<div class=\"author\">src: J. Matthew Register</div>"
   ]
  },
  {
   "cell_type": "markdown",
   "id": "80fd8bd9",
   "metadata": {
    "slideshow": {
     "slide_type": "slide"
    }
   },
   "source": [
    "### It also not about this guy\n",
    "\n",
    "![dia1](img/11dracula.jpg)\n",
    "<div class=\"author\">src: klexikon.de</div>"
   ]
  },
  {
   "cell_type": "markdown",
   "id": "9d1d7f4f",
   "metadata": {
    "slideshow": {
     "slide_type": "slide"
    }
   },
   "source": [
    "### Today, it's all about this...\n",
    "\n",
    "![dia1](img/11graph.png)\n",
    "<div class=\"author\">src: medium.com</div>"
   ]
  },
  {
   "cell_type": "markdown",
   "id": "88e21df3",
   "metadata": {
    "slideshow": {
     "slide_type": "slide"
    }
   },
   "source": [
    "### 1.2 Definition\n",
    "<div class=\"author\">src: wikipedia.org</div>\n",
    "\n",
    "- A __graph__ is an abstract data type that is meant to implement the undirected graph and directed graph concepts from the field of graph theory within mathematics.\n",
    "\n",
    "- A __graph data structure__ consists of a finite __set of vertices__ (aka nodes/points), together with a set of unordered pairs of these vertices for an undirected graph or a set of ordered pairs for a directed graph. These pairs are known as __edges__ (aka links/lines).\n",
    "\n",
    "![book](img/11graph.svg)\n"
   ]
  },
  {
   "cell_type": "markdown",
   "id": "b7209000",
   "metadata": {
    "slideshow": {
     "slide_type": "slide"
    }
   },
   "source": [
    "### 1.3 Real world examples\n",
    "\n",
    "Drawing a subway map can be optimized using graph theory.\n",
    "\n",
    "![dia1](img/11subway.png)\n",
    "\n",
    "Social media networks model the connection between their users and their friends in a graph structure.\n",
    "\n",
    "![dia1](img/11social.webp)"
   ]
  },
  {
   "cell_type": "markdown",
   "id": "936f4602",
   "metadata": {
    "slideshow": {
     "slide_type": "slide"
    }
   },
   "source": [
    "Search engines use graph representations to store semantic relationships in *Knowledge Graphs*.\n",
    "![dia1](img/11knowledge.png)\n",
    "<div class=\"author\">src: wipro.com</div>\n",
    "\n",
    "Recommendation algorithms use graph theoretic principles.\n",
    "\n",
    "![dia1](img/11reco.png)"
   ]
  },
  {
   "cell_type": "markdown",
   "id": "ee13b3d4",
   "metadata": {
    "slideshow": {
     "slide_type": "slide"
    }
   },
   "source": [
    "Looking at the examples above, a __graph data structure__ is a collection of data nodes (let's call them __vertices__) which are connected to other data vertices.\n",
    "\n",
    "Every relationship is an __edge__ from one vertex to another.\n",
    "\n",
    "Hence, a __graph__ is a __data structure $(V, E)$__, which consists of:\n",
    "\n",
    "- a collection of *vertices* $V$\n",
    "\n",
    "- a collection of *edges* $E$, represented as ordered pairs of vertices $(u, v)$\n",
    "\n",
    "![dia1](img/11vertix2.png)\n",
    "<div class=\"author\">src: David Condrey, CC BY-SA 3.0, via wikimedia.org</div>"
   ]
  },
  {
   "cell_type": "markdown",
   "id": "56e98e67",
   "metadata": {
    "slideshow": {
     "slide_type": "slide"
    }
   },
   "source": [
    "<div class=\"author\">src: wikipedia.org</div>\n",
    "\n",
    "The two vertices forming an edge are said to be the endpoints of this edge, and the edge is said to be incident to the vertices. A vertex $w$ is said to be adjacent to another vertex $v$ if the graph contains an edge $(v,w)$. The *neighborhood* of a vertex $v$ is an *induced subgraph* of the graph, formed by all vertices adjacent to *v*. \n",
    "\n",
    "- The __degree of a vertex__, denoted $𝛿(v)$ in a graph is the number of edges incident to it.\n",
    "\n",
    "- An __isolated vertex__ is a vertex with degree zero (no endpoint of any edge)\n",
    "\n",
    "- A __leaf vertex__ is a vertex with degree one\n",
    "\n",
    "- A __simplicial vertex__ is one whose neighbors form a clique: every two neighbors are adjacent. \n",
    "\n",
    "- A __universal vertex__ is a vertex that is adjacent to every other vertex in the graph. "
   ]
  },
  {
   "cell_type": "markdown",
   "id": "f82e42a4",
   "metadata": {
    "slideshow": {
     "slide_type": "slide"
    }
   },
   "source": [
    "![book](img/11vertix.png)\n",
    "\n",
    "Let's try to describe this graph as a collection of vertices and edges:\n",
    "\n",
    "```\n",
    "V = {1, 2, 3, 4, 5, 6}\n",
    "E = {(1,2), (1,5), (2,3), (2,5), (3,4), (4,5), (4,6)}\n",
    "G = {V, E}\n",
    "```\n",
    "\n",
    "Notice, that the position of the vertices does not change semantics of the graph.\n"
   ]
  },
  {
   "cell_type": "markdown",
   "id": "c8b07b23",
   "metadata": {
    "slideshow": {
     "slide_type": "slide"
    }
   },
   "source": [
    "#### Exercise 1\n",
    "<div class=\"author\">macs.hw.ac.uk</div>\n",
    "\n",
    "\n",
    "In each of the following, two of the graphs are the same and the third is different. Find the odd man out in each case.\n",
    "\n",
    "![](img/11ex0.png)\n"
   ]
  },
  {
   "cell_type": "markdown",
   "id": "05444cd4",
   "metadata": {
    "slideshow": {
     "slide_type": "subslide"
    }
   },
   "source": [
    "Solution:\n",
    "\n",
    "- (a) the last one\n",
    "\n",
    "- (b) the middle one\n",
    "\n",
    "- (c) the last one"
   ]
  },
  {
   "cell_type": "markdown",
   "id": "66955ebf",
   "metadata": {
    "slideshow": {
     "slide_type": "slide"
    }
   },
   "source": [
    "### 1.4 Graph Terminology\n",
    "<div class=\"author\">programiz.com</div>\n",
    "\n",
    "- __Adjacency__: A vertex is said to be adjacent to another vertex if there is an edge connecting them. \n",
    "    \n",
    "- __Path__: A sequence of edges that allows you to go from vertex A to vertex B is called a path. \n",
    "    \n",
    "- __Directed Graph__: A graph in which an edge $(u,v)$ doesn't necessarily mean that there is an edge $(v, u)$ as well. The edges in such a graph are represented by arrows to show the direction of the edge. One can distinguish the __outdegree__ (number of outgoing edges), denoted $𝛿^+(v)$, from the __indegree__ (number of incoming edges), denoted $𝛿^-(v)$. A __source vertex__ is a vertex with indegree zero, while a __sink vertex__ is a vertex with outdegree zero.\n",
    "\n",
    "![book](img/11directed.svg)\n",
    "\n",
    "\n"
   ]
  },
  {
   "cell_type": "markdown",
   "id": "b2130ce2",
   "metadata": {
    "slideshow": {
     "slide_type": "slide"
    }
   },
   "source": [
    "### 1.5 Graph Representations\n",
    "\n",
    "1. Edge list\n",
    "\n",
    "2. Adjacency matrix\n",
    "\n",
    "3. Adjacency list\n",
    "\n",
    "4. Incidence Matrix"
   ]
  },
  {
   "cell_type": "markdown",
   "id": "d0147c85",
   "metadata": {
    "slideshow": {
     "slide_type": "slide"
    }
   },
   "source": [
    "### 1.5.1 Edge list\n",
    "\n",
    "An edge list is a data structure used to represent a graph as an unordered list of its edges. \n",
    "\n",
    "An edge list may be considered a variation on an adjacency list which is represented as a length $|V|$ array of lists. Since each edge contains just two or three numbers, the total space for an edge list is $Θ(|E|)$.\n",
    "\n",
    "__Advantages__:\n",
    " \n",
    "- easy to loop/iterate over all edges\n",
    "\n",
    "__Disadvantages__:\n",
    "\n",
    "- hard to quickly tell if an edge exists between two vertices\n",
    "- hard to find the degree of a vertex"
   ]
  },
  {
   "cell_type": "markdown",
   "id": "8c48c75f",
   "metadata": {
    "slideshow": {
     "slide_type": "slide"
    }
   },
   "source": [
    "##### Python implementation\n",
    "\n",
    "![dia2](img/11edgelist.png)\n",
    "\n",
    "```\n",
    "[e_1, e_2, ... , e_n]\n",
    "e_n = [v_x, v_y]\n",
    "```"
   ]
  },
  {
   "cell_type": "code",
   "execution_count": 7,
   "id": "57621008",
   "metadata": {},
   "outputs": [],
   "source": [
    "edge_list = [[1,2], [1,4], [1,7], [2,3], [2,5], [3,6], [4,7], [5,6], [6,7]]"
   ]
  },
  {
   "cell_type": "markdown",
   "id": "ae9a2d11",
   "metadata": {
    "slideshow": {
     "slide_type": "slide"
    }
   },
   "source": [
    "#### Exercise 2\n",
    "If the graph is dense and the number of edges is large, an adjacency matrix should be the first choice. Even if the graph and the adjacency matrix is sparse, we can represent it using data structures for sparse matrices\n",
    "Implement an edge list of the graph shown below.\n",
    "\n",
    "![dia1](img/11ex1.png)\n"
   ]
  },
  {
   "cell_type": "code",
   "execution_count": null,
   "id": "f8ab38e2",
   "metadata": {},
   "outputs": [],
   "source": [
    "edge_list = "
   ]
  },
  {
   "cell_type": "code",
   "execution_count": 10,
   "id": "ea11c97f",
   "metadata": {
    "slideshow": {
     "slide_type": "subslide"
    }
   },
   "outputs": [],
   "source": [
    "# Solution\n",
    "edge_list = [[1,2], [1,5], [1,6], [2,3], [2,7], [3,4], [4,5], [4,7], [5,6], [5,7]]"
   ]
  },
  {
   "cell_type": "markdown",
   "id": "2171574e",
   "metadata": {
    "slideshow": {
     "slide_type": "slide"
    }
   },
   "source": [
    "### 1.5.2 Adjacency Matrix\n",
    "\n",
    "An adjacency matrix is a 2D array of $N x N$ vertices. It is a way of representing a graph as a matrix of booleans. A finite graph can be represented in the form of a square matrix on a computer, where the boolean value of the matrix indicates if there is a direct path between two vertices. Each row and column represent a vertex.\n",
    "\n",
    "If the value of any elemenlastt $a[i][j]$ is 1, it represents that there is an edge connecting vertex $i$ and vertex $j$.\n",
    "\n",
    "- the non-diagonal entry $a[i][j]$ is the number of edges joining vertex $i$ and vertex $j$\n",
    "- the diagonal entry $a[i][i]$ corresponds to the number of loops at vertex $i$ (often disallowed)\n",
    "- in an undirected graph $a[i][j]=a[j][i]$ for all $i, j$ (diagonally symmetric)\n",
    "\n",
    "![dia2](img/11amatrix.png)\n",
    "<div class=\"author\">src: Tone Brathen</div>\n"
   ]
  },
  {
   "cell_type": "markdown",
   "id": "77197015",
   "metadata": {
    "slideshow": {
     "slide_type": "slide"
    }
   },
   "source": [
    "__Advantages__:\n",
    " \n",
    "- fast to tell whether an edge exists between any two vertices $i$ and $j$\n",
    "- other basic operations like adding an edge or removing an edge are also extremely time efficient, constant time operations\n",
    "- if the graph is dense and the number of edges is large, an adjacency matrix should be the first choice\n",
    "- expensive matrix operations can be calculated in parallel (i.e. using GPUs)\n",
    "- efficient analysis of relationship between vertices by performing operations on the adjacent matrix\n",
    "\n",
    "__Disadvantages__:\n",
    "\n",
    "- consumes a lot of memory on sparse graphs with only a few edges, since it is required to reserve space for every possible link between all vertices. Hence, adajacency lists are often a better choice for many tasks\n"
   ]
  },
  {
   "cell_type": "markdown",
   "id": "360a7e67",
   "metadata": {
    "slideshow": {
     "slide_type": "slide"
    }
   },
   "source": [
    "##### Python implementation\n",
    "\n",
    "![dia2](img/11amatrix.png)\n"
   ]
  },
  {
   "cell_type": "code",
   "execution_count": 35,
   "id": "5b3896f6",
   "metadata": {},
   "outputs": [],
   "source": [
    "adj_matrix = [\n",
    "[0, 1, 0, 1, 0, 0, 1],\n",
    "[1, 0, 1, 0, 1, 0, 0],\n",
    "[0, 1, 0, 0, 0, 1, 0],\n",
    "[1, 0, 0, 0, 0, 0, 1],\n",
    "[0, 1, 0, 0, 0, 1, 1],\n",
    "[0, 0, 1, 0, 1, 0, 1],\n",
    "[1, 0, 0, 1, 1, 1, 0], \n",
    "]"
   ]
  },
  {
   "cell_type": "markdown",
   "id": "121d70be",
   "metadata": {
    "slideshow": {
     "slide_type": "slide"
    }
   },
   "source": [
    "#### Exercise 3\n",
    "<div class=\"author\">macs.hw.ac.uk</div>\n",
    "\n",
    "For each of the graphs below write down the adjacency matrix.\n",
    "\n",
    "![](img/11ex3.png)\n"
   ]
  },
  {
   "cell_type": "markdown",
   "id": "7ebd50f1",
   "metadata": {
    "slideshow": {
     "slide_type": "subslide"
    }
   },
   "source": [
    "__Solution:__\n",
    "\n",
    "![](img/11ex3sol.png)\n"
   ]
  },
  {
   "cell_type": "markdown",
   "id": "34ee680c",
   "metadata": {
    "slideshow": {
     "slide_type": "slide"
    }
   },
   "source": [
    "#### Exercise 4\n",
    "<div class=\"author\">macs.hw.ac.uk</div>\n",
    "\n",
    "Draw the graphs having the following adjacency matrices\n",
    "![dia2](img/11ex4.png)\n"
   ]
  },
  {
   "cell_type": "markdown",
   "id": "1e9cb2d2",
   "metadata": {
    "slideshow": {
     "slide_type": "subslide"
    }
   },
   "source": [
    "__Solution:__\n",
    "\n",
    "![](img/11ex4sol.png)\n"
   ]
  },
  {
   "cell_type": "markdown",
   "id": "b6e2689e",
   "metadata": {
    "slideshow": {
     "slide_type": "slide"
    }
   },
   "source": [
    "### 1.5.3 Adjacency List\n",
    "\n",
    "An adjacency list represents a graph as an array of linked lists.\n",
    "\n",
    "The index of the array represents a vertex and each element in its linked list represents the other vertices that form an edge with the vertex.\n",
    "\n",
    "- in unweighted graphs, the lists can simply be references to other vertices and thus use little memory\n",
    "- in undirected graphs, edge $(i,j)$ is stored in both $i$ and $j$ lists\n",
    "\n",
    "![](img/11adjlist.png)\n",
    "<div class=\"author\">src: Tone Brathen</div>\n"
   ]
  },
  {
   "cell_type": "markdown",
   "id": "77ee50eb",
   "metadata": {
    "slideshow": {
     "slide_type": "slide"
    }
   },
   "source": [
    "__Advantages__:\n",
    " \n",
    "- an adjacency list is efficient in terms of storage because we only need to store the values for the edges\n",
    "- it is efficient to find all vertices adjacent to a vertex\n",
    "- new vertices can be added to the graph easily, and they can be connected with existing nodes simply by adding elements to the appropriate arrays\n",
    "\n",
    "__Disadvantages__:\n",
    "\n",
    "- determining whether an edge exists between two vertices requires $O(n)$ time, where $N$ is the average number of edges per node\n"
   ]
  },
  {
   "cell_type": "markdown",
   "id": "c1f77fdc",
   "metadata": {
    "slideshow": {
     "slide_type": "slide"
    }
   },
   "source": [
    "##### Python implementation\n",
    "\n",
    "![dia2](img/11adjlist.png)\n"
   ]
  },
  {
   "cell_type": "code",
   "execution_count": 38,
   "id": "a454a341",
   "metadata": {},
   "outputs": [],
   "source": [
    "adj_list = [[2, 4, 7], [1, 3, 5], [2, 6], [1, 7], [2, 6, 7], [3, 5, 7], [1, 4, 5, 6]]\n",
    "\n",
    "#Alternative: Sinmple dictionary of vertices and its edges\n",
    "\n",
    "adjlist_dict = {'1': set(['2', '4', '7']),\n",
    "                '2': set(['1', '3', '5']),\n",
    "                '3': set(['2', '6']),\n",
    "                '4': set(['1', '7']),\n",
    "                '5': set(['2', '6', '7']),\n",
    "                '6': set(['3', '5', '7']),\n",
    "                '7': set(['1', '4', '6', '6'])}"
   ]
  },
  {
   "cell_type": "code",
   "execution_count": 40,
   "id": "d16ddf9f",
   "metadata": {
    "slideshow": {
     "slide_type": "slide"
    }
   },
   "outputs": [
    {
     "name": "stdout",
     "output_type": "stream",
     "text": [
      "Vertex 0: -> 3 -> 2 -> 1 \n",
      "\n",
      "Vertex 1: -> 2 -> 0 \n",
      "\n",
      "Vertex 2: -> 1 -> 0 \n",
      "\n",
      "Vertex 3: -> 0 \n",
      "\n",
      "Vertex 4: \n",
      "\n"
     ]
    }
   ],
   "source": [
    "# Adjascency List representation in Python\n",
    "# Source: programiz.com\n",
    "\n",
    "class AdjNode:\n",
    "    def __init__(self, value):\n",
    "        self.vertex = value\n",
    "        self.next = None\n",
    "\n",
    "\n",
    "class Graph:\n",
    "    def __init__(self, num):\n",
    "        self.V = num\n",
    "        self.graph = [None] * self.V\n",
    "\n",
    "    # Add edges\n",
    "    def add_edge(self, s, d):\n",
    "        node = AdjNode(d)\n",
    "        node.next = self.graph[s]\n",
    "        self.graph[s] = node\n",
    "        node = AdjNode(s)\n",
    "        node.next = self.graph[d]\n",
    "        self.graph[d] = node\n",
    "\n",
    "    # Print the graph\n",
    "    def print_agraph(self):\n",
    "        for i in range(self.V):\n",
    "            print(\"Vertex \" + str(i) + \":\", end=\"\")\n",
    "            temp = self.graph[i]\n",
    "            while temp:\n",
    "                print(\" -> {}\".format(temp.vertex), end=\"\")\n",
    "                temp = temp.next\n",
    "            print(\" \\n\")\n",
    "\n",
    "\n",
    "if __name__ == \"__main__\":\n",
    "    V = 5\n",
    "\n",
    "    # Create graph and edges\n",
    "    graph = Graph(V)\n",
    "    graph.add_edge(0, 1)\n",
    "    graph.add_edge(0, 2)\n",
    "    graph.add_edge(0, 3)\n",
    "    graph.add_edge(1, 2)\n",
    "\n",
    "    graph.print_agraph()"
   ]
  },
  {
   "cell_type": "markdown",
   "id": "4c7e2a08",
   "metadata": {
    "slideshow": {
     "slide_type": "slide"
    }
   },
   "source": [
    "#### Exercise 5\n",
    "\n",
    "Write down the adjacency list specifying the graph below.\n",
    "\n",
    "![dia2](img/11ex5.png)\n"
   ]
  },
  {
   "cell_type": "markdown",
   "id": "cd95562e",
   "metadata": {
    "slideshow": {
     "slide_type": "subslide"
    }
   },
   "source": [
    "__Solution:__\n",
    "\n",
    "![](img/11ex5sol.png)\n"
   ]
  },
  {
   "cell_type": "markdown",
   "id": "74292614",
   "metadata": {
    "slideshow": {
     "slide_type": "slide"
    }
   },
   "source": [
    "### 1.5.4 Incidence Matrix\n",
    "\n",
    "An *Incidence Matrix* is a two-dimensional matrix, in which the rows represent the vertices and columns represent the edges. The entries indicate the incidence relation between the vertex at a row and edge at a column.\n",
    "\n",
    "![dia2](img/11incidence.png)\n",
    "<div class=\"author\">src: Laura Leal-Taixe</div>\n"
   ]
  },
  {
   "cell_type": "markdown",
   "id": "58c0dcb2",
   "metadata": {
    "slideshow": {
     "slide_type": "slide"
    }
   },
   "source": [
    "## 1.6 Weighted/directed Graphs\n",
    "\n",
    "A __weighted graph__ or a network is a graph in which a number (the weight) is assigned to each edge. Such weights might represent for example costs, lengths or capacities, depending on the problem at hand. Such graphs arise in many contexts, for example in shortest path problems such as the traveling salesman problem. \n",
    "\n",
    "A __directed graph__ or digraph is a graph in which edges have orientations. \n",
    "\n",
    "![dia1](img/11weight.png)\n"
   ]
  },
  {
   "cell_type": "markdown",
   "id": "27bc56c1",
   "metadata": {
    "slideshow": {
     "slide_type": "slide"
    }
   },
   "source": [
    "##### 1.6.1 Representation of weighted/directed graphs in Adjacancy Lists and Adjacancy Matrices\n",
    "\n",
    "1. *weighted*\n",
    "    - __Adjacancy List__: store weight in each edge node\n",
    "    - __Adjacancy Matrix__: store weight in each matrix box\n",
    "2. *directed*\n",
    "    - __Adjacancy List__: edges appear only in start vertex's list\n",
    "    - __Adjacancy Matrix__: no longer diagonally symmetric\n",
    "    \n",
    "![dia2](img/11wd.png)\n"
   ]
  },
  {
   "cell_type": "markdown",
   "id": "22d3aac1",
   "metadata": {
    "slideshow": {
     "slide_type": "slide"
    }
   },
   "source": [
    "## 1.7 Runtime Comparison\n",
    "<div class=\"author\">src: wikipedia.org</div>\n",
    "\n",
    "||Adjacency List|Adjacency Matrix|Incidence Matrix|\n",
    "|:---|:---|:---|:---|\n",
    "|Store Graph|$O(|V|+|E|)$|$O(|V|^2)$|$O(|V|\\cdot|E|)$|\n",
    "|Add vertex|$O(1)$|$O(|V|^2)$|$O(|V|\\cdot|E|)$|\n",
    "|Add edge|$O(1)$|$O(1)$|$O(|V|\\cdot|E|)$|\n",
    "|Remove vertex|$O(|V|^2)$|$O(|V|^2)$|$O(|V|\\cdot|E|)$|\n",
    "|Remove edge|$O(|V|)$|$O(1)$|$O(|E|)$|\n",
    "|Remarks|slow to remove vertices and edges because finding them is inefficient|slow to add or remove vertices because matrix must be copied/resized|slow to add or remove vertices and edges because matrix must be resized/copied|"
   ]
  },
  {
   "cell_type": "markdown",
   "id": "d69d2d0f",
   "metadata": {
    "slideshow": {
     "slide_type": "slide"
    }
   },
   "source": [
    "## 1.8 Types of Graphs\n",
    "\n",
    "##### Types\n",
    "![](img/11types.png)\n",
    "<div class=\"author\">src: gousios.gr</div>\n",
    "\n"
   ]
  },
  {
   "cell_type": "markdown",
   "id": "cabaf96a",
   "metadata": {
    "slideshow": {
     "slide_type": "slide"
    }
   },
   "source": [
    "##### Connected Graph\n",
    "<div class=\"author\">src: programmiz.com</div>\n",
    "\n",
    "\n",
    "A connected graph is a graph in which there is always a path from a vertex to any other vertex.\n",
    "\n",
    "![book](img/11connected.webp)\n"
   ]
  },
  {
   "cell_type": "markdown",
   "id": "1287daa3",
   "metadata": {
    "slideshow": {
     "slide_type": "slide"
    }
   },
   "source": [
    "##### Spanning Trees\n",
    "\n",
    "Sometimes, when working with graphs, it is only necessary to connect all nodes, but it does not matter how they are connected. For example, a network with redundant connections.\n",
    "\n",
    "For routing decisions, we want to reduce a graph to a tree. The tree tells us exactly how data will be send.\n",
    "\n",
    "A spanning tree is a sub-graph of an undirected connected graph, which includes all the vertices of the graph with a minimum possible number of edges. If a vertex is missed, then it is not a spanning tree.\n",
    "\n",
    "\n",
    "![dia2](img/11sp2.webp)\n",
    "\n",
    "The maximum number of spanning trees is equal to:\n",
    "$$n^{n-2}$$"
   ]
  },
  {
   "cell_type": "markdown",
   "id": "5fcf7ded",
   "metadata": {
    "slideshow": {
     "slide_type": "slide"
    }
   },
   "source": [
    "#### Exercise 6\n",
    "\n",
    "What is the maximum number of possible spanning trees for a graph with 4 vertices? Draw all (some) of the possible spanning trees."
   ]
  },
  {
   "cell_type": "markdown",
   "id": "7b9b4ca6",
   "metadata": {
    "slideshow": {
     "slide_type": "subslide"
    }
   },
   "source": [
    "__Solution:__\n",
    "\n",
    "![dia2](img/11ex6sol.jpg)\n"
   ]
  },
  {
   "cell_type": "markdown",
   "id": "21a7b928",
   "metadata": {
    "slideshow": {
     "slide_type": "slide"
    }
   },
   "source": [
    "##### Minimum Spanning Tree (MST)\n",
    "\n",
    "A __minimum spanning tree (MST)__ or __minimum weight spanning tree__ is a subset of the edges of a connected, edge-weighted undirected graph that connects all the vertices together, without any cycles and with the minimum possible total edge weight.\n",
    "\n",
    "![dia2](img/11mst.webp)\n",
    "<div class=\"author\">src: i1.wp.com</div>"
   ]
  },
  {
   "cell_type": "code",
   "execution_count": null,
   "id": "f7cd3b64",
   "metadata": {},
   "outputs": [],
   "source": []
  },
  {
   "cell_type": "markdown",
   "id": "939b34f6",
   "metadata": {
    "slideshow": {
     "slide_type": "slide"
    }
   },
   "source": [
    "__Applications:__\n",
    "\n",
    "- Approximating travelling salesman problem\n",
    "- Approximating multi-terminal minimum cut problem\n",
    "- Approximating minimum-cost weighted perfect Cluster Analysis\n",
    "- Handwriting recognition\n",
    "- Image segmentation\n",
    "- Circuit design\n",
    "\n",
    "__ Algorithms for finding the MST:__\n",
    "\n",
    "- Kruskal's Algorithm\n",
    "- Prim's Algorithm"
   ]
  },
  {
   "cell_type": "markdown",
   "id": "7a51a278",
   "metadata": {
    "slideshow": {
     "slide_type": "slide"
    }
   },
   "source": [
    "### 1.9. Kruskal's Algorithm\n",
    "\n",
    "Kruskal's algorithm finds a minimum spanning forest of an undirected edge-weighted graph. If the graph is connected, it finds a minimum spanning tree. It is a *greedy algorithm* in graph theory as in each step it adds the next lowest-weight edge that will not form a cycle to the minimum spanning forest.\n",
    "\n",
    "1. The edges are sorted in ascending order of their weights\n",
    "\n",
    "2. the edge having the minimum weight is selected and added to the MST. If an edge creates a cycle, it is rejected\n",
    "    \n",
    "3. The above steps are repeated untill all the vertices are covered"
   ]
  },
  {
   "cell_type": "markdown",
   "id": "e40f3e57",
   "metadata": {
    "slideshow": {
     "slide_type": "slide"
    }
   },
   "source": [
    "![dia2](img/11kruskal.png)\n",
    "<div class=\"author\">src: O'Reilly Media</div>"
   ]
  },
  {
   "cell_type": "code",
   "execution_count": 45,
   "id": "3e0cd771",
   "metadata": {
    "slideshow": {
     "slide_type": "slide"
    }
   },
   "outputs": [
    {
     "name": "stdout",
     "output_type": "stream",
     "text": [
      "1 - 2: 2\n",
      "2 - 5: 2\n",
      "2 - 3: 3\n",
      "3 - 4: 3\n",
      "0 - 1: 4\n"
     ]
    }
   ],
   "source": [
    "# Kruskal's algorithm in Python\n",
    "# Source: programiz.com\n",
    "\n",
    "class Graph:\n",
    "    def __init__(self, vertices):\n",
    "        self.V = vertices\n",
    "        self.graph = []\n",
    "\n",
    "    def add_edge(self, u, v, w):\n",
    "        self.graph.append([u, v, w])\n",
    "\n",
    "    # Search function\n",
    "\n",
    "    def find(self, parent, i):\n",
    "        if parent[i] == i:\n",
    "            return i\n",
    "        return self.find(parent, parent[i])\n",
    "\n",
    "    def apply_union(self, parent, rank, x, y):\n",
    "        xroot = self.find(parent, x)\n",
    "        yroot = self.find(parent, y)\n",
    "        if rank[xroot] < rank[yroot]:\n",
    "            parent[xroot] = yroot\n",
    "        elif rank[xroot] > rank[yroot]:\n",
    "            parent[yroot] = xroot\n",
    "        else:\n",
    "            parent[yroot] = xroot\n",
    "            rank[xroot] += 1\n",
    "\n",
    "    #  Applying Kruskal algorithm\n",
    "    def kruskal_algo(self):\n",
    "        result = []\n",
    "        i, e = 0, 0\n",
    "        self.graph = sorted(self.graph, key=lambda item: item[2])\n",
    "        parent = []\n",
    "        rank = []\n",
    "        for node in range(self.V):\n",
    "            parent.append(node)\n",
    "            rank.append(0)\n",
    "        while e < self.V - 1:\n",
    "            u, v, w = self.graph[i]\n",
    "            i = i + 1\n",
    "            x = self.find(parent, u)\n",
    "            y = self.find(parent, v)\n",
    "            if x != y:\n",
    "                e = e + 1\n",
    "                result.append([u, v, w])\n",
    "                self.apply_union(parent, rank, x, y)\n",
    "        for u, v, weight in result:\n",
    "            print(\"%d - %d: %d\" % (u, v, weight))\n",
    "\n",
    "\n",
    "g = Graph(6)\n",
    "g.add_edge(0, 1, 4)\n",
    "g.add_edge(0, 2, 4)\n",
    "g.add_edge(1, 2, 2)\n",
    "g.add_edge(1, 0, 4)\n",
    "g.add_edge(2, 0, 4)\n",
    "g.add_edge(2, 1, 2)\n",
    "g.add_edge(2, 3, 3)\n",
    "g.add_edge(2, 5, 2)\n",
    "g.add_edge(2, 4, 4)\n",
    "g.add_edge(3, 2, 3)\n",
    "g.add_edge(3, 4, 3)\n",
    "g.add_edge(4, 2, 4)\n",
    "g.add_edge(4, 3, 3)\n",
    "g.add_edge(5, 2, 2)\n",
    "g.add_edge(5, 4, 3)\n",
    "g.kruskal_algo()"
   ]
  },
  {
   "cell_type": "markdown",
   "id": "7f8462c2",
   "metadata": {
    "slideshow": {
     "slide_type": "slide"
    }
   },
   "source": [
    "#### Exercise 7\n",
    "\n",
    "Consider the graph below. Provide the order in which Kruskal's algorithm adds the edges to the MST. Compute the MST using Kruskal's algorithm.\n",
    "\n",
    "![dia2](img/11ex7.png)\n"
   ]
  },
  {
   "cell_type": "markdown",
   "id": "23659269",
   "metadata": {
    "slideshow": {
     "slide_type": "subslide"
    }
   },
   "source": [
    "__Solution:__\n",
    "\n",
    "{c,d},{d,f},{b,e},{e,f},{a,c}\n",
    "\n",
    "Cost: 18"
   ]
  },
  {
   "cell_type": "markdown",
   "id": "6e96d132",
   "metadata": {
    "slideshow": {
     "slide_type": "slide"
    }
   },
   "source": [
    "#### Exercise 8\n",
    "\n",
    "Consider a set of 5 towns. The cost of construction of a road between town $i$ and $j$ is $a_{ij}$. Find the minimum cost of connecting the towns with each other.\n",
    "\n",
    "$$\\begin{bmatrix}\n",
    "0&3&5&11&9\\\\\n",
    "3&0&3&9&8\\\\\n",
    "5&3&0&\\infty&10\\\\\n",
    "11&9&\\infty&0&7\\\\\n",
    "9&8&10&7&0\n",
    "\\end{bmatrix}$$"
   ]
  },
  {
   "cell_type": "markdown",
   "id": "7f428dc8",
   "metadata": {
    "slideshow": {
     "slide_type": "fragment"
    }
   },
   "source": [
    "__Solution:__\n",
    "\n",
    "Using Krukal's algorithm solving the MST problem of the tree $\\{(1,2),(2,3),(2,5),(4,5)\\}$, the total cost is 21."
   ]
  }
 ],
 "metadata": {
  "celltoolbar": "Slideshow",
  "kernelspec": {
   "display_name": "Python 3 (ipykernel)",
   "language": "python",
   "name": "python3"
  },
  "language_info": {
   "codemirror_mode": {
    "name": "ipython",
    "version": 3
   },
   "file_extension": ".py",
   "mimetype": "text/x-python",
   "name": "python",
   "nbconvert_exporter": "python",
   "pygments_lexer": "ipython3",
   "version": "3.10.4"
  },
  "varInspector": {
   "cols": {
    "lenName": 16,
    "lenType": 16,
    "lenVar": 40
   },
   "kernels_config": {
    "python": {
     "delete_cmd_postfix": "",
     "delete_cmd_prefix": "del ",
     "library": "var_list.py",
     "varRefreshCmd": "print(var_dic_list())"
    },
    "r": {
     "delete_cmd_postfix": ") ",
     "delete_cmd_prefix": "rm(",
     "library": "var_list.r",
     "varRefreshCmd": "cat(var_dic_list()) "
    }
   },
   "types_to_exclude": [
    "module",
    "function",
    "builtin_function_or_method",
    "instance",
    "_Feature"
   ],
   "window_display": false
  }
 },
 "nbformat": 4,
 "nbformat_minor": 5
}
