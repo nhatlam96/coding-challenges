{
 "cells": [
  {
   "cell_type": "code",
   "execution_count": 1,
   "id": "65e2cd3f",
   "metadata": {
    "hide_input": true,
    "slideshow": {
     "slide_type": "skip"
    }
   },
   "outputs": [
    {
     "data": {
      "text/html": [
       "<style>h1{text-align:center;}h1{text-transform:none;}.rendered_html h4{color:#17b6eb;font-size: 1.6em;}img[alt=dia1]{width:35%;}img[alt=book]{width:20%;font-size: 3em;}img[alt=dia2]{width:50%;}.author{font-size:8px;}</style>\n"
      ],
      "text/plain": [
       "<IPython.core.display.HTML object>"
      ]
     },
     "metadata": {},
     "output_type": "display_data"
    }
   ],
   "source": [
    "%%html\n",
    "<style>h1{text-align:center;}h1{text-transform:none;}.rendered_html h4{color:#17b6eb;font-size: 1.6em;}img[alt=dia1]{width:35%;}img[alt=book]{width:20%;font-size: 3em;}img[alt=dia2]{width:50%;}.author{font-size:8px;}</style>"
   ]
  },
  {
   "cell_type": "markdown",
   "id": "b7ab25c9",
   "metadata": {
    "slideshow": {
     "slide_type": "slide"
    }
   },
   "source": [
    "# Lecture 5: Divide and Conquer Examples"
   ]
  },
  {
   "cell_type": "markdown",
   "id": "b27b48c4",
   "metadata": {
    "slideshow": {
     "slide_type": "slide"
    }
   },
   "source": [
    "## 0. Review last week's lecture\n",
    "\n",
    "##### What was it again?\n",
    "\n",
    "- divide problem into several subproblems\n",
    "- solve each subproblem recursively\n",
    "- combine solutions to subproblems into overall solution\n",
    "\n",
    "##### Improvement of efficiency\n",
    "\n",
    "- Brute force: $n^2$\n",
    "- Divide-and-conquer: $n \\log n$"
   ]
  },
  {
   "cell_type": "markdown",
   "id": "99d5cf11",
   "metadata": {
    "slideshow": {
     "slide_type": "slide"
    }
   },
   "source": [
    "## 1. Merge Sort\n",
    "\n",
    "__Merge sort__ is an efficient, general-purpose, and comparison-based __sorting algorithm__. \n",
    "![dia2](img/5merge.gif)\n",
    "<div class=\"author\">src: Swfung8, wikimedia, CC BY-SA 3.0</div>\n",
    "\n",
    "- __Merge sort__ is a __divide and conquer algorithm__\n",
    "- __Merge sort__ was invented by John von Neumann in 1945"
   ]
  },
  {
   "cell_type": "markdown",
   "id": "344eb7fd",
   "metadata": {
    "slideshow": {
     "slide_type": "slide"
    }
   },
   "source": [
    "### Concept\n",
    "![dia1](img/5mergetree2.png)\n",
    "\n",
    "1. __Divide__ an unsorted list into $n$ sublists, each containing __one__ element.\n",
    "2. Repeatedly __merge__ sublists to produce new sorted sublists until there is only one sorted list remaining."
   ]
  },
  {
   "cell_type": "markdown",
   "id": "cf7a4429",
   "metadata": {
    "slideshow": {
     "slide_type": "slide"
    }
   },
   "source": [
    "### How to merge two sorted arrays: merge function\n",
    "\n",
    "![dia2](img/5mergesortedlists.gif)\n",
    "<div class=\"author\">src: globalsoftwaresupport.com</div>\n",
    "\n",
    "Given are two sorted arrays $A1$ and $A2$ of sizes $m$ and $n$. One (of many) option(s) to merge both arrays is to:\n",
    "\n",
    "- create an auxiliary array $A3$ of size $m+n$\n",
    "- simultaneously traverse $A1$ and $A2$\n",
    "    - pick smaller of current elements in $A1$ and $A2$\n",
    "    - copy this smaller element to the next position in $A3$\n",
    "    - move ahead in $A3$ and the array whose element is picked\n",
    "- if remaining elements are left in $A1$ or $A2$, copy them to $A3$"
   ]
  },
  {
   "cell_type": "markdown",
   "id": "557a9ecc",
   "metadata": {
    "slideshow": {
     "slide_type": "slide"
    }
   },
   "source": [
    "#### Exercise 1: Implement the \"merge function\" "
   ]
  },
  {
   "cell_type": "code",
   "execution_count": 2,
   "id": "ab44c402",
   "metadata": {
    "slideshow": {
     "slide_type": "fragment"
    }
   },
   "outputs": [
    {
     "data": {
      "text/plain": [
       "[1, 2, 3, 5, 6, 7, 8, 10, 11, 12]"
      ]
     },
     "execution_count": 2,
     "metadata": {},
     "output_type": "execute_result"
    }
   ],
   "source": [
    "def merge(arr1, arr2):\n",
    "    arr3 = [None]*(len(arr1)+len(arr2))\n",
    "    i, j, k = 0, 0, 0\n",
    "    \n",
    "    while i < len(arr1) and j < len(arr2):\n",
    "        if arr1[i] < arr2[j]:\n",
    "            arr3[k] = arr1[i]\n",
    "            i += 1\n",
    "        else:\n",
    "            arr3[k] = arr2[j]\n",
    "            j += 1\n",
    "        k += 1\n",
    "            \n",
    "    # when we run out of elements in either arr1 or arr2,\n",
    "    # pick up the remaining elements and put in arr3\n",
    "    while i < len(arr1):\n",
    "        arr3[k] = arr1[i];\n",
    "        k += 1\n",
    "        i += 1\n",
    "        \n",
    "    while j < len(arr2):\n",
    "        arr3[k] = arr2[j];\n",
    "        k += 1\n",
    "        j += 1\n",
    "    \n",
    "    return arr3\n",
    "\n",
    "\n",
    "A1 = [3, 5, 6, 10]\n",
    "A2 = [1, 2, 7, 8, 11, 12]\n",
    "merge(A1, A2)"
   ]
  },
  {
   "cell_type": "markdown",
   "id": "4e0c607e",
   "metadata": {
    "slideshow": {
     "slide_type": "slide"
    }
   },
   "source": [
    "### Complexity Analysis of the merge function\n",
    "\n",
    "Time Complexity: $$O(n+m)$$\n",
    "\n",
    "Space Complexity: $$O(n+m)$$"
   ]
  },
  {
   "cell_type": "markdown",
   "id": "afbab6e9",
   "metadata": {
    "slideshow": {
     "slide_type": "slide"
    }
   },
   "source": [
    "### Creating the \"mergeSort\"-Algorithm by adding recursion"
   ]
  },
  {
   "cell_type": "markdown",
   "id": "a64278c5",
   "metadata": {},
   "source": [
    "##### Pseudocode \n",
    "\n",
    "```python\n",
    "ALGORITHM mergeSort is\n",
    "    INPUT: A[0..n-1] unsorted array of n elements\n",
    "    OUTPUT: A[0..n-1] sorted in ascending order\n",
    "\n",
    "    IF n < 2 DO\n",
    "        RETURN A \n",
    "    L <- mergeSort(A[1 ... ⌊n/2⌊]) \n",
    "    M <- mergeSort(A[⌊n/2⌊+1 ... n]\n",
    "    RETURN merge(L, M)\n",
    "```\n"
   ]
  },
  {
   "cell_type": "markdown",
   "id": "54002a2b",
   "metadata": {
    "slideshow": {
     "slide_type": "slide"
    }
   },
   "source": [
    "#### Exercise 2: Implement the mergeSort-Algorithm. Use your merge-Function from Exercise 1."
   ]
  },
  {
   "cell_type": "code",
   "execution_count": 3,
   "id": "ac53063c",
   "metadata": {
    "slideshow": {
     "slide_type": "fragment"
    }
   },
   "outputs": [
    {
     "data": {
      "text/plain": [
       "[0, 1, 2, 3, 4, 5, 6, 7, 9]"
      ]
     },
     "execution_count": 3,
     "metadata": {},
     "output_type": "execute_result"
    }
   ],
   "source": [
    "def mergeSort(A):\n",
    "    # base condition\n",
    "    if len(A) < 2:\n",
    "        return A\n",
    "        \n",
    "    #  r is the point where the array is divided\n",
    "    r = len(A) // 2\n",
    "        \n",
    "    # Recursion\n",
    "    L = mergeSort(A[:r])\n",
    "    M = mergeSort(A[r:])\n",
    "    return merge(L, M)\n",
    "    \n",
    "mergeSort([4, 7, 9, 2, 3, 6, 1, 0, 5])\n",
    "\n"
   ]
  },
  {
   "cell_type": "markdown",
   "id": "3985ccad",
   "metadata": {
    "slideshow": {
     "slide_type": "slide"
    }
   },
   "source": [
    "## 1.1 Time Complexity of MergeSort\n",
    "<div class=\"author\">src: Kevin Wayne, princeton.edu</div>\n",
    "\n",
    "##### MergeSort recurrence\n",
    "\n",
    "$T(n) \\leq \\begin{cases}\n",
    "0 & \\text{if } n=1\\\\ \n",
    "\\underbrace{T(\\lceil \\frac{n}{2} \\rceil)}_{\\text{solve left half}} + \\underbrace{T(\\lfloor \\frac{n}{2} \\rfloor)}_{\\text{solve right half}} + \\underbrace{n}_{\\text{merging}} & \\text{if } n>1\n",
    "\\end{cases}$\n",
    "\n",
    "##### Solution\n",
    "$T(n) = O(n \\log n)$\n",
    "\n",
    "The are several ways to proof this solution..."
   ]
  },
  {
   "cell_type": "markdown",
   "id": "30534791",
   "metadata": {
    "slideshow": {
     "slide_type": "slide"
    }
   },
   "source": [
    "### Proof 1: Recursion Tree\n",
    "$T(n) \\leq \\begin{cases}\n",
    "0 & \\text{if } n=1\\\\ \n",
    "\\underbrace{2T(\\frac{n}{2})}_{\\text{sorting both halves}} + \\underbrace{n}_{\\text{merging}} & \\text{if } n>1\n",
    "\\end{cases}$\n",
    "![dia2](img/5mergetree.png)\n",
    "The merge sort recursion tree is considered somewhat balanced. The work done at each level stays conistent. Hence, the work done can be calculated by multiplying the work at each level by the number of levels: $$O(n \\log n)$$"
   ]
  },
  {
   "cell_type": "markdown",
   "id": "48869a8b",
   "metadata": {
    "slideshow": {
     "slide_type": "slide"
    }
   },
   "source": [
    "### Proof 2: Telescoping\n",
    "\n",
    "$T(n) \\leq \\begin{cases}\n",
    "0 & \\text{if } n=1\\\\ \n",
    "2T(\\frac{n}{2}) + n & \\text{if } n>1\n",
    "\\end{cases}$\n",
    "\n",
    "For $n>1$:\n",
    "\n",
    "$$\n",
    "\\begin{align*}\n",
    "\\frac{T(n)}{n} &= \\frac{2T(\\frac{n}{2})}{n}+1\\\\\n",
    "&= \\frac{T(\\frac{n}{2})}{\\frac{n}{2}}+1\\\\\n",
    "&= \\frac{T(\\frac{n}{4})}{\\frac{n}{4}}+1+1\\\\\n",
    "...\\\\\n",
    "&= \\frac{T(\\frac{n}{n})}{\\frac{n}{n}}+\\underbrace{1 + ... + 1}_{\\log_2 n}\\\\\n",
    "&= \\log_2 n\n",
    "\\end{align*}\n",
    "$$"
   ]
  },
  {
   "cell_type": "markdown",
   "id": "249293da",
   "metadata": {
    "slideshow": {
     "slide_type": "slide"
    }
   },
   "source": [
    "### Proof 3: Induction\n",
    "\n",
    "$T(n) \\leq \\begin{cases}\n",
    "0 & \\text{if } n=1\\\\ \n",
    "2T(\\frac{n}{2}) + n & \\text{if } n>1\n",
    "\\end{cases}$\n",
    "\n",
    "- base case: $n=1$\n",
    "- induction hypothesis: $T(n) = n \\log_2 n$\n",
    "- goal: show that $T(2n) = 2n \\log_2 (2n)$\n",
    "\n",
    "$$\n",
    "\\begin{align*}\n",
    "T(2n) &= 2T(n) + 2n\\\\\n",
    "&= 2n\\log_2 n + 2n\\\\\n",
    "&= 2n(\\log_2(2n)-1) + 2n\\\\\n",
    "&= 2n \\log_2(2n)\n",
    "\\end{align*}\n",
    "$$\n"
   ]
  },
  {
   "cell_type": "markdown",
   "id": "750c8aae",
   "metadata": {
    "slideshow": {
     "slide_type": "slide"
    }
   },
   "source": [
    "### Analysis with Master Theorem\n",
    "\n",
    "$T(n) \\leq \\begin{cases}\n",
    "0 & \\text{if } n=1\\\\ \n",
    "2T(\\frac{n}{2}) + n & \\text{if } n>1\n",
    "\\end{cases}$\n",
    "\n",
    "using:\n",
    "$$T(n) = a T ( \\frac{n}{b}) + f(n)$$\n",
    "\n",
    "$a=2$\n",
    "\n",
    "$b=2$\n",
    "\n",
    "$n^{log_b a} = n^1$\n",
    "\n",
    "$f(n) = n^1$\n",
    "\n",
    "$\\rightarrow$ Since $f(n)$ is asymptotically the same as $n^{log_b a}$, __Case 2__ of the __master theorem__ applies and:\n",
    "$$T(n) = \\Theta(n \\cdot \\log n)$$\n",
    "\n"
   ]
  },
  {
   "cell_type": "markdown",
   "id": "a3c93b49",
   "metadata": {
    "slideshow": {
     "slide_type": "slide"
    }
   },
   "source": [
    "## 2. Matrix Multiplication\n",
    "\n",
    "  $$\n",
    "     \\begin{bmatrix}\n",
    "         a_{11} & a_{12} & \\cdots & a_{1n}\\\\\n",
    "         a_{21} & a_{22} & \\cdots & a_{2n}\\\\ \n",
    "         \\vdots & \\vdots & \\ddots & \\vdots\\\\ \n",
    "         a_{m1} & a_{m2} & \\cdots & a_{mn} \n",
    "     \\end{bmatrix}\n",
    "     \\times\n",
    "     \\begin{bmatrix}\n",
    "         b_{11} & b_{12} & \\cdots & b_{1p}\\\\\n",
    "         b_{21} & b_{22} & \\cdots & b_{2p}\\\\ \n",
    "         \\vdots & \\vdots & \\ddots & \\vdots\\\\ \n",
    "         b_{n1} & b_{n2} & \\cdots & b_{np} \n",
    "     \\end{bmatrix}\n",
    "      =\n",
    "     \\begin{bmatrix}\n",
    "         c_{11} & c_{12} & \\cdots & c_{1p}\\\\\n",
    "         c_{21} & c_{22} & \\cdots & c_{2p}\\\\ \n",
    "         \\vdots & \\vdots & \\ddots & \\vdots\\\\ \n",
    "         c_{m1} & c_{m2} & \\cdots & c_{mp} \n",
    "     \\end{bmatrix}\n",
    "  $$\n",
    "  $$ c_{ij}= a_{i1} b_{1j} + a_{i2} b_{2j} +\\cdots+ a_{in} + b_{nj} = \\sum_{k=1}^n a_{ik}b_{kj} $$  \n",
    "\n",
    "##### Example:\n",
    " $$\n",
    "     \\begin{pmatrix}\n",
    "         2 & 7 & 3\\\\ \n",
    "         1 & 5 & 8\\\\\n",
    "         0 & 4 & 1\n",
    "     \\end{pmatrix}\n",
    "     \\times\n",
    "     \\begin{pmatrix}\n",
    "         3 & 0 & 1\\\\ \n",
    "         2 & 1 & 0\\\\\n",
    "         1 & 2 & 4 \n",
    "     \\end{pmatrix}\n",
    "      =\n",
    "     \\begin{pmatrix}\n",
    "         23 & 13 & 14\\\\ \n",
    "         21 & 21 & 33\\\\\n",
    "         9 & 6 & 4 \n",
    "     \\end{pmatrix}\n",
    "  $$  "
   ]
  },
  {
   "cell_type": "markdown",
   "id": "cc4265ab",
   "metadata": {
    "slideshow": {
     "slide_type": "slide"
    }
   },
   "source": [
    "## 2.1 Brute Force Matrix Multiplication\n",
    "\n",
    "aka __Naive Matrix Multiplication__\n",
    "\n",
    "  \n",
    "#### Exercise 3: Implement the brute force approach as pseudocode\n",
    "\n"
   ]
  },
  {
   "cell_type": "markdown",
   "id": "b3a95f4e",
   "metadata": {
    "slideshow": {
     "slide_type": "fragment"
    }
   },
   "source": [
    "##### Pseudocode \n",
    "\n",
    "```python\n",
    "ALGORITHM bruteForceMAtrix is\n",
    "    INPUT: A 2-dimensional array A of m x n elements,\n",
    "           a 2-dimensional array B of n x p elements,\n",
    "    OUTPUT: A 2-dimensional array C of n x n elements\n",
    "        \n",
    "    DECLARE an array of n x n elements\n",
    "    FOR i <- 0 to m-1 DO\n",
    "        FOR j <- 0 to p-1 DO\n",
    "            FOR k <- 0 to n-1 DO\n",
    "                C[i][j] <- C[i][j] + A[i][k] * B[k][j]\n",
    "```"
   ]
  },
  {
   "cell_type": "markdown",
   "id": "66a50e80",
   "metadata": {
    "slideshow": {
     "slide_type": "slide"
    }
   },
   "source": [
    "#### Exercise 4: Implement the brute force approach in a Python function"
   ]
  },
  {
   "cell_type": "code",
   "execution_count": 4,
   "id": "dbfae667",
   "metadata": {
    "code_folding": [],
    "slideshow": {
     "slide_type": "fragment"
    }
   },
   "outputs": [
    {
     "data": {
      "text/plain": [
       "[[17, 19, 11], [50, 49, 32], [83, 79, 53]]"
      ]
     },
     "execution_count": 4,
     "metadata": {},
     "output_type": "execute_result"
    }
   ],
   "source": [
    "def bruteForceMatrix(A, B):\n",
    "    n = len(A[0])\n",
    "    result = [[0] * n for i in range(n)]\n",
    "    # iterating by row\n",
    "    for i in range(len(A)):\n",
    "       # iterating by column\n",
    "       for j in range(len(B[0])):\n",
    "          # iterating by rows\n",
    "          for k in range(len(B)):\n",
    "              result[i][j] += A[i][k] * B[k][j]\n",
    "    return result\n",
    "\n",
    "    \n",
    "matrix1 = [[1, 2, 3],\n",
    "           [4, 5, 6],\n",
    "           [7, 8, 9]]\n",
    "\n",
    "matrix2 = [[5, 3, 3],\n",
    "           [6, 5, 4],\n",
    "           [0, 2, 0]]\n",
    "\n",
    "bruteForceMatrix(matrix1, matrix2)"
   ]
  },
  {
   "cell_type": "markdown",
   "id": "13e287a6",
   "metadata": {
    "slideshow": {
     "slide_type": "slide"
    }
   },
   "source": [
    "#### Exercise 5: Determine Big O of the brute force approach. Do you have any ideas how to improve the running time?\n"
   ]
  },
  {
   "cell_type": "markdown",
   "id": "e635627d",
   "metadata": {
    "slideshow": {
     "slide_type": "fragment"
    }
   },
   "source": [
    "##### Time Complexity:\n",
    "$$O(n^3)$$"
   ]
  },
  {
   "cell_type": "markdown",
   "id": "ff35dd1a",
   "metadata": {
    "slideshow": {
     "slide_type": "slide"
    }
   },
   "source": [
    "## 2.2 Matrix Multiplication using Divide and Conquer and Recursion\n",
    "\n",
    "We assume that $n$ is an exact power of 2 in each of the $n \\times n$ matrices. This is because in each divide step, we will divide $n \\times n$ matrices into four $n/2 \\times n/2$ matrices. Hence $n/2$ will be an integer for $n\\geq 2$.\n",
    "\n",
    "Suppose we partition each of $A$, $B$, and $C$ into four  $n/2 \\times n/2$ matrices and write $C=A\\cdot B$ as:\n",
    "\n",
    "$$\n",
    "     \\begin{pmatrix}\n",
    "        A_{11} & A_{12}\\\\\n",
    "        A_{21} & A_{22}\n",
    "     \\end{pmatrix}\n",
    "     \\cdot\n",
    "     \\begin{pmatrix}\n",
    "        B_{11} & B_{12}\\\\\n",
    "        B_{21} & B_{22}\n",
    "     \\end{pmatrix}\n",
    "      =\n",
    "     \\begin{pmatrix}\n",
    "        C_{11} & C_{12}\\\\\n",
    "        C_{21} & C_{22}\n",
    "     \\end{pmatrix}\n",
    "  $$  \n",
    "\n",
    "which corresponds to:\n",
    "\n",
    "$$C_{11} = A_{11} \\cdot B_{11}+A_{12}\\cdot B_{21}\\\\\n",
    "C_{12} = A_{11} \\cdot B_{12}+A_{12}\\cdot B_{22}\\\\\n",
    "C_{21} = A_{21} \\cdot B_{11}+A_{22}\\cdot B_{21}\\\\\n",
    "C_{21} = A_{21} \\cdot B_{12}+A_{22}\\cdot B_{22}\n",
    "$$"
   ]
  },
  {
   "cell_type": "markdown",
   "id": "65a43a6e",
   "metadata": {
    "slideshow": {
     "slide_type": "slide"
    }
   },
   "source": [
    "Each of these four equations specifies two multiplications of $n/2 \\times n/2$ matrices and the addition of their $n/2 \\times n/2$ products. We can use these equations to create a straightforward, recursive, divide-and-conquer algorithm:\n",
    "![dia2](img/5squarematrix.png)\n",
    "<div class=\"author\">src: Introduction to Algorithms, Thomas H. Cormen</div>"
   ]
  },
  {
   "cell_type": "markdown",
   "id": "b5786ccc",
   "metadata": {
    "slideshow": {
     "slide_type": "slide"
    }
   },
   "source": [
    "### Time Complexity\n",
    "\n",
    "#### Exercise 6: Determine the time complexity of the square matrix multiply recursive algorithm."
   ]
  },
  {
   "cell_type": "markdown",
   "id": "be595e80",
   "metadata": {
    "slideshow": {
     "slide_type": "fragment"
    }
   },
   "source": [
    "\n",
    "\n"
   ]
  },
  {
   "cell_type": "markdown",
   "id": "359497fd",
   "metadata": {
    "slideshow": {
     "slide_type": "slide"
    }
   },
   "source": [
    "## 2.3 Strassen's method\n",
    "<div class=\"author\">src: Kilichbek Haydarov, medium.com</div>\n",
    "\n",
    "In 1969, Volker Strassen came up with an algorithm whose asymptotic bound beat cubic. Using just a bit of algebra, he was able to reduce the number of sub-calls to matrix-multiplies to 7. He used the following factoring scheme:\n",
    "\n",
    "$$\\begin{align*}\n",
    "P_1 &= A_{11} \\times (B_{12}-B_{22})\\\\\n",
    "P_2 &= (A_{11} + A_{12}) \\times B_{22}\\\\\n",
    "P_3 &= (A_{21} + A_{22}) \\times B_{11}\\\\\n",
    "P_4 &= A_{22} \\times (B_{21}-B_{11})\\\\\n",
    "P_5 &= (A_{11} + A_{22}) \\times (B_{11}+B_{22})\\\\\n",
    "P_6 &= (A_{12} - A_{22}) \\times (B_{21}+B_{22})\\\\\n",
    "P_7 &= (A_{11} - A_{21}) \\times (B_{11}+B_{12})\n",
    "\\end{align*}\n",
    "$$\n",
    "\n",
    "Each factor can be evaluated using exactly one matrix multiplication. By adding and subtracting submatrices $P$, it can be verified that:\n",
    "\n",
    "$$\\begin{align*}\n",
    "C_{11} &= P_5 + P_4 - P_2 + P_6\\\\\n",
    "C_{12} &= P_1 + P_2\\\\\n",
    "C_{21} &= P_3 + P_4\\\\\n",
    "C_{22} &= P_5 + P_1 - P_3 - P_7\n",
    "\\end{align*}\n",
    "$$\n",
    "\n",
    "We see 7 multiplications and 18 (10 + 8 ) additions."
   ]
  },
  {
   "cell_type": "markdown",
   "id": "828de886",
   "metadata": {
    "slideshow": {
     "slide_type": "slide"
    }
   },
   "source": [
    "### Strassen DaC in words\n",
    "\n",
    "- __Divide:__ partition $A$ and $B$ into $\\frac{1}{2}n \\times \\frac{1}{2}n$ blocks\n",
    "- __Compute:__ 14 $\\frac{1}{2}n \\times \\frac{1}{2}n$ matrices via 10 matrix additions\n",
    "- __Conquer:__ multiply 7 $\\frac{1}{2}n \\times \\frac{1}{2}n$ matrices recursively\n",
    "- __Combine:__ 7 products into 4 terms using 8 matrix additions"
   ]
  },
  {
   "cell_type": "markdown",
   "id": "942b63d8",
   "metadata": {
    "slideshow": {
     "slide_type": "slide"
    }
   },
   "source": [
    "### Pseudcode\n",
    "\n",
    "![dia2](img/5strassen.jpg)"
   ]
  },
  {
   "cell_type": "markdown",
   "id": "bb6fe88a",
   "metadata": {
    "slideshow": {
     "slide_type": "slide"
    }
   },
   "source": [
    "#### Exercise 7: Determine the complexity of Strassen's algorithm"
   ]
  },
  {
   "cell_type": "markdown",
   "id": "b4b6c3f9",
   "metadata": {
    "slideshow": {
     "slide_type": "fragment"
    }
   },
   "source": [
    "$$T(n) = \\begin{cases}\n",
    "\\Theta(1) & \\text{if }n=1\\\\\n",
    "\\underbrace{7T(\\frac{n}{2})}_{\\text{recursive calls}}+\\underbrace{\\Theta(n^2)}_{\\text{add, substract}} & \\text{if } n>1\n",
    "\\end{cases}\n",
    "$$\n",
    "\n",
    "$$\\Rightarrow T(n) = \\Theta(n^{\\log_2 7}) = O(n^{2.81})\n",
    "$$"
   ]
  },
  {
   "cell_type": "markdown",
   "id": "25fd5fb2",
   "metadata": {
    "slideshow": {
     "slide_type": "slide"
    }
   },
   "source": [
    "### Some cool Strassen and Fast Matrix Multiplication facts\n",
    "\n",
    "- Strassen's crossover to classical algorithm around $n=128$\n",
    "- speedup @n~2500 > 8x\n",
    "- Hopcroft and Kerr introduced algo for 2-by-2 matrices with only 6 scalar multiplications $$\\Rightarrow O(n^{2.59})$$\n",
    "- Best known matrix multiplcation algorithm from Coppersmith-Winograd, 1987 (galactic algorithm = not really used):$$\\Rightarrow O(n^{2.376})$$"
   ]
  },
  {
   "cell_type": "markdown",
   "id": "fb5bf7e7",
   "metadata": {
    "slideshow": {
     "slide_type": "slide"
    }
   },
   "source": [
    "#### Extra Exercise (Homework): Implement Strassen's algorithm"
   ]
  }
 ],
 "metadata": {
  "celltoolbar": "Slideshow",
  "kernelspec": {
   "display_name": "Python 3 (ipykernel)",
   "language": "python",
   "name": "python3"
  },
  "language_info": {
   "codemirror_mode": {
    "name": "ipython",
    "version": 3
   },
   "file_extension": ".py",
   "mimetype": "text/x-python",
   "name": "python",
   "nbconvert_exporter": "python",
   "pygments_lexer": "ipython3",
   "version": "3.10.4"
  },
  "varInspector": {
   "cols": {
    "lenName": 16,
    "lenType": 16,
    "lenVar": 40
   },
   "kernels_config": {
    "python": {
     "delete_cmd_postfix": "",
     "delete_cmd_prefix": "del ",
     "library": "var_list.py",
     "varRefreshCmd": "print(var_dic_list())"
    },
    "r": {
     "delete_cmd_postfix": ") ",
     "delete_cmd_prefix": "rm(",
     "library": "var_list.r",
     "varRefreshCmd": "cat(var_dic_list()) "
    }
   },
   "types_to_exclude": [
    "module",
    "function",
    "builtin_function_or_method",
    "instance",
    "_Feature"
   ],
   "window_display": false
  }
 },
 "nbformat": 4,
 "nbformat_minor": 5
}
