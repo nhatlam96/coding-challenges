{
 "cells": [
  {
   "cell_type": "code",
   "execution_count": 5,
   "id": "65e2cd3f",
   "metadata": {
    "hide_input": true,
    "slideshow": {
     "slide_type": "skip"
    }
   },
   "outputs": [
    {
     "data": {
      "text/html": [
       "<style>h1{text-align:center;}h1{text-transform:none;}.rendered_html h4{color:#17b6eb;font-size: 1.6em;}img[alt=dia1]{width:35%;}img[alt=book]{width:20%;font-size: 3em;}img[alt=dia2]{width:50%;}.author{font-size:8px;}</style>\n"
      ],
      "text/plain": [
       "<IPython.core.display.HTML object>"
      ]
     },
     "metadata": {},
     "output_type": "display_data"
    }
   ],
   "source": [
    "%%html\n",
    "<style>h1{text-align:center;}h1{text-transform:none;}.rendered_html h4{color:#17b6eb;font-size: 1.6em;}img[alt=dia1]{width:35%;}img[alt=book]{width:20%;font-size: 3em;}img[alt=dia2]{width:50%;}.author{font-size:8px;}</style>"
   ]
  },
  {
   "cell_type": "markdown",
   "id": "b7ab25c9",
   "metadata": {
    "slideshow": {
     "slide_type": "slide"
    }
   },
   "source": [
    "# Lecture 7: Elementary Data Structures: Stacks and Queues"
   ]
  },
  {
   "cell_type": "markdown",
   "id": "b27b48c4",
   "metadata": {
    "slideshow": {
     "slide_type": "slide"
    }
   },
   "source": [
    "## 1. What is a Data Structure?\n",
    "<div class=\"author\">src: wikipedia.org</div>\n",
    "\n",
    "A __data structure__ is a data organization, management, and storage format that enables efficient access and modification.\n",
    "\n",
    "A __data structure__ is a collection of data values, the relationship among them, and the functions or operations that can be applied to the data.\n"
   ]
  },
  {
   "cell_type": "markdown",
   "id": "c4030e8b",
   "metadata": {
    "slideshow": {
     "slide_type": "slide"
    }
   },
   "source": [
    "### 1.1 What are they used for?\n",
    "\n",
    "__Data structures__ provide a means to manage large amounts of data efficiently for uses such as large databases and internet indexing services. Usually, efficient data structures are key to designing efficient algorithms. \n",
    "\n",
    "Data structures are generally based on the ability of a computer to fetch and store data at any place in its memory, specified by a pointer. Thus, the __array and record data structures__ are based on computing the addresses of data items with arithmetic operations, while the __linked data structures__ are based on storing addresses of data items within the structure itself.\n",
    "\n",
    "The implementation of a data structure usually requires writing a set of procedures that create and manipulate instances of that structure. The efficiency of a data structure cannot be analyzed separately from those operations. "
   ]
  },
  {
   "cell_type": "markdown",
   "id": "99d5cf11",
   "metadata": {
    "slideshow": {
     "slide_type": "slide"
    }
   },
   "source": [
    "### 1.2 Abstract Data Types\n",
    "\n",
    "An __Abstract Data Type__ is a class of objects whose logical behavior is defined by a set of values and a set of operations.\n",
    "\n",
    "Data structures serve as the basis for __abstract data types (ADT)__.\n",
    "\n",
    "##### What's the difference?\n",
    "\n",
    "__ADT__ is the logical picture of the data and the operations to manipulate the component elements of the data.\n",
    "\n",
    "__Data structure__ is the actual representation of the data during the implementation and the algorithms to manipulate the data elements. \n",
    "\n",
    "Hence, __ADT__ is in the logical level and __data structure__ is in the implementation level."
   ]
  },
  {
   "cell_type": "markdown",
   "id": "9e91549f",
   "metadata": {
    "slideshow": {
     "slide_type": "slide"
    }
   },
   "source": [
    "### 1.3 Types of Data Structures\n",
    "\n",
    "Basically, non-primitive data structures are divided into two categories:\n",
    "\n",
    "- Linear data structure\n",
    "- Non-linear data structure\n",
    "\n",
    "![dia2](img/7linear.png)\n",
    "<div class=\"author\">src: geeksforgeeks.com</div>"
   ]
  },
  {
   "cell_type": "markdown",
   "id": "563cf342",
   "metadata": {
    "slideshow": {
     "slide_type": "slide"
    }
   },
   "source": [
    "##### What's the difference?\n",
    "\n",
    "|Linear Data Structures | Non-linear Data Structures |\n",
    "|:---|:---|\n",
    "| arranges data items in an orderly manner where the elements are attached adjacently | arranges data in sorted order, creating a relationship among the data elements |\n",
    "|memory utilization is __inefficient__ | memory utilization is __efficient__|\n",
    "|single-level|multi-level|\n",
    "|__easier__ to implement|__difficult__ to implement|\n",
    "|Examples: arrays, (linked) lists, queues, stacks|Examples: trees, graphs|\n"
   ]
  },
  {
   "cell_type": "markdown",
   "id": "b3b155e0",
   "metadata": {
    "slideshow": {
     "slide_type": "slide"
    }
   },
   "source": [
    "## 2. Linear Data Structures\n",
    "\n",
    "- Data collections where items are ordered depending on how they are added/removed\n",
    "\n",
    "- They stay in that order, relative to other elements before and after it\n",
    "\n",
    "- Two ends (left, right, top, bottom, front, rear, etc...)\n",
    "\n",
    "- Adding and removing is the distinguishing characteristic\n",
    "\n",
    "- Very useful in computer science -> they appear in many algorithms"
   ]
  },
  {
   "cell_type": "markdown",
   "id": "d1b42582",
   "metadata": {
    "slideshow": {
     "slide_type": "slide"
    }
   },
   "source": [
    "### 2.1 Arrays\n",
    "<div class=\"author\">src: wikipedia.org</div>\n",
    "\n",
    "An __array data structure__, or simply an __array__, is a data structure consisting of a collection of elements (values or variables), each identified by at least one array index or key. An array is stored such that the position of each element can be computed from its index tuple by a mathematical formula. The simplest type of data structure is a linear array, also called one-dimensional array. \n",
    "\n",
    "In an array, elements in memory are arranged in continuous memory. All the elements of an array are of the same type. And, the type of elements that can be stored in the form of arrays is determined by the programming language.\n",
    "\n",
    "![dia2](img/7array.webp)\n",
    "<div class=\"author\">src: programmiz.com</div>"
   ]
  },
  {
   "cell_type": "markdown",
   "id": "9c758e35",
   "metadata": {
    "slideshow": {
     "slide_type": "slide"
    }
   },
   "source": [
    "### 2.2 Stacks\n",
    "<div class=\"author\">src: wikipedia.org</div>\n",
    "\n",
    "A __stack__ is an abstract data type (ADT) which serves as a collection of elements. It is a container of objects that are inserted and removed from the end called __\"top\"__ according to the:\n",
    "\n",
    "\n",
    "__Last-In-First-Out (LIFO)__ principle\n",
    "\n",
    "using two main principal operations:\n",
    "\n",
    "- __Push__: adds and element to the collection\n",
    "\n",
    "- __Pop__: removes the most recently added element that was not yet removed\n",
    "\n",
    "Hence, objects can be inserted at any time, but only the most-recently inserted objected can be removed."
   ]
  },
  {
   "cell_type": "markdown",
   "id": "658b8b3a",
   "metadata": {
    "slideshow": {
     "slide_type": "slide"
    }
   },
   "source": [
    "##### Examples:\n",
    "\n",
    "![dia2](img/7stackexamples.png)\n"
   ]
  },
  {
   "cell_type": "markdown",
   "id": "7eac3c9b",
   "metadata": {
    "slideshow": {
     "slide_type": "slide"
    }
   },
   "source": [
    "##### 2.2.1 LIFO Principle of Stack\n",
    "\n",
    "Stable sort algorithms sort equal elements in the same order that they appear in the input. A sorting algorithm is stable if the relative order of elements with the same key value is preserved in the algorithm.\n",
    "\n",
    "__Example:__ Playing cards are being sorted by their rank, and their suit is being ignored. This allows the possibility of multiple different correctly sorted versions of the original list. Stable sorting algorithms choose one of these, according to the following rule: if two items compare as equal (like the two 5 cards), then their relative order will be preserved, i.e. if one comes before the other in the input, it will come before the other in the output. \n",
    "\n",
    "![dia2](img/7lifo.png)\n",
    "<div class=\"author\">src: programmiz.com</div>\n"
   ]
  },
  {
   "cell_type": "markdown",
   "id": "9cdb44e8",
   "metadata": {
    "slideshow": {
     "slide_type": "slide"
    }
   },
   "source": [
    "##### 2.2.2 Python data structure (implementation)\n",
    "\n",
    "Remember: When an ADT is given a physical implementation, we refer to that implementation as __data structure__.\n",
    "\n",
    "In this section, we will be using Python classes to implement the stack ADT, where the stack operations will be methods.\n",
    "\n",
    "A Python list will be the underlying data structure, as it is a powerful collection structure."
   ]
  },
  {
   "cell_type": "markdown",
   "id": "58567a98",
   "metadata": {
    "slideshow": {
     "slide_type": "slide"
    }
   },
   "source": [
    "We already talked about the two main principle operations (push, pull). However, for a fully functional, easy-to-use data structure we will need a few more stack operations:\n",
    "\n",
    "| Operation | Description |\n",
    "|:---|:---|\n",
    "|Stack()|creates a new stack (object) that is empty. It needs no parameters and returns an empty stack|\n",
    "|push(item)|adds a new item to the top of the stack. It needs the item and returns nothing|\n",
    "|pop()|removes the top item from the stack. It needs no parameters, returns the item and the stack is modified|\n",
    "|peek()|returns the top item from the stack but does not remove it. It needs no parameters, the stack is not modified|\n",
    "|is_empty()|tests to see whether the stack is empty. It needs no parameters and returns a boolean value|\n",
    "|len()|returns the number of items on the stack. It needs no parameters and returns an integer|\n",
    "\n",
    "\n",
    "<div class=\"author\">src: Problem Solving with Algorithms and Data Structures / pas.rochester.edu/~rsarkis</div>"
   ]
  },
  {
   "cell_type": "markdown",
   "id": "4c5b5c36",
   "metadata": {
    "slideshow": {
     "slide_type": "slide"
    }
   },
   "source": [
    "##### Example: A stack of primitive python objects and its reversal property\n",
    "\n",
    "\n",
    "![dia2](img/7pythonstack.png)\n",
    "![dia2](img/7reversestack.png)\n",
    "<div class=\"author\">src: Problem Solving with Algorithms and Data Structures / pas.rochester.edu/~rsarkis</div>"
   ]
  },
  {
   "cell_type": "markdown",
   "id": "f15eea70",
   "metadata": {
    "slideshow": {
     "slide_type": "slide"
    }
   },
   "source": [
    "##### Implementation Example Return Values\n",
    "\n",
    "|Stack Operation|Stack Contents|Return Value|\n",
    "|:---|:---|:---|\n",
    "|s.is_empty()|[]|True|\n",
    "|s.push(4)|[4]||\n",
    "|s.push('dog')|[4, 'dog']||\n",
    "|s.peek()|[4, 'dog']|'dog'|\n",
    "|s.push(True)|['4, 'dog', True]||\n",
    "|len(s)|[4, 'dog', True]|3|\n",
    "|s.is_empty()|[4, 'dog', True]|False|\n",
    "|s.push(8.4)|[4, 'dog', True, 8.4]||\n",
    "|s.pop()|[4, 'dog', True]|8.4|\n",
    "|s.pop()|[4, 'dog']|True|\n",
    "|len()|[4, 'dog']|2|"
   ]
  },
  {
   "cell_type": "markdown",
   "id": "d23ac871",
   "metadata": {
    "slideshow": {
     "slide_type": "slide"
    }
   },
   "source": [
    "A Python list is already stack, considering it provides the methods `pop` and `append`. `s.append(item)` will put `item` at the end of a list and `s.pop()` will remove `item` from the list and return it.\n",
    "\n",
    "However, considering the \"composition over inheritance\" principle, it would make sense to implement a \"Stack class\" with additional methods to provide more flexibility and create a cleaner API.\n",
    "\n",
    "#### Exercise 1: Complete the class implementation below"
   ]
  },
  {
   "cell_type": "code",
   "execution_count": 22,
   "id": "3f66ef6e",
   "metadata": {
    "slideshow": {
     "slide_type": "slide"
    }
   },
   "outputs": [
    {
     "ename": "IndentationError",
     "evalue": "expected an indented block after function definition on line 5 (2615431755.py, line 8)",
     "output_type": "error",
     "traceback": [
      "\u001b[0;36m  Input \u001b[0;32mIn [22]\u001b[0;36m\u001b[0m\n\u001b[0;31m    def push(self, item):\u001b[0m\n\u001b[0m    ^\u001b[0m\n\u001b[0;31mIndentationError\u001b[0m\u001b[0;31m:\u001b[0m expected an indented block after function definition on line 5\n"
     ]
    }
   ],
   "source": [
    "class Stack:\n",
    "    def __init__(self):\n",
    "        self.items = []\n",
    "    \n",
    "    def is_empty(self):\n",
    "        # check if self.items is empty and return boolean\n",
    "\n",
    "    def push(self, item):\n",
    "        # add new item using the python native append() method\n",
    "    \n",
    "    def pop(self):\n",
    "        # remove the top item using the python native pop() method\n",
    "\n",
    "    def peek(self):\n",
    "        # return the top item of the stack\n",
    "\n",
    "    def __len__(self):\n",
    "        # dunder (special/magic) method to return the number of items in the stack using the len()\n",
    "        \n",
    "s = Stack()\n",
    "\n",
    "print(s.is_empty())\n",
    "s.push(4)\n",
    "s.push('dog')\n",
    "print(s.peek())\n",
    "s.push(True)\n",
    "print(len(s))\n",
    "print(s.is_empty())\n",
    "s.push(8.4)\n",
    "print(s.pop())\n",
    "print(s.pop())\n",
    "print(len(s))"
   ]
  },
  {
   "cell_type": "code",
   "execution_count": 23,
   "id": "11b90ff6",
   "metadata": {
    "slideshow": {
     "slide_type": "subslide"
    }
   },
   "outputs": [
    {
     "name": "stdout",
     "output_type": "stream",
     "text": [
      "True\n",
      "dog\n",
      "3\n",
      "False\n",
      "8.4\n",
      "True\n",
      "2\n"
     ]
    }
   ],
   "source": [
    "class Stack:\n",
    "    def __init__(self):\n",
    "        self.items = []\n",
    "    \n",
    "    def is_empty(self):\n",
    "        return self.items == []\n",
    "\n",
    "    def push(self, item):\n",
    "        self.items.append(item)\n",
    "    \n",
    "    def pop(self):\n",
    "        return self.items.pop()\n",
    "\n",
    "    def peek(self):\n",
    "        return self.items[-1]\n",
    "\n",
    "    def __len__(self):\n",
    "        return len(self.items)\n",
    "    \n",
    "s = Stack()\n",
    "\n",
    "print(s.is_empty())\n",
    "s.push(4)\n",
    "s.push('dog')\n",
    "print(s.peek())\n",
    "s.push(True)\n",
    "print(len(s))\n",
    "print(s.is_empty())\n",
    "s.push(8.4)\n",
    "print(s.pop())\n",
    "print(s.pop())\n",
    "print(len(s))\n"
   ]
  },
  {
   "cell_type": "markdown",
   "id": "2abeb393",
   "metadata": {
    "slideshow": {
     "slide_type": "slide"
    }
   },
   "source": [
    "#### Exercise 2:\n",
    "\n",
    "Given the following sequence of stack operations, what is the top item on the stack when the sequence is complete? You maybe use the Stack class from Exercise 1:\n",
    "\n",
    "- PUSH x\n",
    "- PUSH y\n",
    "- POP\n",
    "- PUSH z\n",
    "- PEEK"
   ]
  },
  {
   "cell_type": "code",
   "execution_count": 29,
   "id": "8938e4b9",
   "metadata": {},
   "outputs": [
    {
     "data": {
      "text/plain": [
       "'z'"
      ]
     },
     "execution_count": 29,
     "metadata": {},
     "output_type": "execute_result"
    }
   ],
   "source": [
    "# Solution Exercise 2\n",
    "m = Stack()\n",
    "m.push('x')\n",
    "m.push('y')\n",
    "m.pop()\n",
    "m.push('z')\n",
    "m.peek()"
   ]
  },
  {
   "cell_type": "markdown",
   "id": "8443de07",
   "metadata": {
    "slideshow": {
     "slide_type": "slide"
    }
   },
   "source": [
    "#### Exercise 3:\n",
    "\n",
    "What would be the output of the following code?\n",
    "\n",
    "```python\n",
    "m = Stack()\n",
    "m.push('x')\n",
    "m.push('y')\n",
    "m.push('z')\n",
    "while not m.is_empty():\n",
    "   m.pop()\n",
    "   m.pop()\n",
    "```"
   ]
  },
  {
   "cell_type": "markdown",
   "id": "fee129b9",
   "metadata": {
    "slideshow": {
     "slide_type": "fragment"
    }
   },
   "source": [
    "##### Solution: Error"
   ]
  },
  {
   "cell_type": "markdown",
   "id": "ac0be988",
   "metadata": {
    "slideshow": {
     "slide_type": "slide"
    }
   },
   "source": [
    "#### Exercise 4:\n",
    "\n",
    "Use the Python stack data structure to reverse the order of your name. Make use of the LIFO principle. For example \"Algorithmus\" should be converted to \"sumhtiroglA\".\n",
    "\n",
    "What is the time complexity of your code?"
   ]
  },
  {
   "cell_type": "code",
   "execution_count": null,
   "id": "0e557a1d",
   "metadata": {},
   "outputs": [],
   "source": []
  },
  {
   "cell_type": "code",
   "execution_count": 62,
   "id": "922e7d2b",
   "metadata": {
    "slideshow": {
     "slide_type": "fragment"
    }
   },
   "outputs": [
    {
     "data": {
      "text/plain": [
       "'sumhtiroiglA'"
      ]
     },
     "execution_count": 62,
     "metadata": {},
     "output_type": "execute_result"
    }
   ],
   "source": [
    "# Solution Exercise 4\n",
    "# 1. Create an empty stack\n",
    "# 2. One by one push all characters of string to stack\n",
    "# 3. One by one pop all characters from stack and put them back to string\n",
    "\n",
    "def reverse_string(name):\n",
    "    stack = Stack()\n",
    "    reversename = \"\"\n",
    "    \n",
    "    for letter in name:\n",
    "        stack.push(letter)\n",
    "        \n",
    "    for letter in name:\n",
    "        reversename += stack.pop()\n",
    "    \n",
    "    return reversename\n",
    "\n",
    "reverse_string(\"Algorithmus\")\n",
    "\n",
    "# Time complexity is O(n)\n",
    "        "
   ]
  },
  {
   "cell_type": "markdown",
   "id": "226e4371",
   "metadata": {
    "slideshow": {
     "slide_type": "slide"
    }
   },
   "source": [
    "#### Exercise 5: Balanced Parantheses Checker\n",
    "\n",
    "Given an expression string, write a program (using the Stack data structure of exercise 1) to examine whether the pairs AND orders of \"{\", \"}\", \"(\", \")\", \"[\", \"]\" are correct.\n",
    "\n",
    "__Example:__\n",
    "\n",
    "Input: \"[()]{}{[()()]()}\"\\\n",
    "Output: Balanced\n",
    "\n",
    "\n",
    "Input: \"[(])\"\\\n",
    "Output: Not Balanced\n",
    "\n",
    "![dia2](img/7ex5.png)\n",
    "<div class=\"author\">src: geeksforgeeks.org</div>"
   ]
  },
  {
   "cell_type": "code",
   "execution_count": 61,
   "id": "73b9bbaa",
   "metadata": {
    "slideshow": {
     "slide_type": "slide"
    }
   },
   "outputs": [
    {
     "name": "stdout",
     "output_type": "stream",
     "text": [
      "Balanced\n"
     ]
    }
   ],
   "source": [
    "# Solution Exercise 5\n",
    "\n",
    "def check_brackets(string):\n",
    "    stack = Stack()\n",
    "    open_brackets = [\"[\", \"{\", \"(\"]\n",
    "    close_brackets = [\"]\", \"}\", \")\"]\n",
    " \n",
    "    # Traversing the Expression\n",
    "    for char in string:\n",
    "        if char in [\"(\", \"[\", \"{\"]:\n",
    "            stack.push(char)\n",
    "            \n",
    "        else:\n",
    "            if stack.is_empty():\n",
    "                return False\n",
    "            \n",
    "            top_char = stack.pop()\n",
    "            if top_char != open_brackets[close_brackets.index(char)]:\n",
    "                return False\n",
    "            \n",
    "    return True\n",
    " \n",
    "\n",
    "test1 = \"[()]{}{()()}\"\n",
    "test2 = \"[(])\"\n",
    "\n",
    "if check_brackets(test1):\n",
    "    print(\"Balanced\")\n",
    "else:\n",
    "    print(\"Not Balanced\")"
   ]
  },
  {
   "cell_type": "markdown",
   "id": "1b8affa1",
   "metadata": {
    "slideshow": {
     "slide_type": "slide"
    }
   },
   "source": [
    "### 2.3 Queues\n",
    "<div class=\"author\">src: wikipedia.org</div>\n",
    "\n",
    "A __queue__  is a collection of entities that are maintained in a sequence and can be modified by the addition of entities at one end of the sequence and the removal of entities from the other end of the sequence. \n",
    "\n",
    "By convention, the end of the sequence at which elements are added is called the __back, tail, or rear__ of the queue, and the end at which elements are removed is called the __head or front__ of the queue, analogously to the words used when people line up to wait for goods or services. \n",
    "\n",
    "- __enqueue:__ he operation of adding an element to the rear of the queue\n",
    "- __dequeue:__ the operation of removing an element from the front is known as dequeue. \n",
    "\n",
    "Other operations may also be allowed, often including a peek or front operation that returns the value of the next element to be dequeued without dequeuing it. \n",
    "\n",
    "![dia2](img/7queue.png)\n",
    "<div class=\"author\">src: Vegpuff, wikipedia.org, CC BY-SA 3.0</div>\n"
   ]
  },
  {
   "cell_type": "markdown",
   "id": "126cf10a",
   "metadata": {
    "slideshow": {
     "slide_type": "slide"
    }
   },
   "source": [
    "##### 2.3.1 FIFO Principle \n",
    "\n",
    "Queue follows the __First In First Out (FIFO)__ principle - the item that goes in first is the item that comes out first.\n",
    "\n",
    "![dia2](img/7FIFO.png)\n",
    "<div class=\"author\">src: programiz.com</div>"
   ]
  },
  {
   "cell_type": "markdown",
   "id": "26964446",
   "metadata": {
    "slideshow": {
     "slide_type": "slide"
    }
   },
   "source": [
    "##### 2.3.2 Working of a Queue\n",
    "\n",
    "- two pointers `front` and `rear`\n",
    "- `front` tracks the first element of the queue\n",
    "- `rear` tracks the last element of the queue\n",
    "- initially, `front` and `rear` are set to $-1$\n",
    "\n",
    "__Enqueue Operation__\n",
    "- check if queue is full\n",
    "- for first element set value of `front` to $0$\n",
    "- increase `rear` index by $1$\n",
    "- add the new element in the position pointed to by `rear`\n",
    "\n",
    "__Dequeue Operation__\n",
    "- check if queue is empty\n",
    "- return the value pointed by `front`\n",
    "- increase `front` index by $1$\n",
    "- for the last element, reset the values of `front` and `rear` to -1"
   ]
  },
  {
   "cell_type": "markdown",
   "id": "e76e86b4",
   "metadata": {
    "slideshow": {
     "slide_type": "slide"
    }
   },
   "source": [
    "![dia2](img/7queue2.png)\n",
    "<div class=\"author\">src: programiz.com</div>"
   ]
  },
  {
   "cell_type": "markdown",
   "id": "02a22a5f",
   "metadata": {
    "slideshow": {
     "slide_type": "slide"
    }
   },
   "source": [
    "We already talked about the two main principle operations (enqueue, dequeue). However, for a fully functional, easy-to-use data structure we will need a few more stack operations:\n",
    "\n",
    "| Operation | Description |\n",
    "|:---|:---|\n",
    "|Queue()|creates a new queue (object) that is empty. It needs no parameters and returns an empty queue|\n",
    "|enqueue(item)|adds a new item to the rear of the queue. It needs the item and returns nothing|\n",
    "|dequeue()|removes the front item from the queue. It needs no parameters, returns the item and the queue is modified|\n",
    "|is_empty()|tests to see whether the queue is empty. It needs no parameters and returns a boolean value|\n",
    "|len()|returns the number of items on the queue. It needs no parameters and returns an integer|\n",
    "\n",
    "\n",
    "<div class=\"author\">src: Problem Solving with Algorithms and Data Structures / pas.rochester.edu/~rsarkis</div>"
   ]
  },
  {
   "cell_type": "markdown",
   "id": "58ca3d0d",
   "metadata": {
    "slideshow": {
     "slide_type": "slide"
    }
   },
   "source": [
    "##### Example: A queue of Python Data Objects\n",
    "\n",
    "\n",
    "![dia2](img/7pythonqueue.png)\n",
    "<div class=\"author\">src: Problem Solving with Algorithms and Data Structures / pas.rochester.edu/~rsarkis</div>"
   ]
  },
  {
   "cell_type": "markdown",
   "id": "96d442e5",
   "metadata": {
    "slideshow": {
     "slide_type": "slide"
    }
   },
   "source": [
    "##### Implementation Example Return Values\n",
    "\n",
    "|Queue Operation|Queue Contents|Return Value|\n",
    "|:---|:---|:---|\n",
    "|q.is_empty()|[]|True|\n",
    "|q.enqueue(4)|[4]||\n",
    "|q.enqueue('dog')|['dog', 4]||\n",
    "|q.enqueue(True)|[True, 'dog', 4]||\n",
    "|len(q)|[True, 'dog', 4]|3|\n",
    "|q.is_empty()|[True, 'dog', 4]|False|\n",
    "|s.enqueue(8.4)|[8.4, True, 'dog', 4]||\n",
    "|s.dequeue()|[8.4, True, 'dog']|4|\n",
    "|s.dequeue()|[8.4, True]|'dog'|\n",
    "|len(q)|[8.4, True]|2|"
   ]
  },
  {
   "cell_type": "markdown",
   "id": "17e6aea9",
   "metadata": {
    "slideshow": {
     "slide_type": "slide"
    }
   },
   "source": [
    "#### Exercise 6: Complete the class implementation below"
   ]
  },
  {
   "cell_type": "code",
   "execution_count": 89,
   "id": "23280214",
   "metadata": {
    "slideshow": {
     "slide_type": "slide"
    }
   },
   "outputs": [
    {
     "ename": "IndentationError",
     "evalue": "expected an indented block after function definition on line 5 (4102424383.py, line 8)",
     "output_type": "error",
     "traceback": [
      "\u001b[0;36m  Input \u001b[0;32mIn [89]\u001b[0;36m\u001b[0m\n\u001b[0;31m    def dequeue(self):\u001b[0m\n\u001b[0m    ^\u001b[0m\n\u001b[0;31mIndentationError\u001b[0m\u001b[0;31m:\u001b[0m expected an indented block after function definition on line 5\n"
     ]
    }
   ],
   "source": [
    "class Queue:\n",
    "    def __init__(self):\n",
    "        self.items = []\n",
    "\n",
    "    def enqueue(self, item):\n",
    "        # add new item at rear of queue using Python's append() method and return\n",
    "\n",
    "    def dequeue(self):\n",
    "        # remove front item of the queue using Python's pop() method and return\n",
    "\n",
    "    def rear(self):\n",
    "        # return item in the back of the queue\n",
    "\n",
    "    def front(self):\n",
    "        # return item in the front of the queue\n",
    "        \n",
    "    def is_empty(self):\n",
    "        # check if self.items is empty and return boolean\n",
    "   \n",
    "    def __len__(self):\n",
    "        # dunder (special/magic) method to return the number of items in the queue using the len()\n",
    "    \n",
    "    \n",
    "q = Queue()\n",
    "\n",
    "print(q.is_empty())\n",
    "print(q.enqueue(4))\n",
    "print(q.enqueue('dog'))\n",
    "print(q.enqueue(True))\n",
    "print(len(q))\n",
    "print(q.is_empty())\n",
    "print(q.enqueue(8.4)) \n",
    "print(q.dequeue())\n",
    "print(q.dequeue())\n",
    "print(len(q))\n"
   ]
  },
  {
   "cell_type": "code",
   "execution_count": 125,
   "id": "c5e39a92",
   "metadata": {
    "slideshow": {
     "slide_type": "subslide"
    }
   },
   "outputs": [
    {
     "name": "stdout",
     "output_type": "stream",
     "text": [
      "True\n",
      "None\n",
      "None\n",
      "None\n",
      "3\n",
      "False\n",
      "None\n",
      "4\n",
      "dog\n",
      "2\n"
     ]
    }
   ],
   "source": [
    "class Queue:\n",
    "    def __init__(self):\n",
    "        self.items = []\n",
    "        \n",
    "    def get_queue(self):\n",
    "        return self.items\n",
    "\n",
    "    def enqueue(self, item):\n",
    "        return self.items.append(item)\n",
    "\n",
    "    def dequeue(self):\n",
    "        return self.items.pop(0)\n",
    "\n",
    "    def rear(self):\n",
    "        return self.items[-1]\n",
    "\n",
    "    def front(self):\n",
    "        return self.items[0]\n",
    "\n",
    "    def is_empty(self):\n",
    "        return len(self.items) == 0\n",
    "   \n",
    "    def __len__(self):\n",
    "        return len(self.items)\n",
    "    \n",
    "    \n",
    "q = Queue()\n",
    "\n",
    "print(q.is_empty())\n",
    "print(q.enqueue(4))\n",
    "print(q.enqueue('dog'))\n",
    "print(q.enqueue(True))\n",
    "print(len(q))\n",
    "print(q.is_empty())\n",
    "print(q.enqueue(8.4)) \n",
    "print(q.dequeue())\n",
    "print(q.dequeue())\n",
    "print(len(q))"
   ]
  },
  {
   "cell_type": "markdown",
   "id": "8b8a3562",
   "metadata": {
    "slideshow": {
     "slide_type": "slide"
    }
   },
   "source": [
    "#### Exercise 7:\n",
    "\n",
    "Suppose you have the following series of queue operations\n",
    "\n",
    "- create empty Queue\n",
    "- ENQUEUE('hello')\n",
    "- ENQUEUE('dog')\n",
    "- ENQUEUE(3)\n",
    "- DEQUEUE()\n",
    "\n",
    "what items are left on the queue? Show your result with the class implemented in Exercise 6."
   ]
  },
  {
   "cell_type": "code",
   "execution_count": 99,
   "id": "a3fd13f6",
   "metadata": {
    "slideshow": {
     "slide_type": "subslide"
    }
   },
   "outputs": [
    {
     "name": "stdout",
     "output_type": "stream",
     "text": [
      "2 dog 3\n"
     ]
    }
   ],
   "source": [
    "# Solution Exercise 7\n",
    "# 'dog', 3\n",
    "\n",
    "q = Queue()\n",
    "q.enqueue('hello')\n",
    "q.enqueue('dog')\n",
    "q.enqueue(3)\n",
    "q.dequeue()\n",
    "print(len(q), q.front(), q.rear())"
   ]
  },
  {
   "cell_type": "markdown",
   "id": "9c2e4435",
   "metadata": {
    "slideshow": {
     "slide_type": "slide"
    }
   },
   "source": [
    "#### Exercise 8: Hot Potato\n",
    "\n",
    "Implement a six-person game of \"Hot Potato\" using the Queue class from Exercise 1.\n",
    "\n",
    "- whoever has the potato when the \"music\" stops drops out:\n",
    "    - person at head of queue \"has the potato\"\n",
    "    - dequeue and enqueue to simulate passing it to one person\n",
    "    \n",
    "![dia2](img/7hotpotato.png)\n",
    "<div class=\"author\">src: Problem Solving with Algorithms and Data Structures / pas.rochester.edu/~rsarkis</div>"
   ]
  },
  {
   "cell_type": "markdown",
   "id": "be930a33",
   "metadata": {
    "slideshow": {
     "slide_type": "slide"
    }
   },
   "source": [
    "##### Enqueue und Dequeue implementation of Hot Potato\n",
    "\n",
    "![dia2](img/7hotpotato2.png)\n",
    "<div class=\"author\">src: Problem Solving with Algorithms and Data Structures / pas.rochester.edu/~rsarkis</div>"
   ]
  },
  {
   "cell_type": "code",
   "execution_count": 131,
   "id": "a6058d57",
   "metadata": {
    "slideshow": {
     "slide_type": "slide"
    }
   },
   "outputs": [
    {
     "ename": "IndentationError",
     "evalue": "expected an indented block after function definition on line 1 (1117162445.py, line 4)",
     "output_type": "error",
     "traceback": [
      "\u001b[0;36m  Input \u001b[0;32mIn [131]\u001b[0;36m\u001b[0m\n\u001b[0;31m    names = [\"Bill\", \"David\", \"Susan\", \"Jane\", \"Kent\", \"Brad\"]\u001b[0m\n\u001b[0m    ^\u001b[0m\n\u001b[0;31mIndentationError\u001b[0m\u001b[0;31m:\u001b[0m expected an indented block after function definition on line 1\n"
     ]
    }
   ],
   "source": [
    "def hot_potato(namelist, num):\n",
    "    # implement function to see which person has the potatoe after stopping the \"music\" after _num_ iterations each time\n",
    "\n",
    "    \n",
    "names = [\"Bill\", \"David\", \"Susan\", \"Jane\", \"Kent\", \"Brad\"]\n",
    "number_of_potato_passes = 7\n",
    "hot_potato(names, number_of_potato_passes)"
   ]
  },
  {
   "cell_type": "code",
   "execution_count": 132,
   "id": "15087fa6",
   "metadata": {
    "slideshow": {
     "slide_type": "subslide"
    }
   },
   "outputs": [
    {
     "name": "stdout",
     "output_type": "stream",
     "text": [
      "['David', 'Susan', 'Jane', 'Kent', 'Brad', 'Bill']\n",
      "['Susan', 'Jane', 'Kent', 'Brad', 'Bill', 'David']\n",
      "['Jane', 'Kent', 'Brad', 'Bill', 'David', 'Susan']\n",
      "['Kent', 'Brad', 'Bill', 'David', 'Susan', 'Jane']\n",
      "['Brad', 'Bill', 'David', 'Susan', 'Jane', 'Kent']\n",
      "['Bill', 'David', 'Susan', 'Jane', 'Kent', 'Brad']\n",
      "['David', 'Susan', 'Jane', 'Kent', 'Brad', 'Bill']\n",
      "['Jane', 'Kent', 'Brad', 'Bill', 'Susan']\n",
      "['Kent', 'Brad', 'Bill', 'Susan', 'Jane']\n",
      "['Brad', 'Bill', 'Susan', 'Jane', 'Kent']\n",
      "['Bill', 'Susan', 'Jane', 'Kent', 'Brad']\n",
      "['Susan', 'Jane', 'Kent', 'Brad', 'Bill']\n",
      "['Jane', 'Kent', 'Brad', 'Bill', 'Susan']\n",
      "['Kent', 'Brad', 'Bill', 'Susan', 'Jane']\n",
      "['Bill', 'Susan', 'Jane', 'Brad']\n",
      "['Susan', 'Jane', 'Brad', 'Bill']\n",
      "['Jane', 'Brad', 'Bill', 'Susan']\n",
      "['Brad', 'Bill', 'Susan', 'Jane']\n",
      "['Bill', 'Susan', 'Jane', 'Brad']\n",
      "['Susan', 'Jane', 'Brad', 'Bill']\n",
      "['Jane', 'Brad', 'Bill', 'Susan']\n",
      "['Bill', 'Susan', 'Brad']\n",
      "['Susan', 'Brad', 'Bill']\n",
      "['Brad', 'Bill', 'Susan']\n",
      "['Bill', 'Susan', 'Brad']\n",
      "['Susan', 'Brad', 'Bill']\n",
      "['Brad', 'Bill', 'Susan']\n",
      "['Bill', 'Susan', 'Brad']\n",
      "['Brad', 'Susan']\n",
      "['Susan', 'Brad']\n",
      "['Brad', 'Susan']\n",
      "['Susan', 'Brad']\n",
      "['Brad', 'Susan']\n",
      "['Susan', 'Brad']\n",
      "['Brad', 'Susan']\n"
     ]
    },
    {
     "data": {
      "text/plain": [
       "'Susan'"
      ]
     },
     "execution_count": 132,
     "metadata": {},
     "output_type": "execute_result"
    }
   ],
   "source": [
    "def hot_potato(namelist, num):\n",
    "    simqueue = Queue()\n",
    "    \n",
    "    for name in namelist:\n",
    "        simqueue.enqueue(name)\n",
    "    \n",
    "    while len(simqueue) > 1:    \n",
    "        for i in range(num):\n",
    "            simqueue.enqueue(simqueue.dequeue())\n",
    "            print(simqueue.get_queue())          \n",
    "        simqueue.dequeue()\n",
    "        \n",
    "    return simqueue.dequeue()\n",
    "\n",
    "names = [\"Bill\", \"David\", \"Susan\", \"Jane\", \"Kent\", \"Brad\"]\n",
    "number_of_potato_passes = 7\n",
    "hot_potato(names, number_of_potato_passes)"
   ]
  },
  {
   "cell_type": "markdown",
   "id": "36b8f386",
   "metadata": {
    "slideshow": {
     "slide_type": "slide"
    }
   },
   "source": [
    "#### Exercise 9: Implement a queue using two stacks\n"
   ]
  },
  {
   "cell_type": "code",
   "execution_count": 148,
   "id": "bdef4271",
   "metadata": {},
   "outputs": [
    {
     "ename": "IndentationError",
     "evalue": "expected an indented block after function definition on line 7 (2860832557.py, line 10)",
     "output_type": "error",
     "traceback": [
      "\u001b[0;36m  Input \u001b[0;32mIn [148]\u001b[0;36m\u001b[0m\n\u001b[0;31m    def dequeue(self, item):\u001b[0m\n\u001b[0m    ^\u001b[0m\n\u001b[0;31mIndentationError\u001b[0m\u001b[0;31m:\u001b[0m expected an indented block after function definition on line 7\n"
     ]
    }
   ],
   "source": [
    "class QueueWithStacks:\n",
    "    \n",
    "    def __init__(self):\n",
    "        self.stack_in = Stack()\n",
    "        self.stack_out = Stack()    \n",
    "        \n",
    "    def enqueue(self, item):\n",
    "        # implement method here \n",
    "        \n",
    "    def dequeue(self, item):\n",
    "        #implement method here\n",
    "        \n",
    "    \n",
    "#driver code\n",
    "q = QueueWithStacks()\n",
    "name = \"Algorithm\"\n",
    "\n",
    "for letter in name:\n",
    "    q.enqueue(letter)\n",
    "    print(q.dequeue(letter))"
   ]
  },
  {
   "cell_type": "markdown",
   "id": "834fcb5f",
   "metadata": {
    "slideshow": {
     "slide_type": "subslide"
    }
   },
   "source": [
    "##### Solution\n",
    "\n",
    "![dia2](img/7queuestack.png)\n",
    "<div class=\"author\">src: Girish Rathi, stackoverflow.com</div>"
   ]
  },
  {
   "cell_type": "code",
   "execution_count": 146,
   "id": "080264ee",
   "metadata": {
    "slideshow": {
     "slide_type": "-"
    }
   },
   "outputs": [
    {
     "name": "stdout",
     "output_type": "stream",
     "text": [
      "A\n",
      "l\n",
      "g\n",
      "o\n",
      "r\n",
      "i\n",
      "t\n",
      "h\n",
      "m\n"
     ]
    }
   ],
   "source": [
    "# Solution Exercise 9\n",
    "class QueueWithStacks:\n",
    "    \n",
    "    def __init__(self):\n",
    "        self.stack_in = Stack()\n",
    "        self.stack_out = Stack()    \n",
    "        \n",
    "    def enqueue(self, item):\n",
    "        self.stack_in.push(item)\n",
    "        \n",
    "    def dequeue(self, item):\n",
    "        if self.stack_out.is_empty():\n",
    "            while len(self.stack_in) > 0:\n",
    "                self.stack_out.push(self.stack_in.pop())\n",
    "        return self.stack_out.items.pop()\n",
    "    \n",
    "#driver code\n",
    "q = QueueWithStacks()\n",
    "name = \"Algorithm\"\n",
    "\n",
    "for letter in name:\n",
    "    q.enqueue(letter)\n",
    "    print(q.dequeue(letter))\n",
    "\n"
   ]
  },
  {
   "cell_type": "markdown",
   "id": "f8040fe5",
   "metadata": {
    "slideshow": {
     "slide_type": "slide"
    }
   },
   "source": [
    "### 2.4 Deques\n",
    "<div class=\"author\">src: wikipedia.org</div>\n",
    "\n",
    "A Deque is a double-ended queue is an abstract data type that generalizes a queue, for which elements can be added to or removed from either the front (head) or back (tail). It is also often called a head-tail linked list, though properly this refers to a specific data structure implementation of a deque. \n",
    "\n",
    "This differs from the queue abstract data type or first in first out list (FIFO), where elements can only be added to one end and removed from the other. This general data class has some possible sub-types:\n",
    "\n",
    "- An input-restricted deque is one where deletion can be made from both ends, but insertion can be made at one end only.\n",
    "- An output-restricted deque is one where insertion can be made at both ends, but deletion can be made from one end only.\n",
    "\n",
    "Both the basic and most common list types in computing, queues and stacks can be considered specializations of deques, and can be implemented using deques. "
   ]
  },
  {
   "cell_type": "markdown",
   "id": "b011632d",
   "metadata": {
    "slideshow": {
     "slide_type": "slide"
    }
   },
   "source": [
    "##### A Deque of Python Data Objects\n",
    "\n",
    "![dia2](img/7deque.png)\n",
    "<div class=\"author\">src: Problem Solving with Algorithms and Data Structures / pas.rochester.edu/~rsarkis</div>"
   ]
  },
  {
   "cell_type": "markdown",
   "id": "e7dec740",
   "metadata": {
    "slideshow": {
     "slide_type": "slide"
    }
   },
   "source": [
    "##### Queue Operations for Deque\n",
    "\n",
    "| Operation | Description |\n",
    "|:---|:---|\n",
    "|Deque()|creates a new deque (object) that is empty. It needs no parameters and returns an empty sequence|\n",
    "|add_front(item)|adds a new item to the front of the deque. It needs the item and returns nothing|\n",
    "|add_rear(item)|adds a new item to the read of the deque. It needs the item and returns nothing|\n",
    "|remove_front()| removes the front item from the deque. It needs no parameters and returns the item. \n",
    "|remove_rear()| removes the reat item from the deque. It needs no parameters and returns the item. \n",
    "|is_empty()|tests to see whether the deque is empty. It needs no parameters and returns a boolean value|\n",
    "|len()|returns the number of items in the deque. It needs no parameters and returns an integer|\n",
    "\n",
    "\n",
    "<div class=\"author\">src: Problem Solving with Algorithms and Data Structures / pas.rochester.edu/~rsarkis</div>"
   ]
  },
  {
   "cell_type": "markdown",
   "id": "685caa9a",
   "metadata": {
    "slideshow": {
     "slide_type": "slide"
    }
   },
   "source": [
    "##### Python Class Implementation"
   ]
  },
  {
   "cell_type": "code",
   "execution_count": 150,
   "id": "8a061700",
   "metadata": {
    "slideshow": {
     "slide_type": "-"
    }
   },
   "outputs": [
    {
     "name": "stdout",
     "output_type": "stream",
     "text": [
      "True\n",
      "None\n",
      "None\n",
      "None\n",
      "None\n",
      "4\n",
      "False\n",
      "None\n",
      "8.4\n"
     ]
    }
   ],
   "source": [
    "class Deque:\n",
    "    def __init__(self):\n",
    "        self.items = []\n",
    "        \n",
    "    def is_empty(self):\n",
    "        return self.items == []\n",
    "    \n",
    "    def add_front(self, item):\n",
    "        self.items.append(item)\n",
    "        \n",
    "    def add_rear(self, item):\n",
    "        self.items.insert(0, item)\n",
    "        \n",
    "    def remove_front(self):\n",
    "        return self.items.pop()\n",
    "    \n",
    "    def remove_rear(self):\n",
    "        return self.items.pop(0)\n",
    "    \n",
    "    def __len__(self):\n",
    "        return len(self.items)\n",
    "    \n",
    "    \n",
    "d = Deque()\n",
    "\n",
    "print(d.is_empty())\n",
    "print(d.add_rear(4))\n",
    "print(d.add_rear('dog'))\n",
    "print(d.add_front('cat'))\n",
    "print(d.add_front(True))\n",
    "print(len(d))\n",
    "print(d.is_empty())\n",
    "print(d.add_rear(8.4)) \n",
    "print(d.remove_rear()) "
   ]
  },
  {
   "cell_type": "markdown",
   "id": "ae869ee7",
   "metadata": {
    "slideshow": {
     "slide_type": "slide"
    }
   },
   "source": [
    "#### Exercise 10 / Homework\n",
    "\n",
    "A palindrome is a word, number, phrase, or other sequence of characters which reads the same backward as forward, such as madam or racecar.\n",
    "\n",
    "Use above's Deque Class to implement a function `pal_checker()` which can check whether passed strings are palindromes or not.\n",
    "\n",
    "![dia2](img/7palindrome.png)\n",
    "<div class=\"author\">src: Problem Solving with Algorithms and Data Structures / pas.rochester.edu/~rsarkis</div>"
   ]
  },
  {
   "cell_type": "code",
   "execution_count": 153,
   "id": "380a4ff4",
   "metadata": {},
   "outputs": [
    {
     "name": "stdout",
     "output_type": "stream",
     "text": [
      "False\n",
      "True\n"
     ]
    }
   ],
   "source": [
    "def pal_checker(a_str):\n",
    "    # Implement here\n",
    "\n",
    "print(pal_checker(\"lsdkjfskf\"))\n",
    "print(pal_checker(\"radar\"))"
   ]
  },
  {
   "cell_type": "code",
   "execution_count": null,
   "id": "2b66c642",
   "metadata": {
    "slideshow": {
     "slide_type": "subslide"
    }
   },
   "outputs": [],
   "source": [
    "# Solution Exercise 10 \n",
    "def pal_checker(a_str):\n",
    "    char_deque = Deque()\n",
    "    \n",
    "    for ch in a_str:\n",
    "        char_deque.add_rear(ch) \n",
    "        \n",
    "    still_equal = True\n",
    "    \n",
    "    while len(char_deque) > 1 and still_equal:\n",
    "        first = char_deque.remove_front()\n",
    "        last = char_deque.remove_rear()\n",
    "        if first != last:\n",
    "            still_equal = False\n",
    "            \n",
    "    return still_equal\n",
    "\n",
    "print(pal_checker(\"lsdkjfskf\"))\n",
    "print(pal_checker(\"radar\"))"
   ]
  }
 ],
 "metadata": {
  "celltoolbar": "Slideshow",
  "kernelspec": {
   "display_name": "Python 3 (ipykernel)",
   "language": "python",
   "name": "python3"
  },
  "language_info": {
   "codemirror_mode": {
    "name": "ipython",
    "version": 3
   },
   "file_extension": ".py",
   "mimetype": "text/x-python",
   "name": "python",
   "nbconvert_exporter": "python",
   "pygments_lexer": "ipython3",
   "version": "3.10.4"
  },
  "varInspector": {
   "cols": {
    "lenName": 16,
    "lenType": 16,
    "lenVar": 40
   },
   "kernels_config": {
    "python": {
     "delete_cmd_postfix": "",
     "delete_cmd_prefix": "del ",
     "library": "var_list.py",
     "varRefreshCmd": "print(var_dic_list())"
    },
    "r": {
     "delete_cmd_postfix": ") ",
     "delete_cmd_prefix": "rm(",
     "library": "var_list.r",
     "varRefreshCmd": "cat(var_dic_list()) "
    }
   },
   "types_to_exclude": [
    "module",
    "function",
    "builtin_function_or_method",
    "instance",
    "_Feature"
   ],
   "window_display": false
  }
 },
 "nbformat": 4,
 "nbformat_minor": 5
}
