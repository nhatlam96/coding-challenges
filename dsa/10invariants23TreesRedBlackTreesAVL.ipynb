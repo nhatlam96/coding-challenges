{
 "cells": [
  {
   "cell_type": "code",
   "execution_count": 1,
   "id": "65e2cd3f",
   "metadata": {
    "hide_input": true,
    "slideshow": {
     "slide_type": "skip"
    }
   },
   "outputs": [
    {
     "data": {
      "text/html": [
       "<style>h1{text-align:center;}h1{text-transform:none;}.rendered_html h4{color:#17b6eb;font-size: 1.6em;}img[alt=dia1]{width:35%;}img[alt=book]{width:20%;font-size: 3em;}img[alt=dia2]{width:50%;}.author{font-size:8px;}</style>\n"
      ],
      "text/plain": [
       "<IPython.core.display.HTML object>"
      ]
     },
     "metadata": {},
     "output_type": "display_data"
    }
   ],
   "source": [
    "%%html\n",
    "<style>h1{text-align:center;}h1{text-transform:none;}.rendered_html h4{color:#17b6eb;font-size: 1.6em;}img[alt=dia1]{width:35%;}img[alt=book]{width:20%;font-size: 3em;}img[alt=dia2]{width:50%;}.author{font-size:8px;}</style>"
   ]
  },
  {
   "cell_type": "markdown",
   "id": "8c05074c",
   "metadata": {
    "slideshow": {
     "slide_type": "slide"
    }
   },
   "source": [
    "# Lecture 10: Invariants, 2-3 Trees, Red-Black Trees"
   ]
  },
  {
   "cell_type": "markdown",
   "id": "b27b48c4",
   "metadata": {
    "slideshow": {
     "slide_type": "slide"
    }
   },
   "source": [
    "## 0. Data Structure Invariants\n",
    "<div class=\"author\">src: chalmers.instructure.com</div>\n",
    "\n",
    "### 0.1 Recap last week - BSTs\n",
    "\n",
    "A *binary search tree* is a binary tree, where:\n",
    "\n",
    "- each node has a __key__ \n",
    "- each node's key is greater than all the keys in the left subtree, and less than all the keys in the right subtree\n",
    "\n",
    "![dia1](img/10bst.png)"
   ]
  },
  {
   "cell_type": "markdown",
   "id": "80fd8bd9",
   "metadata": {
    "slideshow": {
     "slide_type": "slide"
    }
   },
   "source": [
    "### 0.2 Invariants\n",
    "\n",
    "A so-called __invariant__ on a data structure restricts valid elements of a type. Dependent types can capture such invariants, so that only valid elements are well-typed.\n",
    "\n",
    "The property\n",
    "\n",
    "    *each node's key is greater than all the keys in the left subtree, and less than all the keys in the right subtree*\n",
    "    \n",
    "is an example of a __data structure invariant__.\n",
    "\n",
    "A data structure invariant is a propoerty of the data structure that always needs to hold."
   ]
  },
  {
   "cell_type": "markdown",
   "id": "88e21df3",
   "metadata": {
    "slideshow": {
     "slide_type": "slide"
    }
   },
   "source": [
    "### 0.2.1 Maintaining Invariants\n",
    "\n",
    "- When implementing data structure operations, it is fairly simple to make sure that the invariant holds\n",
    "- When modifying an invariant data structure, it is often challenging to make sure that the invariant will hold afterwards. This is called: __maintaining the invariant__"
   ]
  },
  {
   "cell_type": "markdown",
   "id": "b7209000",
   "metadata": {
    "slideshow": {
     "slide_type": "slide"
    }
   },
   "source": [
    "## 1. 2-3 trees\n",
    "\n",
    "### 1.1 Recap BST performance\n",
    "\n",
    "![dia2](img/9bstbalanced.png)\n",
    "<div class=\"author\">src: chalmers.instructure.com</div>\n",
    "\n",
    "__Best Case = \"balanced\"__ - height of tree is $O(\\log n)$\n",
    "\n",
    "__Average Case = \"random order\"__ - if keys are added in random order, height of tree is $O(\\log n)$\n",
    "\n",
    "__Worst Case = \"unbalanced\"__ - height of tree is $O(n)$ => BAD"
   ]
  },
  {
   "cell_type": "markdown",
   "id": "ee13b3d4",
   "metadata": {
    "slideshow": {
     "slide_type": "slide"
    }
   },
   "source": [
    "### 1.2 Using invariants to balance BSTs\n",
    "\n",
    "Let's try the following invariant:\n",
    "\n",
    "    *height of tree must be logarithmic*\n",
    "    \n",
    "![book](img/10balanced.png)\n",
    "\n",
    "__Conclusion:__ This invariant is too restrictive. It only works if the number of nodes is $2n + 1$, for example: (1, 3, 7, 15...)"
   ]
  },
  {
   "cell_type": "markdown",
   "id": "66955ebf",
   "metadata": {
    "slideshow": {
     "slide_type": "slide"
    }
   },
   "source": [
    "### 1.2 2-3 tree\n",
    "\n",
    "A better solution is the a so-called __2-3 tree__, which is a __perfectly balanced BST__.\n",
    "\n",
    "__Perfectly balanced__ means that every path from the root to each leaf has the same length.\n",
    "\n",
    "Hence, the 2-3 tree data structure guarantees worst case __O(log n)__ time complexity for search and insert operations."
   ]
  },
  {
   "cell_type": "markdown",
   "id": "d21f068f",
   "metadata": {
    "slideshow": {
     "slide_type": "slide"
    }
   },
   "source": [
    "### __Invariant__: All childred of each node *always* have the same height\n",
    "\n",
    "- A __2-node__ contains a __single value__ and has __two children__ (unleass it is a leaf) ![book](img/10twonode.png)\n",
    "\n",
    "- A __3-node__ contains __two values__ and has __three children__ (unless it is a leaf) ![book](img/2threenode.png)\n",
    "\n",
    "\n",
    "A __4-node__, with three data elements, may be temporarily created during manipulation of the tree but is never persistently stored in the tree. "
   ]
  },
  {
   "cell_type": "markdown",
   "id": "267d5c19",
   "metadata": {
    "slideshow": {
     "slide_type": "slide"
    }
   },
   "source": [
    "We say that $T$ is a 2–3 tree if and only if one of the following statements hold:\n",
    "\n",
    "- $T$ is empty. In other words, $T$ does not have any nodes.\n",
    "- $T$ is a 2-node with data element $a$ if $T$ has left child $p$ and right child $q$, then\n",
    "    - $p$ and $q$ are 2–3 trees of the same height;\n",
    "    - $a$ is greater than each element in $p$ and\n",
    "    - $a$ is less than each data element in $q$.\n",
    "- $T$ is a 3-node with data elements $a$ and $b$, where $a < b$ if $T$ has left child $p$, middle child $q$, and right child $r$, then\n",
    "    - $p$, $q$, and $r$ are 2–3 trees of equal height;\n",
    "    - $a$ is greater than each data element in $p$ and less than each data element in $q$ and\n",
    "    - $b$ is greater than each data element in $q$ and less than each data element in $r$.\n",
    "        \n",
    "<div class=\"author\">src: wikipedia.org</div>"
   ]
  },
  {
   "cell_type": "markdown",
   "id": "47c1ac1c",
   "metadata": {
    "slideshow": {
     "slide_type": "slide"
    }
   },
   "source": [
    "##### Simplified properties\n",
    "\n",
    "- every internal node is a 2-node or a 3-node\n",
    "- all leaves are at the same level\n",
    "- all data is kept in sorted order\n",
    "- __the tree is always perfectly balanced!__\n",
    "\n",
    "![dia2](img/1023example.png)\n",
    "<div class=\"author\">src: chalmers.instructure.com</div>"
   ]
  },
  {
   "cell_type": "markdown",
   "id": "12bf52d3",
   "metadata": {
    "slideshow": {
     "slide_type": "slide"
    }
   },
   "source": [
    "#### Exercise 1\n",
    "\n",
    "\n",
    "Which of the following trees are 2-3 trees?\n",
    "![dia2](img/10ex1.png)\n",
    "<div class=\"author\">src: chalmers.instructure.com</div>"
   ]
  },
  {
   "cell_type": "markdown",
   "id": "8b701f8a",
   "metadata": {
    "slideshow": {
     "slide_type": "fragment"
    }
   },
   "source": [
    "##### Solution:\n",
    "\n",
    "C"
   ]
  },
  {
   "cell_type": "markdown",
   "id": "29d883e3",
   "metadata": {
    "slideshow": {
     "slide_type": "slide"
    }
   },
   "source": [
    "### 1.3 Operations\n",
    "\n",
    "##### 1.3.1 Searching\n",
    "\n",
    "When search a key $K$ in a given 2-3 tree $T$:\n",
    "\n",
    "__Base cases__\n",
    "\n",
    "1. return *False* if $T$ is empty\n",
    "2. return *True* if current node contains value equal $K$\n",
    "3. retrurn *False* if current node is leaf-node and node value is not equal to $K$\n",
    "\n",
    "__Recursive calls__\n",
    "\n",
    "1. if $K <$ currentNode.leftVal -> explore left subtree\n",
    "2. else if currentNode $< K <$ currentNode.rightVal -> explore middle subtree\n",
    "3. else if $K >$ currentNode.rightVal -> explore right subtree"
   ]
  },
  {
   "cell_type": "markdown",
   "id": "269892e3",
   "metadata": {
    "slideshow": {
     "slide_type": "slide"
    }
   },
   "source": [
    "##### Example: Searching for number 5\n",
    "![dia2](img/10search.png)\n",
    "<div class=\"author\">src: geeksforgeeks.org</div>"
   ]
  },
  {
   "cell_type": "markdown",
   "id": "3b278c3d",
   "metadata": {
    "slideshow": {
     "slide_type": "slide"
    }
   },
   "source": [
    "##### 1.3.2 Inserting\n",
    "\n",
    "There are 3 possible cases for insertion:\n",
    "\n",
    "1. insert into a node with only __one__ data element\n",
    "2. insert into a node with __two__ data elements whose parent contains only __one__ data element\n",
    "3. insert into a node with __two__ data elements whose parent containse __two__ data elements\n",
    "\n",
    "![](img/10insert.png)\n",
    "<div class=\"author\">src: CC BY-SA 4.0 Diaa abdelmoneim via wikimedia.org</div>"
   ]
  },
  {
   "cell_type": "markdown",
   "id": "12499684",
   "metadata": {
    "slideshow": {
     "slide_type": "slide"
    }
   },
   "source": [
    "##### Splitting a temporary 4-node\n",
    "\n",
    "A temporary 4-node is split into several 2-nodes, which will create an extra level in the tree. The *pink* node is then absorbed (elevated) into its parent.\n",
    "\n",
    "![dia2](img/10split.png)\n",
    "<div class=\"author\">src: chalmers.instructure.com</div>"
   ]
  },
  {
   "cell_type": "markdown",
   "id": "ef37166e",
   "metadata": {
    "slideshow": {
     "slide_type": "slide"
    }
   },
   "source": [
    "### 1.4 Summary\n",
    "\n",
    "- 2-3 trees are *perfectly balanced*, which is enabled by allowing 3 children\n",
    "- invariant is maintained using *absorption* and *splitting* (for 4-nodes)\n",
    "- complexity is logarithmic\n",
    "- conceptional simple\n",
    "- implementation of deletion is complicated"
   ]
  },
  {
   "cell_type": "markdown",
   "id": "44c14ef2",
   "metadata": {
    "slideshow": {
     "slide_type": "slide"
    }
   },
   "source": [
    "## 2. Red-black tree\n",
    "\n",
    "A red–black tree is a kind of self-balancing binary search tree. \n",
    "\n",
    "Each node stores an extra bit representing \"color\" (\"red\" or \"black\"), used to ensure that the tree remains balanced during insertions and deletions.\n",
    "\n",
    "When the tree is modified, the new tree is rearranged and \"repainted\" to restore the coloring properties that constrain how unbalanced the tree can become in the worst case. The properties are designed such that this rearranging and recoloring can be performed efficiently. \n",
    "\n",
    "![dia1](img/10redblack.png)\n",
    "<div class=\"author\">src: CC BY-SA 4.0 Nomen4Omen via wikimedia.org</div>"
   ]
  },
  {
   "cell_type": "markdown",
   "id": "ee08917a",
   "metadata": {
    "slideshow": {
     "slide_type": "slide"
    }
   },
   "source": [
    "### 2.1 Properties\n",
    "\n",
    "- each internal node has two children\n",
    "- each internal node has a color, such that:\n",
    "    - the root is black\n",
    "    - all leaf nodes (NIL nodes) are black\n",
    "    - for each node, all paths to descendant leaves contain the same number of black nodes\n",
    "    - if a node is red, then both its children are black\n",
    "- the __null__ pointers in a BST are replaced by pointers to special null-vertices that do not carry any object-data\n",
    "\n",
    "![dia1](img/10blackred2.png)\n",
    "<div class=\"author\">src: Ernst Mayr, in.tum.de</div>"
   ]
  },
  {
   "cell_type": "markdown",
   "id": "b0c990aa",
   "metadata": {
    "slideshow": {
     "slide_type": "slide"
    }
   },
   "source": [
    "Each node has the following attributes:\n",
    "\n",
    "- color\n",
    "- key\n",
    "- leftChild\n",
    "- rightChild\n",
    "- parent (except root)"
   ]
  },
  {
   "cell_type": "markdown",
   "id": "aeec55ce",
   "metadata": {
    "slideshow": {
     "slide_type": "slide"
    }
   },
   "source": [
    "### 2.2 Rebalancing\n",
    "\n",
    "Red-black tree is effective for search, insert, and delete operations. The re-balancing is not perfect, but guarantees searching in __O(log ⁡ n)__ time, where $n$ is the number of entries. The insert and delete operations, along with the tree rearrangement and recoloring, are also performed in __O(log ⁡ n)__ time.\n",
    "\n",
    "|Type|Average|Worst case|\n",
    "|:---|:---|:---|\n",
    "|Space|O(log n)|O(n)|\n",
    "|Search|O(log n)|O(log n)|\n",
    "|Insert|O(log n)|O(log n)|\n",
    "|Delete|O(log n)|O(log n)|"
   ]
  },
  {
   "cell_type": "markdown",
   "id": "28fd3754",
   "metadata": {
    "slideshow": {
     "slide_type": "slide"
    }
   },
   "source": [
    "##### 2.2.1 Rebalancing by Rotation\n",
    "\n",
    "In rotation operation, the positions of the nodes of a subtree are interchanged.\n",
    "\n",
    "Rotation operation is used for maintaining the properties of a red-black tree when they are violated by other operations such as insertion and deletion. It is possible to \"*left rotate*\" and \"*right rotate*\"."
   ]
  },
  {
   "cell_type": "markdown",
   "id": "fb1513d5",
   "metadata": {
    "slideshow": {
     "slide_type": "slide"
    }
   },
   "source": [
    "##### Left Rotation\n",
    "\n",
    "After rotating on node $x$, node $y$ will become the new root of the subtree and its left child will become $x$. The previous left child of $y$ will now become the right child of $x$.\n",
    "\n",
    "\n",
    "![dia1](img/10leftrot.png)\n",
    "![book](img/10leftrot.gif)\n",
    "<div class=\"author\">src: codesdope.com</div>"
   ]
  },
  {
   "cell_type": "markdown",
   "id": "69b1bc04",
   "metadata": {
    "slideshow": {
     "slide_type": "slide"
    }
   },
   "source": [
    "##### Right Rotation\n",
    "![dia1](img/10rightrot.png)\n",
    "![book](img/10rightrot.gif)\n",
    "<div class=\"author\">src: codesdope.com</div>"
   ]
  },
  {
   "cell_type": "markdown",
   "id": "442f794a",
   "metadata": {
    "slideshow": {
     "slide_type": "slide"
    }
   },
   "source": [
    "A 3-node becomes two BST nodes. 3-nodes are always translated into a node and its left child:\n",
    "\n",
    "![dia2](img/10rbt.png)\n",
    "\n",
    "<div class=\"author\">src: chalmers.instructure.com</div>"
   ]
  },
  {
   "cell_type": "markdown",
   "id": "3778cf7a",
   "metadata": {
    "slideshow": {
     "slide_type": "slide"
    }
   },
   "source": [
    "### 2.4 Inserting into a Red-Black Tree\n",
    "<div class=\"author\">src: programiz.com</div>\n",
    "\n",
    "New nodes are insert into a red-black tree in a similar way as in normal BSTs. The newly inserted node will be colored red. Doing so can violate some properties of red-black trees. Hence, we have to create and call a function to fix any kind of violations afterwards. \n",
    "\n",
    "However, inserting a black node would be more difficult since rotation and discoloration can be much easier on a path that contains two successive red nodes than on a path that contains an extra black node.\n",
    "\n",
    "The new node will replace an existing leaf. A series of rotation(s) and recoloring(s) may have to occur until the tree is balanced."
   ]
  },
  {
   "cell_type": "markdown",
   "id": "b206ccbc",
   "metadata": {
    "slideshow": {
     "slide_type": "slide"
    }
   },
   "source": [
    "__Algorithm to insert a node__\n",
    "\n",
    "1. let `y` be the leaf (i.e. NIL) and `x` be the root of the tree.\n",
    "2. check if the tree is empty. If yes, insert `newNode` as a root node and color it black.\n",
    "3. else, repeat following steps until leaf (NIL) is reached:\n",
    "    - compare `newKey` with `rootKey`\n",
    "    - if `newKey` > `rootKey`, traverse through right subtree\n",
    "    - else traverse through left subtree\n",
    "4. assign the parent of the leaf as a parent of `newNode`\n",
    "5. if `leafKey` > `newKey`, make `newNode` as `rightChild`\n",
    "6. else, make `newNode` as `leftChild`\n",
    "7. assign `NULL` to the `leftChild` and `rightChild` of `newNode`\n",
    "8. assign RED color to `newNode`\n",
    "9. call insertFix-Algorithm (below) to recolor/rotate tree to note violate any properties\n",
    "\n",
    "![dia1](img/10rbinsert.png)\n",
    "<div class=\"author\">src: codesdope.com</div>"
   ]
  },
  {
   "cell_type": "markdown",
   "id": "2d62a2ac",
   "metadata": {
    "slideshow": {
     "slide_type": "slide"
    }
   },
   "source": [
    "__insertFix Algorithm__\n",
    "\n",
    "1. if root node does not exist, `newNode` ($N$) becomes the new root node and is colored black\n",
    "2. if the `parentNode` ($P$) is black, no adjustments are necessary\n",
    "3. if `parentNode` and `uncleNode` ($U$) are red, `parentNode` and `uncleNode` will be colored black. `grandfatherNode` ($G$) will be colored red. This adjustment will occur recursively.\n",
    "\n",
    "![dia2](img/10ins1.png)\n",
    "\n",
    "\n",
    "<div class=\"author\">src: cc.edu.tw</div>"
   ]
  },
  {
   "cell_type": "markdown",
   "id": "0e1aa09f",
   "metadata": {
    "slideshow": {
     "slide_type": "slide"
    }
   },
   "source": [
    "__insertFix Algorithm (continued)__\n",
    "\n",
    "4. if `parentNode` is red AND `uncleNode` is either black OR nonexistent, `newNode` if `parentNode`'s left child AND `parentNode` is `grandfatherNode`'s left child, a right rotation will occur on `grandfatherNode`.\n",
    "![dia2](img/10ins2.png)\n",
    "\n",
    "5. if `parentNode` is red AND `uncleNode` is either black OR nonexistent, `newNode` if `parentNode`'s right child AND `parentNode` is `grandfatherNode`'s left child, a left rotation will be performed on `parentNode`. Then (4) is executed.\n",
    "![dia2](img/10ins3.png)\n",
    "\n",
    "6. Cases 3 to 5 are symmetric if `parentNode`is a right child of `grandfatherNode`.\n",
    "\n",
    "<div class=\"author\">src: cc.edu.tw</div>"
   ]
  },
  {
   "cell_type": "markdown",
   "id": "f30a70b2",
   "metadata": {
    "slideshow": {
     "slide_type": "slide"
    }
   },
   "source": [
    "##### Pseudocode\n",
    "```\n",
    "INSERT(T, n)\n",
    "  y = T.NIL\n",
    "  temp = T.root\n",
    "\n",
    "  while temp != T.NIL\n",
    "      y = temp\n",
    "      if n.data < temp.data\n",
    "          temp = temp.left\n",
    "      else\n",
    "          temp = temp.right\n",
    "  n.parent = y\n",
    "  if y==T.NIL\n",
    "      T.root = n\n",
    "  else if n.data < y.data\n",
    "      y.left = n\n",
    "  else\n",
    "      y.right = n\n",
    "\n",
    "  n.left = T.NIL\n",
    "  n.right = T.NIL\n",
    "  n.color = RED\n",
    "  inserFix(T, n)\n",
    "```"
   ]
  },
  {
   "cell_type": "code",
   "execution_count": null,
   "id": "2b927264",
   "metadata": {
    "slideshow": {
     "slide_type": "slide"
    }
   },
   "outputs": [],
   "source": []
  },
  {
   "cell_type": "markdown",
   "id": "7cb4b6b3",
   "metadata": {
    "slideshow": {
     "slide_type": "slide"
    }
   },
   "source": [
    "## 3. Tree Exercises \n",
    "#### Exercise 2\n",
    "\n",
    "Insert items with the following keys into an initially empty binary search tree: 30, 40, 24, 58, 48, 26, 11, 13"
   ]
  },
  {
   "cell_type": "markdown",
   "id": "13add558",
   "metadata": {
    "slideshow": {
     "slide_type": "subslide"
    }
   },
   "source": [
    "##### Solution\n",
    "![dia2](img/10ex2.png)\n"
   ]
  },
  {
   "cell_type": "markdown",
   "id": "21af26e7",
   "metadata": {
    "slideshow": {
     "slide_type": "slide"
    }
   },
   "source": [
    "#### Exercise 3\n",
    "\n",
    "Choose a set of 7 distinct, positive, integer keys. Draw binary search trees for your set of height 2 and 5."
   ]
  },
  {
   "cell_type": "markdown",
   "id": "d08a5e02",
   "metadata": {
    "slideshow": {
     "slide_type": "subslide"
    }
   },
   "source": [
    "##### Solution\n",
    "![dia2](img/10ex3-1.png)\n",
    "![dia2](img/10ex3-2.png)\n"
   ]
  },
  {
   "cell_type": "markdown",
   "id": "10ca7255",
   "metadata": {
    "slideshow": {
     "slide_type": "slide"
    }
   },
   "source": [
    "#### Exercise 4\n",
    "\n",
    "Are the following statements TRUE or FALSE? Justify your answer.\n",
    "\n",
    "1. The subtree of the root of a red-black tree is always itself a red-black tree.\n",
    "\n",
    "\n",
    "2. The sibling of a null child reference in a red-black tree is either another null child reference or a red node."
   ]
  },
  {
   "cell_type": "markdown",
   "id": "e255b22f",
   "metadata": {
    "slideshow": {
     "slide_type": "subslide"
    }
   },
   "source": [
    "##### Solution\n",
    "\n",
    "1. FALSE: The root of a red-black must be black, by definition. It is possible for the child of the root of a\n",
    "red-black tree to be red. Therefore, it is possible for the subtree of the root of a red-black tree to have a red root,\n",
    "meaning that it can not be a red-black tree."
   ]
  },
  {
   "cell_type": "markdown",
   "id": "67ea4023",
   "metadata": {
    "slideshow": {
     "slide_type": "subslide"
    }
   },
   "source": [
    "2. TRUE: Let x represent the parent of the null reference and suppose x.right is the\n",
    "null reference. Suppose x.left refers to a black node. Then, the number of black nodes on the path from the\n",
    "root to the x.right null reference must be less than the number of black nodes from the root to all nodes in the\n",
    "subtree rooted at x.left. This violates the definition of red-black tree. So, x.left must be a null reference or a red\n",
    "node.\n",
    "![dia1](img/10blackred2.png)\n",
    "<div class=\"author\">src: Ernst Mayr, in.tum.de</div>"
   ]
  },
  {
   "cell_type": "markdown",
   "id": "db63f468",
   "metadata": {
    "slideshow": {
     "slide_type": "slide"
    }
   },
   "source": [
    "#### Exercise 5\n",
    "\n",
    "Draw the red-black tree that results after inserting the following integer keys into an initially empty red-black tree: 21, 32, 64, 75, 15.\n",
    "\n",
    "Clearly show the tree at each step and indicate recolorings and rotations."
   ]
  },
  {
   "cell_type": "markdown",
   "id": "17d57828",
   "metadata": {
    "slideshow": {
     "slide_type": "subslide"
    }
   },
   "source": [
    "##### Solution\n",
    "![](img/10ex5.png)\n"
   ]
  }
 ],
 "metadata": {
  "celltoolbar": "Slideshow",
  "kernelspec": {
   "display_name": "Python 3 (ipykernel)",
   "language": "python",
   "name": "python3"
  },
  "language_info": {
   "codemirror_mode": {
    "name": "ipython",
    "version": 3
   },
   "file_extension": ".py",
   "mimetype": "text/x-python",
   "name": "python",
   "nbconvert_exporter": "python",
   "pygments_lexer": "ipython3",
   "version": "3.10.4"
  },
  "varInspector": {
   "cols": {
    "lenName": 16,
    "lenType": 16,
    "lenVar": 40
   },
   "kernels_config": {
    "python": {
     "delete_cmd_postfix": "",
     "delete_cmd_prefix": "del ",
     "library": "var_list.py",
     "varRefreshCmd": "print(var_dic_list())"
    },
    "r": {
     "delete_cmd_postfix": ") ",
     "delete_cmd_prefix": "rm(",
     "library": "var_list.r",
     "varRefreshCmd": "cat(var_dic_list()) "
    }
   },
   "types_to_exclude": [
    "module",
    "function",
    "builtin_function_or_method",
    "instance",
    "_Feature"
   ],
   "window_display": false
  }
 },
 "nbformat": 4,
 "nbformat_minor": 5
}
