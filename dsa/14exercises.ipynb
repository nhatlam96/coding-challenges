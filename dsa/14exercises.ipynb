{
 "cells": [
  {
   "cell_type": "code",
   "execution_count": 1,
   "id": "65e2cd3f",
   "metadata": {
    "hide_input": true,
    "slideshow": {
     "slide_type": "skip"
    }
   },
   "outputs": [
    {
     "data": {
      "text/html": [
       "<style>h1{text-align:center;}h1{text-transform:none;}.rendered_html h4{color:#17b6eb;font-size: 1.6em;}img[alt=dia1]{width:35%;}img[alt=book]{width:20%;font-size: 3em;}img[alt=dia2]{width:50%;}.author{font-size:8px;}</style>\n"
      ],
      "text/plain": [
       "<IPython.core.display.HTML object>"
      ]
     },
     "metadata": {},
     "output_type": "display_data"
    }
   ],
   "source": [
    "%%html\n",
    "<style>h1{text-align:center;}h1{text-transform:none;}.rendered_html h4{color:#17b6eb;font-size: 1.6em;}img[alt=dia1]{width:35%;}img[alt=book]{width:20%;font-size: 3em;}img[alt=dia2]{width:50%;}.author{font-size:8px;}</style>"
   ]
  },
  {
   "cell_type": "markdown",
   "id": "8c05074c",
   "metadata": {
    "slideshow": {
     "slide_type": "slide"
    }
   },
   "source": [
    "# Recap Lecture 14: Exercises"
   ]
  },
  {
   "cell_type": "markdown",
   "id": "9caed373",
   "metadata": {
    "slideshow": {
     "slide_type": "slide"
    }
   },
   "source": [
    "## 1. Time Complexity\n",
    "\n",
    "### Exercise 1.1\n",
    "Simplify the following Big-O expressions as much as possible.\n",
    "\n",
    "1. $O(n+4)$\n",
    "2. $O(n^3 + n^2)$\n",
    "3. $O(300 \\cdot \\log(n) + n)$\n",
    "4. $O(2^n + n^2)$\n",
    "5. $O(5 + c)$ with $c \\in \\mathbb{N}$\n"
   ]
  },
  {
   "cell_type": "markdown",
   "id": "a09a2fce",
   "metadata": {
    "slideshow": {
     "slide_type": "subslide"
    }
   },
   "source": [
    "##### Solution \n",
    "\n",
    "1. $O(n)$\n",
    "2. $O(n^3)$\n",
    "3. $O(n)$\n",
    "4. $O(2^n)$\n",
    "5. $O(1)$"
   ]
  },
  {
   "cell_type": "markdown",
   "id": "d804210c",
   "metadata": {
    "slideshow": {
     "slide_type": "slide"
    }
   },
   "source": [
    "## Exercise 1.2\n",
    "\n",
    "Determine the Big-O expression for the following problems assuming that an efficient algorithm is used to solve the problem. (use $n$ to notate the input value)\n",
    "\n",
    "1. to find an element with a certain value in a sorted array\n",
    "\n",
    "2. to return the element in the middle of an array of known length\n",
    "\n",
    "3. to sort an array using bubble sort\n",
    "\n",
    "4. to return the element in the middle in a basic linked list of known length"
   ]
  },
  {
   "cell_type": "markdown",
   "id": "eb479421",
   "metadata": {
    "slideshow": {
     "slide_type": "subslide"
    }
   },
   "source": [
    "##### Solution \n",
    "\n",
    "1. $O(\\log(n))$ - logarithmic time complexity using binary search\n",
    "2. $O(1)$ - constant time complexity\n",
    "3. $O(n^2)$\n",
    "4. $O(n)$ - linear time complexity"
   ]
  },
  {
   "cell_type": "markdown",
   "id": "859c04c1",
   "metadata": {
    "slideshow": {
     "slide_type": "slide"
    }
   },
   "source": [
    "## Exercise 1.3\n",
    "\n",
    "What is the time complexity of the following algorithm (use Big-O notation). Assume $n$ is an integer with $n \\geq 2$?"
   ]
  },
  {
   "cell_type": "code",
   "execution_count": null,
   "id": "fbe36161",
   "metadata": {},
   "outputs": [],
   "source": [
    "for i in range(0, n):\n",
    "    for j in range(0, n):\n",
    "        print(i * j)"
   ]
  },
  {
   "cell_type": "markdown",
   "id": "034b00de",
   "metadata": {
    "slideshow": {
     "slide_type": "subslide"
    }
   },
   "source": [
    "##### Solution \n",
    "\n",
    "The time complexity is quadratic. \n",
    "\n",
    "$\\rightarrow O(n^2)$"
   ]
  },
  {
   "cell_type": "markdown",
   "id": "a75b0462",
   "metadata": {
    "slideshow": {
     "slide_type": "slide"
    }
   },
   "source": [
    "## Exercise 1.4\n",
    "\n",
    "What is the time complexity of the following algorithm (use Big-O notation). Assume $n$ is an integer with $n \\geq 2$?"
   ]
  },
  {
   "cell_type": "code",
   "execution_count": null,
   "id": "e4202144",
   "metadata": {},
   "outputs": [],
   "source": [
    "x = 2\n",
    "i = 1\n",
    "while x < n:\n",
    "    i += 1\n",
    "    x = x * x"
   ]
  },
  {
   "cell_type": "markdown",
   "id": "a9d187f3",
   "metadata": {
    "slideshow": {
     "slide_type": "subslide"
    }
   },
   "source": [
    "##### Solution \n",
    "\n",
    "Loop invariant:\n",
    "$x = 2^{2^{i-1}}$\n",
    "\n",
    "Hence:\n",
    "\n",
    "$log_2(n) = 2 ^ {i-1}$ \\\n",
    "$log_2((log_2(n))) = i - 1$\n",
    "\n",
    "$\\rightarrow O(log(log(n))$"
   ]
  },
  {
   "cell_type": "markdown",
   "id": "8e77662e",
   "metadata": {
    "slideshow": {
     "slide_type": "slide"
    }
   },
   "source": [
    "## 2. Sorting\n",
    "\n",
    "### Exercise 2.1\n",
    "\n",
    "Sort the following array using Merge Sort. Notate each merged subarray after each merge operation.\n",
    "\n",
    "$[7, 13, 3, 2, 9, 5, 4, 8]$"
   ]
  },
  {
   "cell_type": "markdown",
   "id": "b8006ee0",
   "metadata": {
    "slideshow": {
     "slide_type": "subslide"
    }
   },
   "source": [
    "##### Solution\n",
    "\n",
    "$[7, 13][2, 3][5, 9][4, 8]$ \\\n",
    "$[2, 3, 7, 13][4, 5, 8, 9]$ \\\n",
    "$[2, 3, 4, 5, 7, 8, 9, 13]$"
   ]
  },
  {
   "cell_type": "markdown",
   "id": "0c703f6c",
   "metadata": {
    "slideshow": {
     "slide_type": "slide"
    }
   },
   "source": [
    "## 3. Master Theorem\n",
    "\n",
    "### Exercise 3.1\n",
    "\n",
    "Consider an algorithm with the following recurrence:\n",
    "$$T(n) = 4T (\\frac{n}{2}) + 5n$$\n",
    "\n",
    "Using the Master Theorem, determine Big-Theta. "
   ]
  },
  {
   "cell_type": "markdown",
   "id": "0bc94b04",
   "metadata": {
    "slideshow": {
     "slide_type": "subslide"
    }
   },
   "source": [
    "##### Solution:\n",
    "\n",
    "Using:\\\n",
    "$$T(n) = a T ( \\frac{n}{b}) + f(n)$$\n",
    "\n",
    "Then: \\\n",
    "$n^{log_b a} = n^2$\n",
    "\n",
    "$f(n) = 5n$\n",
    "\n",
    "$\\rightarrow$ Since $f(n)$ is polynomilly smaller than $n^{log_b a}$, __Case 1__ of the __master theorem__ applies and:\n",
    "$$T(n) = \\Theta(n^2)$$"
   ]
  },
  {
   "cell_type": "markdown",
   "id": "6852c6ef",
   "metadata": {
    "slideshow": {
     "slide_type": "slide"
    }
   },
   "source": [
    "### Exercise 3.2\n",
    "\n",
    "Consider an algorithm with the following recurrence:\n",
    "$$T(n) = 2T (\\frac{n}{2}) + n^2$$\n",
    "\n",
    "Using the Master Theorem, determine Big-Theta. "
   ]
  },
  {
   "cell_type": "markdown",
   "id": "9985c416",
   "metadata": {
    "slideshow": {
     "slide_type": "subslide"
    }
   },
   "source": [
    "##### Solution:\n",
    "\n",
    "Using:\\\n",
    "$$T(n) = a T ( \\frac{n}{b}) + f(n)$$\n",
    "\n",
    "Then: \\\n",
    "$n^{log_b a} = n$\n",
    "\n",
    "$f(n) = n^2$\n",
    "\n",
    "$\\rightarrow$ Since $f(n)$ is polynomilly larger than $n^{log_b a}$, __Case 3__ of the __master theorem__ applies and:\n",
    "$$T(n) = \\Theta(n^2)$$"
   ]
  },
  {
   "cell_type": "markdown",
   "id": "224cf539",
   "metadata": {
    "slideshow": {
     "slide_type": "slide"
    }
   },
   "source": [
    "### Exercise 3.3\n",
    "\n",
    "Consider an algorithm with the following recurrence:\n",
    "$$T(n) = 2T (n)$$\n",
    "\n",
    "Using the Master Theorem, determine Big-Theta. "
   ]
  },
  {
   "cell_type": "markdown",
   "id": "d8fa51aa",
   "metadata": {
    "slideshow": {
     "slide_type": "subslide"
    }
   },
   "source": [
    "##### Solution:\n",
    "\n",
    "Using:\\\n",
    "$$T(n) = a T ( \\frac{n}{b}) + f(n)$$\n",
    "\n",
    "Then: \\\n",
    "$n^{log_b a} = n^{log_1 2}$\n",
    "\n",
    "$f(n) = 0$\n",
    "\n",
    "$n^{log_1 2}$ is not defined. Hence, the Master Theorem cannot be applied."
   ]
  },
  {
   "cell_type": "markdown",
   "id": "ae1d5272",
   "metadata": {
    "slideshow": {
     "slide_type": "slide"
    }
   },
   "source": [
    "## 4. Dynamic Programming\n",
    "\n",
    "### Exercise 4.1\n",
    "\n",
    "Use Dynamic Programming to determine the Longest Common Subsequence (LCS) of the following two sequences:\n",
    "\n",
    "```\n",
    "S1 = {A, B, A, Z, D, C}\n",
    "S2 = {B, A, C, B, A, D}\n",
    "```\n",
    "\n",
    "Calculate the values of $LCS(i, j)$ for $ 1 \\leq i,h \\leq 6$ for both sequences and fill the following table:\n",
    "\n",
    "|||B|A|C|B|A|D|\n",
    "|:--|:--|:--|:--|:--|:--|:--|:--|\n",
    "|A||||||||\n",
    "|B||||||||\n",
    "|A||||||||\n",
    "|Z||||||||\n",
    "|D||||||||\n",
    "|C||||||||\n",
    "\n",
    "Traverse the table marking your path with arrows to determine the LCS."
   ]
  },
  {
   "cell_type": "markdown",
   "id": "55f97f88",
   "metadata": {
    "slideshow": {
     "slide_type": "subslide"
    }
   },
   "source": [
    "##### Solution\n",
    "\n",
    "|||B|A|C|B|A|D|\n",
    "|:--|:--|:--|:--|:--|:--|:--|:--|\n",
    "||0|0|0|0|0|0|0|\n",
    "|A|0|0|__1__|1|1|1|1|\n",
    "|B|0|1|1|1|__2__|2|2|\n",
    "|A|0|1|2|2|2|__3__|3|\n",
    "|Z|0|1|2|2|2|3|3|\n",
    "|D|0|1|2|2|2|3|__4__|\n",
    "|C|0|1|2|3|3|3|4|\n",
    "\n",
    "Solution: ABAD"
   ]
  },
  {
   "cell_type": "markdown",
   "id": "cdcf0ca2",
   "metadata": {
    "slideshow": {
     "slide_type": "slide"
    }
   },
   "source": [
    "## 5. Trees\n",
    "\n",
    "### Exercise 5.1\n",
    "\n",
    "![dia1](img/14tree.png)\n",
    "\n",
    "\n",
    "Traverse the tree using:\n",
    "\n",
    "- a) Inorder Traversal\n",
    "- b) Preorder Traversal\n",
    "- c) Postorder Traversal\n",
    "\n"
   ]
  },
  {
   "cell_type": "markdown",
   "id": "fd3ce0ca",
   "metadata": {
    "slideshow": {
     "slide_type": "fragment"
    }
   },
   "source": [
    "##### Solution\n",
    "\n",
    "- Inorder: 4 3 7 8 5 4 1 2\n",
    "- Preorder: 5 3 4 8 7 2 4 1\n",
    "- Postorder: 4 7 8 3 1 4 2 5"
   ]
  },
  {
   "cell_type": "markdown",
   "id": "81891ec9",
   "metadata": {
    "slideshow": {
     "slide_type": "slide"
    }
   },
   "source": [
    "### Exercise 5.2\n",
    "\n",
    "Suppose you insert the values 40, 30, 60, 50, and 10 into a binary search tree, and then use the following function:\n",
    "```\n",
    "def binary_search(A, t):\n",
    "    l = 0\n",
    "    r = len(A) - 1   \n",
    "\n",
    "    while l <= r:\n",
    "        m = (l + r) // 2\n",
    "        if A[m] < t:\n",
    "            l = m + 1\n",
    "        elif A[m] > t:\n",
    "            r = m - 1\n",
    "        else:\n",
    "            return m\n",
    "    return -1\n",
    "\n",
    "binary_search([40, 30, 60, 50, 10], 30)\n",
    "```\n",
    "\n",
    "What is the output?"
   ]
  },
  {
   "cell_type": "markdown",
   "id": "adf03653",
   "metadata": {
    "slideshow": {
     "slide_type": "subslide"
    }
   },
   "source": [
    "##### Solution\n",
    "\n",
    "-1"
   ]
  },
  {
   "cell_type": "markdown",
   "id": "9db30f7c",
   "metadata": {
    "slideshow": {
     "slide_type": "slide"
    }
   },
   "source": [
    "## 6. Graphs\n",
    "\n",
    "### Exercise 6.1\n",
    "\n",
    "Assume graph $G = (\\{1,...,10\\}, E)$\n",
    "![dia1](img/14graph.png)\n",
    "\n",
    "1. Write down the adjacency list representation of the graph.\n",
    "\n",
    "2. Do a Breadth-first Search on the given graph using the vertix with value *1* as root. Write down the order of visited vertices.\n",
    "\n",
    "3. In which order will the vertices be visited using Depth-First Search (DFS)?"
   ]
  },
  {
   "cell_type": "markdown",
   "id": "b4eb4630",
   "metadata": {
    "slideshow": {
     "slide_type": "subslide"
    }
   },
   "source": [
    "##### Solution\n",
    "\n",
    "1)\n",
    "\n",
    "1 → 4 → 7 → 3\\\n",
    "2 → 5 → 8\\\n",
    "3 → 8 → 9\\\n",
    "4 → 6\\\n",
    "5 → 8\\\n",
    "6 → 7\\\n",
    "7 → 4\\\n",
    "8 → 1\\\n",
    "9 → 10\\\n",
    "10\n",
    "\n",
    "\n",
    "2)\n",
    "\n",
    "1 → 3 → 4 → 7 → 6 → 8 → 9 → 10\n",
    "\n",
    "2)\n",
    "\n",
    "1 → 3 → 8 → 9 → 10 → 4 → 6 → 7"
   ]
  },
  {
   "cell_type": "markdown",
   "id": "39690d0e",
   "metadata": {
    "slideshow": {
     "slide_type": "slide"
    }
   },
   "source": [
    "### Exercise 6.2\n",
    "\n",
    "Consider the graph below.  Provide the order in which Prim's algorithm adds the edges to the MST starting at vertex 1. \n",
    "\n",
    "![dia2](img/14prim.png)"
   ]
  },
  {
   "cell_type": "markdown",
   "id": "fe2de9f9",
   "metadata": {
    "slideshow": {
     "slide_type": "subslide"
    }
   },
   "source": [
    "##### Solution\n",
    "\n",
    "{1,4}, {1,3}, {4,2}, {3,6}, {6,5}, {5,8}, {8,7}, {8,9} "
   ]
  },
  {
   "cell_type": "markdown",
   "id": "b82bef78",
   "metadata": {
    "slideshow": {
     "slide_type": "slide"
    }
   },
   "source": [
    "## 7. Binary Search\n",
    "\n",
    "\n",
    "### Exercise 7.1\n",
    "\n",
    "__True__ or __False__?\n",
    "\n",
    "a) When using \"binary search\" to search an array, the array must be sorted. \n",
    "\n",
    "b) When using \"binary search\" to search an array, the array must always be sorted in increasing order.\n",
    "\n",
    "c) When using \"binary search\" to search an array, and the array is *not* sorted, then the program will crash. \n",
    "\n",
    "d) \tSuppose A is an array containing numbers in increasing order, but some numbers occur more than once. When using a binary search for a value, the binary search always finds the first occurance of the value. \n"
   ]
  },
  {
   "cell_type": "markdown",
   "id": "39582ee6",
   "metadata": {
    "slideshow": {
     "slide_type": "subslide"
    }
   },
   "source": [
    "##### Solution\n",
    "\n",
    "__True__ or __False__?\n",
    "\n",
    "a) When using \"binary search\" to search an array, the array must be sorted. __TRUE__\n",
    "\n",
    "b) When using \"binary search\" to search an array, the array must always be sorted in increasing order. __FALSE__\n",
    "\n",
    "c) When using \"binary search\" to search an array, and the array is *not* sorted, then the program will crash. __FALSE__\n",
    "\n",
    "d) \tSuppose A is an array containing numbers in increasing order, but some numbers occur more than once. When using a binary search for a value, the binary search always finds the first occurance of the value. __FALSE__\n"
   ]
  }
 ],
 "metadata": {
  "celltoolbar": "Slideshow",
  "kernelspec": {
   "display_name": "Python 3 (ipykernel)",
   "language": "python",
   "name": "python3"
  },
  "language_info": {
   "codemirror_mode": {
    "name": "ipython",
    "version": 3
   },
   "file_extension": ".py",
   "mimetype": "text/x-python",
   "name": "python",
   "nbconvert_exporter": "python",
   "pygments_lexer": "ipython3",
   "version": "3.10.5"
  },
  "varInspector": {
   "cols": {
    "lenName": 16,
    "lenType": 16,
    "lenVar": 40
   },
   "kernels_config": {
    "python": {
     "delete_cmd_postfix": "",
     "delete_cmd_prefix": "del ",
     "library": "var_list.py",
     "varRefreshCmd": "print(var_dic_list())"
    },
    "r": {
     "delete_cmd_postfix": ") ",
     "delete_cmd_prefix": "rm(",
     "library": "var_list.r",
     "varRefreshCmd": "cat(var_dic_list()) "
    }
   },
   "types_to_exclude": [
    "module",
    "function",
    "builtin_function_or_method",
    "instance",
    "_Feature"
   ],
   "window_display": false
  }
 },
 "nbformat": 4,
 "nbformat_minor": 5
}
