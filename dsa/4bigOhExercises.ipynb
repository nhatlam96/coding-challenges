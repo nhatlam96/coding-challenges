{
 "cells": [
  {
   "cell_type": "code",
   "execution_count": 1,
   "id": "65e2cd3f",
   "metadata": {
    "hide_input": true
   },
   "outputs": [
    {
     "data": {
      "text/html": [
       "<style>h1{text-align:center;}h1{text-transform:none;}.rendered_html h4{color:#17b6eb;font-size: 1.6em;}img[alt=dia1]{width:35%;}img[alt=book]{width:20%;font-size: 3em;}img[alt=dia2]{width:50%;}.author{font-size:8px;}</style>\n"
      ],
      "text/plain": [
       "<IPython.core.display.HTML object>"
      ]
     },
     "metadata": {},
     "output_type": "display_data"
    }
   ],
   "source": [
    "%%html\n",
    "<style>h1{text-align:center;}h1{text-transform:none;}.rendered_html h4{color:#17b6eb;font-size: 1.6em;}img[alt=dia1]{width:35%;}img[alt=book]{width:20%;font-size: 3em;}img[alt=dia2]{width:50%;}.author{font-size:8px;}</style>"
   ]
  },
  {
   "cell_type": "markdown",
   "id": "52af1240",
   "metadata": {
    "slideshow": {
     "slide_type": "slide"
    }
   },
   "source": [
    "# Big Oh Exercises (review of lecture 3)"
   ]
  },
  {
   "cell_type": "markdown",
   "id": "97d25a79",
   "metadata": {
    "slideshow": {
     "slide_type": "slide"
    }
   },
   "source": [
    "#### Exercise 1: Determine Big Oh of the following functions and give a short explanation."
   ]
  },
  {
   "cell_type": "code",
   "execution_count": 55,
   "id": "e262d0c7",
   "metadata": {
    "slideshow": {
     "slide_type": "slide"
    }
   },
   "outputs": [],
   "source": [
    "def isEven(value):\n",
    "    if value % 2 == 0:\n",
    "        return True\n",
    "    else:\n",
    "        return False"
   ]
  },
  {
   "cell_type": "markdown",
   "id": "0c42c8e5",
   "metadata": {
    "slideshow": {
     "slide_type": "fragment"
    }
   },
   "source": [
    "__Answer:__ $O(1)$, because of constant runtime complexity.\n",
    "\n",
    "__Reasoning:__ Only one operation. There is no \"loop\" to go through. "
   ]
  },
  {
   "cell_type": "code",
   "execution_count": 56,
   "id": "8cebdb91",
   "metadata": {
    "slideshow": {
     "slide_type": "slide"
    }
   },
   "outputs": [],
   "source": [
    "def areYouHere(list1, list2):\n",
    "    for i in range(0, len(list1)):\n",
    "        el1 = list1[i]\n",
    "        for j in range(0, len(list2)):\n",
    "            el2 = list2[j]\n",
    "            if (el1 == el2):\n",
    "                return True\n",
    "    return False"
   ]
  },
  {
   "cell_type": "markdown",
   "id": "d5205319",
   "metadata": {
    "slideshow": {
     "slide_type": "fragment"
    }
   },
   "source": [
    "__Answer:__ $O(n^2)$\n",
    "\n",
    "__Reasoning:__ Quadratic runtime complexity. If the passed lists have a limited lengths (m, n), the runtime complexity would be $O(n\\cdot m)$=$O(1)$."
   ]
  },
  {
   "cell_type": "code",
   "execution_count": 57,
   "id": "c91caa30",
   "metadata": {
    "slideshow": {
     "slide_type": "slide"
    }
   },
   "outputs": [],
   "source": [
    "def fibonacci(n):\n",
    "    series = [0,1]\n",
    "    if n>2:\n",
    "        for i in range(2, n):\n",
    "            next_element = series[i-1] + series[i-2]\n",
    "            series.append(next_element)\n",
    "        print(series)"
   ]
  },
  {
   "cell_type": "markdown",
   "id": "63121d64",
   "metadata": {
    "slideshow": {
     "slide_type": "fragment"
    }
   },
   "source": [
    "__Answer:__ $O(n)$\n",
    "\n",
    "__Reasoning:__ Linear runtime complexity. "
   ]
  },
  {
   "cell_type": "code",
   "execution_count": 58,
   "id": "b3dabff8",
   "metadata": {
    "slideshow": {
     "slide_type": "slide"
    }
   },
   "outputs": [],
   "source": [
    "import math\n",
    "\n",
    "def efficient_search(mylist, item):\n",
    "    min_index = 0;\n",
    "    max_index = len(mylist) - 1;\n",
    "\n",
    "    while (min_index <= max_index):\n",
    "        i = math.floor((min_index + max_index) / 2)\n",
    "        elem = mylist[i]\n",
    "        \n",
    "        if (elem < item):\n",
    "            min_index = i + 1\n",
    "        elif (elem > item):\n",
    "            max_index = i - 1\n",
    "        else:\n",
    "            return i\n",
    "\n",
    "    return -1"
   ]
  },
  {
   "cell_type": "markdown",
   "id": "6200f07d",
   "metadata": {
    "slideshow": {
     "slide_type": "fragment"
    }
   },
   "source": [
    "__Answer:__ $O(\\log n)$\n",
    "\n",
    "__Reasoning:__ Logarithmic runtime complexity, since list-length ist cut in half for each iteration."
   ]
  },
  {
   "cell_type": "code",
   "execution_count": 59,
   "id": "c7b0ef5e",
   "metadata": {
    "slideshow": {
     "slide_type": "slide"
    }
   },
   "outputs": [],
   "source": [
    "def factorial(n):\n",
    "    if n < 2:\n",
    "        return 1\n",
    "    else:\n",
    "        return n * factorial(n-1)"
   ]
  },
  {
   "cell_type": "markdown",
   "id": "d30c8786",
   "metadata": {
    "slideshow": {
     "slide_type": "fragment"
    }
   },
   "source": [
    "__Answer:__ $O(n)$\n",
    "\n",
    "__Reasoning:__ Linear runtime complexity. The function is being called recursively n times."
   ]
  },
  {
   "cell_type": "code",
   "execution_count": 60,
   "id": "afee6896",
   "metadata": {
    "slideshow": {
     "slide_type": "slide"
    }
   },
   "outputs": [],
   "source": [
    "def recursive_fibonacci(num):\n",
    "    if(num < 2):\n",
    "        return num\n",
    "    else:\n",
    "        return recursive_fibonacci(num - 1) + recursive_fibonacci(num - 2)"
   ]
  },
  {
   "cell_type": "markdown",
   "id": "6835e267",
   "metadata": {
    "slideshow": {
     "slide_type": "fragment"
    }
   },
   "source": [
    "__Answer:__ $O(2^n)$\n",
    "\n",
    "__Reasoning:__ Exponential runtime complexity. The function is calling two copies of itself recursively n times."
   ]
  },
  {
   "cell_type": "markdown",
   "id": "d67f65bb",
   "metadata": {
    "slideshow": {
     "slide_type": "slide"
    }
   },
   "source": [
    "#### Exercise 2: Complete the following table\n",
    "\n",
    "|$$f(n)$$|$f \\in O(?)$|\n",
    "|---|---|\n",
    "|$5n^2+3$||\n",
    "|$9n$||\n",
    "|$2n-5$||\n",
    "|$log_2(n)+5$||\n",
    "|$(n \\cdot n+1)\\cdot n \\cdot \\frac{n}{2}$||"
   ]
  },
  {
   "cell_type": "markdown",
   "id": "b55dcb2d",
   "metadata": {
    "slideshow": {
     "slide_type": "fragment"
    }
   },
   "source": [
    "|$$f(n)$$|$f \\in O(?)$|\n",
    "|---|---|\n",
    "|$5n^2+3$|$O(n^2)$|\n",
    "|$9n$|$O(n)$|\n",
    "|$2n-5$|$O(n)$|\n",
    "|$log_2(n)+5$|$O(log(n))$|\n",
    "|$(n \\cdot n+1)\\cdot n \\cdot \\frac{n}{2}$|$O(n^4)$|"
   ]
  },
  {
   "cell_type": "markdown",
   "id": "e284a3a8",
   "metadata": {
    "slideshow": {
     "slide_type": "slide"
    }
   },
   "source": [
    "#### Exercise 3: Sort the following function from left to right ...\n",
    "<div class=\"author\">D. Sidler, ETH Zürich</div>\n",
    "\n",
    "...such that, if the function $f$ is left of function $g$, then $f \\in O(g)$. \n",
    "\n",
    "$n^5+n$, &nbsp; $log(n^4)$, &nbsp; $\\sqrt(n)$, &nbsp; $\\binom{n}{3}$, &nbsp; $n\\cdot log(n)$, &nbsp; $2^{16}$, &nbsp; $n^n$, &nbsp; $n!$, &nbsp; $\\frac{2^n}{n^2}$, &nbsp; $log^8(n)$"
   ]
  },
  {
   "cell_type": "markdown",
   "id": "e3338f3d",
   "metadata": {
    "slideshow": {
     "slide_type": "fragment"
    }
   },
   "source": [
    "##### Solution:\n",
    "\n",
    "$2^{16}$, &nbsp; $log(n^4)$, &nbsp; $log^8(n)$, &nbsp; $\\sqrt(n)$, &nbsp; $n\\cdot log(n)$, &nbsp; $\\binom{n}{3}$, &nbsp; $n^5+n$, &nbsp; $\\frac{2^n}{n^2}$, &nbsp; $n!$, &nbsp; $n^n$\n",
    "\n",
    "__Note__: $\\binom{n}{3}=\\frac{n!}{3!(n-3)!}=\\frac{1}{6}(n-2)(n-1)n$"
   ]
  },
  {
   "cell_type": "markdown",
   "id": "23e537fe",
   "metadata": {
    "slideshow": {
     "slide_type": "slide"
    }
   },
   "source": [
    "#### Exercise 4: False or True?\n",
    "\n",
    "Is $2^{n+1} = O(2^n)$?\n",
    "\n",
    "Is $2^{2n} = O(2^n)$?"
   ]
  },
  {
   "cell_type": "markdown",
   "id": "ef8bb780",
   "metadata": {
    "slideshow": {
     "slide_type": "fragment"
    }
   },
   "source": [
    "$2^{n+1}\\geq 2 \\cdot 2^{n}$ for all $n \\geq 0$. Hence, $2^{n+1}=O(2^n)$\n",
    "\n",
    "$2^{2n} \\neq O(2^n)$, since there is no $c$ and $n_0$ which fulfill $2^n \\cdot 2^n = 2^{2n} \\leq c \\cdot 2^n$ for $n\\geq n_0$. "
   ]
  }
 ],
 "metadata": {
  "celltoolbar": "Slideshow",
  "kernelspec": {
   "display_name": "Python 3 (ipykernel)",
   "language": "python",
   "name": "python3"
  },
  "language_info": {
   "codemirror_mode": {
    "name": "ipython",
    "version": 3
   },
   "file_extension": ".py",
   "mimetype": "text/x-python",
   "name": "python",
   "nbconvert_exporter": "python",
   "pygments_lexer": "ipython3",
   "version": "3.10.5"
  },
  "varInspector": {
   "cols": {
    "lenName": 16,
    "lenType": 16,
    "lenVar": 40
   },
   "kernels_config": {
    "python": {
     "delete_cmd_postfix": "",
     "delete_cmd_prefix": "del ",
     "library": "var_list.py",
     "varRefreshCmd": "print(var_dic_list())"
    },
    "r": {
     "delete_cmd_postfix": ") ",
     "delete_cmd_prefix": "rm(",
     "library": "var_list.r",
     "varRefreshCmd": "cat(var_dic_list()) "
    }
   },
   "types_to_exclude": [
    "module",
    "function",
    "builtin_function_or_method",
    "instance",
    "_Feature"
   ],
   "window_display": false
  }
 },
 "nbformat": 4,
 "nbformat_minor": 5
}
