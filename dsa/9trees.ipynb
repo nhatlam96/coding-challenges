{
 "cells": [
  {
   "cell_type": "code",
   "execution_count": 2,
   "id": "65e2cd3f",
   "metadata": {
    "hide_input": true,
    "slideshow": {
     "slide_type": "skip"
    }
   },
   "outputs": [
    {
     "data": {
      "text/html": [
       "<style>h1{text-align:center;}h1{text-transform:none;}.rendered_html h4{color:#17b6eb;font-size: 1.6em;}img[alt=dia1]{width:35%;}img[alt=book]{width:20%;font-size: 3em;}img[alt=dia2]{width:50%;}.author{font-size:8px;}</style>\n"
      ],
      "text/plain": [
       "<IPython.core.display.HTML object>"
      ]
     },
     "metadata": {},
     "output_type": "display_data"
    }
   ],
   "source": [
    "%%html\n",
    "<style>h1{text-align:center;}h1{text-transform:none;}.rendered_html h4{color:#17b6eb;font-size: 1.6em;}img[alt=dia1]{width:35%;}img[alt=book]{width:20%;font-size: 3em;}img[alt=dia2]{width:50%;}.author{font-size:8px;}</style>"
   ]
  },
  {
   "cell_type": "markdown",
   "id": "8c05074c",
   "metadata": {
    "slideshow": {
     "slide_type": "slide"
    }
   },
   "source": [
    "# Lecture 9: Trees"
   ]
  },
  {
   "cell_type": "markdown",
   "id": "b27b48c4",
   "metadata": {
    "slideshow": {
     "slide_type": "slide"
    }
   },
   "source": [
    "## 0. Review - Sets and Maps\n",
    "<div class=\"author\">src: chalmers.instructure.com</div>\n",
    "\n",
    "### 0.1 Sets\n",
    "\n",
    "A __set__ is a collection of items, in which duplicates are not allowed.\n",
    "\n",
    "$$\\{1, 3, 5, 6, 8, 9, 10\\}$$\n",
    "\n",
    "Basic operations include:\n",
    "\n",
    "- adding items\n",
    "- removing items\n",
    "- checking if items are there\n",
    "- looping through all items"
   ]
  },
  {
   "cell_type": "markdown",
   "id": "80fd8bd9",
   "metadata": {
    "slideshow": {
     "slide_type": "slide"
    }
   },
   "source": [
    "### 0.2 Maps\n",
    "\n",
    "A __map__ is a *set* of keys, in which each key is associated with a value (a set of *key-value pairs*)\n",
    "\n",
    "$$\\{1 → \"strawberry\", 4 → \"banana\", 8 → \"apple\", ...\\}$$\n",
    "\n",
    "Basic operations include:\n",
    "\n",
    "- adding key-value pairs\n",
    "- removing entry by passing the key\n",
    "- check if key is there and also which value it is associated with\n",
    "- looping through all keys"
   ]
  },
  {
   "cell_type": "markdown",
   "id": "88e21df3",
   "metadata": {
    "slideshow": {
     "slide_type": "slide"
    }
   },
   "source": [
    "### 0.2.1 Maps are useful!\n",
    "\n",
    "Maps can be used in:\n",
    "\n",
    "- __Databases__: to look up an address with a person's name: the person's name is mapped to the address\n",
    "\n",
    "- __File Systems__: to find a file with its name: name mapped to file content\n",
    "\n",
    "- __Search Engines__: to find a website with a word or phrase: word is mapped to containing pages\n",
    "\n",
    "- __etc__: everywhere!"
   ]
  },
  {
   "cell_type": "markdown",
   "id": "63e841f0",
   "metadata": {
    "slideshow": {
     "slide_type": "slide"
    }
   },
   "source": [
    "### 0.2.2 Maps naming\n",
    "\n",
    "Maps are referred to by various names:\n",
    "    \n",
    "    - Symbol tables\n",
    "    - Dictionaries (Python)\n",
    "    - Associative arrays\n",
    "    \n",
    "In Python maps are natively built in as dictionaries. "
   ]
  },
  {
   "cell_type": "code",
   "execution_count": 3,
   "id": "e2375c47",
   "metadata": {},
   "outputs": [
    {
     "data": {
      "text/plain": [
       "'Algorithmen und Datenstrukturen'"
      ]
     },
     "execution_count": 3,
     "metadata": {},
     "output_type": "execute_result"
    }
   ],
   "source": [
    "dict = {\"501ALGO\": \"Algorithmen und Datenstrukturen\"}\n",
    "\n",
    "dict[\"501ALGO\"]"
   ]
  },
  {
   "cell_type": "markdown",
   "id": "6862f182",
   "metadata": {
    "slideshow": {
     "slide_type": "slide"
    }
   },
   "source": [
    "### 0.2.3 Implementing maps\n",
    "\n",
    "Maps can be implemented using:\n",
    "    \n",
    "- A __dynamic array of key-value pairs__ (search complexity: O(n))\n",
    "- A __linked list__ (search complexity: O(n))\n",
    "- A __sorted dynamic array__ (search complexity of binary search: O(log n))\n",
    "\n",
    "#### Exercise 1: \n",
    "Is it possible to create a map where searching takes logarithmic time?"
   ]
  },
  {
   "cell_type": "markdown",
   "id": "44f3404e",
   "metadata": {
    "slideshow": {
     "slide_type": "subslide"
    }
   },
   "source": [
    "##### Solution\n",
    "\n",
    "Yes, using trees! (See next chapter)"
   ]
  },
  {
   "cell_type": "markdown",
   "id": "24867ada",
   "metadata": {
    "slideshow": {
     "slide_type": "slide"
    }
   },
   "source": [
    "## 1. Trees\n",
    "<div class=\"author\">src: wikipedia.org</div>\n",
    "\n",
    "- In computer science, a __tree__ is a widely used abstract data type that represents a __hierarchical__ tree structure with a set of connected nodes. \n",
    "\n",
    "- Each node in the tree can be connected to many children (depending on the type of tree), but must be connected to exactly one parent, except for the root node, which has no parent. \n",
    "\n",
    "- These constraints mean there are no cycles or \"loops\" (no node can be its own ancestor), and also that each child can be treated like the root node of its own subtree, making recursion a useful technique for tree traversal. \n",
    "\n",
    "- In contrast to linear data structures, many trees cannot be represented by relationships between neighboring nodes in a single straight line. "
   ]
  },
  {
   "cell_type": "markdown",
   "id": "744cca6b",
   "metadata": {
    "slideshow": {
     "slide_type": "slide"
    }
   },
   "source": [
    "### 1.1. Tree Properties\n",
    "<div class=\"author\">src: Problem Solving with Algorithms and Data Structures Using Python, N. Miller</div>\n",
    "\n",
    "- Hierarchical\n",
    "- Child nodes are all independent\n",
    "- Path to leaf nodes are unique\n",
    "- Subtrees\n"
   ]
  },
  {
   "cell_type": "markdown",
   "id": "7244037d",
   "metadata": {
    "slideshow": {
     "slide_type": "slide"
    }
   },
   "source": [
    "### 1.2 Tree Examples\n",
    "\n",
    "![dia2](img/9example1.jpg)\n",
    "<div class=\"author\">src: Problem Solving with Algorithms and Data Structures Using Python, N. Miller</div>"
   ]
  },
  {
   "cell_type": "markdown",
   "id": "72ab071c",
   "metadata": {
    "slideshow": {
     "slide_type": "slide"
    }
   },
   "source": [
    "![dia2](img/9example2.jpg)\n",
    "<div class=\"author\">src: Problem Solving with Algorithms and Data Structures Using Python, N. Miller</div>"
   ]
  },
  {
   "cell_type": "markdown",
   "id": "53fa5ff3",
   "metadata": {
    "slideshow": {
     "slide_type": "slide"
    }
   },
   "source": [
    "![dia2](img/9example3.jpg)\n",
    "<div class=\"author\">src: Problem Solving with Algorithms and Data Structures Using Python, N. Miller</div>"
   ]
  },
  {
   "cell_type": "markdown",
   "id": "31781643",
   "metadata": {
    "slideshow": {
     "slide_type": "slide"
    }
   },
   "source": [
    "### 1.3 Terminology\n",
    "\n",
    "- __Node:__ A node is a fundamental part of a tree. It can have a name, which we call the “key\"\n",
    "\n",
    "- __Edge:__ An edge connects two nodes to show that there is a relationship between them (incoming/outgoing)\n",
    "\n",
    "- __Root:__ The root of the tree is the only node in the tree that has no incoming edges\n",
    "\n",
    "![dia1](img/9tree1.webp)\n",
    "<div class=\"author\">src: programiz.com</div>"
   ]
  },
  {
   "cell_type": "markdown",
   "id": "35571b32",
   "metadata": {
    "slideshow": {
     "slide_type": "slide"
    }
   },
   "source": [
    "- __Path:__ A path is an ordered list of nodes that are connected by edges\n",
    "\n",
    "- __Children:__ The set of nodes c that have incoming edges from the same node to are said to be the children of that node\n",
    "\n",
    "- __Parent:__ A node is the parent of all the nodes it connects to with outgoing edges"
   ]
  },
  {
   "cell_type": "markdown",
   "id": "122042f0",
   "metadata": {
    "slideshow": {
     "slide_type": "slide"
    }
   },
   "source": [
    "- __Sibling:__ Nodes in the tree that are children of the same parent are said to be siblings\n",
    "\n",
    "- __Subtree:__ A subtree is a set of nodes and edges comprised of a parent and all the descendants of that parent\n",
    "\n",
    "- __Leaf Node:__ A leaf node is a node that has no children"
   ]
  },
  {
   "cell_type": "markdown",
   "id": "b4cc2e8a",
   "metadata": {
    "slideshow": {
     "slide_type": "slide"
    }
   },
   "source": [
    "\n",
    "- __Level/Depth:__ The level of a node n is the number of edges on the path from the root node to n\n",
    "\n",
    "- __Height of a Tree:__ The height of a tree is equal to the maximum level of any node in the tree\n",
    "\n",
    "![dia1](img/9tree2.webp)\n",
    "<div class=\"author\">src: programiz.com</div>"
   ]
  },
  {
   "cell_type": "markdown",
   "id": "4e1561da",
   "metadata": {
    "slideshow": {
     "slide_type": "slide"
    }
   },
   "source": [
    "- __Height of a Node:__ The height of a node is the number of edges from the node to the deepest leaf (ie. the longest path from the node to a leaf node)\n",
    "\n",
    "- __Degree of a Node:__ The degree of a node is the total number of branches of that node.\n",
    "\n",
    "- __Forest:__ A collection of disjoint trees is called a forest.\n",
    "\n",
    "![dia1](img/9tree3.webp)\n",
    "<div class=\"author\">src: programiz.com</div>"
   ]
  },
  {
   "cell_type": "markdown",
   "id": "4fb497dc",
   "metadata": {
    "slideshow": {
     "slide_type": "slide"
    }
   },
   "source": [
    "### 1.4 Requirements\n",
    "\n",
    "For a collection of nodes to be a tree:\n",
    "    \n",
    "- each node must have a __unique parent__, except for the root\n",
    "- one node of the tree is designated as the __root node__\n",
    "- there must be exactly __one root node__ - every node n, except the root node, is connected by an edge from exactly one other node p, where p is the parent of n\n",
    "- a unique path traverses from the root to each node\n",
    "- __cycling__ is not allowed"
   ]
  },
  {
   "cell_type": "markdown",
   "id": "0c662aae",
   "metadata": {
    "slideshow": {
     "slide_type": "slide"
    }
   },
   "source": [
    "#### Exercise 2:\n",
    "\n",
    "Which of the following collection of nodes are trees or non-trees?\n",
    "![](img/9ex2.jpg)\n",
    "\n"
   ]
  },
  {
   "cell_type": "markdown",
   "id": "b28e6e4f",
   "metadata": {
    "slideshow": {
     "slide_type": "subslide"
    }
   },
   "source": [
    "##### Solution\n",
    "\n",
    "- A: Non-tree - two non-connected parts, more than one root\n",
    "- B: Non-tree - cycling, more than one parent\n",
    "- C: Non-tree - cycling, more than one parent\n",
    "- D: Tree\n",
    "- E: Non-tree - cycling, root and parent at the same time"
   ]
  },
  {
   "cell_type": "markdown",
   "id": "097d5a7e",
   "metadata": {
    "slideshow": {
     "slide_type": "slide"
    }
   },
   "source": [
    "### 1.5 Recursive Definition\n",
    "\n",
    "A tree $T$ is either empty or it consists of a root and zero or more non-empty subtrees $T_1, T_2,...,T_k$ each of whose roots are connected by an edge from the root.\n",
    "\n",
    "![dia2](img/9recursivedefinition.jpg)\n",
    "<div class=\"author\">src: Problem Solving with Algorithms and Data Structures Using Python, N. Miller</div>"
   ]
  },
  {
   "cell_type": "markdown",
   "id": "644e8bd3",
   "metadata": {
    "slideshow": {
     "slide_type": "slide"
    }
   },
   "source": [
    "### 1.6 Tree Traversal\n",
    "\n",
    "Traversing a tree means visiting every node in the tree.\n",
    "\n",
    "Unlike linear data structures, which have only one logical way to traverse them, trees can be traversed in different ways."
   ]
  },
  {
   "cell_type": "markdown",
   "id": "ecd64db4",
   "metadata": {
    "slideshow": {
     "slide_type": "slide"
    }
   },
   "source": [
    "###### 1.6.1 Inorder Traversal\n",
    "\n",
    "1. visit all nodes in the left subtree\n",
    "2. visit the root node\n",
    "3. visit all nodes in the right subtree\n",
    "\n",
    "```\n",
    "inorder(root->left)\n",
    "display(root->data)\n",
    "inorder(root->right)\n",
    "```"
   ]
  },
  {
   "cell_type": "markdown",
   "id": "d0bc29a8",
   "metadata": {
    "slideshow": {
     "slide_type": "slide"
    }
   },
   "source": [
    "###### 1.6.1 Preorder Traversal\n",
    "\n",
    "1. visit the root node\n",
    "2. visit all nodes in the left subtree\n",
    "3. visit all nodes in the right subtree\n",
    "\n",
    "```\n",
    "display(root->data)\n",
    "preorder(root->left)\n",
    "preorder(root->right)\n",
    "```"
   ]
  },
  {
   "cell_type": "markdown",
   "id": "a918fae7",
   "metadata": {
    "slideshow": {
     "slide_type": "slide"
    }
   },
   "source": [
    "##### 1.6.3 Postorder Traversal\n",
    "\n",
    "1. visit all nodes in the left subtree\n",
    "2. visit all nodes in the right subtree\n",
    "3. visit the root node\n",
    "\n",
    "```\n",
    "postorder(root->left)\n",
    "postorder(root->right)\n",
    "display(root->data)\n",
    "```"
   ]
  },
  {
   "cell_type": "markdown",
   "id": "3a364608",
   "metadata": {
    "slideshow": {
     "slide_type": "slide"
    }
   },
   "source": [
    "### 1.7 Implementation\n",
    "\n",
    "##### Example: Inorder Tree Traversal\n",
    "\n",
    "![book](img/9inordertraversal.png)\n",
    "<div class=\"author\">src: maxnilz.com</div>\n",
    "\n",
    "First, left subtree, then root node, then right subtree."
   ]
  },
  {
   "cell_type": "markdown",
   "id": "beb79679",
   "metadata": {
    "slideshow": {
     "slide_type": "slide"
    }
   },
   "source": [
    "![](img/9inorderstack.jpg)\n",
    "<div class=\"author\">src: programiz.com</div>\n",
    "\n",
    "First left subtree, then root node, then right subtree. To keep track, everything is put into a __stack__. Then the subtree pointed on the top of the stack is traversed.  "
   ]
  },
  {
   "cell_type": "code",
   "execution_count": 4,
   "id": "ddf444b3",
   "metadata": {
    "slideshow": {
     "slide_type": "slide"
    }
   },
   "outputs": [
    {
     "name": "stdout",
     "output_type": "stream",
     "text": [
      "Inorder traversal \n",
      "4->2->5->1->3->\n",
      "Preorder traversal \n",
      "1->2->4->5->3->\n",
      "Postorder traversal \n",
      "4->5->2->3->1->"
     ]
    }
   ],
   "source": [
    "# Tree traversal in Python, source: programiz.com\n",
    "class Node:\n",
    "    def __init__(self, item):\n",
    "        self.left = None\n",
    "        self.right = None\n",
    "        self.val = item\n",
    "\n",
    "def inorder(root):\n",
    "    if root:\n",
    "        # Traverse left\n",
    "        inorder(root.left)\n",
    "        # Traverse root\n",
    "        print(str(root.val) + \"->\", end='')\n",
    "        # Traverse right\n",
    "        inorder(root.right)\n",
    "\n",
    "def postorder(root):\n",
    "    if root:\n",
    "        # Traverse left\n",
    "        postorder(root.left)\n",
    "        # Traverse right\n",
    "        postorder(root.right)\n",
    "        # Traverse root\n",
    "        print(str(root.val) + \"->\", end='')\n",
    "\n",
    "def preorder(root):\n",
    "    if root:\n",
    "        # Traverse root\n",
    "        print(str(root.val) + \"->\", end='')\n",
    "        # Traverse left\n",
    "        preorder(root.left)\n",
    "        # Traverse right\n",
    "        preorder(root.right)\n",
    "\n",
    "\n",
    "root = Node(1)\n",
    "root.left = Node(2)\n",
    "root.right = Node(3)\n",
    "root.left.left = Node(4)\n",
    "root.left.right = Node(5)\n",
    "\n",
    "print(\"Inorder traversal \")\n",
    "inorder(root)\n",
    "\n",
    "print(\"\\nPreorder traversal \")\n",
    "preorder(root)\n",
    "\n",
    "print(\"\\nPostorder traversal \")\n",
    "postorder(root)"
   ]
  },
  {
   "cell_type": "markdown",
   "id": "5500e949",
   "metadata": {
    "slideshow": {
     "slide_type": "slide"
    }
   },
   "source": [
    "#### Exercise 3:"
   ]
  },
  {
   "cell_type": "code",
   "execution_count": 5,
   "id": "e15bc26b",
   "metadata": {},
   "outputs": [
    {
     "data": {
      "text/plain": [
       "'\\nUsing the class above, construct the following tree\\n              1\\n            /              /               2       3\\n         /      /           /      /            4      5       6\\n             /             /              7     8\\n    \\nand perform an inorder, preorder and postorder traversal   \\n'"
      ]
     },
     "execution_count": 5,
     "metadata": {},
     "output_type": "execute_result"
    }
   ],
   "source": [
    " '''\n",
    " Using the class above, construct the following tree\n",
    "               1\n",
    "             /   \\\n",
    "            /     \\\n",
    "           2       3\n",
    "          /      /   \\\n",
    "         /      /     \\\n",
    "        4      5       6\n",
    "              / \\\n",
    "             /   \\\n",
    "            7     8\n",
    "     \n",
    "and perform an inorder, preorder and postorder traversal   \n",
    "'''"
   ]
  },
  {
   "cell_type": "code",
   "execution_count": 6,
   "id": "d6affece",
   "metadata": {
    "slideshow": {
     "slide_type": "subslide"
    }
   },
   "outputs": [
    {
     "name": "stdout",
     "output_type": "stream",
     "text": [
      "4->2->1->7->5->8->3->6->\n",
      "\n",
      "1->2->4->3->5->7->8->6->\n",
      "\n",
      "4->2->7->8->5->6->3->1->"
     ]
    }
   ],
   "source": [
    "#Solution\n",
    "root = Node(1)\n",
    "root.left = Node(2)\n",
    "root.right = Node(3)\n",
    "root.left.left = Node(4)\n",
    "root.right.left = Node(5)\n",
    "root.right.right = Node(6)\n",
    "root.right.left.left = Node(7)\n",
    "root.right.left.right = Node(8)\n",
    " \n",
    "inorder(root)\n",
    "print(\"\\n\")\n",
    "preorder(root)\n",
    "print(\"\\n\")\n",
    "postorder(root)"
   ]
  },
  {
   "cell_type": "markdown",
   "id": "9ba844ab",
   "metadata": {
    "slideshow": {
     "slide_type": "slide"
    }
   },
   "source": [
    "## 2. Binary Search Trees (BST)\n",
    "<div class=\"author\">src: wikipedia.org</div>\n",
    "\n",
    "- In computer science, a binary search tree (BST), also called an ordered or sorted binary tree, is a rooted binary tree data structure whose internal nodes each store a key greater than all the keys in the node's left subtree and less than those in its right subtree. \n",
    "\n",
    "- The time complexity of operations on the binary search tree is directly proportional to the height of the tree.\n",
    "\n",
    "- Binary search trees allow binary search for fast lookup, addition, and removal of data items, and can be used to implement dynamic sets and lookup tables. "
   ]
  },
  {
   "cell_type": "markdown",
   "id": "16a7a2aa",
   "metadata": {
    "slideshow": {
     "slide_type": "slide"
    }
   },
   "source": [
    "### 2.1 Properties\n",
    "\n",
    "- each tree node has a maximum of two children\n",
    "\n",
    "- it can be used to search for a number in $O(log(n))$ time\n",
    "\n",
    "- all nodes of the left subtree are less than the root node\n",
    "\n",
    "- all nodes of the right subtree are more than the root node\n",
    "\n",
    "- both subtress of each node are also BSTs\n",
    "\n",
    "![](img/9bst.jpg)\n",
    "<div class=\"author\">src: chalmers.instructure.com</div>"
   ]
  },
  {
   "cell_type": "markdown",
   "id": "071e0292",
   "metadata": {
    "slideshow": {
     "slide_type": "slide"
    }
   },
   "source": [
    "### 2.2 Searching BSTs\n",
    "\n",
    "Searching for a key target in a BST:\n",
    "\n",
    "- if the tree is empty: FAIL\n",
    "- if the target matches to root node's key: FOUND\n",
    "- if the target is *less* than the root node's key, recursively search the left subtree\n",
    "- if the target is *greater* than the root node's key, recursively search the right subtree\n",
    "\n",
    "![dia1](img/9bstsearch.jpg)\n",
    "<div class=\"author\">src: techiedelight.com</div>"
   ]
  },
  {
   "cell_type": "markdown",
   "id": "0be81ab3",
   "metadata": {
    "slideshow": {
     "slide_type": ""
    }
   },
   "source": [
    "### 2.2 Inserting in BSTs\n",
    "\n",
    "Inserting a key-value pair in a BST:\n",
    "\n",
    "- start by searching for the key\n",
    "- if *NULL* (empty tree), make a node for the key-value pair and place it there\n",
    "- if key already exists: UPDATE\n",
    "\n",
    "![dia1](img/9bstinsert.png)\n",
    "<div class=\"author\">src: techiedelight.com</div>"
   ]
  },
  {
   "cell_type": "markdown",
   "id": "343b1a46",
   "metadata": {
    "slideshow": {
     "slide_type": ""
    }
   },
   "source": [
    "### 2.3 Finding min/max in BSTs\n",
    "\n",
    "Finding maximum key in a BST:\n",
    "\n",
    "- repeatedly go right from the root\n",
    "- when reaching node whose right child is null: MAX FOUND"
   ]
  },
  {
   "cell_type": "markdown",
   "id": "3ba7993a",
   "metadata": {
    "slideshow": {
     "slide_type": ""
    }
   },
   "source": [
    "### 2.4 Deleting a node from a BST\n",
    "\n",
    "__CASE 1__: Deleting a leaf (node with no children)\n",
    "\n",
    "- remove the leaf\n",
    "\n",
    "\n",
    "\n",
    "![dia1](img/9bstdel1.png)\n",
    "<div class=\"author\">src: techiedelight.com</div>"
   ]
  },
  {
   "cell_type": "markdown",
   "id": "28b9eaba",
   "metadata": {
    "slideshow": {
     "slide_type": ""
    }
   },
   "source": [
    "__CASE 2__: Deleting a node with one child\n",
    "\n",
    "- replace the node with its child\n",
    "\n",
    "\n",
    "\n",
    "![dia1](img/9bstdel3.png)\n",
    "<div class=\"author\">src: techiedelight.com</div>"
   ]
  },
  {
   "cell_type": "markdown",
   "id": "8ce3cf59",
   "metadata": {
    "slideshow": {
     "slide_type": ""
    }
   },
   "source": [
    "__CASE 3__: Deleting a node with two children\n",
    "\n",
    "- find and delete the *biggest* key in the *left subtree* \n",
    "- overwrite the node with the key we just deleted\n",
    "- to find the biggest key: repeatedly descend into the right child until you find a node without a right child\n",
    "- the biggest key has no right child, deleting is simple\n",
    "\n",
    "\n",
    "\n",
    "![dia1](img/9bstdel2.png)\n",
    "<div class=\"author\">src: techiedelight.com</div>"
   ]
  },
  {
   "cell_type": "markdown",
   "id": "0e3f67db",
   "metadata": {
    "slideshow": {
     "slide_type": "slide"
    }
   },
   "source": [
    "### 2.5. BST Performance\n",
    "\n",
    "![dia2](img/9bstbalanced.png)\n",
    "<div class=\"author\">src: chalmers.instructure.com</div>\n",
    "\n",
    "__Best Case = \"balanced\"__ - height of tree is $O(\\log n)$\n",
    "\n",
    "__Average Case = \"random order\"__ - if keys are added in random order, height of tree is $O(\\log n)$\n",
    "\n",
    "__Worst Case = \"unbalanced\"__ - height of tree is $O(n)$ => BAD"
   ]
  }
 ],
 "metadata": {
  "celltoolbar": "Slideshow",
  "kernelspec": {
   "display_name": "Python 3 (ipykernel)",
   "language": "python",
   "name": "python3"
  },
  "language_info": {
   "codemirror_mode": {
    "name": "ipython",
    "version": 3
   },
   "file_extension": ".py",
   "mimetype": "text/x-python",
   "name": "python",
   "nbconvert_exporter": "python",
   "pygments_lexer": "ipython3",
   "version": "3.10.4"
  },
  "varInspector": {
   "cols": {
    "lenName": 16,
    "lenType": 16,
    "lenVar": 40
   },
   "kernels_config": {
    "python": {
     "delete_cmd_postfix": "",
     "delete_cmd_prefix": "del ",
     "library": "var_list.py",
     "varRefreshCmd": "print(var_dic_list())"
    },
    "r": {
     "delete_cmd_postfix": ") ",
     "delete_cmd_prefix": "rm(",
     "library": "var_list.r",
     "varRefreshCmd": "cat(var_dic_list()) "
    }
   },
   "types_to_exclude": [
    "module",
    "function",
    "builtin_function_or_method",
    "instance",
    "_Feature"
   ],
   "window_display": false
  }
 },
 "nbformat": 4,
 "nbformat_minor": 5
}
