{
 "cells": [
  {
   "cell_type": "code",
   "execution_count": 1,
   "id": "65e2cd3f",
   "metadata": {
    "hide_input": false,
    "scrolled": true,
    "slideshow": {
     "slide_type": "skip"
    }
   },
   "outputs": [
    {
     "data": {
      "text/html": [
       "<style>h1{text-align:center;}h1{text-transform:none;}.rendered_html h4{color:#17b6eb;font-size: 1.6em;}img[alt=dia1]{width:35%;}img[alt=book]{width:20%;font-size: 3em;}img[alt=dia2]{width:50%;}.author{font-size:8px;}</style>\n"
      ],
      "text/plain": [
       "<IPython.core.display.HTML object>"
      ]
     },
     "metadata": {},
     "output_type": "display_data"
    }
   ],
   "source": []
  },
  {
   "cell_type": "markdown",
   "id": "b7ab25c9",
   "metadata": {
    "slideshow": {
     "slide_type": "slide"
    }
   },
   "source": [
    "#0p Lecture 4: Divide and Conquer"
   ]
  },
  {
   "cell_type": "markdown",
   "id": "b27b48c4",
   "metadata": {
    "slideshow": {
     "slide_type": "slide"
    }
   },
   "source": [
    "## 0. Before we start with D&C, let's take a look at two - simple and inefficient - sorting algorithms..."
   ]
  },
  {
   "cell_type": "markdown",
   "id": "97d25a79",
   "metadata": {
    "slideshow": {
     "slide_type": "slide"
    }
   },
   "source": [
    "### 0.1 Selection Sort\n",
    "![dia2](img/4selection.gif)\n",
    "\n",
    "__Selection Sort__ is an in-place comparison sorting algorithm. It selects the smallest element from an unsorted list in each iteration and places that element at the beginning of the unsorted list.\n",
    "\n",
    "The algorithm divides an input list into two parts: a sorted sublist of items which is built up from left to right at the front of the list and a sublist of the remaining unsorted items that occupy the rest of the list. Initially, the sorted sublist is empty and the unsorted sublist is the entire input list. The algorithm proceeds by finding the smallest element in the unsorted sublist, exchanging (swapping) it with the leftmost unsorted element, and moving the sublist boundaries one element to the right. "
   ]
  },
  {
   "cell_type": "markdown",
   "id": "96960e05",
   "metadata": {
    "slideshow": {
     "slide_type": "slide"
    }
   },
   "source": [
    "### Example:\n",
    "\n",
    "![dia1](img/4selection2.png)\n",
    "<div class=\"author\">src: riptutorial.com</div>\n"
   ]
  },
  {
   "cell_type": "markdown",
   "id": "d98487ad",
   "metadata": {
    "slideshow": {
     "slide_type": "slide"
    }
   },
   "source": [
    "#### Exercise 1: Create pseudocode of the Selection Sort algorithm __and__ a selectionSort() python function\n",
    "\n",
    "##### Algorithm Description:\n",
    "\n",
    "Step 1 − Set MIN to location 0\\\n",
    "Step 2 − Search the minimum element in the list\\\n",
    "Step 3 − Swap with value at location MIN\\\n",
    "Step 4 − Increment MIN to point to next element\\\n",
    "Step 5 − Repeat until finished"
   ]
  },
  {
   "cell_type": "markdown",
   "id": "07aeb451",
   "metadata": {
    "slideshow": {
     "slide_type": "slide"
    }
   },
   "source": [
    "### Pseudocode \n",
    "\n",
    "```python\n",
    "ALGORITHM SelectionSort is\n",
    "    INPUT: A[0..n-1] unsorted array of n elements\n",
    "    OUTPUT: A[0..n-1] sorted in descending order\n",
    "\n",
    "     FOR i <- 0 to n-1 DO\n",
    "          min <- i\n",
    "          FOR j <- i+1 to n DO\n",
    "               IF A[j] < A[min] \n",
    "                    min <- j\n",
    "          SWAP A[i] and A[min]\n",
    "```"
   ]
  },
  {
   "cell_type": "markdown",
   "id": "346ef89a",
   "metadata": {
    "slideshow": {
     "slide_type": "slide"
    }
   },
   "source": [
    "### Python Implementation"
   ]
  },
  {
   "cell_type": "code",
   "execution_count": 71,
   "id": "a1be35d9",
   "metadata": {
    "slideshow": {
     "slide_type": "-"
    }
   },
   "outputs": [
    {
     "name": "stdout",
     "output_type": "stream",
     "text": [
      "[-8, 5, -7, 4, 0, 99, -44]\n",
      "[-44, 5, -7, 4, 0, 99, -8]\n",
      "[-44, -8, -7, 4, 0, 99, 5]\n",
      "[-44, -8, -7, 4, 0, 99, 5]\n",
      "[-44, -8, -7, 0, 4, 99, 5]\n",
      "[-44, -8, -7, 0, 4, 99, 5]\n",
      "[-44, -8, -7, 0, 4, 5, 99]\n"
     ]
    }
   ],
   "source": [
    "def selectionSort(A):   \n",
    "    for i in range(0, len(A)-1):\n",
    "        min = i\n",
    "\n",
    "        for j in range(i+1, len(A)):\n",
    "            if A[j] < A[min]:\n",
    "                min = j\n",
    "        print(A)        \n",
    "        (A[i], A[min]) = (A[min], A[i])\n",
    "\n",
    "\n",
    "data = [-8, 5, -7, 4, -0, 99, -44]\n",
    "selectionSort(data)\n",
    "print(data)"
   ]
  },
  {
   "cell_type": "markdown",
   "id": "7abae58e",
   "metadata": {
    "hide_input": true,
    "slideshow": {
     "slide_type": "slide"
    }
   },
   "source": [
    "#### Exercise 2: Determine the complexity of Selection Sort (worst cast, best cast, average case)\n",
    "\n",
    "##### Hint:\n",
    "\n",
    "The complexity depends on finding the lowest element of the remaining array for each iteration. Therefore:\n",
    "\n",
    "$$(n-1) + (n-2) + ... + 1 = \\sum_{i=1}^{n-1}i$$ \n",
    "\n",
    "Using arithmetic progression:\n",
    "\n",
    "$$\\sum_{i=1}^{n-1}i = \\frac{(n-1) + 1}{2}(n-1)$$\n"
   ]
  },
  {
   "cell_type": "markdown",
   "id": "6c56c027",
   "metadata": {
    "slideshow": {
     "slide_type": "subslide"
    }
   },
   "source": [
    "##### Solution\n",
    "\n",
    "- Worst Case Complexity: $$O(n^2)$$\n",
    "- Best Case Complexity: $$\\Omega (n^2)$$\n",
    "- Average Case Complexity: $$\\Theta(n^2)$$"
   ]
  },
  {
   "cell_type": "markdown",
   "id": "f9d50290",
   "metadata": {
    "slideshow": {
     "slide_type": "slide"
    }
   },
   "source": [
    "### Selection Sort Applications\n",
    "\n",
    "Selection sort is used when:\n",
    "\n",
    "- small list are being sorted\n",
    "- cost of swapping does not matter\n",
    "- checking of all elements is compulsory"
   ]
  },
  {
   "cell_type": "markdown",
   "id": "9e02e8c2",
   "metadata": {
    "slideshow": {
     "slide_type": "slide"
    }
   },
   "source": [
    "## 0.2 Insertion Sort\n",
    "\n",
    "Insertion sort is a simple sorting algorithm that builds the final sorted array (or list) one item at a time. It places an unsorted element at its suitable place in each iteration.\n",
    "\n",
    "![dia1](img/4insertion.gif) ![dia1](img/4insertion2.gif)\n",
    "<div class=\"author\">src: Swfung8 contibutor wikimedia, CC BY-SA 3.0 and gfycat.com</div>"
   ]
  },
  {
   "cell_type": "markdown",
   "id": "804c1510",
   "metadata": {
    "slideshow": {
     "slide_type": "slide"
    }
   },
   "source": [
    "### Interesting Fact:\n",
    "\n",
    "When people manually sort cards in a bridge hand, most use a method that is similar to insertion sort.\n",
    " ![dia1](img/4insertioncards.jpg)\n",
    "<div class=\"author\">src: Introduction to Algorithms, Thomas H. Cormen</div>"
   ]
  },
  {
   "cell_type": "markdown",
   "id": "7d8c2102",
   "metadata": {
    "slideshow": {
     "slide_type": "slide"
    }
   },
   "source": [
    "### Algorithm Description:\n",
    "\n",
    "Step 1 − Iterate from second element of list over the list\\\n",
    "Step 2 − Compare the current element (key) to its predecessor\\\n",
    "Step 3 − If the key element is smaller than its predecessor, compare it to the elements before. Move the greater elements one position up to make space for the swapped element"
   ]
  },
  {
   "cell_type": "markdown",
   "id": "310cd716",
   "metadata": {
    "slideshow": {
     "slide_type": "slide"
    }
   },
   "source": [
    "### Pseudocode \n",
    "\n",
    "```python\n",
    "ALGORITHM InsertionSort is\n",
    "    INPUT: A[0..n-1] unsorted array of n elements\n",
    "    OUTPUT: A[0..n-1] sorted in descending order\n",
    "\n",
    "     FOR i <- 1 to n DO\n",
    "          key <- A[i]\n",
    "          j <- i - 1\n",
    "            \n",
    "          WHILE j >= 0 AND A[j] > key DO\n",
    "               A[j + 1] <- A[j] \n",
    "               j <- j - 1\n",
    "          A[j + 1] <- key\n",
    "```\n"
   ]
  },
  {
   "cell_type": "markdown",
   "id": "5364bed9",
   "metadata": {
    "slideshow": {
     "slide_type": "slide"
    }
   },
   "source": [
    "#### Exercise 3: Implement Insertion Sort as Python function "
   ]
  },
  {
   "cell_type": "code",
   "execution_count": 72,
   "id": "5dee879e",
   "metadata": {},
   "outputs": [
    {
     "ename": "IndentationError",
     "evalue": "expected an indented block after function definition on line 1 (158553543.py, line 6)",
     "output_type": "error",
     "traceback": [
      "\u001b[0;36m  Input \u001b[0;32mIn [72]\u001b[0;36m\u001b[0m\n\u001b[0;31m    data = [-8, 5, -7, 4, -0, 99, -44]\u001b[0m\n\u001b[0m    ^\u001b[0m\n\u001b[0;31mIndentationError\u001b[0m\u001b[0;31m:\u001b[0m expected an indented block after function definition on line 1\n"
     ]
    }
   ],
   "source": [
    "def insertionSort(A):\n",
    "    #\n",
    "    # add your code here\n",
    "    #\n",
    "\n",
    "data = [-8, 5, -7, 4, -0, 99, -44]\n",
    "insertionSort(data)"
   ]
  },
  {
   "cell_type": "code",
   "execution_count": 2,
   "id": "400ef8e8",
   "metadata": {
    "slideshow": {
     "slide_type": "subslide"
    }
   },
   "outputs": [
    {
     "name": "stdout",
     "output_type": "stream",
     "text": [
      "[-8, 5, -7, 4, 0, 99, -44]\n",
      "[-8, -7, 5, 4, 0, 99, -44]\n",
      "[-8, -7, 4, 5, 0, 99, -44]\n",
      "[-8, -7, 0, 4, 5, 99, -44]\n",
      "[-8, -7, 0, 4, 5, 99, -44]\n",
      "[-44, -8, -7, 0, 4, 5, 99]\n"
     ]
    }
   ],
   "source": [
    "def insertionSort(A):\n",
    "    for i in range(1, len(A)):\n",
    "        key = A[i]\n",
    "        j = i - 1\n",
    "     \n",
    "        while j >= 0 and key < A[j]:\n",
    "            A[j + 1] = A[j]\n",
    "            j = j - 1\n",
    "        \n",
    "        A[j + 1] = key\n",
    "        print(A)\n",
    "\n",
    "\n",
    "data = [-8, 5, -7, 4, -0, 99, -44]\n",
    "insertionSort(data)"
   ]
  },
  {
   "cell_type": "markdown",
   "id": "decbf7e4",
   "metadata": {
    "slideshow": {
     "slide_type": "slide"
    }
   },
   "source": [
    "### Complexity of Insertion Sort\n",
    "\n",
    "- Worst Case Complexity: $$\\sum_{i=1}^{N-1}=1+2+3+...+(N-1)=\\frac{(N-1)N}{2}=O(n^2)$$\n",
    "- Best Case Complexity (inner loop does not run if array already sorted): $$\\Omega (n)$$\n",
    "- Average Case Complexity: $$\\Theta(n^2)$$"
   ]
  },
  {
   "cell_type": "markdown",
   "id": "2c104edc",
   "metadata": {
    "slideshow": {
     "slide_type": "slide"
    }
   },
   "source": [
    "### Insertion Sort Applications\n",
    "\n",
    "Insertion sort is used when:\n",
    "\n",
    "- array has small number of elements\n",
    "- when only very few elements are left to be sorted\n",
    "- dataset is already substantially sorted"
   ]
  },
  {
   "cell_type": "markdown",
   "id": "44cb95f2",
   "metadata": {
    "slideshow": {
     "slide_type": "slide"
    }
   },
   "source": [
    "## 1. Divide and Conquer Paradigm\n",
    "\n",
    "The two sorting algorithms we have learned above have worst-case running times of $O(n^2)$. When the size of the input array is large, these algorithms can take a long time to run. Algorithmic paradigms based on recursion often provide more efficient running times. \n",
    "\n",
    "The __Divide and Conquer__ paradigm breaks a problem into subproblems that are similar to the original problem, __recursively__ solves the subproblems, and finally combines the solutions to the subproblems to solve the original problem. "
   ]
  },
  {
   "cell_type": "markdown",
   "id": "faa97d9d",
   "metadata": {
    "slideshow": {
     "slide_type": "slide"
    }
   },
   "source": [
    "### \"divide et impera\" - even the Romans used this algorithms\n",
    "\n",
    "The *divide and rule* policy is used to gain and maintain power by breaking up larger concentrations of power into pieces that individually have less power than the one implementing the strategy. Historically, this strategy was used in many different ways by empires seeking to expand their territories.\n",
    "\n",
    "The phrase *divide et impera* has been attributed to Philip II of Macedon. It was utilised by the Roman ruler Julius Caesar and the French emperor Napoleon.\n",
    "\n",
    "![book](img/4cesar.jpg)\n",
    "<div class=\"author\">src: Leomudde, wikimedia, CC BY-SA 4.0</div>\n"
   ]
  },
  {
   "cell_type": "markdown",
   "id": "d4d4cfa8",
   "metadata": {
    "slideshow": {
     "slide_type": "slide"
    }
   },
   "source": [
    "### 3 Steps of Divide and Conquer\n",
    "\n",
    "1. __Divide__ the problem into a number of subproblems that are smaller instances of the same problem.\n",
    "\n",
    "2. __Conquer__ the subproblems by solving them recursively. If they are small enough, solve the subproblems as base cases.\n",
    "   \n",
    "3. __Combine__ the solutions to the subproblems into the solution for the original problem.\n",
    "\n",
    "![dia1](img/4dac1.png)\n",
    "<div class=\"author\">src: Thomas Cormen, Devin Balkcom, Khan Acedemy, CC BY-NC-SA</div>"
   ]
  },
  {
   "cell_type": "markdown",
   "id": "a2f85d88",
   "metadata": {
    "slideshow": {
     "slide_type": "slide"
    }
   },
   "source": [
    "##### Expanding the approach into multiple recursive steps\n",
    "\n",
    "![dia2](img/4dac2.png)\n",
    "<div class=\"author\">src: Thomas Cormen, Devin Balkcom, Khan Acedemy, CC BY-NC-SA</div>\n"
   ]
  },
  {
   "cell_type": "markdown",
   "id": "19026e6f",
   "metadata": {
    "slideshow": {
     "slide_type": "slide"
    }
   },
   "source": [
    "### Master Theorem: Time Complexity of DaC algorithms\n",
    "\n",
    "The complexity of the divide and conquer algorithm is calculated using the master theorem. Many algorithms have a runtime of the form:\n",
    "\n",
    "$$T(n) = a T ( \\frac{n}{b}) + f(n)$$\n",
    "\n",
    "$n$ = size of input\\\n",
    "$a$ = number of subproblems in the recursion (number of \"children\"), $a\\geq1$\\\n",
    "$b$ = constant, $b>1$\\\n",
    "$\\frac{n}{b}$ = size of each subproblem\\\n",
    "$T(\\frac{n}{b})$ = runtime of each subproblem\\\n",
    "$f(n)$ = cost of the work outside the recursive call (i.e. dividing, merging), must be asymptotically positive"
   ]
  },
  {
   "cell_type": "markdown",
   "id": "8ec8aff3",
   "metadata": {
    "slideshow": {
     "slide_type": "slide"
    }
   },
   "source": [
    "##### Visualization with a recursion tree\n",
    "\n",
    "Consider a recursion tree for only the runtime of all subproblems:\n",
    "$$T(n) = a T ( \\frac{n}{b})$$\n",
    "\n",
    "![dia1](img/4recursiontree.png)\n",
    "<div class=\"author\">src: brilliant.org</div>\n",
    "\n",
    "The tree has a depth of $log_{⁡b}n$ and depth $i$ contains $a^i$ nodes. So there are $a^{log_b n}=n^{log_b a}$ leaves in the tree. \n",
    "\n",
    "Hence, the runtime is expressed as: $$\\Theta(n^{log_b a})$$"
   ]
  },
  {
   "cell_type": "markdown",
   "id": "4230d515",
   "metadata": {
    "slideshow": {
     "slide_type": "slide"
    }
   },
   "source": [
    "##### An asympyotically positive function $f(n)$ is added to the recurrence to account for all outside work (dividing, merging, etc...)\n",
    "\n",
    "$$T(n) = a T ( \\frac{n}{b}) + f(n)$$\n",
    "\n",
    "It is now possible to determine the asymptotic form of $f$ based on a relative comparison between $f$ and $n^{log_b a}$."
   ]
  },
  {
   "cell_type": "markdown",
   "id": "659d852a",
   "metadata": {
    "slideshow": {
     "slide_type": "slide"
    }
   },
   "source": [
    "## Master Theorem\n",
    "\n",
    "Given a recurrence of the form\n",
    "\n",
    "$$T(n) = a T ( \\frac{n}{b}) + f(n)$$ \n",
    "\n",
    "for constants $a\\geq1$ and $b>1$ with $f$ asymptotically positive, the following statements are true:\n",
    "\n",
    "- __Case 1__: If $f(n) = O(n^{\\log_b a - \\epsilon})$ for some $\\epsilon > 0$, then $T(n)=\\Theta (n^{log_b a})$\n",
    "\n",
    "- __Case 2__: If $f(n) = \\Theta(n^{\\log_b a})$, then $T(n)=\\Theta(n^{log_b a} \\cdot \\log n)$\n",
    "\n",
    "- __Case 3__: If $f(n) = \\Omega(n^{\\log_b a + \\epsilon})$ for some $\\epsilon > 0$, then $T(n)=\\Theta (f(n))$\n"
   ]
  },
  {
   "cell_type": "markdown",
   "id": "dd8e3aec",
   "metadata": {
    "slideshow": {
     "slide_type": "slide"
    }
   },
   "source": [
    "### ELI5 (in simple words):\n",
    "\n",
    "$$T(n) = a T ( \\frac{n}{b}) + f(n)$$\n",
    "\n",
    "Think of it as a race between the two summands:\n",
    "\n",
    "- __Case 1__: If $f(n)$ is polynomially __smaller__ than $n^{log_b a}$, then $n^{log_b a}$ dominates and the runtime is $\\Theta (n^{log_b a})$\n",
    "\n",
    "\n",
    "- __Case 2__: If $f(n)$ and $n^{log_b a}$ are asymptotically the same, then $T(n)=\\Theta (n^{log_b a} \\cdot \\log n)$\n",
    "\n",
    "\n",
    "- __Case 3__: If $f(n)$ is polynomially __larger__ than $n^{log_b a}$, then $f(n)$ dominates and the runtime is $\\Theta (f(n))$"
   ]
  },
  {
   "cell_type": "markdown",
   "id": "35557fd2",
   "metadata": {
    "slideshow": {
     "slide_type": "slide"
    }
   },
   "source": [
    "### Limitations\n",
    "\n",
    "The master theorem does not provide a solution for all $f$. In particular, if $f$ is smaller or larger than $n^{\\log_b{a}}$ by less than a polynomial factor, then none of the three cases are satisfied. For instance, consider the recurrence:\n",
    "\n",
    "$$T(n) = 3T (\\frac{n}{3}) + n \\cdot \\log n$$\n",
    "\n",
    "In this case, $n^{\\log_b{a}} = n$. While $f$ is asymptotically larger than $n$, it is larger only by a logarithmic factor. Therefore, the master theorem does not apply.\n",
    "\n",
    "##### Summary: the master theorem cannot be used if:\n",
    "- $T(n)$ is not monotone (example: $T(n) = \\sin(n)$)\n",
    "- $f(n)$ is not a polynomial (example: $f(n) = 2^n$)\n",
    "- $a$ is not a constant (example: $a=2n$)\n"
   ]
  },
  {
   "cell_type": "markdown",
   "id": "b263b578",
   "metadata": {
    "slideshow": {
     "slide_type": "slide"
    }
   },
   "source": [
    "### Example 1:\n",
    "\n",
    "Consider an algorithm with the following recurrence:\n",
    "$$T(n) = 9T (\\frac{n}{3}) + n$$\n",
    "\n",
    "$n^{log_b a} = n^2$\n",
    "\n",
    "$f(n) = n$\n",
    "\n",
    "$\\rightarrow$ Since $f(n)$ is polynomilly smaller than $n^{log_b a}$, __Case 1__ of the __master theorem__ applies and:\n",
    "$$T(n) = \\Theta(n^2)$$"
   ]
  },
  {
   "cell_type": "markdown",
   "id": "4c386c17",
   "metadata": {
    "slideshow": {
     "slide_type": "slide"
    }
   },
   "source": [
    "### Example 2:\n",
    "\n",
    "Consider an algorithm with the following recurrence:\n",
    "$$T(n) = 27T (\\frac{n}{3}) + n^3$$\n",
    "\n",
    "$n^{log_b a} = n^3$\n",
    "\n",
    "$f(n) = n^3$\n",
    "\n",
    "$\\rightarrow$ Since $f(n)$ is asymptotically the same as $n^{log_b a}$, __Case 2__ of the __master theorem__ applies and:\n",
    "$$T(n) = \\Theta(n^3 \\cdot \\log n)$$"
   ]
  },
  {
   "cell_type": "markdown",
   "id": "9886b64d",
   "metadata": {
    "slideshow": {
     "slide_type": "slide"
    }
   },
   "source": [
    "### Example 3:\n",
    "\n",
    "Consider an algorithm with the following recurrence:\n",
    "$$T(n) = 3T (\\frac{n}{3}) + n^2$$\n",
    "\n",
    "$n^{log_b a} = n$\n",
    "\n",
    "$f(n) = n^2$\n",
    "\n",
    "$\\rightarrow$ Since $f(n)$ is asymptotically larger than $n^{log_b a}$, __Case 3__ of the __master theorem__ applies and:\n",
    "$$T(n) = \\Theta(f(n)) = \\Theta(n^2)$$"
   ]
  },
  {
   "cell_type": "markdown",
   "id": "4d96296e",
   "metadata": {
    "slideshow": {
     "slide_type": "slide"
    }
   },
   "source": [
    "### Example 4:\n",
    "\n",
    "Consider an algorithm with the following recurrence:\n",
    "$$T(n) = 8T (\\frac{n}{2}) + \\frac{n^3}{\\log n}$$\n",
    "\n",
    "$n^{log_b a} = n^3$\n",
    "\n",
    "$f(n) = \\frac{n^3}{\\log n}$\n",
    "\n",
    "$\\rightarrow$ Since $f(n)$ is smaller than $n^{log_b a}$, __BUT__ by less than polynomial factor. Therefore, the master theorem __does not apply__."
   ]
  },
  {
   "cell_type": "markdown",
   "id": "41bfd5fe",
   "metadata": {
    "slideshow": {
     "slide_type": "slide"
    }
   },
   "source": [
    "#### Exercise 4: Determine the asymptotic solution for each recurrence using the Master Theorem (if possible) \n",
    "\n",
    "- Problem 1: $T(n) = 3T (\\frac{n}{2}) + n^2$\n",
    "- Solution 1: $T(n) = \\Theta(n^2)$ -> case 3\n",
    "\n",
    "\n",
    "- Problem 2: $T(n) = 7T (\\frac{n}{2}) + n^2$\n",
    "- Solution 2: $T(n) = \\Theta(n^{\\log_2 7})$ -> case 1\n",
    "\n",
    "\n",
    "- Problem 3: $T(n) = 4T (\\frac{n}{2}) + n^2$\n",
    "- Solution 3: $T(n) = \\Theta(n^2 \\cdot \\log n)$ -> case 2\n",
    "\n",
    "\n",
    "- Problem 4: $T(n) = 4T (\\frac{n}{2}) + \\log n$\n",
    "- Solution 4: $T(n) = \\Theta(n^2)$ -> case 1\n",
    "\n",
    "\n",
    "- Problem 5: $T(n) = 2T (\\frac{n}{4}) + c$\n",
    "- Solution 5: $T(n) = \\Theta(n^{\\frac{1}{2}})$ -> case 1\n",
    "\n",
    "\n",
    "- Problem 6: $T(n) = 2T (\\frac{n}{4}) + \\sqrt{n}$\n",
    "- Solution 6: $T(n) = \\Theta(n^{\\frac{1}{2}} \\cdot \\log n)$ -> case 2\n",
    "\n",
    "\n",
    "- Problem 7: $T(n) = 2T (\\frac{n}{2}) + n^{0.51}$\n",
    "- Solution 7: $T(n) = \\Theta(n^{0.51})$ -> case 3\n",
    "\n",
    "\n",
    "- Problem 8: $T(n) = 16T (\\frac{n}{4}) + n!$\n",
    "- Solution 8: $T(n) = \\Theta(n!)$ -> case 3\n",
    "\n",
    "\n"
   ]
  }
 ],
 "metadata": {
  "celltoolbar": "Slideshow",
  "kernelspec": {
   "display_name": "Python 3 (ipykernel)",
   "language": "python",
   "name": "python3"
  },
  "language_info": {
   "codemirror_mode": {
    "name": "ipython",
    "version": 3
   },
   "file_extension": ".py",
   "mimetype": "text/x-python",
   "name": "python",
   "nbconvert_exporter": "python",
   "pygments_lexer": "ipython3",
   "version": "3.10.5"
  },
  "varInspector": {
   "cols": {
    "lenName": 16,
    "lenType": 16,
    "lenVar": 40
   },
   "kernels_config": {
    "python": {
     "delete_cmd_postfix": "",
     "delete_cmd_prefix": "del ",
     "library": "var_list.py",
     "varRefreshCmd": "print(var_dic_list())"
    },
    "r": {
     "delete_cmd_postfix": ") ",
     "delete_cmd_prefix": "rm(",
     "library": "var_list.r",
     "varRefreshCmd": "cat(var_dic_list()) "
    }
   },
   "types_to_exclude": [
    "module",
    "function",
    "builtin_function_or_method",
    "instance",
    "_Feature"
   ],
   "window_display": false
  }
 },
 "nbformat": 4,
 "nbformat_minor": 5
}
