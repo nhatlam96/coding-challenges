{
 "cells": [
  {
   "cell_type": "code",
   "execution_count": 6,
   "id": "65e2cd3f",
   "metadata": {
    "hide_input": true,
    "slideshow": {
     "slide_type": "skip"
    }
   },
   "outputs": [
    {
     "data": {
      "text/html": [
       "<style>h1{text-align:center;}h1{text-transform:none;}.rendered_html h4{color:#17b6eb;font-size: 1.6em;}img[alt=dia1]{width:35%;}img[alt=book]{width:20%;font-size: 3em;}img[alt=dia2]{width:50%;}.author{font-size:8px;}</style>\n"
      ],
      "text/plain": [
       "<IPython.core.display.HTML object>"
      ]
     },
     "metadata": {},
     "output_type": "display_data"
    }
   ],
   "source": [
    "%%html\n",
    "<style>h1{text-align:center;}h1{text-transform:none;}.rendered_html h4{color:#17b6eb;font-size: 1.6em;}img[alt=dia1]{width:35%;}img[alt=book]{width:20%;font-size: 3em;}img[alt=dia2]{width:50%;}.author{font-size:8px;}</style>"
   ]
  },
  {
   "cell_type": "markdown",
   "id": "b7ab25c9",
   "metadata": {
    "slideshow": {
     "slide_type": "slide"
    }
   },
   "source": [
    "# Lecture 8: Elementary Data Structures: Linked Lists, Hashing"
   ]
  },
  {
   "cell_type": "markdown",
   "id": "b27b48c4",
   "metadata": {
    "slideshow": {
     "slide_type": "slide"
    }
   },
   "source": [
    "## 1. Linked Lists\n",
    "<div class=\"author\">src: Introduction to Algorithms, Thomas H. Cormen</div>\n",
    "\n",
    "A __linked list__ is a data structure in which the objects are arranged in a linear order. Unlike an array, however, in which the linear order is determined by the array indices, the order in a linked list is determined by a pointer in each object.\n",
    "\n",
    "Linked lists provide a simple, flexible representation for dynamic sets.\n",
    "\n",
    "In its most basic form, each node contains: __data__, and a __reference__ (in other words, a link) to the next node in the sequence. This structure allows for efficient insertion or removal of elements from any position in the sequence during iteration. \n",
    "\n",
    "A drawback of linked lists is that access time is linear. Arrays have better cache locality compared to linked lists. \n",
    "\n",
    "![dia2](img/8linkedlist.png)\n",
    "<div class=\"author\">src: wikipedia.org</div>"
   ]
  },
  {
   "cell_type": "markdown",
   "id": "c4030e8b",
   "metadata": {
    "slideshow": {
     "slide_type": "slide"
    }
   },
   "source": [
    "### 1.1 Items are not constrained in physical memory placement\n",
    "\n",
    "![dia2](img/8linkedlist2.png)\n",
    "<div class=\"author\">src: pas.rochester.edu</div>"
   ]
  },
  {
   "cell_type": "markdown",
   "id": "99d5cf11",
   "metadata": {
    "slideshow": {
     "slide_type": "slide"
    }
   },
   "source": [
    "### 1.2 Nomenclature\n",
    "\n",
    "Each record of a linked list is often called an __element__ or __node__. Each node must hold at least two pieces of information:\n",
    "\n",
    "1. The field of each node that contains the address (reference) of the next node is usually called the __next link__ or __next pointer__.\n",
    "\n",
    "2. The item fields are known as the __data, information, value, cargo, or payload__ fields.\n",
    "\n",
    "The __head__ of a list is its first node. \n",
    "\n",
    "The __tail__ of a list may refer either to the rest of the list after the head, or to the last node in the list. "
   ]
  },
  {
   "cell_type": "markdown",
   "id": "9e91549f",
   "metadata": {
    "slideshow": {
     "slide_type": "slide"
    }
   },
   "source": [
    "### 1.3 Basic Concepts\n",
    "<div class=\"author\">src: wikipedia.org</div>\n",
    "\n",
    "##### 1.3.1 Sinlgy linked list\n",
    "\n",
    "Singly linked lists contain nodes which have a data field as well as 'next' field, which points to the next node in line of nodes. Operations that can be performed on singly linked lists include insertion, deletion and traversal. \n",
    "\n",
    "![dia2](img/8linkedlist.png)\n"
   ]
  },
  {
   "cell_type": "markdown",
   "id": "563cf342",
   "metadata": {
    "slideshow": {
     "slide_type": "slide"
    }
   },
   "source": [
    "##### 1.3.2 Doubly linked list\n",
    "\n",
    "In a __doubly linked list__, each node contains, besides the next-node link, a second link field pointing to the __previous__ node in the sequence. The two links may be called __forward__ and __backwards__, or __next__ and __prev__. \n",
    "\n",
    "![dia2](img/8doublyll.png)\n",
    "\n",
    "A technique known as __XOR-linking__ allows a doubly linked list to be implemented using a single link field in each node. However, this technique requires the ability to do bit operations on addresses, and therefore may not be available in some high-level languages. "
   ]
  },
  {
   "cell_type": "markdown",
   "id": "3e7301ca",
   "metadata": {
    "slideshow": {
     "slide_type": "slide"
    }
   },
   "source": [
    "An ordinary doubly linked list stores addresses of the previous and next list items in each list node, requiring two address fields: \n",
    " ```\n",
    " ...  A       B         C         D         E  ...\n",
    "          –>  next –>  next  –>  next  –>\n",
    "          <–  prev <–  prev  <–  prev  <–\n",
    " ```\n",
    " An XOR linked list compresses the same information into one address field by storing the bitwise XOR (here denoted by ⊕) of the address for previous and the address for next in one field: \n",
    " ```\n",
    "  ...  A        B         C         D         E  ...\n",
    "           ⇌   A⊕C   ⇌   B⊕D   ⇌   C⊕E   ⇌\n",
    "```\n",
    "<div class=\"author\">src: wikipedia.org</div>"
   ]
  },
  {
   "cell_type": "markdown",
   "id": "62f2ee13",
   "metadata": {
    "slideshow": {
     "slide_type": "slide"
    }
   },
   "source": [
    "Hence (taking a look at *link(c)*):\n",
    "```\n",
    "link(C) = addr(B)⊕addr(D)\n",
    "```\n",
    "because:\n",
    "```\n",
    "addr(D) = link(C) ⊕ addr(B)\n",
    "```\n",
    "so:\n",
    "```\n",
    "addr(D) = addr(B)⊕addr(D) ⊕ addr(B)\n",
    "```\n",
    "using:\n",
    "- X⊕X = 0\n",
    "- X⊕0 = X\n",
    "- X⊕Y = Y⊕X\n",
    "- (X⊕Y)⊕Z = X⊕(Y⊕Z)\n",
    "\n",
    "\n"
   ]
  },
  {
   "cell_type": "markdown",
   "id": "1cd40b72",
   "metadata": {
    "slideshow": {
     "slide_type": "slide"
    }
   },
   "source": [
    "##### Drawbacks\n",
    "- Debugging tools cannot follow XOR chains, hence debugging is more difficult\n",
    "- The price for the decrease in memory usage is an increase in code complexity, making maintenance more expensive\n",
    "- Not all languages support type conversion between pointers and integers, XOR on pointers is not defined in some contexts\n",
    "- XOR linked lists do not provide some of the important advantages of doubly linked lists, such as the ability to delete a node from the list knowing only its address or the ability to insert a new node before or after an existing node when knowing only the address of the existing node\n",
    "- Computer systems have increasingly cheap and plentiful memory, therefore storage overhead is not generally an overriding issue outside specialized embedded systems"
   ]
  },
  {
   "cell_type": "markdown",
   "id": "a9539aa9",
   "metadata": {
    "slideshow": {
     "slide_type": "slide"
    }
   },
   "source": [
    "##### 1.3.3 Circular linked list\n",
    "\n",
    "The last node of a list can point to the first node of the list; in that case, the list is said to be __circular__. Otherwise, it is said to be *open* or *linear*. It is a list where the last pointer points to the first node. \n",
    "\n",
    "![dia2](img/8circularl.png)\n",
    "\n",
    "In the case of a circular doubly linked list, the first node also points to the last node of the list. "
   ]
  },
  {
   "cell_type": "markdown",
   "id": "0746f21b",
   "metadata": {
    "slideshow": {
     "slide_type": "slide"
    }
   },
   "source": [
    "### 1.4 Python Implementation\n",
    "\n",
    "##### 1.4.1 Node Implementation\n",
    "\n",
    "Start with a single node class, since linking several nodes are a complete list.\n",
    "\n",
    "The `node`class holds some `data` and a single pointer `next`, that points to the next Node object in the linked list. Furthermore, let's include some getter and setter methods."
   ]
  },
  {
   "cell_type": "code",
   "execution_count": 2,
   "id": "ff85d6b6",
   "metadata": {},
   "outputs": [],
   "source": [
    "class Node:\n",
    "    def __init__(self, init_data):\n",
    "        self.data = init_data\n",
    "        self.next = None\n",
    "        \n",
    "    def get_data(self):\n",
    "        return self.data\n",
    "    \n",
    "    def get_next(self):\n",
    "        return self.next\n",
    "    \n",
    "    def set_data(self, new_data):\n",
    "        self.data = new_data\n",
    "        \n",
    "    def set_next(self, new_next):\n",
    "        self.next = new_next"
   ]
  },
  {
   "cell_type": "markdown",
   "id": "1430a349",
   "metadata": {
    "slideshow": {
     "slide_type": "slide"
    }
   },
   "source": [
    "#####  Linked List class\n",
    "\n",
    "|Class / Method|Description|\n",
    "|:---|:---|\n",
    "|LinkedList()|creates a new list that is empty. It needs no parameters and returns an empty list.|\n",
    "|add(item)| adds a new item to the list. It needs the item and returns nothing|\n",
    "|remove(item)| removes the item from the list. It needs the item and modifies the list|\n",
    "|search(item)| searches for the item in the list. It needs the item and returns a boolean value|\n",
    "|it_empty()|tests to see whether the list is empty. It needs no parameters and returns a boolean value|\n",
    "|length()|returns the number of items in the list. It needs no parameters and returns an integer|\n",
    "|append(item)|adds a new item to the end of the list making it the last item in the collection. It needs the item and returns nothing|\n",
    "|index(item)|returns the position of the item in the list. It needs the item and returns the index|\n",
    "|insert(pos, item)|adds a new item to the list at position pos. It needs the item and returns nothing|\n",
    "|pop()|removes and returns the last item in the list. It needs nothing and returns an item|\n",
    "|pop(pos)|removes and returns the item at position pos. It needs the position and returns the item|"
   ]
  },
  {
   "cell_type": "markdown",
   "id": "2ba37c75",
   "metadata": {
    "slideshow": {
     "slide_type": "slide"
    }
   },
   "source": [
    "##### 1.4.2. Linked List class implementation"
   ]
  },
  {
   "cell_type": "code",
   "execution_count": 3,
   "id": "7d50f273",
   "metadata": {},
   "outputs": [],
   "source": [
    "class LinkedList:\n",
    "    # Function to initialize head\n",
    "    def __init__(self):\n",
    "        self.head = None\n",
    "    \n",
    "    def add(self, item):\n",
    "        temp = Node(item)\n",
    "        temp.set_next(self.head)\n",
    "        self.head = temp\n",
    "        \n",
    "    def remove(self, item):\n",
    "        current = self.head\n",
    "        previous = None\n",
    "        found = False\n",
    "        while not found:\n",
    "            if current.get_data() == item:\n",
    "                found = True\n",
    "            else:\n",
    "                previous = current\n",
    "                current = current.get_next()\n",
    "                \n",
    "        if previous == None:\n",
    "            self.head = current.get_next()\n",
    "        else:\n",
    "            previous.set_next(current.get_next())\n",
    "    \n",
    "    def length(self):\n",
    "        current = self.head\n",
    "        count = 0\n",
    "        while current != None:\n",
    "            count = count + 1\n",
    "            current = current.get_next()\n",
    "        return count\n",
    "\n",
    "    def search(self, item):\n",
    "        current = self.head\n",
    "        found = False\n",
    "        while current != None and not found:\n",
    "            if current.get_data() == item:\n",
    "                found = True\n",
    "            else:\n",
    "                current = current.get_next()\n",
    "        return found\n",
    "        \n",
    "    # Utility function to print the linked LinkedList\n",
    "    def print_list(self):\n",
    "        temp = self.head\n",
    "        while(temp):\n",
    "            print(temp.data)\n",
    "            temp = temp.next\n",
    "            "
   ]
  },
  {
   "cell_type": "markdown",
   "id": "500ce901",
   "metadata": {
    "slideshow": {
     "slide_type": "slide"
    }
   },
   "source": [
    "#### Exercise 1:\n",
    "Name two advantages of using linked lists over arrays to store data."
   ]
  },
  {
   "cell_type": "markdown",
   "id": "cfdba0dd",
   "metadata": {
    "slideshow": {
     "slide_type": "slide"
    }
   },
   "source": [
    "#### Exercise 2:\n",
    "\n",
    "Name an advantage of using arrays over linked lists to store data"
   ]
  },
  {
   "cell_type": "markdown",
   "id": "d489a241",
   "metadata": {
    "slideshow": {
     "slide_type": "slide"
    }
   },
   "source": [
    "#### Exercise 3:\n",
    "\n",
    "Add a method to the LinkedListEx3 class to remove Duplicates from the linked list."
   ]
  },
  {
   "cell_type": "code",
   "execution_count": 4,
   "id": "36d49165",
   "metadata": {
    "slideshow": {
     "slide_type": "slide"
    }
   },
   "outputs": [
    {
     "ename": "IndentationError",
     "evalue": "expected an indented block after function definition on line 16 (3909159415.py, line 23)",
     "output_type": "error",
     "traceback": [
      "\u001b[0;36m  Input \u001b[0;32mIn [4]\u001b[0;36m\u001b[0m\n\u001b[0;31m    llist = LinkedListEx3()\u001b[0m\n\u001b[0m                           ^\u001b[0m\n\u001b[0;31mIndentationError\u001b[0m\u001b[0;31m:\u001b[0m expected an indented block after function definition on line 16\n"
     ]
    }
   ],
   "source": [
    "class LinkedListEx3:\n",
    "    def __init__(self):\n",
    "        self.head = None\n",
    "    \n",
    "    def add(self, item):\n",
    "        temp = Node(item)\n",
    "        temp.set_next(self.head)\n",
    "        self.head = temp\n",
    "\n",
    "    def print_list(self):\n",
    "        temp = self.head\n",
    "        while(temp):\n",
    "            print(temp.data)\n",
    "            temp = temp.next\n",
    "            \n",
    "    def remove_duplicates(self):\n",
    "        #\n",
    "        # Add method code here!!!!\n",
    "        #\n",
    "\n",
    "    \n",
    "#Driver Code    \n",
    "llist = LinkedListEx3()\n",
    " \n",
    "llist.add(1)\n",
    "llist.add(3)\n",
    "llist.add(5)\n",
    "llist.add(5)\n",
    "llist.add(7)\n",
    "llist.add(5)\n",
    "llist.add(9)\n",
    "print(\"Linked List after removing duplicates:\",)\n",
    "llist.remove_duplicates()\n",
    "llist.print_list()"
   ]
  },
  {
   "cell_type": "markdown",
   "id": "f9389bca",
   "metadata": {
    "slideshow": {
     "slide_type": "slide"
    }
   },
   "source": [
    "#### Exercise 4:\n",
    "\n",
    "Add a method to the LinkedListEx4 class to move the last element to the front of a given linked list.\n",
    "\n",
    "__Example:__ `1→2→3→4→5` should change to `5→1→2→3→4`"
   ]
  },
  {
   "cell_type": "code",
   "execution_count": null,
   "id": "06f266c0",
   "metadata": {
    "slideshow": {
     "slide_type": "slide"
    }
   },
   "outputs": [],
   "source": [
    "class LinkedListEx4:\n",
    "    def __init__(self):\n",
    "        self.head = None\n",
    "    \n",
    "    def add(self, item):\n",
    "        temp = Node(item)\n",
    "        temp.set_next(self.head)\n",
    "        self.head = temp\n",
    "\n",
    "    def print_list(self):\n",
    "        temp = self.head\n",
    "        while(temp):\n",
    "            print(temp.data)\n",
    "            temp = temp.next\n",
    "            \n",
    "    def move_last_to_front(self):\n",
    "        #\n",
    "        # Add code here!!!!\n",
    "        #\n",
    "\n",
    "    \n",
    "#Driver Code    \n",
    "llist = LinkedListEx4()\n",
    " \n",
    "llist.add(5)\n",
    "llist.add(4)\n",
    "llist.add(3)\n",
    "llist.add(2)\n",
    "llist.add(1)\n",
    "\n",
    "print(\"Linked List after moving last item to front:\",)\n",
    "llist.move_last_to_front()\n",
    "llist.print_list()"
   ]
  },
  {
   "cell_type": "markdown",
   "id": "5fb0e89d",
   "metadata": {
    "slideshow": {
     "slide_type": "slide"
    }
   },
   "source": [
    "#### Exercise 5:\n",
    "\n",
    "You are given two __non-empty__ linked lists representing two non-negative integers. The digits are stored in __reverse order__, and each of their nodes contains a single digit. Add the two numbers and return the sum as a linked list.\n",
    "\n",
    "You may assume the two numbers do not contain any leading zero, except the number 0 itself.\n",
    "\n",
    "![dia1](img/8addtwonumbers.jpg)\n",
    "<div class=\"author\">src: leetcode.com</div>\n",
    "\n",
    "__Example:__\n",
    "```\n",
    "Input: l1 = [2,4,3], l2 = [5,6,4]\n",
    "Output: [7,0,8]\n",
    "Explanation: 342 + 465 = 807.\n",
    "```"
   ]
  },
  {
   "cell_type": "code",
   "execution_count": null,
   "id": "eeb15617",
   "metadata": {},
   "outputs": [],
   "source": [
    "def add_two_numbers(l1, l2):\n",
    "    #\n",
    "    # Implement here!\n",
    "    #\n",
    "        \n",
    "    \n",
    "\n",
    "#Driver Code\n",
    "l1 = LinkedList()\n",
    "l1.add(1)\n",
    "l1.add(9)\n",
    "l1.add(9)\n",
    "\n",
    "l2 = LinkedList()\n",
    "l2.add(2)\n",
    "l2.add(3)\n",
    "l2.add(8)\n",
    "\n",
    "add_two_numbers(l1, l2)\n"
   ]
  },
  {
   "cell_type": "markdown",
   "id": "987a59dc",
   "metadata": {
    "slideshow": {
     "slide_type": "slide"
    }
   },
   "source": [
    "#### Extra Exercise (Homework):\n",
    "\n",
    "Implement a __Doubly Linked List__.\n"
   ]
  },
  {
   "cell_type": "markdown",
   "id": "95fbf196",
   "metadata": {
    "slideshow": {
     "slide_type": "slide"
    }
   },
   "source": [
    "## 2. Hashing\n",
    "<div class=\"author\">src: programiz.com</div>\n",
    "\n",
    "Hashing is a technique of __mapping__ a large set of arbitrary data into a __hash table__ (tabular indexes) using a __hash function__. It is a method for representing __dictionaries__ for large datasets.\n",
    "\n",
    "It allows lookups, updating and retrieval operation to occur in a constant time i.e. __O(1)__ . \n",
    "The efficiency of mapping depends on the efficiency of the hash function used."
   ]
  },
  {
   "cell_type": "markdown",
   "id": "bfc278ae",
   "metadata": {
    "slideshow": {
     "slide_type": "slide"
    }
   },
   "source": [
    "### 2.1 What is it used for?\n",
    "\n",
    "Lookups are inevitable for large datasets and are often times very time-consuming\n",
    "\n",
    "- Linear search: `O(n)`\n",
    "- Binary search: `O(log n)`\n",
    "\n",
    "As size of datasets increases, these complexities become significantly high.\n",
    "\n",
    "-> Although searching for an element in a hash table can take as long as searching for an element in a linked list $\\Theta(n)$ time is the worst time. In practice, hashing performs extremely well. Under reasonable assumptions, the averate time to search for an element in a hash table is `O(1)`."
   ]
  },
  {
   "cell_type": "markdown",
   "id": "441f2fff",
   "metadata": {
    "slideshow": {
     "slide_type": "slide"
    }
   },
   "source": [
    "When the number of keys actually stored is small relative to the total number of possible keys, hash tables become an effective alternative to directly addressing an array, since a hash table typically uses an array of size proportional to the number of keys actually stored. \n",
    "\n",
    "Instead of using the key as an array index directly, the array index is computed from the key. "
   ]
  },
  {
   "cell_type": "markdown",
   "id": "ed848cf6",
   "metadata": {
    "slideshow": {
     "slide_type": "slide"
    }
   },
   "source": [
    "##### Applications of Hash Table\n",
    "\n",
    "Hash tables are implemented where\n",
    "\n",
    "- constant time lookup and insertion is required\n",
    "- cryptographic applications\n",
    "- indexing data is required\n"
   ]
  },
  {
   "cell_type": "markdown",
   "id": "b47a98d1",
   "metadata": {
    "slideshow": {
     "slide_type": "slide"
    }
   },
   "source": [
    "### 2.2 Functioning\n",
    "\n",
    "![dia2](img/8hashtable.png)\n",
    "<div class=\"author\">src: jorge Stolfi, CC BY-SA 3.0, wikimedia</div>\n",
    "\n",
    "A __hash table__ uses a __hash function__ to compute an index, also called a __hash code__, into an array of __buckets__ or slots, from which the desired value can be found. During lookup, the key is hashed and the resulting hash indicates where the corresponding value is stored. \n",
    "\n",
    "Ideally, the hash function will assign each key to a unique bucket, but most hash table designs employ an imperfect hash function, which might cause __hash collisions__ where the hash function generates the same index for more than one key. Such collisions are typically accommodated in some way. "
   ]
  },
  {
   "cell_type": "markdown",
   "id": "fe618b66",
   "metadata": {
    "slideshow": {
     "slide_type": "slide"
    }
   },
   "source": [
    "### 2.3 Hash table complexities\n",
    "\n",
    "|Algorithm|Average|Worst case|\n",
    "|:---|:---|:---|\n",
    "|Space|$\\Theta(n)$|O(n)|\n",
    "|Search|$\\Theta(1)$|O(n)|\n",
    "|Insert|$\\Theta(1)$|O(n)|\n",
    "|Delete|$\\Theta(1)$|O(n)|\n",
    "\n",
    "Hashing is an example of a __space-time tradeoff__. If memory is infinite, the entire key can be used directly as an index to locate its value with a single memory access. On the other hand, if time is infinite, values can be stored without regard for their keys, and a binary search or linear search can be used to retrieve the element."
   ]
  },
  {
   "cell_type": "markdown",
   "id": "226275e6",
   "metadata": {
    "slideshow": {
     "slide_type": "slide"
    }
   },
   "source": [
    "### 2.4 Hash function\n",
    "\n",
    "![dia1](img/8hashfunction.webp)\n",
    "<div class=\"author\">src: programmiz.com</div>\n",
    "\n",
    "A hash function is any function that can be used to map data of arbitrary size to fixed-size values. The values returned by a hash function are called hash values, hash codes, digests, or simply hashes.\n",
    "\n",
    "Let $k$ be a key and $h(x)$ be a _hash function_. A hash function is an easily computable function that maps a key $k$ to a \"random-like\" index in the range $[0..m-1]$. "
   ]
  },
  {
   "cell_type": "markdown",
   "id": "0ce75a6b",
   "metadata": {
    "slideshow": {
     "slide_type": "slide"
    }
   },
   "source": [
    "##### 2.4.1 \"Good Hashing Functions\"\n",
    "\n",
    "A good hashing function should have the following properties:\n",
    "\n",
    "- it should be *efficiently computable* in constant time and using simple arithmetic operations\n",
    "- it should produce *few collisions*:\n",
    "    - it should be a function of *every bit* of the key (otherwise keys that differ only in these bits will collide, i.e. \"1111101\", \"1111110\", \"1111111\"\n",
    "    - it breaks up (scatters) naturally occuring clusters of key values, i.e. \"temp1\", \"temp2\", \"temp3\""
   ]
  },
  {
   "cell_type": "markdown",
   "id": "763ef829",
   "metadata": {
    "slideshow": {
     "slide_type": "slide"
    }
   },
   "source": [
    "##### 2.4.2 Common (simple) Hash Functions\n",
    "\n",
    "##### 2.4.2.1 Division Method\n",
    "\n",
    "If `k` is a key and `m` is the size of the hash table, the hash function `h()` is calculated as:\n",
    "\n",
    "$$h(k) = k\\mod m$$\n",
    "\n",
    "This is called *division hashing*. It satisfies our first criteria of efficiency, but consecutive keys are mapped to consecutive entries, and this is does not do a good job of breaking up clusters."
   ]
  },
  {
   "cell_type": "markdown",
   "id": "4dbdce1c",
   "metadata": {
    "slideshow": {
     "slide_type": "slide"
    }
   },
   "source": [
    "##### 2.4.2.2 Multiplicative Hash Function\n",
    "\n",
    "$$h(k) = (a\\cdot k)\\mod m$$\n",
    "\n",
    ", where $a$ is a large prime number (or at least does not share common factors with $m$). Or alternatively:\n",
    "\n",
    "$$h(k) = \\lfloor m A k \\rfloor \\mod m$$\n",
    "\n",
    "Where $A$ is any real-valued constant. An advantage of the hashing by multiplication is that the $m$ is not critical. Although any value real value $A$ produces a hash function, Donald Knuth suggests using the golden ratio: $\\frac{\\sqrt{5}-1}{2}$.\n",
    "\n",
    "##### 2.4.2.3 Linear Hash Function\n",
    "\n",
    "$$h(k) = (a\\cdot x + b)\\mod m$$\n",
    "\n",
    "Enhances the multiplicative hash function with an added constant term $b$."
   ]
  },
  {
   "cell_type": "markdown",
   "id": "6c6ea1b5",
   "metadata": {
    "slideshow": {
     "slide_type": "slide"
    }
   },
   "source": [
    "##### 2.4.2.4 Polynomial Hash Function\n",
    "\n",
    "We can further extend the linear hash function to a polynomial. This is often handy with keys that consist of a sequence of objects, such as strings\n",
    "or the coordinates of points in a multi-dimensional space.\n",
    "\n",
    "Suppose that the key being hashed involves a sequence of numbers $x = (c0, c1, . . . , ck−1)$.\n",
    "We map them to a single number by computing a polynomial function whose coefficients are these values.\n",
    "\n",
    "$$h(x_0, . . . , x_n) =\\left ( \\sum_{i=0}^{k−1}c_i p^i \\right ) \\mod m$$\n",
    "\n",
    "For example, if $k = 4$ and $p = 37$, the associated polynomial would be $c_0 + 37c_1 + 2372c_2 + 373c_3$."
   ]
  },
  {
   "cell_type": "markdown",
   "id": "7a340b1a",
   "metadata": {
    "slideshow": {
     "slide_type": "slide"
    }
   },
   "source": [
    "### 2.5. Hash Collision\n",
    "\n",
    "It may be that different keys are mapped to the same location. Such events are\n",
    "called __hash collisions__, and a key element in the design of a good hashing system how collisions\n",
    "are to be handled.\n",
    "\n",
    "Collisions can be resolved using on of the following techniques:\n",
    "\n",
    "- Collisions resolution by __chaining__\n",
    "- __Open Addressing__: Linear/Quadratic Probing and Double Hashing"
   ]
  },
  {
   "cell_type": "markdown",
   "id": "247d3fa4",
   "metadata": {
    "slideshow": {
     "slide_type": "slide"
    }
   },
   "source": [
    "##### 2.5.1 Collision resolution by (separate) chaining\n",
    "\n",
    "If we have additional memory at our disposal, a simple approach to collision resolution, called separate chaining, is to store the colliding entries in a separate (doubly-)linked list,\n",
    "one for each table entry. More formally, each table entry stores a reference to a list data\n",
    "structure that contains all the dictionary entries that hash to this location.\n",
    "\n",
    "If `j` is the slot for multiple elements, it contains a pointer to the head of the list of elements. If no element is present, `j` contains `NIL`.\n",
    "\n",
    "![dia2](img/8chained.webp)\n",
    "<div class=\"author\">src: programmiz.com</div>"
   ]
  },
  {
   "cell_type": "markdown",
   "id": "a6dd5cfc",
   "metadata": {
    "slideshow": {
     "slide_type": "slide"
    }
   },
   "source": [
    "##### 2.5.1 Collision resolution by open addressing.\n",
    "<div class=\"author\">src: cs.umd.edu</div>\n",
    "\n",
    "Unlike chaining, open addressing doesn't store multiple elements into the same slot. Here, each slot is either filled with a single key or left NIL. These collision-resolution methods do not require additional storage. The objective is to store all keys within the hash table.\n",
    "\n",
    "To know which table entries store a value and which do not, we will store a special value, called __empty__ in the empty table entries. The value of empty must be such that it matches no valid key.\n",
    "\n",
    "Whenever we attempt to insert a new entry and find that its position is already occupied, we\n",
    "will begin probing other table entries until we discover an empty location where we can place\n",
    "the new key. In it most general form, an open addressing system involves a secondary search\n",
    "function, $f$ . If we discover that location $h(x)$ is occupied, we next try locations\n",
    "\n",
    "$$(h(x) + f (1))\\mod m, (h(x) + f (2)) \\mod m, (h(x) + f (3)) \\mod m, . . . .$$\n",
    "\n",
    "until finding an open location. "
   ]
  },
  {
   "cell_type": "markdown",
   "id": "ab1cf2cb",
   "metadata": {
    "slideshow": {
     "slide_type": "slide"
    }
   },
   "source": [
    "![dia2](img/8linearprobing.png)\n",
    "The collision between John Smith and Sandra Dee (both hashing to cell 873) is resolved by placing Sandra Dee at the next free location, cell 874."
   ]
  },
  {
   "cell_type": "markdown",
   "id": "104e39ec",
   "metadata": {
    "slideshow": {
     "slide_type": "slide"
    }
   },
   "source": [
    "##### Linear Probing\n",
    "<div class=\"author\">src: programmiz.com</div>\n",
    "\n",
    "In linear probing, collision is resolved by checking the next slot.\n",
    "\n",
    "$$ h(k, i) = (h′(k) + i) \\mod m$$\n",
    "\n",
    ", where\n",
    "\n",
    "- $i = {0, 1, …}$\n",
    "- $h'(k)$ is a new hash function\n",
    "\n",
    "If a collision occurs at $h(k, 0)$, then $h(k, 1)$ is checked. In this way, the value of $i$ is incremented linearly.\n",
    "\n",
    "The problem with linear probing is that a cluster of adjacent slots is filled. When inserting a new element, the entire cluster must be traversed. This adds to the time required to perform operations on the hash table."
   ]
  },
  {
   "cell_type": "markdown",
   "id": "4cf58c2b",
   "metadata": {
    "slideshow": {
     "slide_type": "slide"
    }
   },
   "source": [
    "##### Quadratic Probing\n",
    "\n",
    "It works similar to linear probing but the spacing between the slots is increased (greater than one) by using the following relation.\n",
    "\n",
    "$$h(k, i) = (h′(k) + c_1 \\cdot i + c_2 \\cdot i^2) \\mod m$$\n",
    "\n",
    ", where\n",
    "\n",
    "- $c1$ and $c2$ are positive auxiliary constants\n",
    "- $i = {0, 1, …}$\n",
    "\n",
    "Quadratic Probing is used to avoid primary clustering."
   ]
  },
  {
   "cell_type": "markdown",
   "id": "47c5b302",
   "metadata": {},
   "source": [
    "##### Double Hashing\n",
    "\n",
    "Both linear probing and quadratic probing have shortcomings. Recall that in any open-addressing scheme, we are accessing the probe sequence $h(x) + f (1), h(x) + f (2), ...$. \n",
    "\n",
    "In Double Hashing the increment function $f(i)$ is a function of the search key, more specifically another hash function. This leads to the concept of double hashing.\n",
    "\n",
    "More formally, we define two hash functions $h(x)$ and $g(x)$. We use $h(x)$ to determine the first probe location. If this entry is occupied, we then try:\n",
    "\n",
    "$$h(x) + g(x), h(x) + 2g(x), h(x) + 3g(x), . . .$$\n",
    "\n",
    "Let $n$ be the number of elements stored in $T$. Given a key $x$, the $(i+1)$-st hash location is computed by:\n",
    "\n",
    "$$h(i, j)= (h(x)+i\\cdot g(x)) \\mod |T|$$"
   ]
  },
  {
   "cell_type": "markdown",
   "id": "1d1d91f1",
   "metadata": {
    "slideshow": {
     "slide_type": "slide"
    }
   },
   "source": [
    "### 2.6 Python Example\n",
    "<div class=\"author\">src: programmiz.com</div>\n",
    "\n",
    "#### Exercise 6\n",
    "Which hashing function is used in the following code?"
   ]
  },
  {
   "cell_type": "code",
   "execution_count": null,
   "id": "9edb4580",
   "metadata": {
    "slideshow": {
     "slide_type": "subslide"
    }
   },
   "outputs": [],
   "source": [
    "# Python program to demonstrate working of HashTable \n",
    "\n",
    "hashTable = [[],] * 10\n",
    "\n",
    "def checkPrime(n):\n",
    "    if n == 1 or n == 0:\n",
    "        return 0\n",
    "    for i in range(2, n//2):\n",
    "        if n % i == 0:\n",
    "            return 0\n",
    "    return 1\n",
    "\n",
    "def getPrime(n):\n",
    "    if n % 2 == 0:\n",
    "        n = n + 1\n",
    "    while not checkPrime(n):\n",
    "        n += 2\n",
    "    return n\n",
    "\n",
    "def hashFunction(key):\n",
    "    capacity = getPrime(10)\n",
    "    return key % capacity\n",
    "\n",
    "def insertData(key, data):\n",
    "    index = hashFunction(key)\n",
    "    hashTable[index] = [key, data]\n",
    "\n",
    "def removeData(key):\n",
    "    index = hashFunction(key)\n",
    "    hashTable[index] = 0\n",
    "\n",
    "insertData(123, \"apple\")\n",
    "insertData(432, \"mango\")\n",
    "insertData(213, \"banana\")\n",
    "insertData(654, \"guava\")\n",
    "\n",
    "print(hashTable)\n",
    "\n",
    "removeData(123)\n",
    "\n",
    "print(hashTable)"
   ]
  },
  {
   "cell_type": "markdown",
   "id": "6d1d1670",
   "metadata": {
    "slideshow": {
     "slide_type": "slide"
    }
   },
   "source": [
    "#### Exercise 7:\n",
    "\n",
    "Indicate whether you use an Array, LinkedList or Hash Table to store data in each of the following cases. Justify your answer:\n",
    "\n",
    "1. A list of employee records need to be stored in a manner that is easy to find max or min in the list\n",
    "\n",
    "2. A data set contains many records with duplicate keys. Only thing needed is to keep the list in sorted order.\n",
    "\n",
    "3. A  library needs to maintain books by their ISBN number. Only thing important is finding them as soon as possible.\n",
    "\n",
    "4. A data set needs to be maintained in order to find the median of the set quickly."
   ]
  },
  {
   "cell_type": "markdown",
   "id": "71fb1718",
   "metadata": {
    "slideshow": {
     "slide_type": "slide"
    }
   },
   "source": [
    "#### Exercise 8:\n",
    "<div class=\"author\">src: geeksforgeeks.org</div>\n",
    "\n",
    "Given the following input: $$(4322, 1334, 1471, 9679, 1989, 6171, 6173, 4199)$$ and the hash function $$x \\mod 10$$.\n",
    "\n",
    "Which of the following statements are true? \n",
    "1. 9679, 1989, 4199 hash to the same value \n",
    "2. 1471, 6171 hash to the same value \n",
    "3. All elements hash to the same value \n",
    "4. Each element hashes to a different value \n",
    "\n",
    "- A) i only \n",
    "- B) ii only \n",
    "- C) i and ii only \n",
    "- D) iii or iv "
   ]
  },
  {
   "cell_type": "markdown",
   "id": "aaf814d8",
   "metadata": {
    "slideshow": {
     "slide_type": "slide"
    }
   },
   "source": [
    "#### Exercise 9:\n",
    "\n",
    "The keys $12, 18, 13, 2, 3, 23, 5, 15$ are inserted into an initially empty hash table of length 10 using open addressing with hash function \n",
    "\n",
    "$$h(k) = k \\mod 10$$ \n",
    "\n",
    "and linear probing. What is the resultant hash table? "
   ]
  }
 ],
 "metadata": {
  "celltoolbar": "Slideshow",
  "kernelspec": {
   "display_name": "Python 3 (ipykernel)",
   "language": "python",
   "name": "python3"
  },
  "language_info": {
   "codemirror_mode": {
    "name": "ipython",
    "version": 3
   },
   "file_extension": ".py",
   "mimetype": "text/x-python",
   "name": "python",
   "nbconvert_exporter": "python",
   "pygments_lexer": "ipython3",
   "version": "3.10.4"
  },
  "varInspector": {
   "cols": {
    "lenName": 16,
    "lenType": 16,
    "lenVar": 40
   },
   "kernels_config": {
    "python": {
     "delete_cmd_postfix": "",
     "delete_cmd_prefix": "del ",
     "library": "var_list.py",
     "varRefreshCmd": "print(var_dic_list())"
    },
    "r": {
     "delete_cmd_postfix": ") ",
     "delete_cmd_prefix": "rm(",
     "library": "var_list.r",
     "varRefreshCmd": "cat(var_dic_list()) "
    }
   },
   "types_to_exclude": [
    "module",
    "function",
    "builtin_function_or_method",
    "instance",
    "_Feature"
   ],
   "window_display": false
  }
 },
 "nbformat": 4,
 "nbformat_minor": 5
}
