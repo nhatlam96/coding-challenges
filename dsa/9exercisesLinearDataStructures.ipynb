{
 "cells": [
  {
   "cell_type": "code",
   "execution_count": 3,
   "id": "65e2cd3f",
   "metadata": {
    "hide_input": true,
    "slideshow": {
     "slide_type": "skip"
    }
   },
   "outputs": [
    {
     "data": {
      "text/html": [
       "<style>h1{text-align:center;}h1{text-transform:none;}.rendered_html h4{color:#17b6eb;font-size: 1.6em;}img[alt=dia1]{width:35%;}img[alt=book]{width:20%;font-size: 3em;}img[alt=dia2]{width:50%;}.author{font-size:8px;}</style>\n"
      ],
      "text/plain": [
       "<IPython.core.display.HTML object>"
      ]
     },
     "metadata": {},
     "output_type": "display_data"
    }
   ],
   "source": [
    "%%html\n",
    "<style>h1{text-align:center;}h1{text-transform:none;}.rendered_html h4{color:#17b6eb;font-size: 1.6em;}img[alt=dia1]{width:35%;}img[alt=book]{width:20%;font-size: 3em;}img[alt=dia2]{width:50%;}.author{font-size:8px;}</style>"
   ]
  },
  {
   "cell_type": "markdown",
   "id": "b7ab25c9",
   "metadata": {
    "slideshow": {
     "slide_type": "slide"
    }
   },
   "source": [
    "# Lecture 9: Exercises - Linear Data Structures"
   ]
  },
  {
   "cell_type": "markdown",
   "id": "b27b48c4",
   "metadata": {
    "slideshow": {
     "slide_type": "slide"
    }
   },
   "source": [
    "## 1. Hash Tables\n",
    "<div class=\"author\">src: chalmers.instructure.com</div>\n",
    "\n",
    "##### Question 1: Which of these are legal separate chaining hash tables?\n",
    "![](img/9q1.jpg)"
   ]
  },
  {
   "cell_type": "markdown",
   "id": "d8f64d82",
   "metadata": {
    "slideshow": {
     "slide_type": "subslide"
    }
   },
   "source": [
    "### Solution:\n",
    "A,C"
   ]
  },
  {
   "cell_type": "markdown",
   "id": "864f1342",
   "metadata": {
    "slideshow": {
     "slide_type": "slide"
    }
   },
   "source": [
    "##### Question 2: Which of these are linear probing hash tables?\n",
    "![](img/9q2.jpg)"
   ]
  },
  {
   "cell_type": "markdown",
   "id": "526b4a3b",
   "metadata": {
    "slideshow": {
     "slide_type": "subslide"
    }
   },
   "source": [
    "### Solution:\n",
    "A,D"
   ]
  },
  {
   "cell_type": "markdown",
   "id": "968a9c2f",
   "metadata": {
    "slideshow": {
     "slide_type": "slide"
    }
   },
   "source": [
    "##### Question 3: What are the requirements on hash functions?\n",
    "\n",
    "<ol style=\"list-style-type: upper-alpha;\">\n",
    "  <li>equal hash codes implies equal objects</li>\n",
    "  <li>equal objects implies equal hash codes</li>\n",
    "  <li>uniform and independent distribution implies equal objects</li>\n",
    "  <li>they have uniform and independent distributions</li>\n",
    "</ol>"
   ]
  },
  {
   "cell_type": "markdown",
   "id": "a7caa27f",
   "metadata": {
    "slideshow": {
     "slide_type": "subslide"
    }
   },
   "source": [
    "### Solution:\n",
    "B"
   ]
  },
  {
   "cell_type": "markdown",
   "id": "bc130972",
   "metadata": {
    "slideshow": {
     "slide_type": "slide"
    }
   },
   "source": [
    "##### Question 4: What are desirable properties of hash functions?\n",
    "\n",
    "<ol style=\"list-style-type: upper-alpha;\">\n",
    "  <li>they have uniform and independent distributions</li>\n",
    "  <li>they should be computationally expensive</li>\n",
    "  <li>uniform and independent distribution implies equal objects</li>\n",
    "  <li>equal hash codes implies equal objects</li>\n",
    "</ol>"
   ]
  },
  {
   "cell_type": "markdown",
   "id": "6e13e458",
   "metadata": {
    "slideshow": {
     "slide_type": "subslide"
    }
   },
   "source": [
    "### Solution:\n",
    "A,D"
   ]
  },
  {
   "cell_type": "markdown",
   "id": "ec86e8ca",
   "metadata": {
    "slideshow": {
     "slide_type": "slide"
    }
   },
   "source": [
    "##### Question 5: Assume that the number of elements in a *separate chaining* hash table is $N$. What is/are good choice(s) for the size of the internal array $M$? \n",
    "\n",
    "<ol style=\"list-style-type: upper-alpha;\">\n",
    "  <li>$M\\approx N$</li>\n",
    "  <li>$M\\approx N \\cdot 10$</li>\n",
    "  <li>$M\\approx N \\cdot 3$</li>\n",
    "  <li>$M\\approx N / 3$</li>\n",
    "  <li>$M\\approx N / 10$</li>\n",
    "</ol>"
   ]
  },
  {
   "cell_type": "markdown",
   "id": "8d05c35e",
   "metadata": {
    "slideshow": {
     "slide_type": "subslide"
    }
   },
   "source": [
    "### Solution:\n",
    "A, D \n",
    "\n",
    "The size $M$ of the internal array should be smaller than, or equal to, $N$, by some factor. But not too large of a factor."
   ]
  },
  {
   "cell_type": "markdown",
   "id": "31ddc3e3",
   "metadata": {
    "slideshow": {
     "slide_type": "slide"
    }
   },
   "source": [
    "##### Question 6: Assume that the number of elements in a *linear probing* hash table is $N$. What is/are good choice(s) for the size of the internal array $M$? \n",
    "\n",
    "<ol style=\"list-style-type: upper-alpha;\">\n",
    "  <li>$M\\approx N$</li>\n",
    "  <li>$M\\approx N \\cdot 10$</li>\n",
    "  <li>$M\\approx N - 10$</li>\n",
    "  <li>$M\\approx N \\cdot 3$</li>\n",
    "  <li>$M\\approx N / 3$</li>\n",
    "  <li>$M\\approx N / 10$</li>\n",
    "</ol>"
   ]
  },
  {
   "cell_type": "markdown",
   "id": "b5d8062c",
   "metadata": {
    "slideshow": {
     "slide_type": "subslide"
    }
   },
   "source": [
    "### Solution:\n",
    "D \n",
    "\n",
    "The size $M$ of the internal array must be larger than $N$, by some factor. But not too large factor"
   ]
  },
  {
   "cell_type": "markdown",
   "id": "845391c2",
   "metadata": {
    "slideshow": {
     "slide_type": "slide"
    }
   },
   "source": [
    "##### Question 7: What's the main risk if a hacker exploits a weakness in our hash function?\n",
    "\n",
    "<ol style=\"list-style-type: upper-alpha;\">\n",
    "  <li>The system might slow down to a halt</li>\n",
    "  <li>They might find out sensitive data</li>\n",
    "  <li>The memory might overflow</li>\n",
    "</ol>"
   ]
  },
  {
   "cell_type": "markdown",
   "id": "f2b3fb61",
   "metadata": {
    "slideshow": {
     "slide_type": "subslide"
    }
   },
   "source": [
    "### Solution:\n",
    "A"
   ]
  },
  {
   "cell_type": "markdown",
   "id": "636a509d",
   "metadata": {
    "slideshow": {
     "slide_type": "slide"
    }
   },
   "source": [
    "##### Question 8: Suppose you have the following hash table implemented using *linear probing*. For the hash function we are using the identity function modulo the length of the list: \n",
    "$$h(x) = x \\mod 9$$\n",
    "\n",
    "![dia1](img/9q8.jpg)\n",
    "\n",
    "In which order could the elements have been added to the hash table? There are several correct answers.\n",
    "\n",
    "<ol style=\"list-style-type: upper-alpha;\">\n",
    "  <li>12, 14, 3, 9, 4, 18, 21</li>\n",
    "  <li>9, 14, 4, 18, 12, 3, 21</li>\n",
    "  <li>12, 3, 14, 18, 4, 9, 21</li>\n",
    "  <li>9, 12, 14, 3, 4, 21, 18</li>\n",
    "  <li>12, 9, 18, 3, 14, 21, 4</li>\n",
    "</ol>"
   ]
  },
  {
   "cell_type": "markdown",
   "id": "0c58ccf6",
   "metadata": {
    "slideshow": {
     "slide_type": "subslide"
    }
   },
   "source": [
    "### Solution:\n",
    "A, D"
   ]
  },
  {
   "cell_type": "markdown",
   "id": "717f08de",
   "metadata": {
    "slideshow": {
     "slide_type": "slide"
    }
   },
   "source": [
    "##### Question 9: Suppose you have a hash table that uses separate chaining and has an internal capacity of 12. Assume that each bucket is a linked list where new elements are added to the front of the list. Insert the following element in the exact order using the hash function:\n",
    "\n",
    "$$h(x) = 4x$$\n",
    "\n",
    "$${0, 4, 7, 1, 2, 3, 6, 11, 16}$$\n",
    "\n",
    "Describe the state of the inner array."
   ]
  },
  {
   "cell_type": "markdown",
   "id": "7224ce0b",
   "metadata": {
    "slideshow": {
     "slide_type": "subslide"
    }
   },
   "source": [
    "### Solution:\n",
    "\n",
    "|6→3→0| / | / | / |16→1→7→4| / | / | / |11→2| / | / | / |\n"
   ]
  },
  {
   "cell_type": "markdown",
   "id": "9f5291a1",
   "metadata": {
    "slideshow": {
     "slide_type": "slide"
    }
   },
   "source": [
    "## 2. Stack, Queues, Linked Lists\n",
    "\n",
    "##### Question 10: Which operations are possible to implement efficiently in a linked list stack?\n",
    "\n",
    "<ol style=\"list-style-type: upper-alpha;\">\n",
    "  <li>remove_last()</li>\n",
    "  <li>get_first()</li>\n",
    "  <li>get_last()</li>\n",
    "  <li>remove_first() = pop()</li>\n",
    "  <li>add_first(x) = push(x)</li>\n",
    "  <li>add_last()</li>\n",
    "</ol>"
   ]
  },
  {
   "cell_type": "markdown",
   "id": "b873f009",
   "metadata": {
    "slideshow": {
     "slide_type": "subslide"
    }
   },
   "source": [
    "### Solution:\n",
    "\n",
    "B, D, E"
   ]
  },
  {
   "cell_type": "markdown",
   "id": "98269141",
   "metadata": {
    "slideshow": {
     "slide_type": "slide"
    }
   },
   "source": [
    "##### Question 11: What does the following code fragment print when n is 75?\n",
    "\n",
    "```\n",
    "s = Stack()\n",
    "while n > 0:\n",
    "    s.push(n % 2)\n",
    "    n = n // 2\n",
    "while not s.isEmpty():\n",
    "    print(s.pop())\n",
    "```"
   ]
  },
  {
   "cell_type": "markdown",
   "id": "0b62ebf2",
   "metadata": {
    "slideshow": {
     "slide_type": "subslide"
    }
   },
   "source": [
    "### Solution:\n",
    "\n",
    "1001011"
   ]
  },
  {
   "cell_type": "markdown",
   "id": "f072a48f",
   "metadata": {
    "slideshow": {
     "slide_type": "slide"
    }
   },
   "source": [
    "##### Question 12: Suppose a client performs an intermixed sequence of enqueue and dequeue operations. The enqueue operations put the integers 0 through 9 in order onto the queue; the queue operations print out the return value. Which of the following sequence(s) can NEVER occur?\n",
    "\n",
    "<ol style=\"list-style-type: upper-alpha;\">\n",
    "  <li>2 5 6 7 4 8 9 3 1 0</li>\n",
    "  <li>4 6 8 7 5 3 2 9 0 1</li>\n",
    "  <li>0 1 2 3 4 5 6 7 8 9</li>\n",
    "  <li>4 3 2 1 0 5 6 7 8 9</li>\n",
    "</ol>"
   ]
  },
  {
   "cell_type": "markdown",
   "id": "be0a192c",
   "metadata": {
    "slideshow": {
     "slide_type": "subslide"
    }
   },
   "source": [
    "### Solution:\n",
    "A, B, D"
   ]
  },
  {
   "cell_type": "markdown",
   "id": "abcbd6b6",
   "metadata": {
    "slideshow": {
     "slide_type": "slide"
    }
   },
   "source": [
    "##### Question 13: Suppose that x is a linked-list node and not the first or last node on the list. What is the effect of the following code fragment?\n",
    "\n",
    "$$x.next = x.next.next$$\n",
    "\n",
    "<ol style=\"list-style-type: upper-alpha;\">\n",
    "  <li>Deletes the node directly after x</li>\n",
    "  <li>Inserts a new node directly after x</li>\n",
    "  <li>Deletes the node x from the list</li>\n",
    "  <li>Creates a duplicate of x</li>\n",
    "</ol>"
   ]
  },
  {
   "cell_type": "markdown",
   "id": "8a7d9f24",
   "metadata": {
    "slideshow": {
     "slide_type": "subslide"
    }
   },
   "source": [
    "### Solution:\n",
    "A"
   ]
  },
  {
   "cell_type": "markdown",
   "id": "f482ec0e",
   "metadata": {
    "slideshow": {
     "slide_type": "slide"
    }
   },
   "source": [
    "##### Question 14: Suppose that x is a linked list node and not the first or last node on the list. What does the following code fragment do?\n",
    "\n",
    "```\n",
    "x.next = t\n",
    "t.next = x.next\n",
    "```\n",
    "\n",
    "<ol style=\"list-style-type: upper-alpha;\">\n",
    "  <li>Inserts node t directly after node x</li>\n",
    "  <li>Inserts node t directly before node x</li>\n",
    "  <li>Replaces node x by node t</li>\n",
    "  <li>Makes x point to itself</li>\n",
    "</ol>"
   ]
  },
  {
   "cell_type": "markdown",
   "id": "1b4c00ec",
   "metadata": {
    "slideshow": {
     "slide_type": "subslide"
    }
   },
   "source": [
    "### Solution:\n",
    "A"
   ]
  }
 ],
 "metadata": {
  "celltoolbar": "Slideshow",
  "kernelspec": {
   "display_name": "Python 3 (ipykernel)",
   "language": "python",
   "name": "python3"
  },
  "language_info": {
   "codemirror_mode": {
    "name": "ipython",
    "version": 3
   },
   "file_extension": ".py",
   "mimetype": "text/x-python",
   "name": "python",
   "nbconvert_exporter": "python",
   "pygments_lexer": "ipython3",
   "version": "3.10.4"
  },
  "varInspector": {
   "cols": {
    "lenName": 16,
    "lenType": 16,
    "lenVar": 40
   },
   "kernels_config": {
    "python": {
     "delete_cmd_postfix": "",
     "delete_cmd_prefix": "del ",
     "library": "var_list.py",
     "varRefreshCmd": "print(var_dic_list())"
    },
    "r": {
     "delete_cmd_postfix": ") ",
     "delete_cmd_prefix": "rm(",
     "library": "var_list.r",
     "varRefreshCmd": "cat(var_dic_list()) "
    }
   },
   "types_to_exclude": [
    "module",
    "function",
    "builtin_function_or_method",
    "instance",
    "_Feature"
   ],
   "window_display": false
  }
 },
 "nbformat": 4,
 "nbformat_minor": 5
}
