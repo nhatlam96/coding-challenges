{
 "cells": [
  {
   "cell_type": "code",
   "execution_count": 1,
   "id": "5131d6a7",
   "metadata": {
    "hide_input": false,
    "jupyter": {
     "source_hidden": true
    },
    "slideshow": {
     "slide_type": "skip"
    },
    "tags": []
   },
   "outputs": [
    {
     "data": {
      "text/html": [
       "<style>h1,h4{text-align:center;}h1{text-transform:none;}h2{}img[alt=book]{width:20%;}.dia1{width:35%;}.dia2{width:50%;}</style>\n"
      ],
      "text/plain": [
       "<IPython.core.display.HTML object>"
      ]
     },
     "metadata": {},
     "output_type": "display_data"
    }
   ],
   "source": [
    "%%html\n",
    "<style>h1,h4{text-align:center;}h1{text-transform:none;}h2{}img[alt=book]{width:20%;}.dia1{width:35%;}.dia2{width:50%;}</style>"
   ]
  },
  {
   "cell_type": "markdown",
   "id": "1efd9a00",
   "metadata": {
    "slideshow": {
     "slide_type": "slide"
    }
   },
   "source": [
    "# Welcome to **501 ALGO**\n",
    "#### (Algorithmen und Datenstrukturen)"
   ]
  },
  {
   "cell_type": "markdown",
   "id": "aed187e0",
   "metadata": {
    "slideshow": {
     "slide_type": "slide"
    }
   },
   "source": [
    "## Course Language\n",
    "\n",
    "\n",
    "- this class is taught in **English** *(to support the internationalization efforts of HS Worms)*\n",
    "- all provided lecture materials will be in **English**\n",
    "- the final exam will be in **English**\n",
    "- all of your questions and our discussions/communications should be in **English**\n"
   ]
  },
  {
   "cell_type": "markdown",
   "id": "e37bc745",
   "metadata": {
    "jp-MarkdownHeadingCollapsed": true,
    "slideshow": {
     "slide_type": "slide"
    },
    "tags": []
   },
   "source": [
    "## Communication\n",
    "\n",
    "Volker Schwarzer\\\n",
    "schwarzer@hs-worms.de  👍  \\\n",
    "N335  👍\\\n",
    "06241/509-264\n",
    "\n",
    "**Office hours:** open door or by appointment\n",
    "\n",
    "Questions that might be interesting for all? \\\n",
    "➡ Ask in class or use Moodle forum  👍  "
   ]
  },
  {
   "cell_type": "markdown",
   "id": "3e6f3b11",
   "metadata": {
    "slideshow": {
     "slide_type": "slide"
    },
    "tags": []
   },
   "source": [
    "## Book recommendation 1\n",
    "![book](img/book_grokking.jpg)\n",
    "\n",
    "\n",
    "Grokking Algorithms: An illustrated guide for programmers and other curious people \\\n",
    "by Aditya Bhargava, Manning; 1st edition (30 May 2016)"
   ]
  },
  {
   "cell_type": "markdown",
   "id": "9544b82e",
   "metadata": {
    "slideshow": {
     "slide_type": "slide"
    },
    "tags": []
   },
   "source": [
    "## Book recommendation 2\n",
    "![book](img/book_algorithms.png)\n",
    "\n",
    "Algorithms\n",
    "by Robert Sedgewick, Robert Wayne, Addison Wesley; 4th revised edition (1 Mar. 2011)"
   ]
  },
  {
   "cell_type": "markdown",
   "id": "04b5d239",
   "metadata": {
    "slideshow": {
     "slide_type": "slide"
    }
   },
   "source": [
    "## Book recommendation 3\n",
    "![book](img/book_introalgo.jpg)\n",
    "\n",
    "Introduction to Algorithms\\\n",
    "by Thomas H. Cormen, Charles E. Leiserson, Ronald L. Rivest; The MIT Press; third edition (31 July 2009)"
   ]
  },
  {
   "cell_type": "markdown",
   "id": "487c5a36",
   "metadata": {
    "slideshow": {
     "slide_type": "slide"
    }
   },
   "source": [
    "## Final Exam\n",
    "\n",
    "- 90min\n",
    "- written\n",
    "- more information coming soon..."
   ]
  },
  {
   "cell_type": "markdown",
   "id": "dafaebac",
   "metadata": {
    "slideshow": {
     "slide_type": "slide"
    }
   },
   "source": [
    "## Tools you'll need to install/use\n",
    "<img class=\"dia1\" src=\"img/1jupyter.png\">\n",
    "\n",
    "1. **Jupyter Notebook:** Jupyter is a free, open-source, interactive web tool known as a computational notebook, which researchers can use to combine software code, computational output, explanatory text and multimedia resources in a single document. Our lecture notes and slides will be distributed as notebook files, which you can run on a notebook server on your own computer.\n",
    "<br><br>\n",
    "2. **Python:** Python is an interpreted, object-oriented, high-level programming language with dynamic semantics. Its high-level built in data structures, combined with dynamic typing and dynamic binding. It is easy-to-learn, popular and allows this class to be highly interactive."
   ]
  },
  {
   "cell_type": "markdown",
   "id": "c466322b",
   "metadata": {
    "slideshow": {
     "slide_type": "slide"
    }
   },
   "source": [
    "## Recommendation: Use Anaconda to install Python/Jupyter and more\n",
    "\n",
    "<img class=\"dia2\" src=\"img/1anaconda2.png\">\n",
    "\n",
    "Anaconda Individual Edition is a Python/R data science distribution and a collection of over 7,500+ open-source packages, which includes a package and environment manager. Anaconda is platform-agnostic, so you can use it whether you are on Windows, macOS, or Linux. Anaconda is free and easy to install:\n",
    "\n",
    "[https://docs.anaconda.com/anaconda/install/](https://docs.anaconda.com/anaconda/install/)"
   ]
  },
  {
   "cell_type": "markdown",
   "id": "3b3c8b76",
   "metadata": {
    "slideshow": {
     "slide_type": "slide"
    }
   },
   "source": [
    "## Our moodle\n",
    "\n",
    "[Link to Moodle course](https://moodle.hs-worms.de/moodle/course/view.php?id=3113)\n",
    "\n",
    "\n",
    "## In-class tool: BBB for screen sharing (experimental)\n",
    "\n",
    "[https://bbb.rlp.net/b/sch-lhy-7zc-p3v](https://bbb.rlp.net/b/sch-lhy-7zc-p3v)"
   ]
  },
  {
   "cell_type": "markdown",
   "id": "1f026992",
   "metadata": {
    "slideshow": {
     "slide_type": "slide"
    }
   },
   "source": [
    "## Interactive Lectures\n",
    "<br>\n",
    "<img class=\"dia1\" src=\"img/1lecture.png\">\n",
    "<br>\n",
    "\n",
    "- Lecture notebooks will be available on Moodle and course repository\n",
    "- Use your local Jupyter installation (or Google Colab)\n",
    "- Class is set up as interactive demo"
   ]
  },
  {
   "cell_type": "markdown",
   "id": "06e425d7",
   "metadata": {
    "slideshow": {
     "slide_type": "slide"
    }
   },
   "source": [
    "## And finally, what is this class all about?\n",
    "\n",
    "##### Algorithms\n",
    "\n",
    "...or how to efficiently (space/time) carry out data processing operations.\\\n",
    "...and how to analyze and describe their performance.\n",
    "\n",
    "##### Data Structures\n",
    "\n",
    "...or how to store, organize, and retrieve data on a computer."
   ]
  }
 ],
 "metadata": {
  "kernelspec": {
   "display_name": "Python 3 (ipykernel)",
   "language": "python",
   "name": "python3"
  },
  "language_info": {
   "codemirror_mode": {
    "name": "ipython",
    "version": 3
   },
   "file_extension": ".py",
   "mimetype": "text/x-python",
   "name": "python",
   "nbconvert_exporter": "python",
   "pygments_lexer": "ipython3",
   "version": "3.10.4"
  },
  "varInspector": {
   "cols": {
    "lenName": 16,
    "lenType": 16,
    "lenVar": 40
   },
   "kernels_config": {
    "python": {
     "delete_cmd_postfix": "",
     "delete_cmd_prefix": "del ",
     "library": "var_list.py",
     "varRefreshCmd": "print(var_dic_list())"
    },
    "r": {
     "delete_cmd_postfix": ") ",
     "delete_cmd_prefix": "rm(",
     "library": "var_list.r",
     "varRefreshCmd": "cat(var_dic_list()) "
    }
   },
   "types_to_exclude": [
    "module",
    "function",
    "builtin_function_or_method",
    "instance",
    "_Feature"
   ],
   "window_display": false
  }
 },
 "nbformat": 4,
 "nbformat_minor": 5
}
