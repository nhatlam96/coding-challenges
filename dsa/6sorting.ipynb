{
 "cells": [
  {
   "cell_type": "code",
   "execution_count": 1,
   "id": "65e2cd3f",
   "metadata": {
    "hide_input": true,
    "slideshow": {
     "slide_type": "skip"
    }
   },
   "outputs": [
    {
     "data": {
      "text/html": [
       "<style>h1{text-align:center;}h1{text-transform:none;}.rendered_html h4{color:#17b6eb;font-size: 1.6em;}img[alt=dia1]{width:35%;}img[alt=book]{width:20%;font-size: 3em;}img[alt=dia2]{width:50%;}.author{font-size:8px;}</style>\n"
      ],
      "text/plain": [
       "<IPython.core.display.HTML object>"
      ]
     },
     "metadata": {},
     "output_type": "display_data"
    }
   ],
   "source": [
    "%%html\n",
    "<style>h1{text-align:center;}h1{text-transform:none;}.rendered_html h4{color:#17b6eb;font-size: 1.6em;}img[alt=dia1]{width:35%;}img[alt=book]{width:20%;font-size: 3em;}img[alt=dia2]{width:50%;}.author{font-size:8px;}</style>"
   ]
  },
  {
   "cell_type": "markdown",
   "id": "b7ab25c9",
   "metadata": {
    "slideshow": {
     "slide_type": "slide"
    }
   },
   "source": [
    "# Lecture 6: Sorting"
   ]
  },
  {
   "cell_type": "markdown",
   "id": "b27b48c4",
   "metadata": {
    "slideshow": {
     "slide_type": "slide"
    }
   },
   "source": [
    "## 1. What is Sorting?\n",
    "\n",
    "Sorting is the process of organizing data in some particular order:\n",
    "- numbers -> increasing or decreasing order\n",
    "- words -> alphabetically\n",
    "- deck of playing cards\n",
    "\n",
    "When an input is sorted, many problems become easy. For example *searching, min, max, k-th smallest etc...*"
   ]
  },
  {
   "cell_type": "markdown",
   "id": "c4030e8b",
   "metadata": {
    "slideshow": {
     "slide_type": "slide"
    }
   },
   "source": [
    "In this lecture we are going to learn several algorithms that solve the following __sorting problem__:\n",
    "\n",
    "__Input__: A sequence of $n$ numbers $\\langle a_1, a_2, ...,a_n \\rangle$\n",
    "\n",
    "__Output__: A premutation (reordering) $\\langle a^{'}_1, a_2^{'}, ...,a_n^{'} \\rangle$ of the input sequence such that $\\langle a^{'}_1 \\leq a_2^{'} \\leq ... \\leq a_n^{'} \\rangle$\n",
    "\n",
    "The input sequence is usually an $n$-element array, although it may be represented in some other fashion, such as a linked list."
   ]
  },
  {
   "cell_type": "markdown",
   "id": "99d5cf11",
   "metadata": {
    "slideshow": {
     "slide_type": "slide"
    }
   },
   "source": [
    "### 1.1. Algorithmic sorting concepts\n",
    "\n",
    "Sorting has a variety of interesting algorithmic solutions that embody various concepts:\n",
    "\n",
    "- comparison vs non-comparison based\n",
    "- iterative\n",
    "- recursive\n",
    "- divide-and-conquer\n",
    "- best/worst/average-case bounds\n",
    "- randomized algorithms"
   ]
  },
  {
   "cell_type": "markdown",
   "id": "9e91549f",
   "metadata": {
    "slideshow": {
     "slide_type": "slide"
    }
   },
   "source": [
    "Most sorting requires two main operations:\n",
    "    \n",
    "- __Comparisons:__ of items to see if they are out of order. Comparisons are an important metric\n",
    "\n",
    "\n",
    "- __Exchange:__ of items can be a costly operation and also an important metric"
   ]
  },
  {
   "cell_type": "markdown",
   "id": "563cf342",
   "metadata": {
    "slideshow": {
     "slide_type": "slide"
    }
   },
   "source": [
    "### 1.2. Various Applications of Sorting\n",
    "\n",
    "- uniqueness testing\n",
    "- deleting duplicates\n",
    "- prioritizing events\n",
    "- frequency counting\n",
    "- reconstructing an original order\n",
    "- set intersection/union\n",
    "- finding a target pair $x$, $y$ such that $x+y=z$\n",
    "- efficient searching\n",
    "\n",
    "Sorting is an important area of computer science. Many sorting algorithms have been developed and analyzed."
   ]
  },
  {
   "cell_type": "markdown",
   "id": "16bfedea",
   "metadata": {
    "slideshow": {
     "slide_type": "slide"
    }
   },
   "source": [
    "### 1.3. Classifications\n",
    "\n",
    "Sorting algorithms can be classified by:\n",
    "\n",
    "- Computational complexity (best, worst, average)\n",
    "- Memory usage (and other computer resources)\n",
    "- Stability\n",
    "- Adaptability "
   ]
  },
  {
   "cell_type": "markdown",
   "id": "d1b42582",
   "metadata": {
    "slideshow": {
     "slide_type": "slide"
    }
   },
   "source": [
    "###### 1.3.1 Computational complexity\n",
    "\n",
    "\n",
    "\n",
    "- __Best case:__ fastest time to complete, with optimal inputs chosen. For example, the best case for a sorting algorithm would be data that's already sorted.\n",
    "\n",
    "\n",
    "- __Worst case:__ slowest time to complete, with pessimal inputs chosen. For example, the worst case for a sorting algorithm might be data that's sorted in reverse order (but it depends on the particular algorithm).\n",
    "\n",
    "\n",
    "- __Average case:__ arithmetic mean. Run the algorithm many times, using many different inputs of size n that come from some distribution that generates these inputs (in the simplest case, all the possible inputs are equally likely), compute the total running time (by adding the individual times), and divide by the number of trials. You may also need to normalize the results based on the size of the input sets.\n"
   ]
  },
  {
   "cell_type": "markdown",
   "id": "9c758e35",
   "metadata": {
    "slideshow": {
     "slide_type": "slide"
    }
   },
   "source": [
    "##### 1.3.2 Memory Usage\n",
    "\n",
    "Some sorting algorithms are __\"in-place\"__. An in-place algorithm is an algorithm that does not need an extra space and produces an output in the same memory that contains the data by transforming the input ‘in-place’. However, a small constant extra space used for variables is allowed.\n",
    "\n",
    "A sorting algorithm is __\"in-place\"__ if it requires only __O(1)__ extra space to sort the array.\n",
    "\n",
    "#### Exercise 1: Merrge Sort is not in-place. Why?"
   ]
  },
  {
   "cell_type": "markdown",
   "id": "658b8b3a",
   "metadata": {
    "slideshow": {
     "slide_type": "fragment"
    }
   },
   "source": [
    "##### Solution:\n",
    "\n",
    "Merge sort is not in place because it requires additional memory space to store the auxiliary arrays. The space complexity of merge sort algorithm is Θ(n)."
   ]
  },
  {
   "cell_type": "markdown",
   "id": "7eac3c9b",
   "metadata": {
    "slideshow": {
     "slide_type": "slide"
    }
   },
   "source": [
    "##### 1.3.3. Stability\n",
    "\n",
    "Stable sort algorithms sort equal elements in the same order that they appear in the input. A sorting algorithm is stable if the relative order of elements with the same key value is preserved in the algorithm.\n",
    "\n",
    "__Example:__ Playing cards are being sorted by their rank, and their suit is being ignored. This allows the possibility of multiple different correctly sorted versions of the original list. Stable sorting algorithms choose one of these, according to the following rule: if two items compare as equal (like the two 5 cards), then their relative order will be preserved, i.e. if one comes before the other in the input, it will come before the other in the output. \n",
    "\n",
    "![book](img/6cards.png)"
   ]
  },
  {
   "cell_type": "markdown",
   "id": "8d62df40",
   "metadata": {
    "slideshow": {
     "slide_type": "slide"
    }
   },
   "source": [
    "##### 1.3.4. Adaptability\n",
    "\n",
    "A sorting algorithm falls into the adaptive sort family if it takes advantage of existing order in its input. It benefits from the presortedness in the input sequence – or a limited amount of disorder for various definitions of measures of disorder – and sorts faster. Adaptive sorting is usually performed by modifying existing sorting algorithms. "
   ]
  },
  {
   "cell_type": "markdown",
   "id": "344eb7fd",
   "metadata": {
    "slideshow": {
     "slide_type": "slide"
    }
   },
   "source": [
    "### 1.4. So many sorting algorithms!\n",
    "\n",
    "quicksort, merge sort, in-place merge sort, heap sort,\n",
    "insertion sort, intro sort, selection sort, timsort, cubesort,\n",
    "shell sort, bubble sort, binary tree sort, cycle sort, library\n",
    "sort, patience sorting, smoothsort, strand sort, tournament\n",
    "sort, cocktail sort, comb sort, gnome sort, block sort,\n",
    "stackoverflow sort, odd-even sort, pigeonhole sort, bucket\n",
    "sort, counting sort, radix sort, spreadsort, burstsort,\n",
    "flashsort, postman sort, bead sort, simple pancake sort,\n",
    "spaghetti sort, sorting network, bitonic sort, bogosort,\n",
    "stooge sort, insertion sort, slow sort, rainbow sort..."
   ]
  },
  {
   "cell_type": "markdown",
   "id": "cf7a4429",
   "metadata": {
    "slideshow": {
     "slide_type": "slide"
    }
   },
   "source": [
    "## 2. Sorting Algorithms\n",
    "\n",
    "### 2.1 Selection Sort (see lecture 4)\n",
    "\n",
    "![dia2](img/4selection.gif)\n",
    "\n",
    "__Selection Sort__ is an in-place comparison sorting algorithm. It selects the smallest element from an unsorted list in each iteration and places that element at the beginning of the unsorted list."
   ]
  },
  {
   "cell_type": "markdown",
   "id": "62ab46ab",
   "metadata": {
    "slideshow": {
     "slide_type": "slide"
    }
   },
   "source": [
    "### Pseudocode \n",
    "\n",
    "```python\n",
    "ALGORITHM SelectionSort is\n",
    "    INPUT: A[0..n-1] unsorted array of n elements\n",
    "    OUTPUT: A[0..n-1] sorted in descending order\n",
    "\n",
    "     FOR i <- 0 to n-1 DO\n",
    "          min <- i\n",
    "          FOR j <- i+1 to n DO\n",
    "               IF A[j] < A[min] \n",
    "                    min <- j\n",
    "          SWAP A[i] and A[min]\n",
    "```"
   ]
  },
  {
   "cell_type": "code",
   "execution_count": 2,
   "id": "f199d269",
   "metadata": {
    "slideshow": {
     "slide_type": "slide"
    }
   },
   "outputs": [
    {
     "name": "stdout",
     "output_type": "stream",
     "text": [
      "[-8, 5, -7, 4, 0, 99, -44]\n",
      "[-44, 5, -7, 4, 0, 99, -8]\n",
      "[-44, -8, -7, 4, 0, 99, 5]\n",
      "[-44, -8, -7, 4, 0, 99, 5]\n",
      "[-44, -8, -7, 0, 4, 99, 5]\n",
      "[-44, -8, -7, 0, 4, 99, 5]\n",
      "[-44, -8, -7, 0, 4, 5, 99]\n"
     ]
    }
   ],
   "source": [
    "def selectionSort(A):   \n",
    "    for i in range(0, len(A)-1):\n",
    "        min = i\n",
    "\n",
    "        for j in range(i+1, len(A)):\n",
    "            if A[j] < A[min]:\n",
    "                min = j\n",
    "        print(A)        \n",
    "        (A[i], A[min]) = (A[min], A[i])\n",
    "\n",
    "\n",
    "data = [-8, 5, -7, 4, -0, 99, -44]\n",
    "selectionSort(data)\n",
    "print(data)"
   ]
  },
  {
   "cell_type": "markdown",
   "id": "d18e93f9",
   "metadata": {
    "slideshow": {
     "slide_type": "slide"
    }
   },
   "source": [
    "#### Exercise 2: \n",
    "\n",
    "- Determine worst-case, best-case and average runtime of Selection Sort.\n",
    "\n",
    "- Determine the space complexity of Selection Sort.\n",
    "\n",
    "- Is Selection Sort stable?\n",
    "\n",
    "- Is Selection Sort in-place?\n",
    "\n",
    "- Is Selection Sort adaptive?"
   ]
  },
  {
   "cell_type": "markdown",
   "id": "161b2cfa",
   "metadata": {
    "slideshow": {
     "slide_type": "subslide"
    }
   },
   "source": [
    "##### Solution:\n",
    "\n",
    "Worst case runtime: $$O(n^2)$$\n",
    "Best case runtime: $$\\Omega (n^2)$$\n",
    "Average runtime: $$\\Theta(n^2)$$\n",
    "Space complexity: $$O(1)$$\n",
    "Stable? $$\\text{YES}$$\n",
    "In-place? $$\\text{YES}$$\n",
    "Adaptive? $$\\text{NO}$$"
   ]
  },
  {
   "cell_type": "markdown",
   "id": "6a0e39db",
   "metadata": {
    "slideshow": {
     "slide_type": "slide"
    }
   },
   "source": [
    "### 2.2. Insertion Sort (see lecture 4)\n",
    "\n",
    "![dia1](img/4insertion.gif) \n",
    "__Insertion Sort__ is a simple sorting algorithm that builds the final sorted array (or list) one item at a time. It places an unsorted element at its suitable place in each iteration."
   ]
  },
  {
   "cell_type": "markdown",
   "id": "40a90620",
   "metadata": {
    "slideshow": {
     "slide_type": "slide"
    }
   },
   "source": [
    "### Pseudocode \n",
    "\n",
    "```python\n",
    "ALGORITHM InsertionSort is\n",
    "    INPUT: A[0..n-1] unsorted array of n elements\n",
    "    OUTPUT: A[0..n-1] sorted in descending order\n",
    "\n",
    "     FOR i <- 1 to n DO\n",
    "          key <- A[i]\n",
    "          j <- i - 1\n",
    "            \n",
    "          WHILE j >= 0 AND A[j] > key DO\n",
    "               A[j + 1] <- A[j] \n",
    "               j <- j - 1\n",
    "          A[j + 1] <- key\n",
    "```"
   ]
  },
  {
   "cell_type": "code",
   "execution_count": 27,
   "id": "47dd78c0",
   "metadata": {
    "slideshow": {
     "slide_type": "slide"
    }
   },
   "outputs": [
    {
     "name": "stdout",
     "output_type": "stream",
     "text": [
      "[-8, 5, -7, 4, 0, 99, -44]\n",
      "[-8, -7, 5, 4, 0, 99, -44]\n",
      "[-8, -7, 4, 5, 0, 99, -44]\n",
      "[-8, -7, 0, 4, 5, 99, -44]\n",
      "[-8, -7, 0, 4, 5, 99, -44]\n",
      "[-44, -8, -7, 0, 4, 5, 99]\n"
     ]
    }
   ],
   "source": [
    "def insertionSort(A):\n",
    "    for i in range(1, len(A)):\n",
    "        key = A[i]\n",
    "        j = i - 1\n",
    "     \n",
    "        while j >= 0 and key < A[j]:\n",
    "            A[j + 1] = A[j]\n",
    "            j = j - 1\n",
    "        \n",
    "        A[j + 1] = key\n",
    "        print(A)\n",
    "\n",
    "\n",
    "data = [-8, 5, -7, 4, -0, 99, -44]\n",
    "insertionSort(data)"
   ]
  },
  {
   "cell_type": "markdown",
   "id": "14101302",
   "metadata": {
    "slideshow": {
     "slide_type": "slide"
    }
   },
   "source": [
    "#### Exercise 3: \n",
    "\n",
    "- Determine worst-case, best-case and average runtime of Insertion Sort.\n",
    "\n",
    "- Determine the space complexity of Insertion Sort.\n",
    "\n",
    "- Is Insertion Sort stable?\n",
    "\n",
    "- Is Insertion Sort in-place?\n",
    "\n",
    "- Is Insertion Sort adaptive?"
   ]
  },
  {
   "cell_type": "markdown",
   "id": "0067cb04",
   "metadata": {
    "slideshow": {
     "slide_type": "subslide"
    }
   },
   "source": [
    "##### Solution:\n",
    "\n",
    "Worst case runtime: $$O(n^2)$$\n",
    "Best case runtime: $$\\Omega (n)$$\n",
    "Average runtime: $$\\Theta(n^2)$$\n",
    "Space complexity: $$O(1)$$\n",
    "Stable? $$\\text{YES}$$\n",
    "In-place? $$\\text{YES}$$\n",
    "Adaptive? $$\\text{YES}$$"
   ]
  },
  {
   "cell_type": "markdown",
   "id": "92b52f2b",
   "metadata": {
    "slideshow": {
     "slide_type": "slide"
    }
   },
   "source": [
    "### 2.3. Merge Sort (see lecture 5)\n",
    "\n",
    "![dia2](img/5merge.gif)\n",
    "<div class=\"author\">src: Swfung8, wikimedia, CC BY-SA 3.0</div>\n",
    "\n",
    "__Merge sort__ is an efficient, general-purpose, and comparison-based __sorting algorithm__. __Merge sort__ is a __divide and conquer algorithm__."
   ]
  },
  {
   "cell_type": "markdown",
   "id": "74630026",
   "metadata": {
    "slideshow": {
     "slide_type": "slide"
    }
   },
   "source": [
    "### Pseudocode \n",
    "\n",
    "```python\n",
    "ALGORITHM mergeSort is\n",
    "    INPUT: A[0..n-1] unsorted array of n elements\n",
    "    OUTPUT: A[0..n-1] sorted in ascending order\n",
    "\n",
    "    IF n < 2 DO\n",
    "        RETURN A \n",
    "    L <- mergeSort(A[1 ... ⌊n/2⌊]) \n",
    "    M <- mergeSort(A[⌊n/2⌊+1 ... n]\n",
    "    RETURN merge(L, M)\n",
    "```"
   ]
  },
  {
   "cell_type": "code",
   "execution_count": 4,
   "id": "ab44c402",
   "metadata": {
    "slideshow": {
     "slide_type": "slide"
    }
   },
   "outputs": [
    {
     "data": {
      "text/plain": [
       "[0, 1, 2, 3, 4, 5, 6, 7, 9]"
      ]
     },
     "execution_count": 4,
     "metadata": {},
     "output_type": "execute_result"
    }
   ],
   "source": [
    "def merge(arr1, arr2):\n",
    "    arr3 = [None]*(len(arr1)+len(arr2))\n",
    "    i, j, k = 0, 0, 0\n",
    "    \n",
    "    while i < len(arr1) and j < len(arr2):\n",
    "        if arr1[i] < arr2[j]:\n",
    "            arr3[k] = arr1[i]\n",
    "            i += 1\n",
    "        else:\n",
    "            arr3[k] = arr2[j]\n",
    "            j += 1\n",
    "        k += 1\n",
    "            \n",
    "    # when we run out of elements in either arr1 or arr2,\n",
    "    # pick up the remaining elements and put in arr3\n",
    "    while i < len(arr1):\n",
    "        arr3[k] = arr1[i];\n",
    "        k += 1\n",
    "        i += 1\n",
    "        \n",
    "    while j < len(arr2):\n",
    "        arr3[k] = arr2[j];\n",
    "        k += 1\n",
    "        j += 1\n",
    "    \n",
    "    return arr3\n",
    "\n",
    "def mergeSort(A):\n",
    "    # base condition\n",
    "    if len(A) < 2:\n",
    "        return A\n",
    "        \n",
    "    #  r is the point where the array is divided\n",
    "    r = len(A) // 2\n",
    "        \n",
    "    # Recursion\n",
    "    L = mergeSort(A[:r])\n",
    "    M = mergeSort(A[r:])\n",
    "    return merge(L, M)\n",
    "    \n",
    "mergeSort([4, 7, 9, 2, 3, 6, 1, 0, 5])\n"
   ]
  },
  {
   "cell_type": "markdown",
   "id": "aaec3319",
   "metadata": {
    "slideshow": {
     "slide_type": "slide"
    }
   },
   "source": [
    "#### Exercise 4: \n",
    "\n",
    "- Determine worst-case, best-case and average runtime of Merge Sort.\n",
    "\n",
    "- Determine the space complexity of Merge Sort.\n",
    "\n",
    "- Is Merge Sort stable?\n",
    "\n",
    "- Is Merge Sort in-place?\n",
    "\n",
    "- Is Merge Sort adaptive?"
   ]
  },
  {
   "cell_type": "markdown",
   "id": "d3757e71",
   "metadata": {
    "slideshow": {
     "slide_type": "subslide"
    }
   },
   "source": [
    "##### Solution:\n",
    "\n",
    "Worst case runtime: $$T(n) = O(n \\log n)$$\n",
    "Best case runtime: $$\\Omega(n \\log n)$$\n",
    "Average runtime: $$\\Theta(n \\log n)$$\n",
    "Space complexity: $$O(n)$$\n",
    "Stable? $$\\text{YES}$$\n",
    "In-place? $$\\text{NO}$$\n",
    "Adaptive? $$\\text{NO}$$"
   ]
  },
  {
   "cell_type": "markdown",
   "id": "7c42a46a",
   "metadata": {
    "slideshow": {
     "slide_type": "slide"
    }
   },
   "source": [
    "### 2.4. Bubble Sort\n",
    "\n",
    "Bubble sort (aka sinking sort) is a simple sorting algorithm that repeatedly steps through the list, compares adjacent elements and swaps them if they are in the wrong order. The pass through of the list is repeated until the list is sorted. The algorithm, which is a *comparison sort*, is named for the way smaller or larger elements \"bubble\" to the top of the list.\n",
    "\n",
    "This simple algorithm performs poorly in real world use and is used primarily as an educational tool.\n",
    "\n",
    "![dia2](img/6bubble.gif)\n",
    "<div class=\"author\">src: Swfung8, wikimedia, CC BY-SA 3.0</div>"
   ]
  },
  {
   "cell_type": "markdown",
   "id": "60030d92",
   "metadata": {
    "slideshow": {
     "slide_type": "slide"
    }
   },
   "source": [
    "##### Functioning \n",
    "Starting from the beginning of the list, compare every adjacent pair, swap their position if they are not in the right order (the latter one is smaller than the former one). After each iteration, one less element (the last one) is needed to be compared until there are no more elements left to be compared.\n",
    "![dia1](img/6bubble.png)\n"
   ]
  },
  {
   "cell_type": "markdown",
   "id": "a58c21e4",
   "metadata": {
    "slideshow": {
     "slide_type": "slide"
    }
   },
   "source": [
    "#### Exercise 5:\n",
    "\n",
    "- Implement __Bubble Sort__ Pseudocode in the cell below\n",
    "- Implement a __Bubble Sort__ Python function in the code cell below"
   ]
  },
  {
   "cell_type": "markdown",
   "id": "eae1af73",
   "metadata": {
    "slideshow": {
     "slide_type": "subslide"
    }
   },
   "source": [
    "### Pseudocode \n",
    "\n",
    "```python\n",
    "ALGORITHM bubbleSort is\n",
    "    INPUT: A[0..n-1] unsorted array of n elements\n",
    "    OUTPUT: A[0..n-1] sorted in ascending order\n",
    "\n",
    "    FOR i <- 0 to n-1 DO\n",
    "        FOR j <- 0 to n-i-2 DO\n",
    "            IF A[j] < A[j+1] DO \n",
    "                SWAP (A[j] and A[j+1])\n",
    "```"
   ]
  },
  {
   "cell_type": "code",
   "execution_count": 11,
   "id": "09f80208",
   "metadata": {
    "slideshow": {
     "slide_type": "subslide"
    }
   },
   "outputs": [
    {
     "data": {
      "text/plain": [
       "[11, 12, 22, 25, 34, 64, 90]"
      ]
     },
     "execution_count": 11,
     "metadata": {},
     "output_type": "execute_result"
    }
   ],
   "source": [
    "def bubbleSort(A):\n",
    "    n = len(A)\n",
    " \n",
    "    # Traverse through all array elements\n",
    "    for i in range(n):\n",
    " \n",
    "        # Last i elements are already in place\n",
    "        for j in range(0, n-i-1):\n",
    " \n",
    "            # traverse the array from 0 to n-i-1\n",
    "            # Swap if the element found is greater\n",
    "            # than the next element\n",
    "            if A[j] > A[j+1]:\n",
    "                A[j], A[j+1] = A[j+1], A[j]\n",
    "    return(A)\n",
    " \n",
    " \n",
    "# Driver code to test above\n",
    "arr = [64, 34, 25, 12, 22, 11, 90]\n",
    "bubbleSort(arr)"
   ]
  },
  {
   "cell_type": "markdown",
   "id": "150c143b",
   "metadata": {
    "slideshow": {
     "slide_type": "slide"
    }
   },
   "source": [
    "#### Exercise 6: \n",
    "\n",
    "- Determine worst-case, best-case and average runtime of Bubble Sort.\n",
    "\n",
    "- Determine the space complexity of Bubble Sort.\n",
    "\n",
    "- Is Bubble Sort stable?\n",
    "\n",
    "- Is Bubble Sort in-place?\n",
    "\n",
    "- Is Bubble Sort adaptive?"
   ]
  },
  {
   "cell_type": "markdown",
   "id": "e8f91639",
   "metadata": {
    "slideshow": {
     "slide_type": "subslide"
    }
   },
   "source": [
    "##### Solution:\n",
    "\n",
    "Worst case runtime: $$O(n^2)$$\n",
    "Best case runtime: $$\\Omega(n) \\text{ with stop condition,  } \\Omega(n^2) \\text{ without stop condition}$$\n",
    "\n",
    "Average runtime: $$\\Theta(n^2)$$\n",
    "Space complexity: $$O(1)$$\n",
    "Stable? $$\\text{YES}$$\n",
    "In-place? $$\\text{YES}$$\n",
    "Adaptive? $$\\text{YES/NO}$$"
   ]
  },
  {
   "cell_type": "markdown",
   "id": "25bd5f7b",
   "metadata": {
    "slideshow": {
     "slide_type": "slide"
    }
   },
   "source": [
    "### 2.5. Heap Sort\n",
    "\n",
    "Heapsort is a comparison-based sorting algorithm. Heapsort can be thought of as an improved selection sort: like selection sort, heapsort divides its input into a sorted and an unsorted region, and it iteratively shrinks the unsorted region by extracting the largest element from it and inserting it into the sorted region. Unlike selection sort, heapsort does not waste time with a linear-time scan of the unsorted region; rather, heap sort maintains the unsorted region in a heap data structure to more quickly find the largest element in each step.\n"
   ]
  },
  {
   "cell_type": "code",
   "execution_count": 10,
   "id": "fab1802b",
   "metadata": {
    "slideshow": {
     "slide_type": "slide"
    }
   },
   "outputs": [
    {
     "data": {
      "image/jpeg": "[encoded data removed]",
      "text/html": [
       "\n",
       "        <iframe\n",
       "            width=\"800\"\n",
       "            height=\"600\"\n",
       "            src=\"https://www.youtube.com/embed/MtQL_ll5KhQ\"\n",
       "            frameborder=\"0\"\n",
       "            allowfullscreen\n",
       "            \n",
       "        ></iframe>\n",
       "        "
      ],
      "text/plain": [
       "<IPython.lib.display.YouTubeVideo at 0x7f2ee820aad0>"
      ]
     },
     "execution_count": 10,
     "metadata": {},
     "output_type": "execute_result"
    }
   ],
   "source": [
    "from IPython.display import YouTubeVideo\n",
    "\n",
    "def display_yotube_video(url, **kwargs):\n",
    "    id_ = url.split(\"=\")[-1]\n",
    "    return YouTubeVideo(id_, **kwargs)\n",
    "\n",
    "display_yotube_video(\"https://www.youtube.com/watch?v=MtQL_ll5KhQ\", width=800, height=600)"
   ]
  },
  {
   "cell_type": "markdown",
   "id": "2b1e2eae",
   "metadata": {
    "slideshow": {
     "slide_type": "slide"
    }
   },
   "source": [
    "##### Quick introduction to Heaps\n",
    "\n",
    "The __(Binary) Heap__ data structure is an __array object__ that can be viewed as a nearly complete binary tree:\n",
    "\n",
    "- A binary tree with $n$ nodes and depth $k$ is __complete__ if its nodes correspond to the nodes numbered from $1$ to $n$ in the full binary tree of depth $k$.\n",
    "    \n",
    "![dia2](img/6heap1.png)\n",
    "<div class=\"author\">src: Ching-Chi Lin, ntou.edu.tw</div>"
   ]
  },
  {
   "cell_type": "markdown",
   "id": "11f6e32f",
   "metadata": {
    "slideshow": {
     "slide_type": "slide"
    }
   },
   "source": [
    "##### Heap properties\n",
    "\n",
    "There are two kind of binary heaps: __max-heaps__ and __min-heaps__.\n",
    "\n",
    "- In a __max-heap__, the __max-heap property__ is that for every node $i$ other than the root: \n",
    "$$A[parent(i)] \\geq \n",
    "A[i]$$\n",
    "    - the larges element in a max-heap is stored at the root\n",
    "    - the subtree rooted at a node contains values no larger than that contained at the node itself\n",
    "   \n",
    "   \n",
    "   \n",
    "- In a __min-heap__, the __min-heap property__ is that for every node $i$ other than the root:\n",
    "$$A[parent(i)] \\leq \n",
    "A[i]$$\n",
    "    - the smallest element in a min-heap is stored at the root\n",
    "    - the subtree rooted at a node contains values no smaller than that contained at the node itself\n"
   ]
  },
  {
   "cell_type": "markdown",
   "id": "9a1d7451",
   "metadata": {
    "slideshow": {
     "slide_type": "slide"
    }
   },
   "source": [
    "##### Example\n",
    "\n",
    "![dia1](img/6heap2.png)\n",
    "<div class=\"author\">src: Ching-Chi Lin, ntou.edu.tw</div>"
   ]
  },
  {
   "cell_type": "markdown",
   "id": "86b39478",
   "metadata": {
    "slideshow": {
     "slide_type": "slide"
    }
   },
   "source": [
    "##### Why array based respresentation as Binary Heap?\n",
    "\n",
    "Since a Binary Heap is a Complete Binary Tree, it can be easily represented as an array and the array-based representation is __space-efficient__. If the parent node is stored at index $i$, the left child can be calculated by $2 * i + 1$ and the right child by $2 * i + 2$ (assuming the indexing starts at 0).\n",
    "\n",
    "##### How to \"heapify\" a tree?\n",
    "\n",
    "The process of reshaping a binary tree into a Heap data structure is known as *heapify*. A binary tree is a tree data structure that has two child nodes at max. A heap should always be a complete binary tree. "
   ]
  },
  {
   "cell_type": "markdown",
   "id": "8f76eb6d",
   "metadata": {
    "slideshow": {
     "slide_type": "slide"
    }
   },
   "source": [
    "##### The MAX-HEAPIFY procedure\n",
    "\n",
    "MAX-HEAPIFY is an important subroutine for manipulating max heaps.\n",
    "\n",
    "- __INPUT:__ an array A and an index $i$\n",
    "- __OUTPUT:__ the subtree rooted at index $i$ becomes a max heap\n",
    "- __ASSUME:__ the binary trees rooted LEFT(i) and RIGHT(i) are max heaps, but A[i] may be smaller than its children\n",
    "- __METHOD:__ let the value at A[i] \"float down\" in the max heap\n",
    "![dia1](img/6heap3.png)\n",
    "<div class=\"author\">src: Ching-Chi Lin, ntou.edu.tw</div>"
   ]
  },
  {
   "cell_type": "markdown",
   "id": "2a7a9dd6",
   "metadata": {
    "slideshow": {
     "slide_type": "slide"
    }
   },
   "source": [
    "### Pseudocode for MAX-HEAPIFY procedure\n",
    "\n",
    "```python\n",
    "ALGORITHM maxHeapify is\n",
    "    INPUT: A[0..n-1] unsorted array of n elements, index i\n",
    "    OUTPUT: A[0..n-1] heapified array\n",
    "\n",
    "    largest <- i\n",
    "    l <- 2i + 1\n",
    "    r <- 2i + 2\n",
    "    \n",
    "    IF l <= heapsize[A] and A[l] > A[largest] DO\n",
    "        largest <- l\n",
    "    IF r <= heapsize[A] and a[r] > A[largest] DO\n",
    "        largest <- r\n",
    "    IF largest != i DO\n",
    "        SWAP A[i] and A[largest]\n",
    "        maxHeapify(A, largest)\n",
    "        \n",
    "```"
   ]
  },
  {
   "cell_type": "code",
   "execution_count": 7,
   "id": "133a5df6",
   "metadata": {
    "slideshow": {
     "slide_type": "subslide"
    }
   },
   "outputs": [
    {
     "data": {
      "text/plain": [
       "[3, 2, 7, 4, 5, 6, 1]"
      ]
     },
     "execution_count": 7,
     "metadata": {},
     "output_type": "execute_result"
    }
   ],
   "source": [
    "def heapify(arr, n, i):\n",
    "    largest = i  # Initialize largest as root\n",
    "    l = 2 * i + 1     \n",
    "    r = 2 * i + 2    \n",
    " \n",
    "    # See if left child of root exists and is\n",
    "    # greater than root\n",
    "    if l < n and arr[largest] < arr[l]:\n",
    "        largest = l\n",
    "\n",
    "    # See if right child of root exists and is\n",
    "    # greater than root\n",
    "    if r < n and arr[largest] < arr[r]:\n",
    "        largest = r\n",
    " \n",
    "    # Change root, if needed\n",
    "    if largest != i:\n",
    "        arr[i], arr[largest] = arr[largest], arr[i]  # swap\n",
    " \n",
    "        # Heapify the root.\n",
    "        heapify(arr, n, largest)\n",
    "    \n",
    "    return(arr)\n",
    " \n",
    "\n",
    "arr = [1, 2, 3, 4, 5, 6, 7]\n",
    "heapify(arr, 7, 0)\n",
    "#OUTPUT should be [3,2,7,4,5,6,1]\n"
   ]
  },
  {
   "cell_type": "markdown",
   "id": "45c92883",
   "metadata": {
    "slideshow": {
     "slide_type": "slide"
    }
   },
   "source": [
    "##### Building a Heap\n",
    "\n",
    "- We can use MAX-HEAPIFY procedure to convert an array A into a max-heap in a bottom up manner.\n",
    "\n",
    "- The elements in the subarray $A[(\\lfloor n/2\\rfloor +1)...n]$ are all __leaves__ of the tree, and so is a 1-element heap.\n",
    "\n",
    "- The procedure BUILD-MAX-HEAP goes through the remaining nodes of the tree and runs MAX-HEAPIFY on each one."
   ]
  },
  {
   "cell_type": "markdown",
   "id": "19de0fab",
   "metadata": {},
   "source": [
    "### Pseudocode for BUILD-MAX-HEAP procedure\n",
    "\n",
    "```python\n",
    "ALGORITHM buildMaxHeap is\n",
    "    INPUT: A[0..n-1] unsorted array of n elements\n",
    "    OUTPUT: A[0..n-1] max heap\n",
    "\n",
    "   heapsize[A] <- length[A]\n",
    "   FOR i < FLOOR(length[A]/2) - 1 to 0 DO\n",
    "       maxHeapify(A, i)        \n",
    "```\n"
   ]
  },
  {
   "cell_type": "markdown",
   "id": "54ee0682",
   "metadata": {
    "slideshow": {
     "slide_type": "slide"
    }
   },
   "source": [
    "##### Example\n",
    "\n",
    "![dia2](img/6heap4.png)\n",
    "<div class=\"author\">src: Ching-Chi Lin, ntou.edu.tw</div>"
   ]
  },
  {
   "cell_type": "markdown",
   "id": "ad940aae",
   "metadata": {
    "slideshow": {
     "slide_type": "slide"
    }
   },
   "source": [
    "![dia2](img/6heap5.png)\n",
    "<div class=\"author\">src: Ching-Chi Lin, ntou.edu.tw</div>"
   ]
  },
  {
   "cell_type": "markdown",
   "id": "e8c74b54",
   "metadata": {
    "slideshow": {
     "slide_type": "slide"
    }
   },
   "source": [
    "### Pseudocode HEAPSORT algorithm\n",
    "\n",
    "```python\n",
    "ALGORITHM heapsort is\n",
    "    INPUT: A[0..n-1] unsorted array of n elements\n",
    "    OUTPUT: A[0..n-1] sorted array\n",
    "  \n",
    "    buildMaxHeap(A)\n",
    "    FOR i<-length[A] TO 2 DO\n",
    "        SWAP A[0] with A[i]\n",
    "        heapsize[A] <- heapsize[A]-1\n",
    "        maxHeapify(A, 0)\n",
    "```"
   ]
  },
  {
   "cell_type": "markdown",
   "id": "c9b13f04",
   "metadata": {
    "slideshow": {
     "slide_type": "slide"
    }
   },
   "source": [
    "#### Exercise 7:\n",
    "\n",
    "- Implement a __Heapsort__ python function in the cell below\n"
   ]
  },
  {
   "cell_type": "code",
   "execution_count": 26,
   "id": "5d51854c",
   "metadata": {
    "slideshow": {
     "slide_type": "subslide"
    }
   },
   "outputs": [
    {
     "data": {
      "text/plain": [
       "[5, 6, 7, 11, 12, 13]"
      ]
     },
     "execution_count": 26,
     "metadata": {},
     "output_type": "execute_result"
    }
   ],
   "source": [
    "def heapSort(A):\n",
    "    n = len(A)\n",
    " \n",
    "    # Build a maxheap.\n",
    "    for i in range(n//2 - 1, -1, -1):\n",
    "        heapify(A, n, i)\n",
    " \n",
    "    # One by one extract elements\n",
    "    for i in range(n-1, 0, -1):\n",
    "        A[i], A[0] = A[0], A[i]  # swap\n",
    "        heapify(A, i, 0)    \n",
    "    return(A)\n",
    " \n",
    " \n",
    "# Test Code\n",
    "arr = [12, 11, 13, 5, 6, 7]\n",
    "heapSort(arr)"
   ]
  },
  {
   "cell_type": "markdown",
   "id": "93367bdd",
   "metadata": {
    "slideshow": {
     "slide_type": "slide"
    }
   },
   "source": [
    "#### Homework 1\n",
    "\n",
    "- Determine worst-case, best-case and average runtime of Heapsort.\n",
    "\n",
    "- Determine the space complexity of Heapsort.\n",
    "\n",
    "- Is Heapsort stable?\n",
    "\n",
    "- Is Heapsort in-place?\n",
    "\n",
    "- Is Heapsort adaptive?"
   ]
  },
  {
   "cell_type": "markdown",
   "id": "315d4907",
   "metadata": {
    "slideshow": {
     "slide_type": "slide"
    }
   },
   "source": [
    "#### Homework 2\n",
    "\n",
    "- Implement Pseudocode and a Python function for Quicksort\n",
    "\n",
    "- Repeat Homework 1 for Quicksort"
   ]
  }
 ],
 "metadata": {
  "celltoolbar": "Slideshow",
  "kernelspec": {
   "display_name": "Python 3 (ipykernel)",
   "language": "python",
   "name": "python3"
  },
  "language_info": {
   "codemirror_mode": {
    "name": "ipython",
    "version": 3
   },
   "file_extension": ".py",
   "mimetype": "text/x-python",
   "name": "python",
   "nbconvert_exporter": "python",
   "pygments_lexer": "ipython3",
   "version": "3.10.4"
  },
  "varInspector": {
   "cols": {
    "lenName": 16,
    "lenType": 16,
    "lenVar": 40
   },
   "kernels_config": {
    "python": {
     "delete_cmd_postfix": "",
     "delete_cmd_prefix": "del ",
     "library": "var_list.py",
     "varRefreshCmd": "print(var_dic_list())"
    },
    "r": {
     "delete_cmd_postfix": ") ",
     "delete_cmd_prefix": "rm(",
     "library": "var_list.r",
     "varRefreshCmd": "cat(var_dic_list()) "
    }
   },
   "types_to_exclude": [
    "module",
    "function",
    "builtin_function_or_method",
    "instance",
    "_Feature"
   ],
   "window_display": false
  }
 },
 "nbformat": 4,
 "nbformat_minor": 5
}
