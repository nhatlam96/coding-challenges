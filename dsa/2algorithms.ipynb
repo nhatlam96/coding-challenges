{
 "cells": [
  {
   "cell_type": "code",
   "execution_count": 1,
   "id": "ebf64dc7",
   "metadata": {
    "hide_input": false,
    "slideshow": {
     "slide_type": "skip"
    }
   },
   "outputs": [
    {
     "data": {
      "text/html": [
       "<style>h1{text-align:center;}h1{text-transform:none;}.rendered_html h4{color:#17b6eb;font-size: 1.6em;}img[alt=dia1]{width:35%;}img[alt=book]{width:20%;font-size: 3em;}img[alt=dia2]{width:50%;}.author{font-size:8px;}</style>\n"
      ],
      "text/plain": [
       "<IPython.core.display.HTML object>"
      ]
     },
     "metadata": {},
     "output_type": "display_data"
    }
   ],
   "source": [
    "%%html\n",
    "<style>h1{text-align:center;}h1{text-transform:none;}.rendered_html h4{color:#17b6eb;font-size: 1.6em;}img[alt=dia1]{width:35%;}img[alt=book]{width:20%;font-size: 3em;}img[alt=dia2]{width:50%;}.author{font-size:8px;}</style>"
   ]
  },
  {
   "cell_type": "markdown",
   "id": "61ce9ab1",
   "metadata": {
    "slideshow": {
     "slide_type": "slide"
    }
   },
   "source": [
    "# Lecture 2: Introduction to Algorithms\n",
    "\n",
    "\"*In mathematics and computer science, an algorithm is a finite sequence of well-defined instructions, typically used to solve a class of specific problems or to perform a computation.*\" - Wikipedia\n"
   ]
  },
  {
   "cell_type": "markdown",
   "id": "ace948ed",
   "metadata": {
    "slideshow": {
     "slide_type": "slide"
    }
   },
   "source": [
    "## 1. History of Algorithms\n",
    "\n",
    "2500BC: *Arithmetic algorithms*, such as division algorithms $N/D=(Q,R)$ were used by Babylonian and Egyptian mathematicians.\n",
    "\n",
    "- $N$ = numerator\n",
    "- $D$ = denominator\n",
    "- $Q$ = quotient\n",
    "- $R$ = remainder\n",
    "\n"
   ]
  },
  {
   "cell_type": "markdown",
   "id": "d860ea4d",
   "metadata": {
    "slideshow": {
     "slide_type": "slide"
    }
   },
   "source": [
    "### Eratosthenes\n",
    "240BC: Eratosthenes of Cyrene developed \"*Sieve of Eratostenes*\", an acient algorithm for finding all prime numbers up to any given limit.\n",
    "\n",
    "![dia1](img/2sieve.gif)\n",
    "<div class=\"author\">CC BY-SA 3.0, author: SKopp at Wikipedia</div>"
   ]
  },
  {
   "cell_type": "markdown",
   "id": "03f7c208",
   "metadata": {
    "slideshow": {
     "slide_type": "slide"
    }
   },
   "source": [
    "The \"*Sieve of Eratostenes*\" was first mentioned in The book *Introduction to Arithmetic* (Greek: Ἀριθμητικὴ εἰσαγωγή) by Nicomachus (60–120 AD). \n",
    "![book](img/2nicomachus.png)\n"
   ]
  },
  {
   "cell_type": "markdown",
   "id": "8bad8257",
   "metadata": {
    "slideshow": {
     "slide_type": "slide"
    }
   },
   "source": [
    "That's how the \"sieve\" looks like in pseudocode:"
   ]
  },
  {
   "cell_type": "markdown",
   "id": "b04c1fa9",
   "metadata": {
    "slideshow": {
     "slide_type": "-"
    }
   },
   "source": [
    "```python\n",
    "Algorithm Sieve of Eratosthenes is\n",
    "    Input: An integer n > 1.\n",
    "    Output: All prime numbers from 2 through n.\n",
    "\n",
    "    let A be an array of Boolean values, indexed by integers 2 to n,\n",
    "    initially all set to true.\n",
    "    \n",
    "    for i = 2, 3, 4, ..., not exceeding √n do\n",
    "        if A[i] is true\n",
    "            for j = i2, i2+i, i2+2i, i2+3i, ..., not exceeding n do\n",
    "                A[j] := false\n",
    "\n",
    "    return all i such that A[i] is true.\n",
    " ```"
   ]
  },
  {
   "cell_type": "markdown",
   "id": "20e47674",
   "metadata": {
    "slideshow": {
     "slide_type": "slide"
    }
   },
   "source": [
    "### Euclid\n",
    "Around the same time, *Euclid of Alexandria* developed an efficient method for computing the __greatest common divisor (GCD)__ of two integers and published it in his book collection *Elements*.\n",
    "\n",
    "![dia1](img/2euclidalgo.png)\n",
    "<div class=\"author\">CC BY-SA 3.0, author: Honina at wikimedia</div>"
   ]
  },
  {
   "cell_type": "markdown",
   "id": "4393379d",
   "metadata": {
    "slideshow": {
     "slide_type": "slide"
    }
   },
   "source": [
    "```python\n",
    "ALGORITHM Euclid GCD is\n",
    "    INPUT: Two integers a and b\n",
    "    OUTPUT: The greatest common divisor of a an b\n",
    "\n",
    "    WHILE b != 0 DO\n",
    "        r <- a MOD b\n",
    "        a <- b\n",
    "        b <- r\n",
    "    ENDWHILE\n",
    "    PRINT a\n",
    "```"
   ]
  },
  {
   "cell_type": "markdown",
   "id": "a95076e5",
   "metadata": {
    "slideshow": {
     "slide_type": "-"
    }
   },
   "source": [
    "#### Exercise 1: Euclidean Algorithm\n",
    "Implement the Euclidean Algorithm and test it for a=189 and b=54 (hint: result ist 27 )"
   ]
  },
  {
   "cell_type": "code",
   "execution_count": 2,
   "id": "6e47ae75",
   "metadata": {
    "code_folding": []
   },
   "outputs": [
    {
     "name": "stdout",
     "output_type": "stream",
     "text": [
      "GCD is: 27\n"
     ]
    }
   ],
   "source": [
    "a = 189\n",
    "b = 54\n",
    "\n",
    "while b:\n",
    "    r = a % b\n",
    "    a=b\n",
    "    b=r\n",
    "\n",
    "print('GCD is:', a)\n"
   ]
  },
  {
   "cell_type": "markdown",
   "id": "a23a35dc",
   "metadata": {
    "slideshow": {
     "slide_type": "slide"
    }
   },
   "source": [
    "### The word \"*Algorithm*\"\n",
    "\n",
    "The word algorithm is derived from the name of the 9th-century Persian mathematician Muḥammad ibn Mūsā al-Khwārizmī, whose nisba (identifying him as from Khwarazm) was Latinized as Algoritmi (Arabized Persian الخوارزمی c. 780–850).\n",
    "\n",
    "Al-Khwarizmi's popularizing treatise on algebra (813–833 CE) presented the first systematic solution of linear and quadratic equations. One of his principal achievements in algebra was his demonstration of how to solve quadratic equations by completing the square, for which he provided geometric justifications.\n",
    "\n",
    "![book](img/2khwarizmi.png)\n"
   ]
  },
  {
   "cell_type": "markdown",
   "id": "c67f1d64",
   "metadata": {
    "slideshow": {
     "slide_type": "slide"
    }
   },
   "source": [
    "### The Difference- and Analytical Engine\n",
    "\n",
    "The Analytical Engine was a proposed mechanical general-purpose computer designed by English mathematician and computer pioneer __Charles Babbage__. It was first described in __1837__ as the successor to Babbage's difference engine, which was a design for a simpler mechanical calculator.\n",
    "\n",
    "__Ada Lovelace__ published the first algorithm intended to be carried out by such a machine (to compute Bernoulli numbers). As a result, she is often regarded as the first computer programmer.\n",
    "![book](img/2analyticalengine.jpg)\n",
    "<div class=\"author\">CC BY-SA 2.0, author: Mrjohncummings at wikimedia</div>"
   ]
  },
  {
   "cell_type": "markdown",
   "id": "2bd50831",
   "metadata": {
    "slideshow": {
     "slide_type": "slide"
    }
   },
   "source": [
    "### Formal Models of Computation and Computer Architecture\n",
    "\n",
    "In the 20th century Alan Turing and Alonzo Church were highly influential in the development of theoretical computer science, providing a formalisation of the concepts of algorithm and computation with the Turing machine.\n",
    "\n",
    "In 1945, John von Neumann created a design architecture for an electric digital computer with a processing unit, a control unit, memory, mass storage and I/O mechanisms - known as *Von Neumann Architecture*.\n",
    "\n",
    "![book](img/2neumann.jpg)\n"
   ]
  },
  {
   "cell_type": "markdown",
   "id": "8e522a1e",
   "metadata": {
    "slideshow": {
     "slide_type": "slide"
    }
   },
   "source": [
    "## 2. Algorithms today\n",
    "\n",
    "An __algorithm__ is any well-defined computational procedure that takes some value, or set of values, as __input__ and produces some value, or set of values, as __output__. An algorithm is thus a sequence of computational steps that transform the intput into the output.\n",
    "\n",
    "![dia2](img/2algo.jpg)\n",
    "\n",
    "An algorithm is said to be __correct__ if, for every input instance, it halts with the correct output -> a correct algorithm __solves__ the given computational problem.\n"
   ]
  },
  {
   "cell_type": "markdown",
   "id": "e7b4a109",
   "metadata": {
    "slideshow": {
     "slide_type": "slide"
    }
   },
   "source": [
    "### Sequence Example\n",
    "\n",
    "\n",
    "__Input:__ A sequence of $n$ number $<a_1, a_2, ..., a_n>$\n",
    "\n",
    "__Output:__ A permutation (reordering) $<{a_1}^{'}, {a_2}^{'}, ..., {a_n}^{'}>$\n",
    "\n",
    "For example, given the input sequence $<8, 4, 7, 1, 5>$, a sorting algorithm returns the output sequence $<1, 4, 5, 7, 8>$. Such an input sequence is called an __instance__ of a sorting algorithm.\n",
    "\n",
    "There may be many correct algorithms for the same algorithmic problem."
   ]
  },
  {
   "cell_type": "markdown",
   "id": "cd567616",
   "metadata": {
    "slideshow": {
     "slide_type": "slide"
    }
   },
   "source": [
    "### Another - more complete - definition of \"Algorithm\"\n",
    "\n",
    "An __algorithm__ is a sequence of unambiguous instructions for solving a problem:\n",
    "- to obtain a required output\n",
    "- for any legitimate input\n",
    "- in a finite amount of time\n",
    "\n",
    "Properties of algorithms: Termination, Correctness, (Non-)Determinism, Running Time, ...\n",
    "\n"
   ]
  },
  {
   "cell_type": "markdown",
   "id": "db7b7231",
   "metadata": {
    "slideshow": {
     "slide_type": "slide"
    }
   },
   "source": [
    "### How to develop an Algorithm\n",
    "\n",
    "1. __Precisely define__ the problem. Specify the __input__ and __output__. Consider all cases.\n",
    "\n",
    "2. Come up with an abstract plan to solve the problem (independent of programming language)\n",
    "\n",
    "3. Implement the algorithm. The problem representation (data structure) will influen"
   ]
  },
  {
   "cell_type": "markdown",
   "id": "79ee4221",
   "metadata": {
    "slideshow": {
     "slide_type": "slide"
    }
   },
   "source": [
    "#### Discussion\n",
    "\n",
    "1. Name a real-world example that requires sorting.\n",
    "\n",
    "\n",
    "2. Other than speed, what other measures of efficiency might one use in a real-world setting?\n",
    "\n",
    "\n",
    "3. Come up with a real-world problem in which only the best solution will do. Then come up with one in which a solution that is *approximately* the best is good enough."
   ]
  },
  {
   "cell_type": "raw",
   "id": "85e119bc",
   "metadata": {
    "slideshow": {
     "slide_type": "-"
    }
   },
   "source": [
    "1. Sort a list of names associated with phone number to quickly find a phone number of a contact.\n",
    "2. Memory usage / power cost\n",
    "3. Police suspect list / shortest driving path"
   ]
  },
  {
   "cell_type": "markdown",
   "id": "39c8df00",
   "metadata": {
    "slideshow": {
     "slide_type": "slide"
    }
   },
   "source": [
    "#### Exercise 2: Searching Stuff with Brute Force\n",
    "\n",
    "You would like to call you favorite professor. Hence, you need to look up (=__search__) his name in a phone book. You are not the sharpest tool in the shed and you have a lot of time on your hand. That's why you start at the very beginning of the phone book and go through every single entry until you find what you are looking for. Success guarenteed, right?\n",
    "\n",
    "Can you complete the pseudo-code below? ...and then implement your algorithm in the cell below?"
   ]
  },
  {
   "cell_type": "markdown",
   "id": "5518ae0d",
   "metadata": {},
   "source": [
    "```python\n",
    "ALGORITHM BruteSearch is\n",
    "    INPUT: A[0..n-1] (un)sorted array of string, q a string\n",
    "    OUTPUT: index j such that A[j]=q, or -1 if A[j]!=q for all j in [0..n)\n",
    "\n",
    "    j <- 0                                                               \n",
    "    WHILE j < n and A[j] != q DO\n",
    "        j++                                                                   \n",
    "    ENDWHILE                                                                    \n",
    "    IF j < n\n",
    "        PRINT j\n",
    "    ELSE\n",
    "        PRINT -1\n",
    "    ENDIF\n",
    "```"
   ]
  },
  {
   "cell_type": "code",
   "execution_count": 3,
   "id": "c6c8dce2",
   "metadata": {},
   "outputs": [
    {
     "name": "stdout",
     "output_type": "stream",
     "text": [
      "6\n"
     ]
    }
   ],
   "source": [
    "A = [\"Barton\", \"Bozakov\", \"Heinemann\", \"Keidel\", \"Kessler\", \"König\", \"Kurpjuweit\", \"Kurz\", \"Ruhland\", \"Sessler\", \"Simon\", \"Steinbinder\", \"Thielen\", \"Wendzel\", \"Wiebel\"]\n",
    "j = 0\n",
    "\n",
    "while j < len(A) and A[j] != \"Kurpjuweit\":\n",
    "    j += 1\n",
    "    \n",
    "if j < len(A):\n",
    "    print(j)\n",
    "else:\n",
    "    print(\"not found\")"
   ]
  },
  {
   "cell_type": "markdown",
   "id": "440cc80a",
   "metadata": {
    "slideshow": {
     "slide_type": "slide"
    }
   },
   "source": [
    "#### Discussion\n",
    "\n",
    "1. How many operations did your algorithm execute before it found your favorite professor? Which professor would have been the \"worst case\" and how many operations are needed to find him/her?\n",
    "\n",
    "\n",
    "2. Can you think of more efficient ways to find the phone number of your favorite professor?"
   ]
  },
  {
   "cell_type": "raw",
   "id": "221115e7",
   "metadata": {},
   "source": [
    "1. Kurpjuweit: 7, Wiebel: len(A)\n",
    "2. Binary Search"
   ]
  },
  {
   "cell_type": "markdown",
   "id": "e271deda",
   "metadata": {
    "slideshow": {
     "slide_type": "slide"
    }
   },
   "source": [
    "## 3. Binary Search \n",
    "\n",
    "*Binary Search* is a search algorithm that finds the position of a target value within a __sorted array__. If an element you are looking for is in that list, binary search returns the position where it's located. Otherwise, it returns *null*.\n",
    "\n",
    "The binary search algorithm works by repeatedly splitting the sorted list into two and working on the part of the list that may contain the item that you are looking for until the final list contains only one item. \n",
    "\n",
    "![dia2](img/2binary.jpg)\n",
    "<div class=\"author\">CC BY-SA 4.0, author: AlwaysAngry at wikimedia</div>"
   ]
  },
  {
   "cell_type": "markdown",
   "id": "adf488ea",
   "metadata": {
    "slideshow": {
     "slide_type": "slide"
    }
   },
   "source": [
    "#### Exercise 3: Binary Search\n",
    "\n",
    "Ask your neighbor to think of a number between 1 and 100. \n",
    "\n",
    "To find it, start with the number in the middle, which is 50. Check if his/her selected number is higher or lower than 50. Eliminate the elements of the list that you don't anymore and repeat the step above.\n",
    "![book](img/2numbers.jpg)\n",
    "Count the steps you need to find the number!\n",
    "\n",
    "Now, repeat for a number between 1 and 1000000."
   ]
  },
  {
   "cell_type": "raw",
   "id": "fa29ab1b",
   "metadata": {},
   "source": []
  },
  {
   "cell_type": "markdown",
   "id": "5efafc67",
   "metadata": {
    "slideshow": {
     "slide_type": "slide"
    }
   },
   "source": [
    "#### Exercise 4: Maximum number of comparisons\n",
    "    \n",
    "Assume you get every single one of your guesses wrong. What would be the maximum number of iterations you would have to go through to find the solution? \n",
    "\n",
    "Can you derive a generic equation for maximum number of comparisons as a function of array length?\n",
    "\n",
    "Hint (Binary Decision Tree): \n",
    "\n",
    "![dia1](img/2bintree.png)\n",
    "    "
   ]
  },
  {
   "cell_type": "markdown",
   "id": "11d90bb3",
   "metadata": {
    "slideshow": {
     "slide_type": "slide"
    }
   },
   "source": [
    "Ask yourself how many times can you divide n by 2 until you have 1? This is essentially saying, do a binary search (half the elements) until you found it. In a formula this would be this:\n",
    "\n",
    "$1 = \\frac{n}{2x}$\n",
    "\n",
    "multiply by 2x:\n",
    "\n",
    "$2x = n$\n",
    "\n",
    "solve for x:\n",
    "\n",
    "$x = log_2(n)$\n",
    "\n",
    "Brute-force search vs binary search:\n",
    "![dia1](img/2logn.png)"
   ]
  },
  {
   "cell_type": "markdown",
   "id": "b8c27ed1",
   "metadata": {
    "slideshow": {
     "slide_type": "slide"
    }
   },
   "source": [
    "### Binary Search: Procedure\n",
    "Given an array $A$ of $n$ elements with values or records $A_0 , A_1 , A_2 , … , A_{n − 1}$ sorted such that $A_0 ≤ A_1 ≤ A_2 ≤ ⋯ ≤ A_{n − 1}$, and target value $T$, the following subroutine uses binary search to find the index of $T$ in A.\n",
    "\n",
    "1. Set $L$ to 0 and $R$ to $n-1$.\n",
    "2. If $L>R$, the search terminates unsuccessful\n",
    "3. Set $m$ (middle element) to the floor of $\\frac{L+R}{2}$, which is the greatest integer less than or equal to $\\frac{L+R}{2}$.\n",
    "4. If $A_m<T$, set $L$ to $m+1$ and go to step 2.\n",
    "5. If $A_m>T$, set $R$ to $m-1$ and go to step 2. \n",
    "6. Now $A_m=T$, the search is done; return m.\n"
   ]
  },
  {
   "cell_type": "markdown",
   "id": "472ff0fb",
   "metadata": {
    "slideshow": {
     "slide_type": "slide"
    }
   },
   "source": [
    "### Binary Search: Pseudocode\n",
    "```python\n",
    "ALGORITHM BinarySearch is\n",
    "    INPUT: A[0..n-1] sorted array, target value t\n",
    "    OUTPUT: index j such that A[j]=t, or -1 if A[j]!=t for all j in [0..n)\n",
    "\n",
    "    l <- 0, r <- n - 1                                                     \n",
    "    WHILE l <= r\n",
    "        m <- ⌊(l + r) / 2⌋                                                         \n",
    "        IF A[m] < t \n",
    "           l <- m + 1\n",
    "        ELSE IF A[m] > t                                                      \n",
    "           r <- m - 1\n",
    "        ELSE           \n",
    "           RETURN m                                                      \n",
    "    ENDWHILE      \n",
    "    RETURN -1                                                             \n",
    "```"
   ]
  },
  {
   "cell_type": "markdown",
   "id": "69f6d13d",
   "metadata": {
    "slideshow": {
     "slide_type": "slide"
    }
   },
   "source": [
    "#### Exercise 5: Binary Search Implementation in Python\n",
    "\n",
    "1. Implement the pseudocode above as a Python function. And test it with `A = list(range(1, 101))` and `t = 17`\n",
    "\n",
    "\n",
    "2. Add a \"step counter\" to your function and print the counted number of steps when returning your results."
   ]
  },
  {
   "cell_type": "code",
   "execution_count": 4,
   "id": "14214101",
   "metadata": {
    "slideshow": {
     "slide_type": "-"
    }
   },
   "outputs": [
    {
     "name": "stdout",
     "output_type": "stream",
     "text": [
      "Steps: 7\n"
     ]
    },
    {
     "data": {
      "text/plain": [
       "16"
      ]
     },
     "execution_count": 4,
     "metadata": {},
     "output_type": "execute_result"
    }
   ],
   "source": [
    "def binary_search(A, t):\n",
    "    l = 0\n",
    "    r = len(A) - 1   \n",
    "    counter = 0\n",
    "    \n",
    "    while l <= r:\n",
    "        counter += 1\n",
    "        m = (l + r) // 2\n",
    "        if A[m] < t:\n",
    "            l = m + 1\n",
    "        elif A[m] > t:\n",
    "            r = m - 1\n",
    "        else:\n",
    "            print(\"Steps: \" + str(counter))\n",
    "            return m\n",
    "    return -1\n",
    "\n",
    "binary_search(list(range(1, 101)), 17)"
   ]
  },
  {
   "cell_type": "markdown",
   "id": "30d02030",
   "metadata": {
    "slideshow": {
     "slide_type": "slide"
    }
   },
   "source": [
    "## 4. Running Time\n",
    "\n",
    "The __time complexity__ (also known as *running time*) is the computational complexity that describes the amount of computer time it takes to run an algorithm. *Time complexity* is commonly estimated by counting the number of elementary operations performed by the algorithm, supposing that each elementary operation takes a fixed amount of time to perform. Thus, the amount of time taken and the number of elementary operations performed by the algorithm are taken to be related by a constant factor. \n",
    "\n",
    "Since an algorithm's running time may vary among different inputs of the same size, one commonly considers the worst-case time complexity, which is the maximum amount of time required for inputs of a given size. The time complexity is generally expressed as a function of the size of the input. "
   ]
  },
  {
   "cell_type": "markdown",
   "id": "8548a128",
   "metadata": {
    "slideshow": {
     "slide_type": "slide"
    }
   },
   "source": [
    "#### Discussion\n",
    "##### Running Time - Linear Search vs Binary Search Example\n",
    "<div class=\"author\">src: Grokking Algorithms</div>\n",
    "\n",
    "Bob is writing is writing a search algorithm for NASA. His algorithm will kick in when a 🚀 is about to land on the Moon, and it will help calculate where to land.\n",
    "\n",
    "Bob is trying to decide between a simple linear search or binary search.\n",
    "\n",
    "The algorithm needs to be fast and correct - since there are only 10 seconds to figure out where to land. Otherwise 💥.\n",
    "\n",
    "He does his math quickly: It takes 1ms to check 1 landing cell on the moon. Hence, Linear Search would take 100ms for checking 100 landing cells. However, Binary Search would only take 7ms. It's 14x faster! There is a total of 1,000,000,000 (1Billion) landing cells to be checked. Binary Search would take around 30ms, because $log_2(1000000000)\\approx 30$. Since binary search is 14x faster, linear search would take $14 * 30ms = 420ms$. That's well below 10s -> Bob chooses Linear Search.\n",
    "\n",
    "Good decision?"
   ]
  },
  {
   "cell_type": "raw",
   "id": "495e9031",
   "metadata": {},
   "source": [
    "1000000000 * 1ms = 11days"
   ]
  },
  {
   "cell_type": "markdown",
   "id": "f406d5cb",
   "metadata": {
    "slideshow": {
     "slide_type": "slide"
    }
   },
   "source": [
    "### Big O Notation\n",
    "\n",
    "__Big O notation__ is a way of comparing rates of growth of different functions. It is often used to compare the \n",
    "__efficiency__ of different __algorithms__.\n",
    "\n",
    "The *Big O notation* is often used in identifying how complex a problem is, also known as the problem's complexity class. The mathematician Paul Bachmann (1837-1920) was the first to use this notation, in the second edition of his book \"Analytische Zahlentheorie\", in 1896. Edmund Landau (1877-1938) made the notation popular. For this reason, when people talk about a Landau symbols, they refer to this notation.\n",
    "\n",
    "Examples: $O(n), O(n!), O(n^2), O(log(n))$\n",
    "\n",
    "Big O notation is named after the term \"order of the function\", which refers to the growth of functions. Big O notation is used to find the upper bound (the highest possible amount) of the function's growth rate, meaning it works out the longest time it will take to turn the input into the output. This means an algorithm can be grouped by how long it can take in a worst-case scenario, where the longest route will be taken every time. "
   ]
  },
  {
   "cell_type": "markdown",
   "id": "f0e2a7d3",
   "metadata": {
    "slideshow": {
     "slide_type": "slide"
    }
   },
   "source": [
    "### Example for $O(1)$ - constant"
   ]
  },
  {
   "cell_type": "code",
   "execution_count": 5,
   "id": "463fdc6d",
   "metadata": {},
   "outputs": [],
   "source": [
    "def double(x):\n",
    "    return x * 2   #Return the value of x times 2"
   ]
  },
  {
   "cell_type": "markdown",
   "id": "fe31ba7a",
   "metadata": {},
   "source": [
    "### Example for $O(n)$ - linear"
   ]
  },
  {
   "cell_type": "code",
   "execution_count": 6,
   "id": "2158af0d",
   "metadata": {},
   "outputs": [],
   "source": [
    "def count(n):\n",
    "    i = 1           #Create a counter called \"i\" with a value of 1\n",
    "    while i <= n:   #While i is less-than or equal to n\n",
    "        print(i)    #Print the value of i\n",
    "        i += 1      #Redefine i as \"the value of i + 1\""
   ]
  },
  {
   "cell_type": "markdown",
   "id": "1ec6ff9e",
   "metadata": {},
   "source": [
    "### Example for $O(n!)$ - factorial"
   ]
  },
  {
   "cell_type": "code",
   "execution_count": 7,
   "id": "71e64ef5",
   "metadata": {},
   "outputs": [],
   "source": [
    "import itertools    #Import the itertools library\n",
    "cities = ['London', 'Paris', 'Berlin', 'Amsterdam', 'Rome'] #An array of our chosen cities\n",
    "\n",
    "def permutations(cities):                    #Taking an array of cities as input:\n",
    "    for i in itertools.permutations(cities): #For each permutation of our items (assigned to variable \"i\")\n",
    "        print(i)                             #Output i"
   ]
  },
  {
   "cell_type": "markdown",
   "id": "68011de4",
   "metadata": {
    "slideshow": {
     "slide_type": "slide"
    }
   },
   "source": [
    "![dia2](img/2ocomplexity.jpeg)\n",
    "<div class=\"author\">medium.com</div>"
   ]
  },
  {
   "cell_type": "markdown",
   "id": "4dd0f3f1",
   "metadata": {
    "slideshow": {
     "slide_type": "slide"
    }
   },
   "source": [
    "#### Exercise 6\n",
    "\n",
    "a) What is the run time when you keeps folding a paper as illustrated in the picture below in terms of Big O?\n",
    "![dia2](img/2folding.jpg)\n",
    "<div class=\"author\">Grokking Algorithms</div>\n",
    "\n",
    "b) You have a phone number and you want to find the person's name in the phone book. What is the run time in terms of Big O?\n",
    "\n"
   ]
  }
 ],
 "metadata": {
  "celltoolbar": "Slideshow",
  "kernelspec": {
   "display_name": "Python 3 (ipykernel)",
   "language": "python",
   "name": "python3"
  },
  "language_info": {
   "codemirror_mode": {
    "name": "ipython",
    "version": 3
   },
   "file_extension": ".py",
   "mimetype": "text/x-python",
   "name": "python",
   "nbconvert_exporter": "python",
   "pygments_lexer": "ipython3",
   "version": "3.10.4"
  },
  "varInspector": {
   "cols": {
    "lenName": 16,
    "lenType": 16,
    "lenVar": 40
   },
   "kernels_config": {
    "python": {
     "delete_cmd_postfix": "",
     "delete_cmd_prefix": "del ",
     "library": "var_list.py",
     "varRefreshCmd": "print(var_dic_list())"
    },
    "r": {
     "delete_cmd_postfix": ") ",
     "delete_cmd_prefix": "rm(",
     "library": "var_list.r",
     "varRefreshCmd": "cat(var_dic_list()) "
    }
   },
   "types_to_exclude": [
    "module",
    "function",
    "builtin_function_or_method",
    "instance",
    "_Feature"
   ],
   "window_display": false
  }
 },
 "nbformat": 4,
 "nbformat_minor": 5
}
