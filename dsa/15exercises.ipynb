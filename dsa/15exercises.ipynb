{
 "cells": [
  {
   "cell_type": "code",
   "execution_count": 1,
   "id": "65e2cd3f",
   "metadata": {
    "hide_input": true,
    "slideshow": {
     "slide_type": "skip"
    }
   },
   "outputs": [
    {
     "data": {
      "text/html": [
       "<style>h1{text-align:center;}h1{text-transform:none;}.rendered_html h4{color:#17b6eb;font-size: 1.6em;}img[alt=dia1]{width:35%;}img[alt=book]{width:20%;font-size: 3em;}img[alt=dia2]{width:50%;}.author{font-size:8px;}</style>\n"
      ],
      "text/plain": [
       "<IPython.core.display.HTML object>"
      ]
     },
     "metadata": {},
     "output_type": "display_data"
    }
   ],
   "source": [
    "%%html\n",
    "<style>h1{text-align:center;}h1{text-transform:none;}.rendered_html h4{color:#17b6eb;font-size: 1.6em;}img[alt=dia1]{width:35%;}img[alt=book]{width:20%;font-size: 3em;}img[alt=dia2]{width:50%;}.author{font-size:8px;}</style>"
   ]
  },
  {
   "cell_type": "markdown",
   "id": "8c05074c",
   "metadata": {
    "slideshow": {
     "slide_type": "slide"
    }
   },
   "source": [
    "# Recap Lecture 15: Exercises"
   ]
  },
  {
   "cell_type": "markdown",
   "id": "9caed373",
   "metadata": {
    "slideshow": {
     "slide_type": "slide"
    }
   },
   "source": [
    "#### Exercise 1\n",
    "\n",
    "Using Kruskal's algorithm, determine the minimum spanning tree (MST) of the graph shown below. Draw the MST and notate the order in which the edges were added.\n",
    "\n",
    "![dia1](img/15ex1.png)\n"
   ]
  },
  {
   "cell_type": "markdown",
   "id": "a09a2fce",
   "metadata": {
    "slideshow": {
     "slide_type": "subslide"
    }
   },
   "source": [
    "##### Solution \n",
    "\n",
    "{d,h}, {b,f}, {c,d}, {g,h}, {e,i}, {a,b}, {h,i}, {f,g}\n",
    "\n",
    "![dia1](img/15ex1sol.png)\n"
   ]
  },
  {
   "cell_type": "markdown",
   "id": "a47250dc",
   "metadata": {
    "slideshow": {
     "slide_type": "slide"
    }
   },
   "source": [
    "#### Exercise 2\n",
    "\n",
    "The keys $\\{5, 30, 33, 6, 19, 16\\}$ are inserted in the given order into an initially empty hash table of length 11 using open addressing with hash function $h:\\mathbb{N} \\rightarrow \\{0,1,...,10\\}$ with \n",
    "\n",
    "$$h(x) = 2x \\mod 11$$ \n",
    "\n",
    "and linear probing. What is the resulting hash table? "
   ]
  },
  {
   "cell_type": "markdown",
   "id": "5e5800b6",
   "metadata": {
    "slideshow": {
     "slide_type": "subslide"
    }
   },
   "source": [
    "##### Solution\n",
    "\n",
    "|hash code|bucket|\n",
    "|:---|:---|\n",
    "|0|33|\n",
    "|1|6|\n",
    "|2|16|\n",
    "|3||\n",
    "|4||\n",
    "|5|30|\n",
    "|6|19|\n",
    "|7||\n",
    "|8||\n",
    "|9||\n",
    "|10|5|"
   ]
  },
  {
   "cell_type": "markdown",
   "id": "6df0cb52",
   "metadata": {
    "slideshow": {
     "slide_type": "slide"
    }
   },
   "source": [
    "#### Exercise 3\n",
    "\n",
    "Which data structures would be suitable and efficient to solve the following problems:\n",
    "\n",
    "1. You want to implement an \"inverted phone book\" of Berlin (lookup names by phone number). Memory is limited.\n",
    "\n",
    "\n",
    "2. We are heading into a recession and companies might have to let go (nice word for \"fire\") employees. You are responsible to organize employee files. To be compliant with German labor laws it is most common to lay off employees who have been hired most recently. \n",
    "\n",
    "\n",
    "3. Simulation of traffic flow at a traffic light.\n",
    "\n",
    "\n",
    "4. You can create your own dictionary for the \"ALGO\"-exam. Which data structure can help you save time when searching for words?"
   ]
  },
  {
   "cell_type": "markdown",
   "id": "bf37825e",
   "metadata": {
    "slideshow": {
     "slide_type": "subslide"
    }
   },
   "source": [
    "##### Solution\n",
    "\n",
    "1. hash-table\n",
    "\n",
    "\n",
    "2. stack\n",
    "\n",
    "\n",
    "3. queue\n",
    "\n",
    "\n",
    "4. binary search tree"
   ]
  },
  {
   "cell_type": "markdown",
   "id": "0b139513",
   "metadata": {
    "slideshow": {
     "slide_type": "slide"
    }
   },
   "source": [
    "#### Exercise 4\n",
    "\n",
    "Develop an efficient algorithm for the exponentiation of integers. \n",
    "\n",
    "Assume you have two natural numbers $x \\in \\mathbb{N}$ and $n \\in \\mathbb{N}$. The algorithm's time complexity should be equal or better than $O(\\log n)$ when computing $x^n$.\n",
    "\n",
    "Allowed operations: addition, subtraction, multiplication, modulo\n",
    "\n",
    "1. Complete the following Python function.\n",
    "2. Which paradigm does your algorithm follow?\n"
   ]
  },
  {
   "cell_type": "code",
   "execution_count": 12,
   "id": "de136f25",
   "metadata": {},
   "outputs": [
    {
     "data": {
      "text/plain": [
       "32"
      ]
     },
     "execution_count": 12,
     "metadata": {},
     "output_type": "execute_result"
    }
   ],
   "source": [
    "def quick_pow(x, n):\n",
    "   #...your code here...\n",
    "    \n",
    "quick_pow(2,5)"
   ]
  },
  {
   "cell_type": "markdown",
   "id": "2cf6c81f",
   "metadata": {
    "slideshow": {
     "slide_type": "subslide"
    }
   },
   "source": [
    "##### Solution\n",
    "1."
   ]
  },
  {
   "cell_type": "code",
   "execution_count": 12,
   "id": "4f7b0bc3",
   "metadata": {},
   "outputs": [
    {
     "data": {
      "text/plain": [
       "32"
      ]
     },
     "execution_count": 12,
     "metadata": {},
     "output_type": "execute_result"
    }
   ],
   "source": [
    "def quick_pow(x, n):\n",
    "    if n == 0:\n",
    "        return 1\n",
    "    elif n % 2 == 0: # check if n is even\n",
    "        z = quick_pow(x, n / 2) \n",
    "        return z * z\n",
    "    else: \n",
    "        z = quick_pow(x, (n - 1) / 2)\n",
    "        return z * z * x\n",
    "    \n",
    "quick_pow(2,5)"
   ]
  },
  {
   "cell_type": "markdown",
   "id": "c432a3e5",
   "metadata": {
    "slideshow": {
     "slide_type": "subslide"
    }
   },
   "source": [
    "2. Divide-and-Conquer\n"
   ]
  },
  {
   "cell_type": "markdown",
   "id": "5fbc1006",
   "metadata": {
    "slideshow": {
     "slide_type": "slide"
    }
   },
   "source": [
    "#### Exercise 5\n",
    "\n",
    "You are an ice-cream store owner. Unlike all your fellow ice-cream store owners, you do not like the FIFO-principle when serving customers. You would like to minimize the total overall waiting time of all customers who are currently waiting in line. \n",
    "\n",
    "You already know the complexity (number of ice cream scoops) $\\{s_1,...,s_n\\}$  of each order $\\{O_1,...,O_n\\}$ for each customer $\\{C_1,...,C_n\\}$. Each order takes $t_i = s_i \\cdot t_x$ to fulfill, where $t_x$ is the time you need to scoop one portion of ice cream and put it into a cone.\n",
    "\n",
    "1. How do you rearrange the line of customers?\n",
    "\n",
    "2. What paradigm does your algorithm follow?"
   ]
  },
  {
   "cell_type": "markdown",
   "id": "5ee86bbc",
   "metadata": {
    "slideshow": {
     "slide_type": "subslide"
    }
   },
   "source": [
    "##### Solution\n",
    "\n",
    "1. Sort $C$ according to $t$ in ascending order.\n",
    "\n",
    "2. Greedy Algorithm"
   ]
  },
  {
   "cell_type": "markdown",
   "id": "7eab2d45",
   "metadata": {},
   "source": [
    "#### Exercise 6\n",
    "\n",
    "\n",
    "__True__ or __False__?\n",
    "\n",
    "1. The worst-case complexity to search an element in a doubly linked list is $O(\\log n)$.\n",
    "\n",
    "\n",
    "2. The best achievable worst-case time complexity when sorting integers ($x \\in \\mathbb{N}$) is $O(n)$. \n",
    "\n",
    "\n",
    "3. The best achievable worst-case time complexity when sorting real numbers ($x \\in \\mathbb{R}$) is $O(n)$. \n",
    "\n",
    "\n",
    "4. The maximum number of nodes at level $n$ of a binary tree is $2^n$.\n",
    "\n",
    "\n",
    "5. When using open addressing for collision resolution it is possible to save more elements in a hash table than the number of available slots in the table.  \n",
    "\n",
    "\n",
    "6. It is possible to transform a heap into a binary search tree (BST) in $O(n^3)$ time.\n",
    "\n",
    "\n",
    "\n",
    "7. Assume two nodes $v$ and $w$ in a tree. It is possible to determine whether $v$ is a predecessor or successor of $w$ in $O(n)$ time. \n"
   ]
  },
  {
   "cell_type": "markdown",
   "id": "66f4d703",
   "metadata": {},
   "source": [
    "##### Solution\n",
    "\n",
    "1. The worst-case complexity to search an element in a doubly linked list is $O(\\log n)$. __FALSE__ $O(n)$\n",
    "\n",
    "\n",
    "2. The best achievable worst-case time complexity when sorting integers ($x \\in \\mathbb{N}$) is $O(n)$. __FALSE__\n",
    "\n",
    "\n",
    "3. The best achievable worst-case time complexity when sorting real numbers ($x \\in \\mathbb{R}$) is $O(n)$. __FALSE__\n",
    "\n",
    "\n",
    "4. The maximum number of nodes at level $n$ of a binary tree is $2^n$. __TRUE__\n",
    "\n",
    "\n",
    "5. When using open addressing for collision resolution it is possible to save more elements in a hash table than the number of available slots in the table.  __FALSE__\n",
    "\n",
    "\n",
    "6. It is possible to transform a heap into a binary search tree (BST) in $O(n^3)$ time. __TRUE__ \n",
    "\n",
    "\n",
    "\n",
    "7. Assume two node $v$ and $w$ in a tree. It is possible to determine whether $v$ is a predecessor or successor of $w$ in $O(n)$ time.  __TRUE__\n"
   ]
  }
 ],
 "metadata": {
  "celltoolbar": "Slideshow",
  "kernelspec": {
   "display_name": "Python 3 (ipykernel)",
   "language": "python",
   "name": "python3"
  },
  "language_info": {
   "codemirror_mode": {
    "name": "ipython",
    "version": 3
   },
   "file_extension": ".py",
   "mimetype": "text/x-python",
   "name": "python",
   "nbconvert_exporter": "python",
   "pygments_lexer": "ipython3",
   "version": "3.10.5"
  },
  "varInspector": {
   "cols": {
    "lenName": 16,
    "lenType": 16,
    "lenVar": 40
   },
   "kernels_config": {
    "python": {
     "delete_cmd_postfix": "",
     "delete_cmd_prefix": "del ",
     "library": "var_list.py",
     "varRefreshCmd": "print(var_dic_list())"
    },
    "r": {
     "delete_cmd_postfix": ") ",
     "delete_cmd_prefix": "rm(",
     "library": "var_list.r",
     "varRefreshCmd": "cat(var_dic_list()) "
    }
   },
   "types_to_exclude": [
    "module",
    "function",
    "builtin_function_or_method",
    "instance",
    "_Feature"
   ],
   "window_display": false
  }
 },
 "nbformat": 4,
 "nbformat_minor": 5
}
